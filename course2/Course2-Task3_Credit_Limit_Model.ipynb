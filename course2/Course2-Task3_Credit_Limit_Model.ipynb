{
 "cells": [
  {
   "cell_type": "code",
   "execution_count": 2,
   "metadata": {},
   "outputs": [],
   "source": [
    "import pandas as pd\n",
    "credit = pd.read_csv('default of credit card clients.csv', header =1)"
   ]
  },
  {
   "cell_type": "code",
   "execution_count": 3,
   "metadata": {},
   "outputs": [
    {
     "data": {
      "text/html": [
       "<div>\n",
       "<style scoped>\n",
       "    .dataframe tbody tr th:only-of-type {\n",
       "        vertical-align: middle;\n",
       "    }\n",
       "\n",
       "    .dataframe tbody tr th {\n",
       "        vertical-align: top;\n",
       "    }\n",
       "\n",
       "    .dataframe thead th {\n",
       "        text-align: right;\n",
       "    }\n",
       "</style>\n",
       "<table border=\"1\" class=\"dataframe\">\n",
       "  <thead>\n",
       "    <tr style=\"text-align: right;\">\n",
       "      <th></th>\n",
       "      <th>ID</th>\n",
       "      <th>LIMIT_BAL</th>\n",
       "      <th>MARRIAGE</th>\n",
       "      <th>AGE</th>\n",
       "      <th>PAY_0</th>\n",
       "      <th>PAY_2</th>\n",
       "      <th>PAY_3</th>\n",
       "      <th>PAY_4</th>\n",
       "      <th>PAY_5</th>\n",
       "      <th>PAY_6</th>\n",
       "      <th>...</th>\n",
       "      <th>PAY_AMT5</th>\n",
       "      <th>PAY_AMT6</th>\n",
       "      <th>SEX_female</th>\n",
       "      <th>SEX_male</th>\n",
       "      <th>EDUCATION_graduate school</th>\n",
       "      <th>EDUCATION_high school</th>\n",
       "      <th>EDUCATION_other</th>\n",
       "      <th>EDUCATION_university</th>\n",
       "      <th>default payment next month_default</th>\n",
       "      <th>default payment next month_not default</th>\n",
       "    </tr>\n",
       "  </thead>\n",
       "  <tbody>\n",
       "    <tr>\n",
       "      <th>0</th>\n",
       "      <td>1</td>\n",
       "      <td>20000</td>\n",
       "      <td>1</td>\n",
       "      <td>24</td>\n",
       "      <td>2</td>\n",
       "      <td>2</td>\n",
       "      <td>-1</td>\n",
       "      <td>-1</td>\n",
       "      <td>-2</td>\n",
       "      <td>-2</td>\n",
       "      <td>...</td>\n",
       "      <td>0</td>\n",
       "      <td>0</td>\n",
       "      <td>1</td>\n",
       "      <td>0</td>\n",
       "      <td>0</td>\n",
       "      <td>0</td>\n",
       "      <td>0</td>\n",
       "      <td>1</td>\n",
       "      <td>1</td>\n",
       "      <td>0</td>\n",
       "    </tr>\n",
       "    <tr>\n",
       "      <th>1</th>\n",
       "      <td>2</td>\n",
       "      <td>120000</td>\n",
       "      <td>2</td>\n",
       "      <td>26</td>\n",
       "      <td>-1</td>\n",
       "      <td>2</td>\n",
       "      <td>0</td>\n",
       "      <td>0</td>\n",
       "      <td>0</td>\n",
       "      <td>2</td>\n",
       "      <td>...</td>\n",
       "      <td>0</td>\n",
       "      <td>2000</td>\n",
       "      <td>1</td>\n",
       "      <td>0</td>\n",
       "      <td>0</td>\n",
       "      <td>0</td>\n",
       "      <td>0</td>\n",
       "      <td>1</td>\n",
       "      <td>1</td>\n",
       "      <td>0</td>\n",
       "    </tr>\n",
       "    <tr>\n",
       "      <th>2</th>\n",
       "      <td>3</td>\n",
       "      <td>90000</td>\n",
       "      <td>2</td>\n",
       "      <td>34</td>\n",
       "      <td>0</td>\n",
       "      <td>0</td>\n",
       "      <td>0</td>\n",
       "      <td>0</td>\n",
       "      <td>0</td>\n",
       "      <td>0</td>\n",
       "      <td>...</td>\n",
       "      <td>1000</td>\n",
       "      <td>5000</td>\n",
       "      <td>1</td>\n",
       "      <td>0</td>\n",
       "      <td>0</td>\n",
       "      <td>0</td>\n",
       "      <td>0</td>\n",
       "      <td>1</td>\n",
       "      <td>0</td>\n",
       "      <td>1</td>\n",
       "    </tr>\n",
       "    <tr>\n",
       "      <th>3</th>\n",
       "      <td>4</td>\n",
       "      <td>50000</td>\n",
       "      <td>1</td>\n",
       "      <td>37</td>\n",
       "      <td>0</td>\n",
       "      <td>0</td>\n",
       "      <td>0</td>\n",
       "      <td>0</td>\n",
       "      <td>0</td>\n",
       "      <td>0</td>\n",
       "      <td>...</td>\n",
       "      <td>1069</td>\n",
       "      <td>1000</td>\n",
       "      <td>1</td>\n",
       "      <td>0</td>\n",
       "      <td>0</td>\n",
       "      <td>0</td>\n",
       "      <td>0</td>\n",
       "      <td>1</td>\n",
       "      <td>0</td>\n",
       "      <td>1</td>\n",
       "    </tr>\n",
       "    <tr>\n",
       "      <th>4</th>\n",
       "      <td>5</td>\n",
       "      <td>50000</td>\n",
       "      <td>1</td>\n",
       "      <td>57</td>\n",
       "      <td>-1</td>\n",
       "      <td>0</td>\n",
       "      <td>-1</td>\n",
       "      <td>0</td>\n",
       "      <td>0</td>\n",
       "      <td>0</td>\n",
       "      <td>...</td>\n",
       "      <td>689</td>\n",
       "      <td>679</td>\n",
       "      <td>0</td>\n",
       "      <td>1</td>\n",
       "      <td>0</td>\n",
       "      <td>0</td>\n",
       "      <td>0</td>\n",
       "      <td>1</td>\n",
       "      <td>0</td>\n",
       "      <td>1</td>\n",
       "    </tr>\n",
       "    <tr>\n",
       "      <th>...</th>\n",
       "      <td>...</td>\n",
       "      <td>...</td>\n",
       "      <td>...</td>\n",
       "      <td>...</td>\n",
       "      <td>...</td>\n",
       "      <td>...</td>\n",
       "      <td>...</td>\n",
       "      <td>...</td>\n",
       "      <td>...</td>\n",
       "      <td>...</td>\n",
       "      <td>...</td>\n",
       "      <td>...</td>\n",
       "      <td>...</td>\n",
       "      <td>...</td>\n",
       "      <td>...</td>\n",
       "      <td>...</td>\n",
       "      <td>...</td>\n",
       "      <td>...</td>\n",
       "      <td>...</td>\n",
       "      <td>...</td>\n",
       "      <td>...</td>\n",
       "    </tr>\n",
       "    <tr>\n",
       "      <th>29995</th>\n",
       "      <td>29996</td>\n",
       "      <td>220000</td>\n",
       "      <td>1</td>\n",
       "      <td>39</td>\n",
       "      <td>0</td>\n",
       "      <td>0</td>\n",
       "      <td>0</td>\n",
       "      <td>0</td>\n",
       "      <td>0</td>\n",
       "      <td>0</td>\n",
       "      <td>...</td>\n",
       "      <td>5000</td>\n",
       "      <td>1000</td>\n",
       "      <td>0</td>\n",
       "      <td>1</td>\n",
       "      <td>0</td>\n",
       "      <td>1</td>\n",
       "      <td>0</td>\n",
       "      <td>0</td>\n",
       "      <td>0</td>\n",
       "      <td>1</td>\n",
       "    </tr>\n",
       "    <tr>\n",
       "      <th>29996</th>\n",
       "      <td>29997</td>\n",
       "      <td>150000</td>\n",
       "      <td>2</td>\n",
       "      <td>43</td>\n",
       "      <td>-1</td>\n",
       "      <td>-1</td>\n",
       "      <td>-1</td>\n",
       "      <td>-1</td>\n",
       "      <td>0</td>\n",
       "      <td>0</td>\n",
       "      <td>...</td>\n",
       "      <td>0</td>\n",
       "      <td>0</td>\n",
       "      <td>0</td>\n",
       "      <td>1</td>\n",
       "      <td>0</td>\n",
       "      <td>1</td>\n",
       "      <td>0</td>\n",
       "      <td>0</td>\n",
       "      <td>0</td>\n",
       "      <td>1</td>\n",
       "    </tr>\n",
       "    <tr>\n",
       "      <th>29997</th>\n",
       "      <td>29998</td>\n",
       "      <td>30000</td>\n",
       "      <td>2</td>\n",
       "      <td>37</td>\n",
       "      <td>4</td>\n",
       "      <td>3</td>\n",
       "      <td>2</td>\n",
       "      <td>-1</td>\n",
       "      <td>0</td>\n",
       "      <td>0</td>\n",
       "      <td>...</td>\n",
       "      <td>2000</td>\n",
       "      <td>3100</td>\n",
       "      <td>0</td>\n",
       "      <td>1</td>\n",
       "      <td>0</td>\n",
       "      <td>0</td>\n",
       "      <td>0</td>\n",
       "      <td>1</td>\n",
       "      <td>1</td>\n",
       "      <td>0</td>\n",
       "    </tr>\n",
       "    <tr>\n",
       "      <th>29998</th>\n",
       "      <td>29999</td>\n",
       "      <td>80000</td>\n",
       "      <td>1</td>\n",
       "      <td>41</td>\n",
       "      <td>1</td>\n",
       "      <td>-1</td>\n",
       "      <td>0</td>\n",
       "      <td>0</td>\n",
       "      <td>0</td>\n",
       "      <td>-1</td>\n",
       "      <td>...</td>\n",
       "      <td>52964</td>\n",
       "      <td>1804</td>\n",
       "      <td>0</td>\n",
       "      <td>1</td>\n",
       "      <td>0</td>\n",
       "      <td>1</td>\n",
       "      <td>0</td>\n",
       "      <td>0</td>\n",
       "      <td>1</td>\n",
       "      <td>0</td>\n",
       "    </tr>\n",
       "    <tr>\n",
       "      <th>29999</th>\n",
       "      <td>30000</td>\n",
       "      <td>50000</td>\n",
       "      <td>1</td>\n",
       "      <td>46</td>\n",
       "      <td>0</td>\n",
       "      <td>0</td>\n",
       "      <td>0</td>\n",
       "      <td>0</td>\n",
       "      <td>0</td>\n",
       "      <td>0</td>\n",
       "      <td>...</td>\n",
       "      <td>1000</td>\n",
       "      <td>1000</td>\n",
       "      <td>0</td>\n",
       "      <td>1</td>\n",
       "      <td>0</td>\n",
       "      <td>0</td>\n",
       "      <td>0</td>\n",
       "      <td>1</td>\n",
       "      <td>1</td>\n",
       "      <td>0</td>\n",
       "    </tr>\n",
       "  </tbody>\n",
       "</table>\n",
       "<p>30000 rows × 30 columns</p>\n",
       "</div>"
      ],
      "text/plain": [
       "          ID  LIMIT_BAL  MARRIAGE  AGE  PAY_0  PAY_2  PAY_3  PAY_4  PAY_5  \\\n",
       "0          1      20000         1   24      2      2     -1     -1     -2   \n",
       "1          2     120000         2   26     -1      2      0      0      0   \n",
       "2          3      90000         2   34      0      0      0      0      0   \n",
       "3          4      50000         1   37      0      0      0      0      0   \n",
       "4          5      50000         1   57     -1      0     -1      0      0   \n",
       "...      ...        ...       ...  ...    ...    ...    ...    ...    ...   \n",
       "29995  29996     220000         1   39      0      0      0      0      0   \n",
       "29996  29997     150000         2   43     -1     -1     -1     -1      0   \n",
       "29997  29998      30000         2   37      4      3      2     -1      0   \n",
       "29998  29999      80000         1   41      1     -1      0      0      0   \n",
       "29999  30000      50000         1   46      0      0      0      0      0   \n",
       "\n",
       "       PAY_6  ...  PAY_AMT5  PAY_AMT6  SEX_female  SEX_male  \\\n",
       "0         -2  ...         0         0           1         0   \n",
       "1          2  ...         0      2000           1         0   \n",
       "2          0  ...      1000      5000           1         0   \n",
       "3          0  ...      1069      1000           1         0   \n",
       "4          0  ...       689       679           0         1   \n",
       "...      ...  ...       ...       ...         ...       ...   \n",
       "29995      0  ...      5000      1000           0         1   \n",
       "29996      0  ...         0         0           0         1   \n",
       "29997      0  ...      2000      3100           0         1   \n",
       "29998     -1  ...     52964      1804           0         1   \n",
       "29999      0  ...      1000      1000           0         1   \n",
       "\n",
       "       EDUCATION_graduate school  EDUCATION_high school  EDUCATION_other  \\\n",
       "0                              0                      0                0   \n",
       "1                              0                      0                0   \n",
       "2                              0                      0                0   \n",
       "3                              0                      0                0   \n",
       "4                              0                      0                0   \n",
       "...                          ...                    ...              ...   \n",
       "29995                          0                      1                0   \n",
       "29996                          0                      1                0   \n",
       "29997                          0                      0                0   \n",
       "29998                          0                      1                0   \n",
       "29999                          0                      0                0   \n",
       "\n",
       "       EDUCATION_university  default payment next month_default  \\\n",
       "0                         1                                   1   \n",
       "1                         1                                   1   \n",
       "2                         1                                   0   \n",
       "3                         1                                   0   \n",
       "4                         1                                   0   \n",
       "...                     ...                                 ...   \n",
       "29995                     0                                   0   \n",
       "29996                     0                                   0   \n",
       "29997                     1                                   1   \n",
       "29998                     0                                   1   \n",
       "29999                     1                                   1   \n",
       "\n",
       "       default payment next month_not default  \n",
       "0                                           0  \n",
       "1                                           0  \n",
       "2                                           1  \n",
       "3                                           1  \n",
       "4                                           1  \n",
       "...                                       ...  \n",
       "29995                                       1  \n",
       "29996                                       1  \n",
       "29997                                       0  \n",
       "29998                                       0  \n",
       "29999                                       0  \n",
       "\n",
       "[30000 rows x 30 columns]"
      ]
     },
     "execution_count": 3,
     "metadata": {},
     "output_type": "execute_result"
    }
   ],
   "source": [
    "# Use the get_dummies() function within pandas to convert non-numeric columns to a series of binary numeric 'Dummy' columns\n",
    "credit = pd.get_dummies(credit)\n",
    "# Print credit\n",
    "credit"
   ]
  },
  {
   "cell_type": "markdown",
   "metadata": {},
   "source": [
    "The categorical variables SEX and EDUCATION are now converted to dummy variables."
   ]
  },
  {
   "cell_type": "markdown",
   "metadata": {},
   "source": [
    "# Correlation"
   ]
  },
  {
   "cell_type": "code",
   "execution_count": null,
   "metadata": {},
   "outputs": [],
   "source": [
    "# building a basic correlation coefficient matrix using pandas:\n",
    "# Strength of correlations:\n",
    "#   Very strong relationship  (|r| >= 0.8)\n",
    "#   Strong relationship       (|r| >= 0.6)\n",
    "#   Moderate relationship     (|r| >= 0.4)\n",
    "#   Weak relationship         (|r| >= 0.2)\n",
    "#   Very weak relationship    (0< |r|< 0.2)\n",
    "\n",
    "corrMat = credit.corr()\n"
   ]
  },
  {
   "cell_type": "code",
   "execution_count": null,
   "metadata": {},
   "outputs": [],
   "source": [
    "# Create Pearson correlation matrix visualization, and limit to 2 decimal places:\n",
    "corrMat.style.background_gradient(cmap='coolwarm').set_precision(2)"
   ]
  },
  {
   "cell_type": "markdown",
   "metadata": {},
   "source": [
    "LIMIT_BAL has\n",
    "\n",
    "1) very weak positive correlation to age\n",
    "\n",
    "2) very weak negative correlation to MARRIAGE\n",
    "\n",
    "3) weak negative correlation to PAY_x (=> LIMIT_BAL increases as pay in full or no consumption, LIMIT_BAL decreases as paymentdelinquent as month increase)\n",
    "\n",
    "4) weak positive correlation to BILL_AMTx and PAY_AMTx where x = 1,..,6\n",
    "\n",
    "5) very weak positive correlation PAY_AMT1 and PAY_AMT2, weak positive correlation to PAY_AMTx where x = 3,..,6\n",
    "\n",
    "6) No linear correlation with gender\n",
    "\n",
    "7) weak positive correlation to EDUCATION graduate_school\n",
    "\n",
    "8) weak negative correlation to default_payment_next_month_default\n",
    "\n",
    "default_payment_next_month_default has\n",
    "\n",
    "1) no linear correlation with age, gender, marital status, education,BILL_AMTx, PAY_AMTx where x = 1,..,6\n",
    "\n",
    "2) very weak negative correlation to LIMIT_BAL\n",
    "\n",
    "3) weak positive correlation to PAY_x, where x = 0, 2, 3, 4, 5, 6. Note that the strength of the linear correlations decrease as x increases."
   ]
  },
  {
   "cell_type": "markdown",
   "metadata": {},
   "source": [
    "# Covariance"
   ]
  },
  {
   "cell_type": "markdown",
   "metadata": {},
   "source": [
    "Covariance is often used to gauge the linear degree of change between two variables. This will be very important when studying the impact various features might have on default rates"
   ]
  },
  {
   "cell_type": "code",
   "execution_count": null,
   "metadata": {},
   "outputs": [],
   "source": [
    "# To calculate covariance in Pandas enter the following\n",
    "covMat = credit.cov()"
   ]
  },
  {
   "cell_type": "code",
   "execution_count": null,
   "metadata": {},
   "outputs": [],
   "source": [
    "# Create Pearson correlation matrix visualization, and limit to 2 decimal places:\n",
    "covMat.style.background_gradient(cmap='coolwarm').set_precision(2)"
   ]
  },
  {
   "cell_type": "markdown",
   "metadata": {},
   "source": [
    "The concern about using COVARIANCE matrix is that the scale (or range) of the variables may cause some variables to dominate, in this case will be LIMIT_BAL, BILL_AMTx and PAY_AMTx. "
   ]
  },
  {
   "cell_type": "markdown",
   "metadata": {},
   "source": [
    "# CREATE NEW VARIABLES"
   ]
  },
  {
   "cell_type": "code",
   "execution_count": 4,
   "metadata": {},
   "outputs": [],
   "source": [
    "# Since the correlation coefficients among \"BILL_AMT\" are almost the same for credit limit and also default_payment_next_month\n",
    "# Create a variable TOTAL_BILL as the sum of all the 6 months' BILL_AMTs\n",
    "import numpy as np\n",
    "# Create a variable TOTAL_BILL as the sum of all the 6 months' BILL_AMTs\n",
    "credit[\"TOTAL_BILL\"] = credit[\"BILL_AMT1\"]+credit[\"BILL_AMT2\"]+credit[\"BILL_AMT3\"]+credit[\"BILL_AMT4\"]+credit[\"BILL_AMT5\"]+credit[\"BILL_AMT6\"]"
   ]
  },
  {
   "cell_type": "code",
   "execution_count": 5,
   "metadata": {},
   "outputs": [],
   "source": [
    "credit[\"AVE_BILL\"] =credit[\"TOTAL_BILL\"]/6000"
   ]
  },
  {
   "cell_type": "code",
   "execution_count": 7,
   "metadata": {},
   "outputs": [],
   "source": [
    "# Since the PAY_AMTs correlation coefficients are almost the same for credit limit and also default_payment_next_month\n",
    "# Create a variable TOTAL_PAY as the sum of all the 6 months' PAY_AMTs\n",
    "credit[\"TOTAL_PAY\"] = credit[\"PAY_AMT1\"]+credit[\"PAY_AMT2\"]+credit[\"PAY_AMT3\"]+credit[\"PAY_AMT4\"]+credit[\"PAY_AMT5\"]+credit[\"PAY_AMT6\"]"
   ]
  },
  {
   "cell_type": "code",
   "execution_count": 9,
   "metadata": {},
   "outputs": [],
   "source": [
    "credit[\"AVE_PAY_AMT\"] =credit[\"TOTAL_PAY\"]/6000"
   ]
  },
  {
   "cell_type": "code",
   "execution_count": 10,
   "metadata": {},
   "outputs": [],
   "source": [
    "# Add 2 to each PAY_x, so all will be non-negative. \n",
    "# Create a variable PAY_STAT1\n",
    "credit[\"PAY_STATUS\"] = credit[\"PAY_0\"]+credit[\"PAY_2\"]+credit[\"PAY_3\"]+credit[\"PAY_4\"]+credit[\"PAY_5\"]+credit[\"PAY_6\"]+12"
   ]
  },
  {
   "cell_type": "markdown",
   "metadata": {},
   "source": [
    "PAY_x with x = 0, 2, 3, 4, 5 ,6 indicate about 50% are using the revolving payment."
   ]
  },
  {
   "cell_type": "code",
   "execution_count": 12,
   "metadata": {},
   "outputs": [],
   "source": [
    "# remove redundant columns\n",
    "credit=credit.drop(['ID','SEX_male','EDUCATION_other','PAY_0','PAY_2','PAY_3','PAY_4','PAY_5','PAY_6','PAY_AMT1','PAY_AMT2','PAY_AMT3','PAY_AMT4','PAY_AMT5','PAY_AMT6','BILL_AMT1','BILL_AMT2','BILL_AMT3','BILL_AMT4','BILL_AMT5','BILL_AMT6','default payment next month_not default','TOTAL_BILL','TOTAL_PAY'], axis=1)"
   ]
  },
  {
   "cell_type": "code",
   "execution_count": 13,
   "metadata": {},
   "outputs": [
    {
     "data": {
      "text/html": [
       "<div>\n",
       "<style scoped>\n",
       "    .dataframe tbody tr th:only-of-type {\n",
       "        vertical-align: middle;\n",
       "    }\n",
       "\n",
       "    .dataframe tbody tr th {\n",
       "        vertical-align: top;\n",
       "    }\n",
       "\n",
       "    .dataframe thead th {\n",
       "        text-align: right;\n",
       "    }\n",
       "</style>\n",
       "<table border=\"1\" class=\"dataframe\">\n",
       "  <thead>\n",
       "    <tr style=\"text-align: right;\">\n",
       "      <th></th>\n",
       "      <th>LIMIT_BAL</th>\n",
       "      <th>MARRIAGE</th>\n",
       "      <th>AGE</th>\n",
       "      <th>SEX_female</th>\n",
       "      <th>EDUCATION_graduate school</th>\n",
       "      <th>EDUCATION_high school</th>\n",
       "      <th>EDUCATION_university</th>\n",
       "      <th>default payment next month_default</th>\n",
       "      <th>AVE_BILL</th>\n",
       "      <th>AVE_PAY_AMT</th>\n",
       "      <th>PAY_STATUS</th>\n",
       "    </tr>\n",
       "  </thead>\n",
       "  <tbody>\n",
       "    <tr>\n",
       "      <th>0</th>\n",
       "      <td>20000</td>\n",
       "      <td>1</td>\n",
       "      <td>24</td>\n",
       "      <td>1</td>\n",
       "      <td>0</td>\n",
       "      <td>0</td>\n",
       "      <td>1</td>\n",
       "      <td>1</td>\n",
       "      <td>1.284000</td>\n",
       "      <td>0.114833</td>\n",
       "      <td>10</td>\n",
       "    </tr>\n",
       "    <tr>\n",
       "      <th>1</th>\n",
       "      <td>120000</td>\n",
       "      <td>2</td>\n",
       "      <td>26</td>\n",
       "      <td>1</td>\n",
       "      <td>0</td>\n",
       "      <td>0</td>\n",
       "      <td>1</td>\n",
       "      <td>1</td>\n",
       "      <td>2.846167</td>\n",
       "      <td>0.833333</td>\n",
       "      <td>15</td>\n",
       "    </tr>\n",
       "  </tbody>\n",
       "</table>\n",
       "</div>"
      ],
      "text/plain": [
       "   LIMIT_BAL  MARRIAGE  AGE  SEX_female  EDUCATION_graduate school  \\\n",
       "0      20000         1   24           1                          0   \n",
       "1     120000         2   26           1                          0   \n",
       "\n",
       "   EDUCATION_high school  EDUCATION_university  \\\n",
       "0                      0                     1   \n",
       "1                      0                     1   \n",
       "\n",
       "   default payment next month_default  AVE_BILL  AVE_PAY_AMT  PAY_STATUS  \n",
       "0                                   1  1.284000     0.114833          10  \n",
       "1                                   1  2.846167     0.833333          15  "
      ]
     },
     "execution_count": 13,
     "metadata": {},
     "output_type": "execute_result"
    }
   ],
   "source": [
    "credit.head(2)"
   ]
  },
  {
   "cell_type": "code",
   "execution_count": 14,
   "metadata": {
    "scrolled": true
   },
   "outputs": [
    {
     "data": {
      "text/html": [
       "<style  type=\"text/css\" >\n",
       "    #T_8f836eee_8f2e_11ea_a738_c49dedb01420row0_col0 {\n",
       "            background-color:  #b40426;\n",
       "            color:  #f1f1f1;\n",
       "        }    #T_8f836eee_8f2e_11ea_a738_c49dedb01420row0_col1 {\n",
       "            background-color:  #81a4fb;\n",
       "            color:  #000000;\n",
       "        }    #T_8f836eee_8f2e_11ea_a738_c49dedb01420row0_col2 {\n",
       "            background-color:  #bfd3f6;\n",
       "            color:  #000000;\n",
       "        }    #T_8f836eee_8f2e_11ea_a738_c49dedb01420row0_col3 {\n",
       "            background-color:  #5b7ae5;\n",
       "            color:  #000000;\n",
       "        }    #T_8f836eee_8f2e_11ea_a738_c49dedb01420row0_col4 {\n",
       "            background-color:  #ebd3c6;\n",
       "            color:  #000000;\n",
       "        }    #T_8f836eee_8f2e_11ea_a738_c49dedb01420row0_col5 {\n",
       "            background-color:  #799cf8;\n",
       "            color:  #000000;\n",
       "        }    #T_8f836eee_8f2e_11ea_a738_c49dedb01420row0_col6 {\n",
       "            background-color:  #a6c4fe;\n",
       "            color:  #000000;\n",
       "        }    #T_8f836eee_8f2e_11ea_a738_c49dedb01420row0_col7 {\n",
       "            background-color:  #3b4cc0;\n",
       "            color:  #f1f1f1;\n",
       "        }    #T_8f836eee_8f2e_11ea_a738_c49dedb01420row0_col8 {\n",
       "            background-color:  #a6c4fe;\n",
       "            color:  #000000;\n",
       "        }    #T_8f836eee_8f2e_11ea_a738_c49dedb01420row0_col9 {\n",
       "            background-color:  #c4d5f3;\n",
       "            color:  #000000;\n",
       "        }    #T_8f836eee_8f2e_11ea_a738_c49dedb01420row0_col10 {\n",
       "            background-color:  #3b4cc0;\n",
       "            color:  #f1f1f1;\n",
       "        }    #T_8f836eee_8f2e_11ea_a738_c49dedb01420row1_col0 {\n",
       "            background-color:  #6c8ff1;\n",
       "            color:  #000000;\n",
       "        }    #T_8f836eee_8f2e_11ea_a738_c49dedb01420row1_col1 {\n",
       "            background-color:  #b40426;\n",
       "            color:  #f1f1f1;\n",
       "        }    #T_8f836eee_8f2e_11ea_a738_c49dedb01420row1_col2 {\n",
       "            background-color:  #3b4cc0;\n",
       "            color:  #f1f1f1;\n",
       "        }    #T_8f836eee_8f2e_11ea_a738_c49dedb01420row1_col3 {\n",
       "            background-color:  #4a63d3;\n",
       "            color:  #f1f1f1;\n",
       "        }    #T_8f836eee_8f2e_11ea_a738_c49dedb01420row1_col4 {\n",
       "            background-color:  #dbdcde;\n",
       "            color:  #000000;\n",
       "        }    #T_8f836eee_8f2e_11ea_a738_c49dedb01420row1_col5 {\n",
       "            background-color:  #81a4fb;\n",
       "            color:  #000000;\n",
       "        }    #T_8f836eee_8f2e_11ea_a738_c49dedb01420row1_col6 {\n",
       "            background-color:  #b9d0f9;\n",
       "            color:  #000000;\n",
       "        }    #T_8f836eee_8f2e_11ea_a738_c49dedb01420row1_col7 {\n",
       "            background-color:  #5d7ce6;\n",
       "            color:  #000000;\n",
       "        }    #T_8f836eee_8f2e_11ea_a738_c49dedb01420row1_col8 {\n",
       "            background-color:  #3b4cc0;\n",
       "            color:  #f1f1f1;\n",
       "        }    #T_8f836eee_8f2e_11ea_a738_c49dedb01420row1_col9 {\n",
       "            background-color:  #5470de;\n",
       "            color:  #000000;\n",
       "        }    #T_8f836eee_8f2e_11ea_a738_c49dedb01420row1_col10 {\n",
       "            background-color:  #93b5fe;\n",
       "            color:  #000000;\n",
       "        }    #T_8f836eee_8f2e_11ea_a738_c49dedb01420row2_col0 {\n",
       "            background-color:  #afcafc;\n",
       "            color:  #000000;\n",
       "        }    #T_8f836eee_8f2e_11ea_a738_c49dedb01420row2_col1 {\n",
       "            background-color:  #3b4cc0;\n",
       "            color:  #f1f1f1;\n",
       "        }    #T_8f836eee_8f2e_11ea_a738_c49dedb01420row2_col2 {\n",
       "            background-color:  #b40426;\n",
       "            color:  #f1f1f1;\n",
       "        }    #T_8f836eee_8f2e_11ea_a738_c49dedb01420row2_col3 {\n",
       "            background-color:  #3b4cc0;\n",
       "            color:  #f1f1f1;\n",
       "        }    #T_8f836eee_8f2e_11ea_a738_c49dedb01420row2_col4 {\n",
       "            background-color:  #afcafc;\n",
       "            color:  #000000;\n",
       "        }    #T_8f836eee_8f2e_11ea_a738_c49dedb01420row2_col5 {\n",
       "            background-color:  #d1dae9;\n",
       "            color:  #000000;\n",
       "        }    #T_8f836eee_8f2e_11ea_a738_c49dedb01420row2_col6 {\n",
       "            background-color:  #b3cdfb;\n",
       "            color:  #000000;\n",
       "        }    #T_8f836eee_8f2e_11ea_a738_c49dedb01420row2_col7 {\n",
       "            background-color:  #688aef;\n",
       "            color:  #000000;\n",
       "        }    #T_8f836eee_8f2e_11ea_a738_c49dedb01420row2_col8 {\n",
       "            background-color:  #536edd;\n",
       "            color:  #000000;\n",
       "        }    #T_8f836eee_8f2e_11ea_a738_c49dedb01420row2_col9 {\n",
       "            background-color:  #6384eb;\n",
       "            color:  #000000;\n",
       "        }    #T_8f836eee_8f2e_11ea_a738_c49dedb01420row2_col10 {\n",
       "            background-color:  #7a9df8;\n",
       "            color:  #000000;\n",
       "        }    #T_8f836eee_8f2e_11ea_a738_c49dedb01420row3_col0 {\n",
       "            background-color:  #90b2fe;\n",
       "            color:  #000000;\n",
       "        }    #T_8f836eee_8f2e_11ea_a738_c49dedb01420row3_col1 {\n",
       "            background-color:  #94b6ff;\n",
       "            color:  #000000;\n",
       "        }    #T_8f836eee_8f2e_11ea_a738_c49dedb01420row3_col2 {\n",
       "            background-color:  #85a8fc;\n",
       "            color:  #000000;\n",
       "        }    #T_8f836eee_8f2e_11ea_a738_c49dedb01420row3_col3 {\n",
       "            background-color:  #b40426;\n",
       "            color:  #f1f1f1;\n",
       "        }    #T_8f836eee_8f2e_11ea_a738_c49dedb01420row3_col4 {\n",
       "            background-color:  #bfd3f6;\n",
       "            color:  #000000;\n",
       "        }    #T_8f836eee_8f2e_11ea_a738_c49dedb01420row3_col5 {\n",
       "            background-color:  #9abbff;\n",
       "            color:  #000000;\n",
       "        }    #T_8f836eee_8f2e_11ea_a738_c49dedb01420row3_col6 {\n",
       "            background-color:  #c7d7f0;\n",
       "            color:  #000000;\n",
       "        }    #T_8f836eee_8f2e_11ea_a738_c49dedb01420row3_col7 {\n",
       "            background-color:  #5977e3;\n",
       "            color:  #000000;\n",
       "        }    #T_8f836eee_8f2e_11ea_a738_c49dedb01420row3_col8 {\n",
       "            background-color:  #3b4cc0;\n",
       "            color:  #f1f1f1;\n",
       "        }    #T_8f836eee_8f2e_11ea_a738_c49dedb01420row3_col9 {\n",
       "            background-color:  #5572df;\n",
       "            color:  #000000;\n",
       "        }    #T_8f836eee_8f2e_11ea_a738_c49dedb01420row3_col10 {\n",
       "            background-color:  #779af7;\n",
       "            color:  #000000;\n",
       "        }    #T_8f836eee_8f2e_11ea_a738_c49dedb01420row4_col0 {\n",
       "            background-color:  #cbd8ee;\n",
       "            color:  #000000;\n",
       "        }    #T_8f836eee_8f2e_11ea_a738_c49dedb01420row4_col1 {\n",
       "            background-color:  #bed2f6;\n",
       "            color:  #000000;\n",
       "        }    #T_8f836eee_8f2e_11ea_a738_c49dedb01420row4_col2 {\n",
       "            background-color:  #82a6fb;\n",
       "            color:  #000000;\n",
       "        }    #T_8f836eee_8f2e_11ea_a738_c49dedb01420row4_col3 {\n",
       "            background-color:  #4c66d6;\n",
       "            color:  #000000;\n",
       "        }    #T_8f836eee_8f2e_11ea_a738_c49dedb01420row4_col4 {\n",
       "            background-color:  #b40426;\n",
       "            color:  #f1f1f1;\n",
       "        }    #T_8f836eee_8f2e_11ea_a738_c49dedb01420row4_col5 {\n",
       "            background-color:  #4c66d6;\n",
       "            color:  #000000;\n",
       "        }    #T_8f836eee_8f2e_11ea_a738_c49dedb01420row4_col6 {\n",
       "            background-color:  #3b4cc0;\n",
       "            color:  #f1f1f1;\n",
       "        }    #T_8f836eee_8f2e_11ea_a738_c49dedb01420row4_col7 {\n",
       "            background-color:  #5572df;\n",
       "            color:  #000000;\n",
       "        }    #T_8f836eee_8f2e_11ea_a738_c49dedb01420row4_col8 {\n",
       "            background-color:  #3f53c6;\n",
       "            color:  #f1f1f1;\n",
       "        }    #T_8f836eee_8f2e_11ea_a738_c49dedb01420row4_col9 {\n",
       "            background-color:  #7093f3;\n",
       "            color:  #000000;\n",
       "        }    #T_8f836eee_8f2e_11ea_a738_c49dedb01420row4_col10 {\n",
       "            background-color:  #5b7ae5;\n",
       "            color:  #000000;\n",
       "        }    #T_8f836eee_8f2e_11ea_a738_c49dedb01420row5_col0 {\n",
       "            background-color:  #6485ec;\n",
       "            color:  #000000;\n",
       "        }    #T_8f836eee_8f2e_11ea_a738_c49dedb01420row5_col1 {\n",
       "            background-color:  #80a3fa;\n",
       "            color:  #000000;\n",
       "        }    #T_8f836eee_8f2e_11ea_a738_c49dedb01420row5_col2 {\n",
       "            background-color:  #d1dae9;\n",
       "            color:  #000000;\n",
       "        }    #T_8f836eee_8f2e_11ea_a738_c49dedb01420row5_col3 {\n",
       "            background-color:  #516ddb;\n",
       "            color:  #000000;\n",
       "        }    #T_8f836eee_8f2e_11ea_a738_c49dedb01420row5_col4 {\n",
       "            background-color:  #81a4fb;\n",
       "            color:  #000000;\n",
       "        }    #T_8f836eee_8f2e_11ea_a738_c49dedb01420row5_col5 {\n",
       "            background-color:  #b40426;\n",
       "            color:  #f1f1f1;\n",
       "        }    #T_8f836eee_8f2e_11ea_a738_c49dedb01420row5_col6 {\n",
       "            background-color:  #6e90f2;\n",
       "            color:  #000000;\n",
       "        }    #T_8f836eee_8f2e_11ea_a738_c49dedb01420row5_col7 {\n",
       "            background-color:  #6e90f2;\n",
       "            color:  #000000;\n",
       "        }    #T_8f836eee_8f2e_11ea_a738_c49dedb01420row5_col8 {\n",
       "            background-color:  #3b4cc0;\n",
       "            color:  #f1f1f1;\n",
       "        }    #T_8f836eee_8f2e_11ea_a738_c49dedb01420row5_col9 {\n",
       "            background-color:  #4a63d3;\n",
       "            color:  #f1f1f1;\n",
       "        }    #T_8f836eee_8f2e_11ea_a738_c49dedb01420row5_col10 {\n",
       "            background-color:  #9bbcff;\n",
       "            color:  #000000;\n",
       "        }    #T_8f836eee_8f2e_11ea_a738_c49dedb01420row6_col0 {\n",
       "            background-color:  #6282ea;\n",
       "            color:  #000000;\n",
       "        }    #T_8f836eee_8f2e_11ea_a738_c49dedb01420row6_col1 {\n",
       "            background-color:  #8fb1fe;\n",
       "            color:  #000000;\n",
       "        }    #T_8f836eee_8f2e_11ea_a738_c49dedb01420row6_col2 {\n",
       "            background-color:  #88abfd;\n",
       "            color:  #000000;\n",
       "        }    #T_8f836eee_8f2e_11ea_a738_c49dedb01420row6_col3 {\n",
       "            background-color:  #5b7ae5;\n",
       "            color:  #000000;\n",
       "        }    #T_8f836eee_8f2e_11ea_a738_c49dedb01420row6_col4 {\n",
       "            background-color:  #3b4cc0;\n",
       "            color:  #f1f1f1;\n",
       "        }    #T_8f836eee_8f2e_11ea_a738_c49dedb01420row6_col5 {\n",
       "            background-color:  #3b4cc0;\n",
       "            color:  #f1f1f1;\n",
       "        }    #T_8f836eee_8f2e_11ea_a738_c49dedb01420row6_col6 {\n",
       "            background-color:  #b40426;\n",
       "            color:  #f1f1f1;\n",
       "        }    #T_8f836eee_8f2e_11ea_a738_c49dedb01420row6_col7 {\n",
       "            background-color:  #6f92f3;\n",
       "            color:  #000000;\n",
       "        }    #T_8f836eee_8f2e_11ea_a738_c49dedb01420row6_col8 {\n",
       "            background-color:  #4a63d3;\n",
       "            color:  #f1f1f1;\n",
       "        }    #T_8f836eee_8f2e_11ea_a738_c49dedb01420row6_col9 {\n",
       "            background-color:  #485fd1;\n",
       "            color:  #f1f1f1;\n",
       "        }    #T_8f836eee_8f2e_11ea_a738_c49dedb01420row6_col10 {\n",
       "            background-color:  #abc8fd;\n",
       "            color:  #000000;\n",
       "        }    #T_8f836eee_8f2e_11ea_a738_c49dedb01420row7_col0 {\n",
       "            background-color:  #6180e9;\n",
       "            color:  #000000;\n",
       "        }    #T_8f836eee_8f2e_11ea_a738_c49dedb01420row7_col1 {\n",
       "            background-color:  #96b7ff;\n",
       "            color:  #000000;\n",
       "        }    #T_8f836eee_8f2e_11ea_a738_c49dedb01420row7_col2 {\n",
       "            background-color:  #9fbfff;\n",
       "            color:  #000000;\n",
       "        }    #T_8f836eee_8f2e_11ea_a738_c49dedb01420row7_col3 {\n",
       "            background-color:  #485fd1;\n",
       "            color:  #f1f1f1;\n",
       "        }    #T_8f836eee_8f2e_11ea_a738_c49dedb01420row7_col4 {\n",
       "            background-color:  #b9d0f9;\n",
       "            color:  #000000;\n",
       "        }    #T_8f836eee_8f2e_11ea_a738_c49dedb01420row7_col5 {\n",
       "            background-color:  #a3c2fe;\n",
       "            color:  #000000;\n",
       "        }    #T_8f836eee_8f2e_11ea_a738_c49dedb01420row7_col6 {\n",
       "            background-color:  #cad8ef;\n",
       "            color:  #000000;\n",
       "        }    #T_8f836eee_8f2e_11ea_a738_c49dedb01420row7_col7 {\n",
       "            background-color:  #b40426;\n",
       "            color:  #f1f1f1;\n",
       "        }    #T_8f836eee_8f2e_11ea_a738_c49dedb01420row7_col8 {\n",
       "            background-color:  #3e51c5;\n",
       "            color:  #f1f1f1;\n",
       "        }    #T_8f836eee_8f2e_11ea_a738_c49dedb01420row7_col9 {\n",
       "            background-color:  #3b4cc0;\n",
       "            color:  #f1f1f1;\n",
       "        }    #T_8f836eee_8f2e_11ea_a738_c49dedb01420row7_col10 {\n",
       "            background-color:  #d1dae9;\n",
       "            color:  #000000;\n",
       "        }    #T_8f836eee_8f2e_11ea_a738_c49dedb01420row8_col0 {\n",
       "            background-color:  #d5dbe5;\n",
       "            color:  #000000;\n",
       "        }    #T_8f836eee_8f2e_11ea_a738_c49dedb01420row8_col1 {\n",
       "            background-color:  #96b7ff;\n",
       "            color:  #000000;\n",
       "        }    #T_8f836eee_8f2e_11ea_a738_c49dedb01420row8_col2 {\n",
       "            background-color:  #a9c6fd;\n",
       "            color:  #000000;\n",
       "        }    #T_8f836eee_8f2e_11ea_a738_c49dedb01420row8_col3 {\n",
       "            background-color:  #4c66d6;\n",
       "            color:  #000000;\n",
       "        }    #T_8f836eee_8f2e_11ea_a738_c49dedb01420row8_col4 {\n",
       "            background-color:  #c0d4f5;\n",
       "            color:  #000000;\n",
       "        }    #T_8f836eee_8f2e_11ea_a738_c49dedb01420row8_col5 {\n",
       "            background-color:  #96b7ff;\n",
       "            color:  #000000;\n",
       "        }    #T_8f836eee_8f2e_11ea_a738_c49dedb01420row8_col6 {\n",
       "            background-color:  #c7d7f0;\n",
       "            color:  #000000;\n",
       "        }    #T_8f836eee_8f2e_11ea_a738_c49dedb01420row8_col7 {\n",
       "            background-color:  #6180e9;\n",
       "            color:  #000000;\n",
       "        }    #T_8f836eee_8f2e_11ea_a738_c49dedb01420row8_col8 {\n",
       "            background-color:  #b40426;\n",
       "            color:  #f1f1f1;\n",
       "        }    #T_8f836eee_8f2e_11ea_a738_c49dedb01420row8_col9 {\n",
       "            background-color:  #c1d4f4;\n",
       "            color:  #000000;\n",
       "        }    #T_8f836eee_8f2e_11ea_a738_c49dedb01420row8_col10 {\n",
       "            background-color:  #d1dae9;\n",
       "            color:  #000000;\n",
       "        }    #T_8f836eee_8f2e_11ea_a738_c49dedb01420row9_col0 {\n",
       "            background-color:  #dfdbd9;\n",
       "            color:  #000000;\n",
       "        }    #T_8f836eee_8f2e_11ea_a738_c49dedb01420row9_col1 {\n",
       "            background-color:  #98b9ff;\n",
       "            color:  #000000;\n",
       "        }    #T_8f836eee_8f2e_11ea_a738_c49dedb01420row9_col2 {\n",
       "            background-color:  #a6c4fe;\n",
       "            color:  #000000;\n",
       "        }    #T_8f836eee_8f2e_11ea_a738_c49dedb01420row9_col3 {\n",
       "            background-color:  #536edd;\n",
       "            color:  #000000;\n",
       "        }    #T_8f836eee_8f2e_11ea_a738_c49dedb01420row9_col4 {\n",
       "            background-color:  #d2dbe8;\n",
       "            color:  #000000;\n",
       "        }    #T_8f836eee_8f2e_11ea_a738_c49dedb01420row9_col5 {\n",
       "            background-color:  #90b2fe;\n",
       "            color:  #000000;\n",
       "        }    #T_8f836eee_8f2e_11ea_a738_c49dedb01420row9_col6 {\n",
       "            background-color:  #b9d0f9;\n",
       "            color:  #000000;\n",
       "        }    #T_8f836eee_8f2e_11ea_a738_c49dedb01420row9_col7 {\n",
       "            background-color:  #485fd1;\n",
       "            color:  #f1f1f1;\n",
       "        }    #T_8f836eee_8f2e_11ea_a738_c49dedb01420row9_col8 {\n",
       "            background-color:  #b3cdfb;\n",
       "            color:  #000000;\n",
       "        }    #T_8f836eee_8f2e_11ea_a738_c49dedb01420row9_col9 {\n",
       "            background-color:  #b40426;\n",
       "            color:  #f1f1f1;\n",
       "        }    #T_8f836eee_8f2e_11ea_a738_c49dedb01420row9_col10 {\n",
       "            background-color:  #7699f6;\n",
       "            color:  #000000;\n",
       "        }    #T_8f836eee_8f2e_11ea_a738_c49dedb01420row10_col0 {\n",
       "            background-color:  #3b4cc0;\n",
       "            color:  #f1f1f1;\n",
       "        }    #T_8f836eee_8f2e_11ea_a738_c49dedb01420row10_col1 {\n",
       "            background-color:  #a5c3fe;\n",
       "            color:  #000000;\n",
       "        }    #T_8f836eee_8f2e_11ea_a738_c49dedb01420row10_col2 {\n",
       "            background-color:  #8db0fe;\n",
       "            color:  #000000;\n",
       "        }    #T_8f836eee_8f2e_11ea_a738_c49dedb01420row10_col3 {\n",
       "            background-color:  #3f53c6;\n",
       "            color:  #f1f1f1;\n",
       "        }    #T_8f836eee_8f2e_11ea_a738_c49dedb01420row10_col4 {\n",
       "            background-color:  #a1c0ff;\n",
       "            color:  #000000;\n",
       "        }    #T_8f836eee_8f2e_11ea_a738_c49dedb01420row10_col5 {\n",
       "            background-color:  #adc9fd;\n",
       "            color:  #000000;\n",
       "        }    #T_8f836eee_8f2e_11ea_a738_c49dedb01420row10_col6 {\n",
       "            background-color:  #d9dce1;\n",
       "            color:  #000000;\n",
       "        }    #T_8f836eee_8f2e_11ea_a738_c49dedb01420row10_col7 {\n",
       "            background-color:  #b9d0f9;\n",
       "            color:  #000000;\n",
       "        }    #T_8f836eee_8f2e_11ea_a738_c49dedb01420row10_col8 {\n",
       "            background-color:  #9fbfff;\n",
       "            color:  #000000;\n",
       "        }    #T_8f836eee_8f2e_11ea_a738_c49dedb01420row10_col9 {\n",
       "            background-color:  #4257c9;\n",
       "            color:  #f1f1f1;\n",
       "        }    #T_8f836eee_8f2e_11ea_a738_c49dedb01420row10_col10 {\n",
       "            background-color:  #b40426;\n",
       "            color:  #f1f1f1;\n",
       "        }</style><table id=\"T_8f836eee_8f2e_11ea_a738_c49dedb01420\" ><thead>    <tr>        <th class=\"blank level0\" ></th>        <th class=\"col_heading level0 col0\" >LIMIT_BAL</th>        <th class=\"col_heading level0 col1\" >MARRIAGE</th>        <th class=\"col_heading level0 col2\" >AGE</th>        <th class=\"col_heading level0 col3\" >SEX_female</th>        <th class=\"col_heading level0 col4\" >EDUCATION_graduate school</th>        <th class=\"col_heading level0 col5\" >EDUCATION_high school</th>        <th class=\"col_heading level0 col6\" >EDUCATION_university</th>        <th class=\"col_heading level0 col7\" >default payment next month_default</th>        <th class=\"col_heading level0 col8\" >AVE_BILL</th>        <th class=\"col_heading level0 col9\" >AVE_PAY_AMT</th>        <th class=\"col_heading level0 col10\" >PAY_STATUS</th>    </tr></thead><tbody>\n",
       "                <tr>\n",
       "                        <th id=\"T_8f836eee_8f2e_11ea_a738_c49dedb01420level0_row0\" class=\"row_heading level0 row0\" >LIMIT_BAL</th>\n",
       "                        <td id=\"T_8f836eee_8f2e_11ea_a738_c49dedb01420row0_col0\" class=\"data row0 col0\" >1.00</td>\n",
       "                        <td id=\"T_8f836eee_8f2e_11ea_a738_c49dedb01420row0_col1\" class=\"data row0 col1\" >-0.11</td>\n",
       "                        <td id=\"T_8f836eee_8f2e_11ea_a738_c49dedb01420row0_col2\" class=\"data row0 col2\" >0.14</td>\n",
       "                        <td id=\"T_8f836eee_8f2e_11ea_a738_c49dedb01420row0_col3\" class=\"data row0 col3\" >0.02</td>\n",
       "                        <td id=\"T_8f836eee_8f2e_11ea_a738_c49dedb01420row0_col4\" class=\"data row0 col4\" >0.26</td>\n",
       "                        <td id=\"T_8f836eee_8f2e_11ea_a738_c49dedb01420row0_col5\" class=\"data row0 col5\" >-0.14</td>\n",
       "                        <td id=\"T_8f836eee_8f2e_11ea_a738_c49dedb01420row0_col6\" class=\"data row0 col6\" >-0.15</td>\n",
       "                        <td id=\"T_8f836eee_8f2e_11ea_a738_c49dedb01420row0_col7\" class=\"data row0 col7\" >-0.15</td>\n",
       "                        <td id=\"T_8f836eee_8f2e_11ea_a738_c49dedb01420row0_col8\" class=\"data row0 col8\" >0.30</td>\n",
       "                        <td id=\"T_8f836eee_8f2e_11ea_a738_c49dedb01420row0_col9\" class=\"data row0 col9\" >0.35</td>\n",
       "                        <td id=\"T_8f836eee_8f2e_11ea_a738_c49dedb01420row0_col10\" class=\"data row0 col10\" >-0.32</td>\n",
       "            </tr>\n",
       "            <tr>\n",
       "                        <th id=\"T_8f836eee_8f2e_11ea_a738_c49dedb01420level0_row1\" class=\"row_heading level0 row1\" >MARRIAGE</th>\n",
       "                        <td id=\"T_8f836eee_8f2e_11ea_a738_c49dedb01420row1_col0\" class=\"data row1 col0\" >-0.11</td>\n",
       "                        <td id=\"T_8f836eee_8f2e_11ea_a738_c49dedb01420row1_col1\" class=\"data row1 col1\" >1.00</td>\n",
       "                        <td id=\"T_8f836eee_8f2e_11ea_a738_c49dedb01420row1_col2\" class=\"data row1 col2\" >-0.41</td>\n",
       "                        <td id=\"T_8f836eee_8f2e_11ea_a738_c49dedb01420row1_col3\" class=\"data row1 col3\" >-0.03</td>\n",
       "                        <td id=\"T_8f836eee_8f2e_11ea_a738_c49dedb01420row1_col4\" class=\"data row1 col4\" >0.14</td>\n",
       "                        <td id=\"T_8f836eee_8f2e_11ea_a738_c49dedb01420row1_col5\" class=\"data row1 col5\" >-0.11</td>\n",
       "                        <td id=\"T_8f836eee_8f2e_11ea_a738_c49dedb01420row1_col6\" class=\"data row1 col6\" >-0.05</td>\n",
       "                        <td id=\"T_8f836eee_8f2e_11ea_a738_c49dedb01420row1_col7\" class=\"data row1 col7\" >-0.02</td>\n",
       "                        <td id=\"T_8f836eee_8f2e_11ea_a738_c49dedb01420row1_col8\" class=\"data row1 col8\" >-0.02</td>\n",
       "                        <td id=\"T_8f836eee_8f2e_11ea_a738_c49dedb01420row1_col9\" class=\"data row1 col9\" >-0.01</td>\n",
       "                        <td id=\"T_8f836eee_8f2e_11ea_a738_c49dedb01420row1_col10\" class=\"data row1 col10\" >0.04</td>\n",
       "            </tr>\n",
       "            <tr>\n",
       "                        <th id=\"T_8f836eee_8f2e_11ea_a738_c49dedb01420level0_row2\" class=\"row_heading level0 row2\" >AGE</th>\n",
       "                        <td id=\"T_8f836eee_8f2e_11ea_a738_c49dedb01420row2_col0\" class=\"data row2 col0\" >0.14</td>\n",
       "                        <td id=\"T_8f836eee_8f2e_11ea_a738_c49dedb01420row2_col1\" class=\"data row2 col1\" >-0.41</td>\n",
       "                        <td id=\"T_8f836eee_8f2e_11ea_a738_c49dedb01420row2_col2\" class=\"data row2 col2\" >1.00</td>\n",
       "                        <td id=\"T_8f836eee_8f2e_11ea_a738_c49dedb01420row2_col3\" class=\"data row2 col3\" >-0.09</td>\n",
       "                        <td id=\"T_8f836eee_8f2e_11ea_a738_c49dedb01420row2_col4\" class=\"data row2 col4\" >-0.10</td>\n",
       "                        <td id=\"T_8f836eee_8f2e_11ea_a738_c49dedb01420row2_col5\" class=\"data row2 col5\" >0.23</td>\n",
       "                        <td id=\"T_8f836eee_8f2e_11ea_a738_c49dedb01420row2_col6\" class=\"data row2 col6\" >-0.08</td>\n",
       "                        <td id=\"T_8f836eee_8f2e_11ea_a738_c49dedb01420row2_col7\" class=\"data row2 col7\" >0.01</td>\n",
       "                        <td id=\"T_8f836eee_8f2e_11ea_a738_c49dedb01420row2_col8\" class=\"data row2 col8\" >0.05</td>\n",
       "                        <td id=\"T_8f836eee_8f2e_11ea_a738_c49dedb01420row2_col9\" class=\"data row2 col9\" >0.04</td>\n",
       "                        <td id=\"T_8f836eee_8f2e_11ea_a738_c49dedb01420row2_col10\" class=\"data row2 col10\" >-0.06</td>\n",
       "            </tr>\n",
       "            <tr>\n",
       "                        <th id=\"T_8f836eee_8f2e_11ea_a738_c49dedb01420level0_row3\" class=\"row_heading level0 row3\" >SEX_female</th>\n",
       "                        <td id=\"T_8f836eee_8f2e_11ea_a738_c49dedb01420row3_col0\" class=\"data row3 col0\" >0.02</td>\n",
       "                        <td id=\"T_8f836eee_8f2e_11ea_a738_c49dedb01420row3_col1\" class=\"data row3 col1\" >-0.03</td>\n",
       "                        <td id=\"T_8f836eee_8f2e_11ea_a738_c49dedb01420row3_col2\" class=\"data row3 col2\" >-0.09</td>\n",
       "                        <td id=\"T_8f836eee_8f2e_11ea_a738_c49dedb01420row3_col3\" class=\"data row3 col3\" >1.00</td>\n",
       "                        <td id=\"T_8f836eee_8f2e_11ea_a738_c49dedb01420row3_col4\" class=\"data row3 col4\" >-0.02</td>\n",
       "                        <td id=\"T_8f836eee_8f2e_11ea_a738_c49dedb01420row3_col5\" class=\"data row3 col5\" >-0.01</td>\n",
       "                        <td id=\"T_8f836eee_8f2e_11ea_a738_c49dedb01420row3_col6\" class=\"data row3 col6\" >0.03</td>\n",
       "                        <td id=\"T_8f836eee_8f2e_11ea_a738_c49dedb01420row3_col7\" class=\"data row3 col7\" >-0.04</td>\n",
       "                        <td id=\"T_8f836eee_8f2e_11ea_a738_c49dedb01420row3_col8\" class=\"data row3 col8\" >-0.03</td>\n",
       "                        <td id=\"T_8f836eee_8f2e_11ea_a738_c49dedb01420row3_col9\" class=\"data row3 col9\" >-0.00</td>\n",
       "                        <td id=\"T_8f836eee_8f2e_11ea_a738_c49dedb01420row3_col10\" class=\"data row3 col10\" >-0.07</td>\n",
       "            </tr>\n",
       "            <tr>\n",
       "                        <th id=\"T_8f836eee_8f2e_11ea_a738_c49dedb01420level0_row4\" class=\"row_heading level0 row4\" >EDUCATION_graduate school</th>\n",
       "                        <td id=\"T_8f836eee_8f2e_11ea_a738_c49dedb01420row4_col0\" class=\"data row4 col0\" >0.26</td>\n",
       "                        <td id=\"T_8f836eee_8f2e_11ea_a738_c49dedb01420row4_col1\" class=\"data row4 col1\" >0.14</td>\n",
       "                        <td id=\"T_8f836eee_8f2e_11ea_a738_c49dedb01420row4_col2\" class=\"data row4 col2\" >-0.10</td>\n",
       "                        <td id=\"T_8f836eee_8f2e_11ea_a738_c49dedb01420row4_col3\" class=\"data row4 col3\" >-0.02</td>\n",
       "                        <td id=\"T_8f836eee_8f2e_11ea_a738_c49dedb01420row4_col4\" class=\"data row4 col4\" >1.00</td>\n",
       "                        <td id=\"T_8f836eee_8f2e_11ea_a738_c49dedb01420row4_col5\" class=\"data row4 col5\" >-0.33</td>\n",
       "                        <td id=\"T_8f836eee_8f2e_11ea_a738_c49dedb01420row4_col6\" class=\"data row4 col6\" >-0.69</td>\n",
       "                        <td id=\"T_8f836eee_8f2e_11ea_a738_c49dedb01420row4_col7\" class=\"data row4 col7\" >-0.05</td>\n",
       "                        <td id=\"T_8f836eee_8f2e_11ea_a738_c49dedb01420row4_col8\" class=\"data row4 col8\" >-0.01</td>\n",
       "                        <td id=\"T_8f836eee_8f2e_11ea_a738_c49dedb01420row4_col9\" class=\"data row4 col9\" >0.08</td>\n",
       "                        <td id=\"T_8f836eee_8f2e_11ea_a738_c49dedb01420row4_col10\" class=\"data row4 col10\" >-0.18</td>\n",
       "            </tr>\n",
       "            <tr>\n",
       "                        <th id=\"T_8f836eee_8f2e_11ea_a738_c49dedb01420level0_row5\" class=\"row_heading level0 row5\" >EDUCATION_high school</th>\n",
       "                        <td id=\"T_8f836eee_8f2e_11ea_a738_c49dedb01420row5_col0\" class=\"data row5 col0\" >-0.14</td>\n",
       "                        <td id=\"T_8f836eee_8f2e_11ea_a738_c49dedb01420row5_col1\" class=\"data row5 col1\" >-0.11</td>\n",
       "                        <td id=\"T_8f836eee_8f2e_11ea_a738_c49dedb01420row5_col2\" class=\"data row5 col2\" >0.23</td>\n",
       "                        <td id=\"T_8f836eee_8f2e_11ea_a738_c49dedb01420row5_col3\" class=\"data row5 col3\" >-0.01</td>\n",
       "                        <td id=\"T_8f836eee_8f2e_11ea_a738_c49dedb01420row5_col4\" class=\"data row5 col4\" >-0.33</td>\n",
       "                        <td id=\"T_8f836eee_8f2e_11ea_a738_c49dedb01420row5_col5\" class=\"data row5 col5\" >1.00</td>\n",
       "                        <td id=\"T_8f836eee_8f2e_11ea_a738_c49dedb01420row5_col6\" class=\"data row5 col6\" >-0.41</td>\n",
       "                        <td id=\"T_8f836eee_8f2e_11ea_a738_c49dedb01420row5_col7\" class=\"data row5 col7\" >0.03</td>\n",
       "                        <td id=\"T_8f836eee_8f2e_11ea_a738_c49dedb01420row5_col8\" class=\"data row5 col8\" >-0.03</td>\n",
       "                        <td id=\"T_8f836eee_8f2e_11ea_a738_c49dedb01420row5_col9\" class=\"data row5 col9\" >-0.05</td>\n",
       "                        <td id=\"T_8f836eee_8f2e_11ea_a738_c49dedb01420row5_col10\" class=\"data row5 col10\" >0.07</td>\n",
       "            </tr>\n",
       "            <tr>\n",
       "                        <th id=\"T_8f836eee_8f2e_11ea_a738_c49dedb01420level0_row6\" class=\"row_heading level0 row6\" >EDUCATION_university</th>\n",
       "                        <td id=\"T_8f836eee_8f2e_11ea_a738_c49dedb01420row6_col0\" class=\"data row6 col0\" >-0.15</td>\n",
       "                        <td id=\"T_8f836eee_8f2e_11ea_a738_c49dedb01420row6_col1\" class=\"data row6 col1\" >-0.05</td>\n",
       "                        <td id=\"T_8f836eee_8f2e_11ea_a738_c49dedb01420row6_col2\" class=\"data row6 col2\" >-0.08</td>\n",
       "                        <td id=\"T_8f836eee_8f2e_11ea_a738_c49dedb01420row6_col3\" class=\"data row6 col3\" >0.03</td>\n",
       "                        <td id=\"T_8f836eee_8f2e_11ea_a738_c49dedb01420row6_col4\" class=\"data row6 col4\" >-0.69</td>\n",
       "                        <td id=\"T_8f836eee_8f2e_11ea_a738_c49dedb01420row6_col5\" class=\"data row6 col5\" >-0.41</td>\n",
       "                        <td id=\"T_8f836eee_8f2e_11ea_a738_c49dedb01420row6_col6\" class=\"data row6 col6\" >1.00</td>\n",
       "                        <td id=\"T_8f836eee_8f2e_11ea_a738_c49dedb01420row6_col7\" class=\"data row6 col7\" >0.04</td>\n",
       "                        <td id=\"T_8f836eee_8f2e_11ea_a738_c49dedb01420row6_col8\" class=\"data row6 col8\" >0.03</td>\n",
       "                        <td id=\"T_8f836eee_8f2e_11ea_a738_c49dedb01420row6_col9\" class=\"data row6 col9\" >-0.05</td>\n",
       "                        <td id=\"T_8f836eee_8f2e_11ea_a738_c49dedb01420row6_col10\" class=\"data row6 col10\" >0.13</td>\n",
       "            </tr>\n",
       "            <tr>\n",
       "                        <th id=\"T_8f836eee_8f2e_11ea_a738_c49dedb01420level0_row7\" class=\"row_heading level0 row7\" >default payment next month_default</th>\n",
       "                        <td id=\"T_8f836eee_8f2e_11ea_a738_c49dedb01420row7_col0\" class=\"data row7 col0\" >-0.15</td>\n",
       "                        <td id=\"T_8f836eee_8f2e_11ea_a738_c49dedb01420row7_col1\" class=\"data row7 col1\" >-0.02</td>\n",
       "                        <td id=\"T_8f836eee_8f2e_11ea_a738_c49dedb01420row7_col2\" class=\"data row7 col2\" >0.01</td>\n",
       "                        <td id=\"T_8f836eee_8f2e_11ea_a738_c49dedb01420row7_col3\" class=\"data row7 col3\" >-0.04</td>\n",
       "                        <td id=\"T_8f836eee_8f2e_11ea_a738_c49dedb01420row7_col4\" class=\"data row7 col4\" >-0.05</td>\n",
       "                        <td id=\"T_8f836eee_8f2e_11ea_a738_c49dedb01420row7_col5\" class=\"data row7 col5\" >0.03</td>\n",
       "                        <td id=\"T_8f836eee_8f2e_11ea_a738_c49dedb01420row7_col6\" class=\"data row7 col6\" >0.04</td>\n",
       "                        <td id=\"T_8f836eee_8f2e_11ea_a738_c49dedb01420row7_col7\" class=\"data row7 col7\" >1.00</td>\n",
       "                        <td id=\"T_8f836eee_8f2e_11ea_a738_c49dedb01420row7_col8\" class=\"data row7 col8\" >-0.01</td>\n",
       "                        <td id=\"T_8f836eee_8f2e_11ea_a738_c49dedb01420row7_col9\" class=\"data row7 col9\" >-0.10</td>\n",
       "                        <td id=\"T_8f836eee_8f2e_11ea_a738_c49dedb01420row7_col10\" class=\"data row7 col10\" >0.28</td>\n",
       "            </tr>\n",
       "            <tr>\n",
       "                        <th id=\"T_8f836eee_8f2e_11ea_a738_c49dedb01420level0_row8\" class=\"row_heading level0 row8\" >AVE_BILL</th>\n",
       "                        <td id=\"T_8f836eee_8f2e_11ea_a738_c49dedb01420row8_col0\" class=\"data row8 col0\" >0.30</td>\n",
       "                        <td id=\"T_8f836eee_8f2e_11ea_a738_c49dedb01420row8_col1\" class=\"data row8 col1\" >-0.02</td>\n",
       "                        <td id=\"T_8f836eee_8f2e_11ea_a738_c49dedb01420row8_col2\" class=\"data row8 col2\" >0.05</td>\n",
       "                        <td id=\"T_8f836eee_8f2e_11ea_a738_c49dedb01420row8_col3\" class=\"data row8 col3\" >-0.03</td>\n",
       "                        <td id=\"T_8f836eee_8f2e_11ea_a738_c49dedb01420row8_col4\" class=\"data row8 col4\" >-0.01</td>\n",
       "                        <td id=\"T_8f836eee_8f2e_11ea_a738_c49dedb01420row8_col5\" class=\"data row8 col5\" >-0.03</td>\n",
       "                        <td id=\"T_8f836eee_8f2e_11ea_a738_c49dedb01420row8_col6\" class=\"data row8 col6\" >0.03</td>\n",
       "                        <td id=\"T_8f836eee_8f2e_11ea_a738_c49dedb01420row8_col7\" class=\"data row8 col7\" >-0.01</td>\n",
       "                        <td id=\"T_8f836eee_8f2e_11ea_a738_c49dedb01420row8_col8\" class=\"data row8 col8\" >1.00</td>\n",
       "                        <td id=\"T_8f836eee_8f2e_11ea_a738_c49dedb01420row8_col9\" class=\"data row8 col9\" >0.34</td>\n",
       "                        <td id=\"T_8f836eee_8f2e_11ea_a738_c49dedb01420row8_col10\" class=\"data row8 col10\" >0.28</td>\n",
       "            </tr>\n",
       "            <tr>\n",
       "                        <th id=\"T_8f836eee_8f2e_11ea_a738_c49dedb01420level0_row9\" class=\"row_heading level0 row9\" >AVE_PAY_AMT</th>\n",
       "                        <td id=\"T_8f836eee_8f2e_11ea_a738_c49dedb01420row9_col0\" class=\"data row9 col0\" >0.35</td>\n",
       "                        <td id=\"T_8f836eee_8f2e_11ea_a738_c49dedb01420row9_col1\" class=\"data row9 col1\" >-0.01</td>\n",
       "                        <td id=\"T_8f836eee_8f2e_11ea_a738_c49dedb01420row9_col2\" class=\"data row9 col2\" >0.04</td>\n",
       "                        <td id=\"T_8f836eee_8f2e_11ea_a738_c49dedb01420row9_col3\" class=\"data row9 col3\" >-0.00</td>\n",
       "                        <td id=\"T_8f836eee_8f2e_11ea_a738_c49dedb01420row9_col4\" class=\"data row9 col4\" >0.08</td>\n",
       "                        <td id=\"T_8f836eee_8f2e_11ea_a738_c49dedb01420row9_col5\" class=\"data row9 col5\" >-0.05</td>\n",
       "                        <td id=\"T_8f836eee_8f2e_11ea_a738_c49dedb01420row9_col6\" class=\"data row9 col6\" >-0.05</td>\n",
       "                        <td id=\"T_8f836eee_8f2e_11ea_a738_c49dedb01420row9_col7\" class=\"data row9 col7\" >-0.10</td>\n",
       "                        <td id=\"T_8f836eee_8f2e_11ea_a738_c49dedb01420row9_col8\" class=\"data row9 col8\" >0.34</td>\n",
       "                        <td id=\"T_8f836eee_8f2e_11ea_a738_c49dedb01420row9_col9\" class=\"data row9 col9\" >1.00</td>\n",
       "                        <td id=\"T_8f836eee_8f2e_11ea_a738_c49dedb01420row9_col10\" class=\"data row9 col10\" >-0.07</td>\n",
       "            </tr>\n",
       "            <tr>\n",
       "                        <th id=\"T_8f836eee_8f2e_11ea_a738_c49dedb01420level0_row10\" class=\"row_heading level0 row10\" >PAY_STATUS</th>\n",
       "                        <td id=\"T_8f836eee_8f2e_11ea_a738_c49dedb01420row10_col0\" class=\"data row10 col0\" >-0.32</td>\n",
       "                        <td id=\"T_8f836eee_8f2e_11ea_a738_c49dedb01420row10_col1\" class=\"data row10 col1\" >0.04</td>\n",
       "                        <td id=\"T_8f836eee_8f2e_11ea_a738_c49dedb01420row10_col2\" class=\"data row10 col2\" >-0.06</td>\n",
       "                        <td id=\"T_8f836eee_8f2e_11ea_a738_c49dedb01420row10_col3\" class=\"data row10 col3\" >-0.07</td>\n",
       "                        <td id=\"T_8f836eee_8f2e_11ea_a738_c49dedb01420row10_col4\" class=\"data row10 col4\" >-0.18</td>\n",
       "                        <td id=\"T_8f836eee_8f2e_11ea_a738_c49dedb01420row10_col5\" class=\"data row10 col5\" >0.07</td>\n",
       "                        <td id=\"T_8f836eee_8f2e_11ea_a738_c49dedb01420row10_col6\" class=\"data row10 col6\" >0.13</td>\n",
       "                        <td id=\"T_8f836eee_8f2e_11ea_a738_c49dedb01420row10_col7\" class=\"data row10 col7\" >0.28</td>\n",
       "                        <td id=\"T_8f836eee_8f2e_11ea_a738_c49dedb01420row10_col8\" class=\"data row10 col8\" >0.28</td>\n",
       "                        <td id=\"T_8f836eee_8f2e_11ea_a738_c49dedb01420row10_col9\" class=\"data row10 col9\" >-0.07</td>\n",
       "                        <td id=\"T_8f836eee_8f2e_11ea_a738_c49dedb01420row10_col10\" class=\"data row10 col10\" >1.00</td>\n",
       "            </tr>\n",
       "    </tbody></table>"
      ],
      "text/plain": [
       "<pandas.io.formats.style.Styler at 0x1b402c4a5c8>"
      ]
     },
     "execution_count": 14,
     "metadata": {},
     "output_type": "execute_result"
    }
   ],
   "source": [
    "corrMat2 = credit.corr()\n",
    "corrMat2.style.background_gradient(cmap='coolwarm').set_precision(2)"
   ]
  },
  {
   "cell_type": "markdown",
   "metadata": {},
   "source": [
    "Note that EDucation University and EDUCATION university have high negative correlation. We may consider removing EDUCATION_University because its coeff is lower"
   ]
  },
  {
   "cell_type": "markdown",
   "metadata": {},
   "source": [
    "# Factors affecting Default"
   ]
  },
  {
   "cell_type": "code",
   "execution_count": 15,
   "metadata": {},
   "outputs": [],
   "source": [
    "# conventional way to import seaborn\n",
    "import seaborn as sns\n",
    "\n",
    "# allow plots to appear within the notebook\n",
    "%matplotlib inline"
   ]
  },
  {
   "cell_type": "code",
   "execution_count": 16,
   "metadata": {},
   "outputs": [
    {
     "data": {
      "text/plain": [
       "<seaborn.axisgrid.PairGrid at 0x1b408296d88>"
      ]
     },
     "execution_count": 16,
     "metadata": {},
     "output_type": "execute_result"
    },
    {
     "data": {
      "image/png": "[encoded data removed]",
      "text/plain": [
       "<Figure size 2469.6x504 with 7 Axes>"
      ]
     },
     "metadata": {
      "needs_background": "light"
     },
     "output_type": "display_data"
    }
   ],
   "source": [
    "# visualize the relationship between the features and the response using scatterplots\n",
    "sns.pairplot(credit, x_vars=['MARRIAGE','AGE','AVE_PAY_AMT','AVE_BILL','PAY_STATUS','EDUCATION_graduate school','SEX_female'], y_vars='LIMIT_BAL', height=7, aspect=0.7, kind='reg')"
   ]
  },
  {
   "cell_type": "code",
   "execution_count": 17,
   "metadata": {},
   "outputs": [
    {
     "data": {
      "text/plain": [
       "<seaborn.axisgrid.PairGrid at 0x1b4090e1908>"
      ]
     },
     "execution_count": 17,
     "metadata": {},
     "output_type": "execute_result"
    },
    {
     "data": {
      "image/png": "[encoded data removed]",
      "text/plain": [
       "<Figure size 1058.4x504 with 3 Axes>"
      ]
     },
     "metadata": {
      "needs_background": "light"
     },
     "output_type": "display_data"
    }
   ],
   "source": [
    "# visualize the relationship between the features and the response using scatterplots\n",
    "sns.pairplot(credit, x_vars=['MARRIAGE','EDUCATION_graduate school','SEX_female'], y_vars='LIMIT_BAL', height=7, aspect=0.7, kind='reg')"
   ]
  },
  {
   "cell_type": "markdown",
   "metadata": {},
   "source": [
    "Gender is relatively flat"
   ]
  },
  {
   "cell_type": "markdown",
   "metadata": {},
   "source": [
    "# Setting up features and target"
   ]
  },
  {
   "cell_type": "code",
   "execution_count": 18,
   "metadata": {},
   "outputs": [],
   "source": [
    "# create a Python list of feature names\n",
    "feature_cols = ['AVE_PAY_AMT','AVE_BILL','PAY_STATUS','MARRIAGE','AGE','EDUCATION_graduate school','EDUCATION_university','EDUCATION_high school','SEX_female','default payment next month_default']\n",
    "feature_col1 = ['AVE_PAY_AMT','AVE_BILL','PAY_STATUS','MARRIAGE','AGE','EDUCATION_graduate school','EDUCATION_high school','default payment next month_default','SEX_female']\n",
    "feature_col2 = ['AVE_PAY_AMT','AVE_BILL','PAY_STATUS','MARRIAGE','EDUCATION_graduate school','EDUCATION_high school','SEX_female','default payment next month_default']"
   ]
  },
  {
   "cell_type": "code",
   "execution_count": 19,
   "metadata": {},
   "outputs": [],
   "source": [
    "# use the list to select a subset of the original DataFrame\n",
    "X = credit[feature_cols]\n",
    "X1 = credit[feature_col1]\n",
    "X2 = credit[feature_col2]"
   ]
  },
  {
   "cell_type": "code",
   "execution_count": 20,
   "metadata": {},
   "outputs": [
    {
     "name": "stdout",
     "output_type": "stream",
     "text": [
      "<class 'pandas.core.frame.DataFrame'>\n",
      "(30000, 10)\n"
     ]
    }
   ],
   "source": [
    "# check the type and shape of X\n",
    "print(type(X))\n",
    "print(X.shape)"
   ]
  },
  {
   "cell_type": "code",
   "execution_count": 21,
   "metadata": {},
   "outputs": [
    {
     "data": {
      "text/plain": [
       "0     20000\n",
       "1    120000\n",
       "2     90000\n",
       "3     50000\n",
       "4     50000\n",
       "Name: LIMIT_BAL, dtype: int64"
      ]
     },
     "execution_count": 21,
     "metadata": {},
     "output_type": "execute_result"
    }
   ],
   "source": [
    "# select a Series from the DataFrame\n",
    "y = credit['LIMIT_BAL']\n",
    "y1= credit['LIMIT_BAL']\n",
    "y2 = credit['LIMIT_BAL']\n",
    "# print the first 5 values\n",
    "y.head()"
   ]
  },
  {
   "cell_type": "code",
   "execution_count": 22,
   "metadata": {},
   "outputs": [
    {
     "name": "stdout",
     "output_type": "stream",
     "text": [
      "<class 'pandas.core.series.Series'>\n",
      "(30000,)\n"
     ]
    }
   ],
   "source": [
    "# check the type and shape of y\n",
    "print(type(y))\n",
    "print(y.shape)"
   ]
  },
  {
   "cell_type": "markdown",
   "metadata": {},
   "source": [
    "# Splitting X and y into training and testing sets"
   ]
  },
  {
   "cell_type": "code",
   "execution_count": 23,
   "metadata": {},
   "outputs": [],
   "source": [
    "from sklearn.model_selection import train_test_split\n",
    "X_train, X_test, y_train, y_test = train_test_split(X, y, random_state=123)\n",
    "X1_train, X1_test, y1_train, y1_test = train_test_split(X1, y1, random_state=13)\n",
    "X2_train, X2_test, y2_train, y2_test = train_test_split(X2, y2, random_state=14)"
   ]
  },
  {
   "cell_type": "code",
   "execution_count": 24,
   "metadata": {},
   "outputs": [
    {
     "name": "stdout",
     "output_type": "stream",
     "text": [
      "(22500, 10) (22500,)\n",
      "(7500, 10) (22500,)\n",
      "(22500, 9) (22500,)\n",
      "(7500, 9) (22500,)\n",
      "(22500, 8) (22500,)\n",
      "(7500, 8) (22500,)\n"
     ]
    }
   ],
   "source": [
    "# default split is 75% for training and 25% for testing\n",
    "print(X_train.shape, y_train.shape)\n",
    "print(X_test.shape, y_train.shape)\n",
    "print(X1_train.shape, y1_train.shape)\n",
    "print(X1_test.shape, y1_train.shape)\n",
    "print(X2_train.shape, y2_train.shape)\n",
    "print(X2_test.shape, y2_train.shape)"
   ]
  },
  {
   "cell_type": "markdown",
   "metadata": {},
   "source": [
    "# Run Linear regression in scikit-learn"
   ]
  },
  {
   "cell_type": "code",
   "execution_count": 25,
   "metadata": {},
   "outputs": [
    {
     "data": {
      "text/plain": [
       "LinearRegression(copy_X=True, fit_intercept=True, n_jobs=None, normalize=False)"
      ]
     },
     "execution_count": 25,
     "metadata": {},
     "output_type": "execute_result"
    }
   ],
   "source": [
    "from sklearn.linear_model import LinearRegression\n",
    "\n",
    "# instantiate\n",
    "linreg = LinearRegression()\n",
    "\n",
    "# fit the model to the training data (learn the coefficients)\n",
    "linreg.fit(X_train, y_train)"
   ]
  },
  {
   "cell_type": "code",
   "execution_count": 26,
   "metadata": {},
   "outputs": [
    {
     "name": "stdout",
     "output_type": "stream",
     "text": [
      "167517.8750006264\n",
      "[  2442.97331657    664.06603919  -7504.37350284 -20115.96225011\n",
      "   1460.44815705  53793.25300452   2617.97413815 -22236.29622965\n",
      "   5921.1169116   -6245.73325947]\n"
     ]
    }
   ],
   "source": [
    "# print the intercept and coefficients\n",
    "print(linreg.intercept_)\n",
    "print(linreg.coef_)"
   ]
  },
  {
   "cell_type": "code",
   "execution_count": 27,
   "metadata": {},
   "outputs": [
    {
     "data": {
      "text/plain": [
       "[('AVE_PAY_AMT', 2442.9733165716175),\n",
       " ('AVE_BILL', 664.0660391861727),\n",
       " ('PAY_STATUS', -7504.373502837002),\n",
       " ('MARRIAGE', -20115.96225011451),\n",
       " ('AGE', 1460.4481570501139),\n",
       " ('EDUCATION_graduate school', 53793.253004521226),\n",
       " ('EDUCATION_university', 2617.974138145262),\n",
       " ('EDUCATION_high school', -22236.296229653293),\n",
       " ('SEX_female', 5921.11691160006),\n",
       " ('default payment next month_default', -6245.733259473552)]"
      ]
     },
     "execution_count": 27,
     "metadata": {},
     "output_type": "execute_result"
    }
   ],
   "source": [
    "# pair the feature names with the coefficients\n",
    "list(zip(feature_cols, linreg.coef_))"
   ]
  },
  {
   "cell_type": "code",
   "execution_count": 28,
   "metadata": {},
   "outputs": [],
   "source": [
    "# make predictions on the testing set\n",
    "y_pred = linreg.predict(X_test)"
   ]
  },
  {
   "cell_type": "markdown",
   "metadata": {},
   "source": [
    "# Evaluate Regression Model using Mean Absolute Error (MAE), Mean Squared Error (MSE) and Root Mean Squared Error (RMSE)"
   ]
  },
  {
   "cell_type": "code",
   "execution_count": 29,
   "metadata": {},
   "outputs": [
    {
     "name": "stdout",
     "output_type": "stream",
     "text": [
      "78704.11504989049\n"
     ]
    }
   ],
   "source": [
    "# calculate MAE using scikit-learn\n",
    "from sklearn import metrics\n",
    "print(metrics.mean_absolute_error(y_test, y_pred))"
   ]
  },
  {
   "cell_type": "code",
   "execution_count": 30,
   "metadata": {},
   "outputs": [
    {
     "name": "stdout",
     "output_type": "stream",
     "text": [
      "10612576340.99368\n"
     ]
    }
   ],
   "source": [
    "# calculate MSE using scikit-learn\n",
    "print(metrics.mean_squared_error(y_test, y_pred))"
   ]
  },
  {
   "cell_type": "code",
   "execution_count": 31,
   "metadata": {},
   "outputs": [
    {
     "name": "stdout",
     "output_type": "stream",
     "text": [
      "103017.35941574934\n"
     ]
    }
   ],
   "source": [
    "# calculate RMSE using scikit-learn\n",
    "\n",
    "print(np.sqrt(metrics.mean_squared_error(y_test, y_pred)))"
   ]
  },
  {
   "cell_type": "code",
   "execution_count": 32,
   "metadata": {},
   "outputs": [
    {
     "data": {
      "text/plain": [
       "0.3577108685498297"
      ]
     },
     "execution_count": 32,
     "metadata": {},
     "output_type": "execute_result"
    }
   ],
   "source": [
    "from sklearn.metrics import r2_score\n",
    "r2_score(y_test, y_pred, multioutput='variance_weighted')"
   ]
  },
  {
   "cell_type": "markdown",
   "metadata": {},
   "source": [
    "R-square is 0.36 implies this model does not fit well."
   ]
  },
  {
   "cell_type": "code",
   "execution_count": 33,
   "metadata": {},
   "outputs": [],
   "source": [
    "linreg.fit(X1_train, y1_train)\n",
    "y1_pred = linreg.predict(X1_test)"
   ]
  },
  {
   "cell_type": "code",
   "execution_count": 34,
   "metadata": {},
   "outputs": [
    {
     "name": "stdout",
     "output_type": "stream",
     "text": [
      "80872.26664427384 11570507136.619955 107566.29182332147 0.31346492390649894\n"
     ]
    }
   ],
   "source": [
    "y1_mae = metrics.mean_absolute_error(y1_test, y1_pred)\n",
    "y1_mse = metrics.mean_squared_error(y1_test, y1_pred)\n",
    "y1_rmse = np.sqrt(metrics.mean_squared_error(y1_test, y1_pred))\n",
    "y1_r2 = r2_score(y1_test, y1_pred, multioutput='variance_weighted')\n",
    "print(y1_mae, y1_mse,y1_rmse, y1_r2)"
   ]
  },
  {
   "cell_type": "code",
   "execution_count": 35,
   "metadata": {},
   "outputs": [],
   "source": [
    "linreg.fit(X2_train, y2_train)\n",
    "y2_pred = linreg.predict(X2_test)"
   ]
  },
  {
   "cell_type": "code",
   "execution_count": 36,
   "metadata": {},
   "outputs": [
    {
     "name": "stdout",
     "output_type": "stream",
     "text": [
      "80319.72943030825 11049250489.086275 105115.41508782751 0.349006906666132\n"
     ]
    }
   ],
   "source": [
    "y2_mae = metrics.mean_absolute_error(y2_test, y2_pred)\n",
    "y2_mse = metrics.mean_squared_error(y2_test, y2_pred)\n",
    "y2_rmse = np.sqrt(metrics.mean_squared_error(y2_test, y2_pred))\n",
    "y2_r2 = r2_score(y2_test, y2_pred, multioutput='variance_weighted')\n",
    "print(y2_mae, y2_mse,y2_rmse, y2_r2)"
   ]
  },
  {
   "cell_type": "markdown",
   "metadata": {},
   "source": [
    "Compare r-square, mae, rmse of the 3 models. the first one is the best out of the three. But it is still not good."
   ]
  },
  {
   "cell_type": "code",
   "execution_count": 37,
   "metadata": {},
   "outputs": [
    {
     "name": "stdout",
     "output_type": "stream",
     "text": [
      "-10892261665.71806\n"
     ]
    }
   ],
   "source": [
    "from sklearn.model_selection import cross_val_score\n",
    "linreg = LinearRegression()\n",
    "MSEs = cross_val_score(linreg, X1, y, scoring=('neg_mean_squared_error'),cv=5)\n",
    "mean_MSE=np.mean(MSEs)\n",
    "print(mean_MSE)"
   ]
  },
  {
   "cell_type": "code",
   "execution_count": 38,
   "metadata": {},
   "outputs": [
    {
     "name": "stdout",
     "output_type": "stream",
     "text": [
      "0.34332557518029005\n"
     ]
    }
   ],
   "source": [
    "from sklearn.model_selection import cross_val_score\n",
    "linreg = LinearRegression()\n",
    "MSEs = cross_val_score(linreg, X2, y, scoring=('r2'),cv=5)\n",
    "mean_MSE=np.mean(MSEs)\n",
    "print(mean_MSE)"
   ]
  },
  {
   "cell_type": "markdown",
   "metadata": {},
   "source": [
    "No better than default regression"
   ]
  },
  {
   "cell_type": "code",
   "execution_count": 39,
   "metadata": {},
   "outputs": [
    {
     "name": "stdout",
     "output_type": "stream",
     "text": [
      "-10892770604.934078\n"
     ]
    }
   ],
   "source": [
    "from sklearn.model_selection import cross_val_score\n",
    "linreg = LinearRegression()\n",
    "MSEs = cross_val_score(linreg, X, y, scoring=('neg_mean_squared_error'),cv=5)\n",
    "mean_MSE=np.mean(MSEs)\n",
    "print(mean_MSE)"
   ]
  },
  {
   "cell_type": "markdown",
   "metadata": {},
   "source": [
    "# LASSO - Least Absolute Shrinkage and Selection Operator"
   ]
  },
  {
   "cell_type": "markdown",
   "metadata": {},
   "source": [
    "The Lasso is a linear model that estimates sparse coefficients. It is useful in some contexts due to its tendency to prefer solutions with fewer non-zero coefficients, effectively reducing the number of features upon which the given solution is dependent."
   ]
  },
  {
   "cell_type": "code",
   "execution_count": 40,
   "metadata": {},
   "outputs": [],
   "source": [
    "from sklearn import linear_model\n",
    "lm_lasso = linear_model.Lasso(alpha=0.1)"
   ]
  },
  {
   "cell_type": "code",
   "execution_count": 41,
   "metadata": {},
   "outputs": [
    {
     "data": {
      "text/plain": [
       "Lasso(alpha=0.1, copy_X=True, fit_intercept=True, max_iter=1000,\n",
       "      normalize=False, positive=False, precompute=False, random_state=None,\n",
       "      selection='cyclic', tol=0.0001, warm_start=False)"
      ]
     },
     "execution_count": 41,
     "metadata": {},
     "output_type": "execute_result"
    }
   ],
   "source": [
    "lm_lasso.fit(X_train, y_train)"
   ]
  },
  {
   "cell_type": "code",
   "execution_count": 42,
   "metadata": {},
   "outputs": [
    {
     "data": {
      "text/plain": [
       "[('AVE_PAY_AMT', 2442.97462462358),\n",
       " ('AVE_BILL', 664.0665122376967),\n",
       " ('PAY_STATUS', -7504.3912856595425),\n",
       " ('MARRIAGE', -20115.52675796515),\n",
       " ('AGE', 1460.4457337449005),\n",
       " ('EDUCATION_graduate school', 53790.56687228947),\n",
       " ('EDUCATION_university', 2615.341000998596),\n",
       " ('EDUCATION_high school', -22238.096760530872),\n",
       " ('SEX_female', 5920.721462715296),\n",
       " ('default payment next month_default', -6245.083169772157)]"
      ]
     },
     "execution_count": 42,
     "metadata": {},
     "output_type": "execute_result"
    }
   ],
   "source": [
    "# pair the feature names with the coefficients\n",
    "list(zip(feature_cols, lm_lasso.coef_))"
   ]
  },
  {
   "cell_type": "code",
   "execution_count": 43,
   "metadata": {},
   "outputs": [],
   "source": [
    "y_lasso_pred =lm_lasso.predict(X_test)"
   ]
  },
  {
   "cell_type": "code",
   "execution_count": 44,
   "metadata": {},
   "outputs": [
    {
     "name": "stdout",
     "output_type": "stream",
     "text": [
      "78704.11280462176\n"
     ]
    }
   ],
   "source": [
    "# calculate MAE using scikit-learn\n",
    "print(metrics.mean_absolute_error(y_test, y_lasso_pred))"
   ]
  },
  {
   "cell_type": "code",
   "execution_count": 45,
   "metadata": {},
   "outputs": [
    {
     "name": "stdout",
     "output_type": "stream",
     "text": [
      "10612574991.583458\n"
     ]
    }
   ],
   "source": [
    "# calculate MSE using scikit-learn\n",
    "print(metrics.mean_squared_error(y_test, y_lasso_pred))"
   ]
  },
  {
   "cell_type": "code",
   "execution_count": 46,
   "metadata": {},
   "outputs": [
    {
     "name": "stdout",
     "output_type": "stream",
     "text": [
      "103017.3528663179\n"
     ]
    }
   ],
   "source": [
    "# calculate RMSE using scikit-learn\n",
    "print(np.sqrt(metrics.mean_squared_error(y_test, y_lasso_pred)))"
   ]
  },
  {
   "cell_type": "code",
   "execution_count": 47,
   "metadata": {},
   "outputs": [
    {
     "data": {
      "text/plain": [
       "0.3577109502181721"
      ]
     },
     "execution_count": 47,
     "metadata": {},
     "output_type": "execute_result"
    }
   ],
   "source": [
    "from sklearn.metrics import r2_score\n",
    "r2_score(y_test, y_lasso_pred, multioutput='variance_weighted')"
   ]
  },
  {
   "cell_type": "markdown",
   "metadata": {},
   "source": [
    "Not much different when run LASSO or Linear Regression using default parameters."
   ]
  },
  {
   "cell_type": "code",
   "execution_count": 48,
   "metadata": {},
   "outputs": [
    {
     "name": "stdout",
     "output_type": "stream",
     "text": [
      "[1, 2, 3, 4, 5, 6, 7, 8, 9, 10, 11, 12, 13, 14, 15, 16, 17, 18, 19, 20, 21, 22, 23, 24, 25, 26, 27, 28, 29, 30] [78704.11504989049, 78704.11504989049, 78704.11504989049, 78704.11504989049, 78704.11504989049, 78704.11504989049, 78704.11504989049, 78704.11504989049, 78704.11504989049, 78704.11504989049, 78704.11504989049, 78704.11504989049, 78704.11504989049, 78704.11504989049, 78704.11504989049, 78704.11504989049, 78704.11504989049, 78704.11504989049, 78704.11504989049, 78704.11504989049, 78704.11504989049, 78704.11504989049, 78704.11504989049, 78704.11504989049, 78704.11504989049, 78704.11504989049, 78704.11504989049, 78704.11504989049, 78704.11504989049, 78704.11504989049] [0.3577108685498297, 0.3577108685498297, 0.3577108685498297, 0.3577108685498297, 0.3577108685498297, 0.3577108685498297, 0.3577108685498297, 0.3577108685498297, 0.3577108685498297, 0.3577108685498297, 0.3577108685498297, 0.3577108685498297, 0.3577108685498297, 0.3577108685498297, 0.3577108685498297, 0.3577108685498297, 0.3577108685498297, 0.3577108685498297, 0.3577108685498297, 0.3577108685498297, 0.3577108685498297, 0.3577108685498297, 0.3577108685498297, 0.3577108685498297, 0.3577108685498297, 0.3577108685498297, 0.3577108685498297, 0.3577108685498297, 0.3577108685498297, 0.3577108685498297]\n"
     ]
    }
   ],
   "source": [
    "# search for an optimal value of n_job  for linear regression\n",
    "n_range = list(range(1, 31))\n",
    "n_mae = []\n",
    "n_r2 = []\n",
    "for n in n_range:\n",
    "    linreg = LinearRegression(n_jobs=n)\n",
    "    linreg.fit(X_train, y_train)\n",
    "    y_pred = linreg.predict(X_test)\n",
    "    mae = metrics.mean_absolute_error(y_test, y_pred)\n",
    "    r2 = r2_score(y_test, y_pred, multioutput='variance_weighted')\n",
    "    n_mae.append(mae)\n",
    "    n_r2.append(r2)\n",
    "print(n_range,n_mae,n_r2)"
   ]
  },
  {
   "cell_type": "code",
   "execution_count": 49,
   "metadata": {},
   "outputs": [
    {
     "data": {
      "text/plain": [
       "Text(0, 0.5, 'Mean Absolute Error')"
      ]
     },
     "execution_count": 49,
     "metadata": {},
     "output_type": "execute_result"
    },
    {
     "data": {
      "image/png": "[encoded data removed]",
      "text/plain": [
       "<Figure size 432x288 with 1 Axes>"
      ]
     },
     "metadata": {
      "needs_background": "light"
     },
     "output_type": "display_data"
    }
   ],
   "source": [
    "# import Matplotlib (scientific plotting library)\n",
    "import matplotlib.pyplot as plt\n",
    "\n",
    "# allow plots to appear within the notebook\n",
    "%matplotlib inline\n",
    "#plot the value of n for n-job(x-axis) versus the mae (y-axis)\n",
    "plt.plot(n_range, n_mae)\n",
    "plt.xlabel('Value of n for n_job')\n",
    "plt.ylabel('Mean Absolute Error')"
   ]
  },
  {
   "cell_type": "markdown",
   "metadata": {},
   "source": [
    "Note that no change in MAE with diffenent n for n_job"
   ]
  },
  {
   "cell_type": "code",
   "execution_count": 50,
   "metadata": {},
   "outputs": [
    {
     "data": {
      "text/plain": [
       "Text(0, 0.5, 'R-Square')"
      ]
     },
     "execution_count": 50,
     "metadata": {},
     "output_type": "execute_result"
    },
    {
     "data": {
      "image/png": "[encoded data removed]",
      "text/plain": [
       "<Figure size 432x288 with 1 Axes>"
      ]
     },
     "metadata": {
      "needs_background": "light"
     },
     "output_type": "display_data"
    }
   ],
   "source": [
    "#plot the value of n for n-job(x-axis) versus the mae (y-axis)\n",
    "plt.plot(n_range, n_r2)\n",
    "plt.xlabel('Value of n for n_job')\n",
    "plt.ylabel('R-Square')"
   ]
  },
  {
   "cell_type": "markdown",
   "metadata": {},
   "source": [
    "No change in R2 for the different n"
   ]
  },
  {
   "cell_type": "markdown",
   "metadata": {},
   "source": [
    "# Ridge regression and classification"
   ]
  },
  {
   "cell_type": "code",
   "execution_count": 51,
   "metadata": {},
   "outputs": [],
   "source": [
    "# Bayesian Ridge Regression is used for regression:\n",
    "bayesridge= linear_model.BayesianRidge()"
   ]
  },
  {
   "cell_type": "code",
   "execution_count": 52,
   "metadata": {},
   "outputs": [
    {
     "data": {
      "text/plain": [
       "BayesianRidge(alpha_1=1e-06, alpha_2=1e-06, alpha_init=None,\n",
       "              compute_score=False, copy_X=True, fit_intercept=True,\n",
       "              lambda_1=1e-06, lambda_2=1e-06, lambda_init=None, n_iter=300,\n",
       "              normalize=False, tol=0.001, verbose=False)"
      ]
     },
     "execution_count": 52,
     "metadata": {},
     "output_type": "execute_result"
    }
   ],
   "source": [
    "bayesridge.fit(X_train, y_train)"
   ]
  },
  {
   "cell_type": "code",
   "execution_count": 53,
   "metadata": {},
   "outputs": [],
   "source": [
    "y_bayesridge_pred =bayesridge.predict(X_test)"
   ]
  },
  {
   "cell_type": "code",
   "execution_count": 54,
   "metadata": {},
   "outputs": [
    {
     "name": "stdout",
     "output_type": "stream",
     "text": [
      "78700.3100577624\n"
     ]
    }
   ],
   "source": [
    "# calculate MAE using scikit-learn\n",
    "print(metrics.mean_absolute_error(y_test, y_bayesridge_pred))"
   ]
  },
  {
   "cell_type": "markdown",
   "metadata": {},
   "source": [
    "MAE from Bayesian Ridge Regression is higher than MAE from Linear Regression and LASSO"
   ]
  },
  {
   "cell_type": "code",
   "execution_count": 55,
   "metadata": {},
   "outputs": [
    {
     "data": {
      "text/plain": [
       "0.3577883508169054"
      ]
     },
     "execution_count": 55,
     "metadata": {},
     "output_type": "execute_result"
    }
   ],
   "source": [
    "r2_score(y_test, y_bayesridge_pred, multioutput='variance_weighted')"
   ]
  },
  {
   "cell_type": "markdown",
   "metadata": {},
   "source": [
    " Fitting data using Bayesian Ridge Regression resulting R-square much lower than R-squares obtained by Linear Regression and LASSO"
   ]
  },
  {
   "cell_type": "markdown",
   "metadata": {},
   "source": [
    "# looking only at the default cases"
   ]
  },
  {
   "cell_type": "code",
   "execution_count": 56,
   "metadata": {},
   "outputs": [],
   "source": [
    "# drop those have credit defaulted. \n",
    "creditdefault  = credit.copy()\n",
    "# Get names of indexes for which column default_payment_next_month_default has value 0\n",
    "indexNames = creditdefault[creditdefault['default payment next month_default'] == 0].index\n",
    "# Delete these row indexes from dataFrame\n",
    "creditdefault.drop(indexNames , inplace=True)"
   ]
  },
  {
   "cell_type": "code",
   "execution_count": 60,
   "metadata": {},
   "outputs": [],
   "source": [
    "# create a Python list of feature names\n",
    "default_feature_cols = ['AVE_PAY_AMT','AVE_BILL','PAY_STATUS','MARRIAGE','AGE','EDUCATION_graduate school','SEX_female','EDUCATION_university','EDUCATION_high school']"
   ]
  },
  {
   "cell_type": "code",
   "execution_count": 61,
   "metadata": {},
   "outputs": [
    {
     "data": {
      "text/html": [
       "<div>\n",
       "<style scoped>\n",
       "    .dataframe tbody tr th:only-of-type {\n",
       "        vertical-align: middle;\n",
       "    }\n",
       "\n",
       "    .dataframe tbody tr th {\n",
       "        vertical-align: top;\n",
       "    }\n",
       "\n",
       "    .dataframe thead th {\n",
       "        text-align: right;\n",
       "    }\n",
       "</style>\n",
       "<table border=\"1\" class=\"dataframe\">\n",
       "  <thead>\n",
       "    <tr style=\"text-align: right;\">\n",
       "      <th></th>\n",
       "      <th>LIMIT_BAL</th>\n",
       "      <th>MARRIAGE</th>\n",
       "      <th>AGE</th>\n",
       "      <th>SEX_female</th>\n",
       "      <th>EDUCATION_graduate school</th>\n",
       "      <th>EDUCATION_high school</th>\n",
       "      <th>EDUCATION_university</th>\n",
       "      <th>default payment next month_default</th>\n",
       "      <th>AVE_BILL</th>\n",
       "      <th>AVE_PAY_AMT</th>\n",
       "      <th>PAY_STATUS</th>\n",
       "    </tr>\n",
       "  </thead>\n",
       "  <tbody>\n",
       "    <tr>\n",
       "      <th>0</th>\n",
       "      <td>20000</td>\n",
       "      <td>1</td>\n",
       "      <td>24</td>\n",
       "      <td>1</td>\n",
       "      <td>0</td>\n",
       "      <td>0</td>\n",
       "      <td>1</td>\n",
       "      <td>1</td>\n",
       "      <td>1.284000</td>\n",
       "      <td>0.114833</td>\n",
       "      <td>10</td>\n",
       "    </tr>\n",
       "    <tr>\n",
       "      <th>1</th>\n",
       "      <td>120000</td>\n",
       "      <td>2</td>\n",
       "      <td>26</td>\n",
       "      <td>1</td>\n",
       "      <td>0</td>\n",
       "      <td>0</td>\n",
       "      <td>1</td>\n",
       "      <td>1</td>\n",
       "      <td>2.846167</td>\n",
       "      <td>0.833333</td>\n",
       "      <td>15</td>\n",
       "    </tr>\n",
       "    <tr>\n",
       "      <th>13</th>\n",
       "      <td>70000</td>\n",
       "      <td>2</td>\n",
       "      <td>30</td>\n",
       "      <td>0</td>\n",
       "      <td>0</td>\n",
       "      <td>0</td>\n",
       "      <td>1</td>\n",
       "      <td>1</td>\n",
       "      <td>56.447500</td>\n",
       "      <td>1.783333</td>\n",
       "      <td>19</td>\n",
       "    </tr>\n",
       "    <tr>\n",
       "      <th>16</th>\n",
       "      <td>20000</td>\n",
       "      <td>2</td>\n",
       "      <td>24</td>\n",
       "      <td>0</td>\n",
       "      <td>1</td>\n",
       "      <td>0</td>\n",
       "      <td>0</td>\n",
       "      <td>1</td>\n",
       "      <td>17.693500</td>\n",
       "      <td>1.058333</td>\n",
       "      <td>20</td>\n",
       "    </tr>\n",
       "    <tr>\n",
       "      <th>21</th>\n",
       "      <td>120000</td>\n",
       "      <td>1</td>\n",
       "      <td>39</td>\n",
       "      <td>1</td>\n",
       "      <td>0</td>\n",
       "      <td>0</td>\n",
       "      <td>1</td>\n",
       "      <td>1</td>\n",
       "      <td>0.316000</td>\n",
       "      <td>0.263333</td>\n",
       "      <td>6</td>\n",
       "    </tr>\n",
       "  </tbody>\n",
       "</table>\n",
       "</div>"
      ],
      "text/plain": [
       "    LIMIT_BAL  MARRIAGE  AGE  SEX_female  EDUCATION_graduate school  \\\n",
       "0       20000         1   24           1                          0   \n",
       "1      120000         2   26           1                          0   \n",
       "13      70000         2   30           0                          0   \n",
       "16      20000         2   24           0                          1   \n",
       "21     120000         1   39           1                          0   \n",
       "\n",
       "    EDUCATION_high school  EDUCATION_university  \\\n",
       "0                       0                     1   \n",
       "1                       0                     1   \n",
       "13                      0                     1   \n",
       "16                      0                     0   \n",
       "21                      0                     1   \n",
       "\n",
       "    default payment next month_default   AVE_BILL  AVE_PAY_AMT  PAY_STATUS  \n",
       "0                                    1   1.284000     0.114833          10  \n",
       "1                                    1   2.846167     0.833333          15  \n",
       "13                                   1  56.447500     1.783333          19  \n",
       "16                                   1  17.693500     1.058333          20  \n",
       "21                                   1   0.316000     0.263333           6  "
      ]
     },
     "execution_count": 61,
     "metadata": {},
     "output_type": "execute_result"
    }
   ],
   "source": [
    "creditdefault.head(5)"
   ]
  },
  {
   "cell_type": "code",
   "execution_count": 62,
   "metadata": {},
   "outputs": [
    {
     "data": {
      "text/html": [
       "<div>\n",
       "<style scoped>\n",
       "    .dataframe tbody tr th:only-of-type {\n",
       "        vertical-align: middle;\n",
       "    }\n",
       "\n",
       "    .dataframe tbody tr th {\n",
       "        vertical-align: top;\n",
       "    }\n",
       "\n",
       "    .dataframe thead th {\n",
       "        text-align: right;\n",
       "    }\n",
       "</style>\n",
       "<table border=\"1\" class=\"dataframe\">\n",
       "  <thead>\n",
       "    <tr style=\"text-align: right;\">\n",
       "      <th></th>\n",
       "      <th>AVE_PAY_AMT</th>\n",
       "      <th>AVE_BILL</th>\n",
       "      <th>PAY_STATUS</th>\n",
       "      <th>MARRIAGE</th>\n",
       "      <th>AGE</th>\n",
       "      <th>EDUCATION_graduate school</th>\n",
       "      <th>SEX_female</th>\n",
       "      <th>EDUCATION_university</th>\n",
       "      <th>EDUCATION_high school</th>\n",
       "    </tr>\n",
       "  </thead>\n",
       "  <tbody>\n",
       "    <tr>\n",
       "      <th>0</th>\n",
       "      <td>0.114833</td>\n",
       "      <td>1.284000</td>\n",
       "      <td>10</td>\n",
       "      <td>1</td>\n",
       "      <td>24</td>\n",
       "      <td>0</td>\n",
       "      <td>1</td>\n",
       "      <td>1</td>\n",
       "      <td>0</td>\n",
       "    </tr>\n",
       "    <tr>\n",
       "      <th>1</th>\n",
       "      <td>0.833333</td>\n",
       "      <td>2.846167</td>\n",
       "      <td>15</td>\n",
       "      <td>2</td>\n",
       "      <td>26</td>\n",
       "      <td>0</td>\n",
       "      <td>1</td>\n",
       "      <td>1</td>\n",
       "      <td>0</td>\n",
       "    </tr>\n",
       "    <tr>\n",
       "      <th>13</th>\n",
       "      <td>1.783333</td>\n",
       "      <td>56.447500</td>\n",
       "      <td>19</td>\n",
       "      <td>2</td>\n",
       "      <td>30</td>\n",
       "      <td>0</td>\n",
       "      <td>0</td>\n",
       "      <td>1</td>\n",
       "      <td>0</td>\n",
       "    </tr>\n",
       "    <tr>\n",
       "      <th>16</th>\n",
       "      <td>1.058333</td>\n",
       "      <td>17.693500</td>\n",
       "      <td>20</td>\n",
       "      <td>2</td>\n",
       "      <td>24</td>\n",
       "      <td>1</td>\n",
       "      <td>0</td>\n",
       "      <td>0</td>\n",
       "      <td>0</td>\n",
       "    </tr>\n",
       "    <tr>\n",
       "      <th>21</th>\n",
       "      <td>0.263333</td>\n",
       "      <td>0.316000</td>\n",
       "      <td>6</td>\n",
       "      <td>1</td>\n",
       "      <td>39</td>\n",
       "      <td>0</td>\n",
       "      <td>1</td>\n",
       "      <td>1</td>\n",
       "      <td>0</td>\n",
       "    </tr>\n",
       "  </tbody>\n",
       "</table>\n",
       "</div>"
      ],
      "text/plain": [
       "    AVE_PAY_AMT   AVE_BILL  PAY_STATUS  MARRIAGE  AGE  \\\n",
       "0      0.114833   1.284000          10         1   24   \n",
       "1      0.833333   2.846167          15         2   26   \n",
       "13     1.783333  56.447500          19         2   30   \n",
       "16     1.058333  17.693500          20         2   24   \n",
       "21     0.263333   0.316000           6         1   39   \n",
       "\n",
       "    EDUCATION_graduate school  SEX_female  EDUCATION_university  \\\n",
       "0                           0           1                     1   \n",
       "1                           0           1                     1   \n",
       "13                          0           0                     1   \n",
       "16                          1           0                     0   \n",
       "21                          0           1                     1   \n",
       "\n",
       "    EDUCATION_high school  \n",
       "0                       0  \n",
       "1                       0  \n",
       "13                      0  \n",
       "16                      0  \n",
       "21                      0  "
      ]
     },
     "execution_count": 62,
     "metadata": {},
     "output_type": "execute_result"
    }
   ],
   "source": [
    "# use the list to select a subset of the original DataFrame\n",
    "X_default = creditdefault[default_feature_cols]\n",
    "# print the first 5 rows\n",
    "X_default.head()\n"
   ]
  },
  {
   "cell_type": "code",
   "execution_count": 63,
   "metadata": {},
   "outputs": [
    {
     "data": {
      "text/plain": [
       "0      20000\n",
       "1     120000\n",
       "13     70000\n",
       "16     20000\n",
       "21    120000\n",
       "Name: LIMIT_BAL, dtype: int64"
      ]
     },
     "execution_count": 63,
     "metadata": {},
     "output_type": "execute_result"
    }
   ],
   "source": [
    "# select a Series from the DataFrame\n",
    "y_default = creditdefault['LIMIT_BAL']\n",
    "# print the first 5 values\n",
    "y_default.head()"
   ]
  },
  {
   "cell_type": "code",
   "execution_count": 64,
   "metadata": {},
   "outputs": [
    {
     "data": {
      "text/plain": [
       "LinearRegression(copy_X=True, fit_intercept=True, n_jobs=30, normalize=False)"
      ]
     },
     "execution_count": 64,
     "metadata": {},
     "output_type": "execute_result"
    }
   ],
   "source": [
    "Xd_train, Xd_test, yd_train, yd_test = train_test_split(X_default, y_default, random_state=123)\n",
    "\n",
    "# fit the model to the training data (learn the coefficients)\n",
    "linreg.fit(Xd_train, yd_train)"
   ]
  },
  {
   "cell_type": "code",
   "execution_count": 65,
   "metadata": {},
   "outputs": [
    {
     "name": "stdout",
     "output_type": "stream",
     "text": [
      "102142.24572807782\n",
      "[  2626.46404232    651.88390353  -5712.38705324 -18109.89996492\n",
      "   1459.17129459  82916.88924339   7484.07202225  30270.25743562\n",
      "  11533.23597756]\n"
     ]
    }
   ],
   "source": [
    "# print the intercept and coefficients\n",
    "print(linreg.intercept_)\n",
    "print(linreg.coef_)"
   ]
  },
  {
   "cell_type": "code",
   "execution_count": 66,
   "metadata": {},
   "outputs": [
    {
     "data": {
      "text/plain": [
       "[('AVE_PAY_AMT', 2626.464042322803),\n",
       " ('AVE_BILL', 651.8839035298056),\n",
       " ('PAY_STATUS', -5712.387053238252),\n",
       " ('MARRIAGE', -18109.8999649163),\n",
       " ('AGE', 1459.1712945905235),\n",
       " ('EDUCATION_graduate school', 82916.88924339131),\n",
       " ('EDUCATION_university', 7484.072022247031),\n",
       " ('EDUCATION_high school', 30270.257435624255),\n",
       " ('SEX_female', 11533.235977563823)]"
      ]
     },
     "execution_count": 66,
     "metadata": {},
     "output_type": "execute_result"
    }
   ],
   "source": [
    "# pair the feature names with the coefficients\n",
    "list(zip(feature_cols, linreg.coef_))"
   ]
  },
  {
   "cell_type": "code",
   "execution_count": 67,
   "metadata": {},
   "outputs": [],
   "source": [
    "# make predictions on the testing set\n",
    "yd_pred = linreg.predict(Xd_test)"
   ]
  },
  {
   "cell_type": "code",
   "execution_count": 68,
   "metadata": {},
   "outputs": [
    {
     "name": "stdout",
     "output_type": "stream",
     "text": [
      "64892.31506594467\n"
     ]
    }
   ],
   "source": [
    "# calculate MAE using scikit-learn\n",
    "from sklearn import metrics\n",
    "print(metrics.mean_absolute_error(yd_test, yd_pred))"
   ]
  },
  {
   "cell_type": "code",
   "execution_count": 69,
   "metadata": {},
   "outputs": [
    {
     "name": "stdout",
     "output_type": "stream",
     "text": [
      "7910119093.621009\n"
     ]
    }
   ],
   "source": [
    "# calculate MSE using scikit-learn\n",
    "print(metrics.mean_squared_error(yd_test, yd_pred))"
   ]
  },
  {
   "cell_type": "code",
   "execution_count": 70,
   "metadata": {},
   "outputs": [
    {
     "name": "stdout",
     "output_type": "stream",
     "text": [
      "88938.85030525754\n"
     ]
    }
   ],
   "source": [
    "# calculate RMSE using scikit-learn\n",
    "print(np.sqrt(metrics.mean_squared_error(yd_test, yd_pred)))"
   ]
  },
  {
   "cell_type": "code",
   "execution_count": 71,
   "metadata": {},
   "outputs": [
    {
     "data": {
      "text/plain": [
       "0.41605089932692163"
      ]
     },
     "execution_count": 71,
     "metadata": {},
     "output_type": "execute_result"
    }
   ],
   "source": [
    "from sklearn.metrics import r2_score\n",
    "r2_score(yd_test, yd_pred)"
   ]
  },
  {
   "cell_type": "markdown",
   "metadata": {},
   "source": [
    "R2 is still very low. Let's try to classify LIMIT_BAL, and try classifier"
   ]
  },
  {
   "cell_type": "markdown",
   "metadata": {},
   "source": [
    "# Convert LIMIT_BAL from Continuous variable to categorical data"
   ]
  },
  {
   "cell_type": "code",
   "execution_count": 72,
   "metadata": {},
   "outputs": [],
   "source": [
    "# Create LIMI_BAL_GP\n",
    "# Use floor_divide by 100000 to get the tens, then multiply by 100000. \n",
    "# Create 6 groups\n",
    "credit['LIMIT_BAL_GP'] = np.floor_divide(credit['LIMIT_BAL'],100000)\n",
    "credit.loc[credit['LIMIT_BAL_GP'] == 0, 'LIMIT_BAL_GP'] = \"<100000\"\n",
    "credit.loc[credit['LIMIT_BAL_GP'] == 1, 'LIMIT_BAL_GP'] = \"<200000\"\n",
    "credit.loc[credit['LIMIT_BAL_GP'] == 2, 'LIMIT_BAL_GP'] = \"<300000\"\n",
    "credit.loc[credit['LIMIT_BAL_GP'] == 3, 'LIMIT_BAL_GP'] = \"<400000\"\n",
    "credit.loc[credit['LIMIT_BAL_GP'] == 4, 'LIMIT_BAL_GP'] = \"<500000\"\n",
    "credit.loc[credit['LIMIT_BAL_GP'] == 5, 'LIMIT_BAL_GP'] = \">=500000\"\n",
    "credit.loc[credit['LIMIT_BAL_GP'] == 6, 'LIMIT_BAL_GP'] = \">=500000\"\n",
    "credit.loc[credit['LIMIT_BAL_GP'] == 7, 'LIMIT_BAL_GP'] = \">=500000\"\n",
    "credit.loc[credit['LIMIT_BAL_GP'] == 8, 'LIMIT_BAL_GP'] = \">=500000\"\n",
    "credit.loc[credit['LIMIT_BAL_GP'] == 9, 'LIMIT_BAL_GP'] = \">=500000\"\n",
    "credit.loc[credit['LIMIT_BAL_GP'] == 10, 'LIMIT_BAL_GP'] = \">=500000\""
   ]
  },
  {
   "cell_type": "code",
   "execution_count": 73,
   "metadata": {},
   "outputs": [
    {
     "data": {
      "text/html": [
       "<div>\n",
       "<style scoped>\n",
       "    .dataframe tbody tr th:only-of-type {\n",
       "        vertical-align: middle;\n",
       "    }\n",
       "\n",
       "    .dataframe tbody tr th {\n",
       "        vertical-align: top;\n",
       "    }\n",
       "\n",
       "    .dataframe thead th {\n",
       "        text-align: right;\n",
       "    }\n",
       "</style>\n",
       "<table border=\"1\" class=\"dataframe\">\n",
       "  <thead>\n",
       "    <tr style=\"text-align: right;\">\n",
       "      <th></th>\n",
       "      <th>LIMIT_BAL</th>\n",
       "      <th>MARRIAGE</th>\n",
       "      <th>AGE</th>\n",
       "      <th>SEX_female</th>\n",
       "      <th>EDUCATION_graduate school</th>\n",
       "      <th>EDUCATION_high school</th>\n",
       "      <th>EDUCATION_university</th>\n",
       "      <th>default payment next month_default</th>\n",
       "      <th>AVE_BILL</th>\n",
       "      <th>AVE_PAY_AMT</th>\n",
       "      <th>PAY_STATUS</th>\n",
       "      <th>LIMIT_BAL_GP</th>\n",
       "    </tr>\n",
       "  </thead>\n",
       "  <tbody>\n",
       "    <tr>\n",
       "      <th>29995</th>\n",
       "      <td>220000</td>\n",
       "      <td>1</td>\n",
       "      <td>39</td>\n",
       "      <td>0</td>\n",
       "      <td>0</td>\n",
       "      <td>1</td>\n",
       "      <td>0</td>\n",
       "      <td>0</td>\n",
       "      <td>120.891500</td>\n",
       "      <td>7.091667</td>\n",
       "      <td>12</td>\n",
       "      <td>&lt;300000</td>\n",
       "    </tr>\n",
       "    <tr>\n",
       "      <th>29996</th>\n",
       "      <td>150000</td>\n",
       "      <td>2</td>\n",
       "      <td>43</td>\n",
       "      <td>0</td>\n",
       "      <td>0</td>\n",
       "      <td>1</td>\n",
       "      <td>0</td>\n",
       "      <td>0</td>\n",
       "      <td>3.530333</td>\n",
       "      <td>2.415000</td>\n",
       "      <td>8</td>\n",
       "      <td>&lt;200000</td>\n",
       "    </tr>\n",
       "    <tr>\n",
       "      <th>29997</th>\n",
       "      <td>30000</td>\n",
       "      <td>2</td>\n",
       "      <td>37</td>\n",
       "      <td>0</td>\n",
       "      <td>0</td>\n",
       "      <td>0</td>\n",
       "      <td>1</td>\n",
       "      <td>1</td>\n",
       "      <td>11.749333</td>\n",
       "      <td>5.216667</td>\n",
       "      <td>20</td>\n",
       "      <td>&lt;100000</td>\n",
       "    </tr>\n",
       "    <tr>\n",
       "      <th>29998</th>\n",
       "      <td>80000</td>\n",
       "      <td>1</td>\n",
       "      <td>41</td>\n",
       "      <td>0</td>\n",
       "      <td>0</td>\n",
       "      <td>1</td>\n",
       "      <td>0</td>\n",
       "      <td>1</td>\n",
       "      <td>44.435167</td>\n",
       "      <td>24.530167</td>\n",
       "      <td>11</td>\n",
       "      <td>&lt;100000</td>\n",
       "    </tr>\n",
       "    <tr>\n",
       "      <th>29999</th>\n",
       "      <td>50000</td>\n",
       "      <td>1</td>\n",
       "      <td>46</td>\n",
       "      <td>0</td>\n",
       "      <td>0</td>\n",
       "      <td>0</td>\n",
       "      <td>1</td>\n",
       "      <td>1</td>\n",
       "      <td>38.479000</td>\n",
       "      <td>1.384667</td>\n",
       "      <td>12</td>\n",
       "      <td>&lt;100000</td>\n",
       "    </tr>\n",
       "  </tbody>\n",
       "</table>\n",
       "</div>"
      ],
      "text/plain": [
       "       LIMIT_BAL  MARRIAGE  AGE  SEX_female  EDUCATION_graduate school  \\\n",
       "29995     220000         1   39           0                          0   \n",
       "29996     150000         2   43           0                          0   \n",
       "29997      30000         2   37           0                          0   \n",
       "29998      80000         1   41           0                          0   \n",
       "29999      50000         1   46           0                          0   \n",
       "\n",
       "       EDUCATION_high school  EDUCATION_university  \\\n",
       "29995                      1                     0   \n",
       "29996                      1                     0   \n",
       "29997                      0                     1   \n",
       "29998                      1                     0   \n",
       "29999                      0                     1   \n",
       "\n",
       "       default payment next month_default    AVE_BILL  AVE_PAY_AMT  \\\n",
       "29995                                   0  120.891500     7.091667   \n",
       "29996                                   0    3.530333     2.415000   \n",
       "29997                                   1   11.749333     5.216667   \n",
       "29998                                   1   44.435167    24.530167   \n",
       "29999                                   1   38.479000     1.384667   \n",
       "\n",
       "       PAY_STATUS LIMIT_BAL_GP  \n",
       "29995          12      <300000  \n",
       "29996           8      <200000  \n",
       "29997          20      <100000  \n",
       "29998          11      <100000  \n",
       "29999          12      <100000  "
      ]
     },
     "execution_count": 73,
     "metadata": {},
     "output_type": "execute_result"
    }
   ],
   "source": [
    "credit.tail(5)"
   ]
  },
  {
   "cell_type": "code",
   "execution_count": 74,
   "metadata": {},
   "outputs": [],
   "source": [
    "from sklearn.neighbors import KNeighborsClassifier\n",
    "from sklearn.model_selection import cross_val_score\n",
    "\n",
    "import matplotlib.pyplot as plt\n",
    "%matplotlib inline"
   ]
  },
  {
   "cell_type": "code",
   "execution_count": 75,
   "metadata": {},
   "outputs": [],
   "source": [
    "# USe the grouped LIMIT_BAL\n",
    "y = credit.LIMIT_BAL_GP"
   ]
  },
  {
   "cell_type": "code",
   "execution_count": 76,
   "metadata": {},
   "outputs": [
    {
     "name": "stdout",
     "output_type": "stream",
     "text": [
      "[0.505      0.50833333 0.519      0.51066667 0.50633333 0.52966667\n",
      " 0.508      0.48966667 0.51133333 0.504     ]\n"
     ]
    }
   ],
   "source": [
    "# 10-fold cross-validation with K=5 for KNN (the n_neighbors parameter)\n",
    "knn = KNeighborsClassifier(n_neighbors=5)\n",
    "scores = cross_val_score(knn, X, y, cv=10, scoring='accuracy')\n",
    "print(scores)"
   ]
  },
  {
   "cell_type": "code",
   "execution_count": 77,
   "metadata": {},
   "outputs": [
    {
     "name": "stdout",
     "output_type": "stream",
     "text": [
      "0.5092000000000001\n"
     ]
    }
   ],
   "source": [
    "# use average accuracy as an estimate of out-of-sample accuracy\n",
    "print(scores.mean())"
   ]
  },
  {
   "cell_type": "markdown",
   "metadata": {},
   "source": [
    "Since accuracy is about 0.51, the outcomes are like flipping a coin. So this model is not good."
   ]
  },
  {
   "cell_type": "code",
   "execution_count": 78,
   "metadata": {},
   "outputs": [
    {
     "name": "stdout",
     "output_type": "stream",
     "text": [
      "[0.4524333333333333, 0.49976666666666664, 0.4946666666666667, 0.5048666666666666, 0.5092000000000001, 0.5122666666666666, 0.5147666666666666, 0.518, 0.5188666666666666, 0.5207, 0.5234333333333334, 0.5234333333333333, 0.525, 0.5247666666666666, 0.5281, 0.5271999999999999, 0.5275, 0.529, 0.5298333333333334, 0.5307666666666666, 0.5309, 0.5333, 0.5330999999999999, 0.5335666666666667, 0.5337333333333334, 0.5333999999999999, 0.5327666666666666, 0.5346, 0.5353666666666667, 0.5360666666666666]\n"
     ]
    }
   ],
   "source": [
    "# search for an optimal value of K for KNN\n",
    "k_range = list(range(1, 31))\n",
    "k_scores = []\n",
    "for k in k_range:\n",
    "    knn = KNeighborsClassifier(n_neighbors=k)\n",
    "    scores = cross_val_score(knn, X, y, cv=10, scoring='accuracy')\n",
    "    k_scores.append(scores.mean())\n",
    "print(k_scores)"
   ]
  },
  {
   "cell_type": "code",
   "execution_count": 79,
   "metadata": {},
   "outputs": [
    {
     "data": {
      "text/plain": [
       "Text(0, 0.5, 'Cross-Validated Accuracy')"
      ]
     },
     "execution_count": 79,
     "metadata": {},
     "output_type": "execute_result"
    },
    {
     "data": {
      "image/png": "[encoded data removed]",
      "text/plain": [
       "<Figure size 432x288 with 1 Axes>"
      ]
     },
     "metadata": {
      "needs_background": "light"
     },
     "output_type": "display_data"
    }
   ],
   "source": [
    "# plot the value of K for KNN (x-axis) versus the cross-validated accuracy (y-axis)\n",
    "plt.plot(k_range, k_scores)\n",
    "plt.xlabel('Value of K for KNN')\n",
    "plt.ylabel('Cross-Validated Accuracy')"
   ]
  },
  {
   "cell_type": "markdown",
   "metadata": {},
   "source": [
    "accuracy increases as k gets larger, (except k =4) "
   ]
  },
  {
   "cell_type": "code",
   "execution_count": 80,
   "metadata": {},
   "outputs": [],
   "source": [
    "feature_col3 = ['AVE_PAY_AMT','AVE_BILL','PAY_STATUS','MARRIAGE','AGE','EDUCATION_graduate school','SEX_female','default payment next month_default']\n",
    "X3 = credit[feature_col3]\n",
    "X3_train, X3_test, y_train, y_test = train_test_split(X3, y, random_state=123)"
   ]
  },
  {
   "cell_type": "code",
   "execution_count": 81,
   "metadata": {},
   "outputs": [],
   "source": [
    "# define the parameter values that should be searched\n",
    "k_range = list(range(1, 25))\n",
    "weight_options = ['uniform', 'distance']"
   ]
  },
  {
   "cell_type": "code",
   "execution_count": 82,
   "metadata": {},
   "outputs": [
    {
     "name": "stdout",
     "output_type": "stream",
     "text": [
      "{'n_neighbors': [1, 2, 3, 4, 5, 6, 7, 8, 9, 10, 11, 12, 13, 14, 15, 16, 17, 18, 19, 20, 21, 22, 23, 24], 'weights': ['uniform', 'distance']}\n"
     ]
    }
   ],
   "source": [
    "from sklearn.model_selection import GridSearchCV\n",
    "# create a parameter grid: map the parameter names to the values that should be searched\n",
    "param_grid = dict(n_neighbors=k_range, weights=weight_options)\n",
    "print(param_grid)"
   ]
  },
  {
   "cell_type": "code",
   "execution_count": 83,
   "metadata": {},
   "outputs": [
    {
     "data": {
      "text/plain": [
       "GridSearchCV(cv=10, error_score=nan,\n",
       "             estimator=KNeighborsClassifier(algorithm='auto', leaf_size=30,\n",
       "                                            metric='minkowski',\n",
       "                                            metric_params=None, n_jobs=None,\n",
       "                                            n_neighbors=30, p=2,\n",
       "                                            weights='uniform'),\n",
       "             iid='deprecated', n_jobs=None,\n",
       "             param_grid={'n_neighbors': [1, 2, 3, 4, 5, 6, 7, 8, 9, 10, 11, 12,\n",
       "                                         13, 14, 15, 16, 17, 18, 19, 20, 21, 22,\n",
       "                                         23, 24],\n",
       "                         'weights': ['uniform', 'distance']},\n",
       "             pre_dispatch='2*n_jobs', refit=True, return_train_score=False,\n",
       "             scoring='accuracy', verbose=0)"
      ]
     },
     "execution_count": 83,
     "metadata": {},
     "output_type": "execute_result"
    }
   ],
   "source": [
    "# instantiate and fit the grid\n",
    "grid = GridSearchCV(knn, param_grid, cv=10, scoring='accuracy', return_train_score=False)\n",
    "grid.fit(X3, y)"
   ]
  },
  {
   "cell_type": "code",
   "execution_count": 84,
   "metadata": {},
   "outputs": [
    {
     "data": {
      "text/html": [
       "<div>\n",
       "<style scoped>\n",
       "    .dataframe tbody tr th:only-of-type {\n",
       "        vertical-align: middle;\n",
       "    }\n",
       "\n",
       "    .dataframe tbody tr th {\n",
       "        vertical-align: top;\n",
       "    }\n",
       "\n",
       "    .dataframe thead th {\n",
       "        text-align: right;\n",
       "    }\n",
       "</style>\n",
       "<table border=\"1\" class=\"dataframe\">\n",
       "  <thead>\n",
       "    <tr style=\"text-align: right;\">\n",
       "      <th></th>\n",
       "      <th>mean_test_score</th>\n",
       "      <th>std_test_score</th>\n",
       "      <th>params</th>\n",
       "    </tr>\n",
       "  </thead>\n",
       "  <tbody>\n",
       "    <tr>\n",
       "      <th>0</th>\n",
       "      <td>0.452533</td>\n",
       "      <td>0.011319</td>\n",
       "      <td>{'n_neighbors': 1, 'weights': 'uniform'}</td>\n",
       "    </tr>\n",
       "    <tr>\n",
       "      <th>1</th>\n",
       "      <td>0.452533</td>\n",
       "      <td>0.011319</td>\n",
       "      <td>{'n_neighbors': 1, 'weights': 'distance'}</td>\n",
       "    </tr>\n",
       "    <tr>\n",
       "      <th>2</th>\n",
       "      <td>0.498967</td>\n",
       "      <td>0.009514</td>\n",
       "      <td>{'n_neighbors': 2, 'weights': 'uniform'}</td>\n",
       "    </tr>\n",
       "    <tr>\n",
       "      <th>3</th>\n",
       "      <td>0.452967</td>\n",
       "      <td>0.010852</td>\n",
       "      <td>{'n_neighbors': 2, 'weights': 'distance'}</td>\n",
       "    </tr>\n",
       "    <tr>\n",
       "      <th>4</th>\n",
       "      <td>0.493633</td>\n",
       "      <td>0.008993</td>\n",
       "      <td>{'n_neighbors': 3, 'weights': 'uniform'}</td>\n",
       "    </tr>\n",
       "    <tr>\n",
       "      <th>5</th>\n",
       "      <td>0.480467</td>\n",
       "      <td>0.010187</td>\n",
       "      <td>{'n_neighbors': 3, 'weights': 'distance'}</td>\n",
       "    </tr>\n",
       "    <tr>\n",
       "      <th>6</th>\n",
       "      <td>0.502100</td>\n",
       "      <td>0.009296</td>\n",
       "      <td>{'n_neighbors': 4, 'weights': 'uniform'}</td>\n",
       "    </tr>\n",
       "    <tr>\n",
       "      <th>7</th>\n",
       "      <td>0.490833</td>\n",
       "      <td>0.008988</td>\n",
       "      <td>{'n_neighbors': 4, 'weights': 'distance'}</td>\n",
       "    </tr>\n",
       "    <tr>\n",
       "      <th>8</th>\n",
       "      <td>0.508167</td>\n",
       "      <td>0.008344</td>\n",
       "      <td>{'n_neighbors': 5, 'weights': 'uniform'}</td>\n",
       "    </tr>\n",
       "    <tr>\n",
       "      <th>9</th>\n",
       "      <td>0.498433</td>\n",
       "      <td>0.008308</td>\n",
       "      <td>{'n_neighbors': 5, 'weights': 'distance'}</td>\n",
       "    </tr>\n",
       "    <tr>\n",
       "      <th>10</th>\n",
       "      <td>0.510200</td>\n",
       "      <td>0.006801</td>\n",
       "      <td>{'n_neighbors': 6, 'weights': 'uniform'}</td>\n",
       "    </tr>\n",
       "    <tr>\n",
       "      <th>11</th>\n",
       "      <td>0.503467</td>\n",
       "      <td>0.009622</td>\n",
       "      <td>{'n_neighbors': 6, 'weights': 'distance'}</td>\n",
       "    </tr>\n",
       "    <tr>\n",
       "      <th>12</th>\n",
       "      <td>0.512100</td>\n",
       "      <td>0.007356</td>\n",
       "      <td>{'n_neighbors': 7, 'weights': 'uniform'}</td>\n",
       "    </tr>\n",
       "    <tr>\n",
       "      <th>13</th>\n",
       "      <td>0.505267</td>\n",
       "      <td>0.007602</td>\n",
       "      <td>{'n_neighbors': 7, 'weights': 'distance'}</td>\n",
       "    </tr>\n",
       "    <tr>\n",
       "      <th>14</th>\n",
       "      <td>0.515700</td>\n",
       "      <td>0.008651</td>\n",
       "      <td>{'n_neighbors': 8, 'weights': 'uniform'}</td>\n",
       "    </tr>\n",
       "    <tr>\n",
       "      <th>15</th>\n",
       "      <td>0.510533</td>\n",
       "      <td>0.008281</td>\n",
       "      <td>{'n_neighbors': 8, 'weights': 'distance'}</td>\n",
       "    </tr>\n",
       "    <tr>\n",
       "      <th>16</th>\n",
       "      <td>0.517167</td>\n",
       "      <td>0.007556</td>\n",
       "      <td>{'n_neighbors': 9, 'weights': 'uniform'}</td>\n",
       "    </tr>\n",
       "    <tr>\n",
       "      <th>17</th>\n",
       "      <td>0.513533</td>\n",
       "      <td>0.009141</td>\n",
       "      <td>{'n_neighbors': 9, 'weights': 'distance'}</td>\n",
       "    </tr>\n",
       "    <tr>\n",
       "      <th>18</th>\n",
       "      <td>0.519300</td>\n",
       "      <td>0.007606</td>\n",
       "      <td>{'n_neighbors': 10, 'weights': 'uniform'}</td>\n",
       "    </tr>\n",
       "    <tr>\n",
       "      <th>19</th>\n",
       "      <td>0.517067</td>\n",
       "      <td>0.007601</td>\n",
       "      <td>{'n_neighbors': 10, 'weights': 'distance'}</td>\n",
       "    </tr>\n",
       "    <tr>\n",
       "      <th>20</th>\n",
       "      <td>0.522700</td>\n",
       "      <td>0.007435</td>\n",
       "      <td>{'n_neighbors': 11, 'weights': 'uniform'}</td>\n",
       "    </tr>\n",
       "    <tr>\n",
       "      <th>21</th>\n",
       "      <td>0.519267</td>\n",
       "      <td>0.008398</td>\n",
       "      <td>{'n_neighbors': 11, 'weights': 'distance'}</td>\n",
       "    </tr>\n",
       "    <tr>\n",
       "      <th>22</th>\n",
       "      <td>0.522333</td>\n",
       "      <td>0.007990</td>\n",
       "      <td>{'n_neighbors': 12, 'weights': 'uniform'}</td>\n",
       "    </tr>\n",
       "    <tr>\n",
       "      <th>23</th>\n",
       "      <td>0.520767</td>\n",
       "      <td>0.008728</td>\n",
       "      <td>{'n_neighbors': 12, 'weights': 'distance'}</td>\n",
       "    </tr>\n",
       "    <tr>\n",
       "      <th>24</th>\n",
       "      <td>0.523800</td>\n",
       "      <td>0.007968</td>\n",
       "      <td>{'n_neighbors': 13, 'weights': 'uniform'}</td>\n",
       "    </tr>\n",
       "    <tr>\n",
       "      <th>25</th>\n",
       "      <td>0.521600</td>\n",
       "      <td>0.009152</td>\n",
       "      <td>{'n_neighbors': 13, 'weights': 'distance'}</td>\n",
       "    </tr>\n",
       "    <tr>\n",
       "      <th>26</th>\n",
       "      <td>0.523967</td>\n",
       "      <td>0.008142</td>\n",
       "      <td>{'n_neighbors': 14, 'weights': 'uniform'}</td>\n",
       "    </tr>\n",
       "    <tr>\n",
       "      <th>27</th>\n",
       "      <td>0.523867</td>\n",
       "      <td>0.008920</td>\n",
       "      <td>{'n_neighbors': 14, 'weights': 'distance'}</td>\n",
       "    </tr>\n",
       "    <tr>\n",
       "      <th>28</th>\n",
       "      <td>0.525433</td>\n",
       "      <td>0.009177</td>\n",
       "      <td>{'n_neighbors': 15, 'weights': 'uniform'}</td>\n",
       "    </tr>\n",
       "    <tr>\n",
       "      <th>29</th>\n",
       "      <td>0.524467</td>\n",
       "      <td>0.009961</td>\n",
       "      <td>{'n_neighbors': 15, 'weights': 'distance'}</td>\n",
       "    </tr>\n",
       "    <tr>\n",
       "      <th>30</th>\n",
       "      <td>0.525400</td>\n",
       "      <td>0.010205</td>\n",
       "      <td>{'n_neighbors': 16, 'weights': 'uniform'}</td>\n",
       "    </tr>\n",
       "    <tr>\n",
       "      <th>31</th>\n",
       "      <td>0.524767</td>\n",
       "      <td>0.009998</td>\n",
       "      <td>{'n_neighbors': 16, 'weights': 'distance'}</td>\n",
       "    </tr>\n",
       "    <tr>\n",
       "      <th>32</th>\n",
       "      <td>0.526200</td>\n",
       "      <td>0.010763</td>\n",
       "      <td>{'n_neighbors': 17, 'weights': 'uniform'}</td>\n",
       "    </tr>\n",
       "    <tr>\n",
       "      <th>33</th>\n",
       "      <td>0.525667</td>\n",
       "      <td>0.010189</td>\n",
       "      <td>{'n_neighbors': 17, 'weights': 'distance'}</td>\n",
       "    </tr>\n",
       "    <tr>\n",
       "      <th>34</th>\n",
       "      <td>0.527867</td>\n",
       "      <td>0.010354</td>\n",
       "      <td>{'n_neighbors': 18, 'weights': 'uniform'}</td>\n",
       "    </tr>\n",
       "    <tr>\n",
       "      <th>35</th>\n",
       "      <td>0.526433</td>\n",
       "      <td>0.009993</td>\n",
       "      <td>{'n_neighbors': 18, 'weights': 'distance'}</td>\n",
       "    </tr>\n",
       "    <tr>\n",
       "      <th>36</th>\n",
       "      <td>0.529467</td>\n",
       "      <td>0.010372</td>\n",
       "      <td>{'n_neighbors': 19, 'weights': 'uniform'}</td>\n",
       "    </tr>\n",
       "    <tr>\n",
       "      <th>37</th>\n",
       "      <td>0.528400</td>\n",
       "      <td>0.010204</td>\n",
       "      <td>{'n_neighbors': 19, 'weights': 'distance'}</td>\n",
       "    </tr>\n",
       "    <tr>\n",
       "      <th>38</th>\n",
       "      <td>0.530567</td>\n",
       "      <td>0.010333</td>\n",
       "      <td>{'n_neighbors': 20, 'weights': 'uniform'}</td>\n",
       "    </tr>\n",
       "    <tr>\n",
       "      <th>39</th>\n",
       "      <td>0.530433</td>\n",
       "      <td>0.009782</td>\n",
       "      <td>{'n_neighbors': 20, 'weights': 'distance'}</td>\n",
       "    </tr>\n",
       "    <tr>\n",
       "      <th>40</th>\n",
       "      <td>0.530033</td>\n",
       "      <td>0.008546</td>\n",
       "      <td>{'n_neighbors': 21, 'weights': 'uniform'}</td>\n",
       "    </tr>\n",
       "    <tr>\n",
       "      <th>41</th>\n",
       "      <td>0.530433</td>\n",
       "      <td>0.008627</td>\n",
       "      <td>{'n_neighbors': 21, 'weights': 'distance'}</td>\n",
       "    </tr>\n",
       "    <tr>\n",
       "      <th>42</th>\n",
       "      <td>0.532333</td>\n",
       "      <td>0.008418</td>\n",
       "      <td>{'n_neighbors': 22, 'weights': 'uniform'}</td>\n",
       "    </tr>\n",
       "    <tr>\n",
       "      <th>43</th>\n",
       "      <td>0.531600</td>\n",
       "      <td>0.008782</td>\n",
       "      <td>{'n_neighbors': 22, 'weights': 'distance'}</td>\n",
       "    </tr>\n",
       "    <tr>\n",
       "      <th>44</th>\n",
       "      <td>0.532800</td>\n",
       "      <td>0.007997</td>\n",
       "      <td>{'n_neighbors': 23, 'weights': 'uniform'}</td>\n",
       "    </tr>\n",
       "    <tr>\n",
       "      <th>45</th>\n",
       "      <td>0.531467</td>\n",
       "      <td>0.007816</td>\n",
       "      <td>{'n_neighbors': 23, 'weights': 'distance'}</td>\n",
       "    </tr>\n",
       "    <tr>\n",
       "      <th>46</th>\n",
       "      <td>0.533300</td>\n",
       "      <td>0.008365</td>\n",
       "      <td>{'n_neighbors': 24, 'weights': 'uniform'}</td>\n",
       "    </tr>\n",
       "    <tr>\n",
       "      <th>47</th>\n",
       "      <td>0.531233</td>\n",
       "      <td>0.008605</td>\n",
       "      <td>{'n_neighbors': 24, 'weights': 'distance'}</td>\n",
       "    </tr>\n",
       "  </tbody>\n",
       "</table>\n",
       "</div>"
      ],
      "text/plain": [
       "    mean_test_score  std_test_score  \\\n",
       "0          0.452533        0.011319   \n",
       "1          0.452533        0.011319   \n",
       "2          0.498967        0.009514   \n",
       "3          0.452967        0.010852   \n",
       "4          0.493633        0.008993   \n",
       "5          0.480467        0.010187   \n",
       "6          0.502100        0.009296   \n",
       "7          0.490833        0.008988   \n",
       "8          0.508167        0.008344   \n",
       "9          0.498433        0.008308   \n",
       "10         0.510200        0.006801   \n",
       "11         0.503467        0.009622   \n",
       "12         0.512100        0.007356   \n",
       "13         0.505267        0.007602   \n",
       "14         0.515700        0.008651   \n",
       "15         0.510533        0.008281   \n",
       "16         0.517167        0.007556   \n",
       "17         0.513533        0.009141   \n",
       "18         0.519300        0.007606   \n",
       "19         0.517067        0.007601   \n",
       "20         0.522700        0.007435   \n",
       "21         0.519267        0.008398   \n",
       "22         0.522333        0.007990   \n",
       "23         0.520767        0.008728   \n",
       "24         0.523800        0.007968   \n",
       "25         0.521600        0.009152   \n",
       "26         0.523967        0.008142   \n",
       "27         0.523867        0.008920   \n",
       "28         0.525433        0.009177   \n",
       "29         0.524467        0.009961   \n",
       "30         0.525400        0.010205   \n",
       "31         0.524767        0.009998   \n",
       "32         0.526200        0.010763   \n",
       "33         0.525667        0.010189   \n",
       "34         0.527867        0.010354   \n",
       "35         0.526433        0.009993   \n",
       "36         0.529467        0.010372   \n",
       "37         0.528400        0.010204   \n",
       "38         0.530567        0.010333   \n",
       "39         0.530433        0.009782   \n",
       "40         0.530033        0.008546   \n",
       "41         0.530433        0.008627   \n",
       "42         0.532333        0.008418   \n",
       "43         0.531600        0.008782   \n",
       "44         0.532800        0.007997   \n",
       "45         0.531467        0.007816   \n",
       "46         0.533300        0.008365   \n",
       "47         0.531233        0.008605   \n",
       "\n",
       "                                        params  \n",
       "0     {'n_neighbors': 1, 'weights': 'uniform'}  \n",
       "1    {'n_neighbors': 1, 'weights': 'distance'}  \n",
       "2     {'n_neighbors': 2, 'weights': 'uniform'}  \n",
       "3    {'n_neighbors': 2, 'weights': 'distance'}  \n",
       "4     {'n_neighbors': 3, 'weights': 'uniform'}  \n",
       "5    {'n_neighbors': 3, 'weights': 'distance'}  \n",
       "6     {'n_neighbors': 4, 'weights': 'uniform'}  \n",
       "7    {'n_neighbors': 4, 'weights': 'distance'}  \n",
       "8     {'n_neighbors': 5, 'weights': 'uniform'}  \n",
       "9    {'n_neighbors': 5, 'weights': 'distance'}  \n",
       "10    {'n_neighbors': 6, 'weights': 'uniform'}  \n",
       "11   {'n_neighbors': 6, 'weights': 'distance'}  \n",
       "12    {'n_neighbors': 7, 'weights': 'uniform'}  \n",
       "13   {'n_neighbors': 7, 'weights': 'distance'}  \n",
       "14    {'n_neighbors': 8, 'weights': 'uniform'}  \n",
       "15   {'n_neighbors': 8, 'weights': 'distance'}  \n",
       "16    {'n_neighbors': 9, 'weights': 'uniform'}  \n",
       "17   {'n_neighbors': 9, 'weights': 'distance'}  \n",
       "18   {'n_neighbors': 10, 'weights': 'uniform'}  \n",
       "19  {'n_neighbors': 10, 'weights': 'distance'}  \n",
       "20   {'n_neighbors': 11, 'weights': 'uniform'}  \n",
       "21  {'n_neighbors': 11, 'weights': 'distance'}  \n",
       "22   {'n_neighbors': 12, 'weights': 'uniform'}  \n",
       "23  {'n_neighbors': 12, 'weights': 'distance'}  \n",
       "24   {'n_neighbors': 13, 'weights': 'uniform'}  \n",
       "25  {'n_neighbors': 13, 'weights': 'distance'}  \n",
       "26   {'n_neighbors': 14, 'weights': 'uniform'}  \n",
       "27  {'n_neighbors': 14, 'weights': 'distance'}  \n",
       "28   {'n_neighbors': 15, 'weights': 'uniform'}  \n",
       "29  {'n_neighbors': 15, 'weights': 'distance'}  \n",
       "30   {'n_neighbors': 16, 'weights': 'uniform'}  \n",
       "31  {'n_neighbors': 16, 'weights': 'distance'}  \n",
       "32   {'n_neighbors': 17, 'weights': 'uniform'}  \n",
       "33  {'n_neighbors': 17, 'weights': 'distance'}  \n",
       "34   {'n_neighbors': 18, 'weights': 'uniform'}  \n",
       "35  {'n_neighbors': 18, 'weights': 'distance'}  \n",
       "36   {'n_neighbors': 19, 'weights': 'uniform'}  \n",
       "37  {'n_neighbors': 19, 'weights': 'distance'}  \n",
       "38   {'n_neighbors': 20, 'weights': 'uniform'}  \n",
       "39  {'n_neighbors': 20, 'weights': 'distance'}  \n",
       "40   {'n_neighbors': 21, 'weights': 'uniform'}  \n",
       "41  {'n_neighbors': 21, 'weights': 'distance'}  \n",
       "42   {'n_neighbors': 22, 'weights': 'uniform'}  \n",
       "43  {'n_neighbors': 22, 'weights': 'distance'}  \n",
       "44   {'n_neighbors': 23, 'weights': 'uniform'}  \n",
       "45  {'n_neighbors': 23, 'weights': 'distance'}  \n",
       "46   {'n_neighbors': 24, 'weights': 'uniform'}  \n",
       "47  {'n_neighbors': 24, 'weights': 'distance'}  "
      ]
     },
     "execution_count": 84,
     "metadata": {},
     "output_type": "execute_result"
    }
   ],
   "source": [
    "# view the results as a pandas DataFrame\n",
    "pd.DataFrame(grid.cv_results_)[['mean_test_score', 'std_test_score', 'params']]"
   ]
  },
  {
   "cell_type": "code",
   "execution_count": 85,
   "metadata": {},
   "outputs": [],
   "source": [
    "# create LIMI_BAL_GP\n",
    "# Use floor_divide by 100000 to get the tens, then multiply by 100000. \n",
    "credit['LIMIT_BAL_GP'] = np.floor_divide(credit['LIMIT_BAL'],100000)\n",
    "credit.loc[credit['LIMIT_BAL_GP'] == 0, 'LIMIT_BAL_GP'] = \"<200000\"\n",
    "credit.loc[credit['LIMIT_BAL_GP'] == 1, 'LIMIT_BAL_GP'] = \"<200000\"\n",
    "credit.loc[credit['LIMIT_BAL_GP'] == 2, 'LIMIT_BAL_GP'] = \"<400000\"\n",
    "credit.loc[credit['LIMIT_BAL_GP'] == 3, 'LIMIT_BAL_GP'] = \"<400000\"\n",
    "credit.loc[credit['LIMIT_BAL_GP'] == 4, 'LIMIT_BAL_GP'] = \"<500000\"\n",
    "credit.loc[credit['LIMIT_BAL_GP'] == 5, 'LIMIT_BAL_GP'] = \">=500000\"\n",
    "credit.loc[credit['LIMIT_BAL_GP'] == 6, 'LIMIT_BAL_GP'] = \">=500000\"\n",
    "credit.loc[credit['LIMIT_BAL_GP'] == 7, 'LIMIT_BAL_GP'] = \">=500000\"\n",
    "credit.loc[credit['LIMIT_BAL_GP'] == 8, 'LIMIT_BAL_GP'] = \">=500000\"\n",
    "credit.loc[credit['LIMIT_BAL_GP'] == 9, 'LIMIT_BAL_GP'] = \">=500000\"\n",
    "credit.loc[credit['LIMIT_BAL_GP'] == 10, 'LIMIT_BAL_GP'] = \">=500000\""
   ]
  },
  {
   "cell_type": "code",
   "execution_count": 86,
   "metadata": {},
   "outputs": [
    {
     "data": {
      "text/html": [
       "<div>\n",
       "<style scoped>\n",
       "    .dataframe tbody tr th:only-of-type {\n",
       "        vertical-align: middle;\n",
       "    }\n",
       "\n",
       "    .dataframe tbody tr th {\n",
       "        vertical-align: top;\n",
       "    }\n",
       "\n",
       "    .dataframe thead th {\n",
       "        text-align: right;\n",
       "    }\n",
       "</style>\n",
       "<table border=\"1\" class=\"dataframe\">\n",
       "  <thead>\n",
       "    <tr style=\"text-align: right;\">\n",
       "      <th></th>\n",
       "      <th>LIMIT_BAL</th>\n",
       "      <th>MARRIAGE</th>\n",
       "      <th>AGE</th>\n",
       "      <th>SEX_female</th>\n",
       "      <th>EDUCATION_graduate school</th>\n",
       "      <th>EDUCATION_high school</th>\n",
       "      <th>EDUCATION_university</th>\n",
       "      <th>default payment next month_default</th>\n",
       "      <th>AVE_BILL</th>\n",
       "      <th>AVE_PAY_AMT</th>\n",
       "      <th>PAY_STATUS</th>\n",
       "      <th>LIMIT_BAL_GP</th>\n",
       "    </tr>\n",
       "  </thead>\n",
       "  <tbody>\n",
       "    <tr>\n",
       "      <th>29995</th>\n",
       "      <td>220000</td>\n",
       "      <td>1</td>\n",
       "      <td>39</td>\n",
       "      <td>0</td>\n",
       "      <td>0</td>\n",
       "      <td>1</td>\n",
       "      <td>0</td>\n",
       "      <td>0</td>\n",
       "      <td>120.891500</td>\n",
       "      <td>7.091667</td>\n",
       "      <td>12</td>\n",
       "      <td>&lt;400000</td>\n",
       "    </tr>\n",
       "    <tr>\n",
       "      <th>29996</th>\n",
       "      <td>150000</td>\n",
       "      <td>2</td>\n",
       "      <td>43</td>\n",
       "      <td>0</td>\n",
       "      <td>0</td>\n",
       "      <td>1</td>\n",
       "      <td>0</td>\n",
       "      <td>0</td>\n",
       "      <td>3.530333</td>\n",
       "      <td>2.415000</td>\n",
       "      <td>8</td>\n",
       "      <td>&lt;200000</td>\n",
       "    </tr>\n",
       "    <tr>\n",
       "      <th>29997</th>\n",
       "      <td>30000</td>\n",
       "      <td>2</td>\n",
       "      <td>37</td>\n",
       "      <td>0</td>\n",
       "      <td>0</td>\n",
       "      <td>0</td>\n",
       "      <td>1</td>\n",
       "      <td>1</td>\n",
       "      <td>11.749333</td>\n",
       "      <td>5.216667</td>\n",
       "      <td>20</td>\n",
       "      <td>&lt;200000</td>\n",
       "    </tr>\n",
       "    <tr>\n",
       "      <th>29998</th>\n",
       "      <td>80000</td>\n",
       "      <td>1</td>\n",
       "      <td>41</td>\n",
       "      <td>0</td>\n",
       "      <td>0</td>\n",
       "      <td>1</td>\n",
       "      <td>0</td>\n",
       "      <td>1</td>\n",
       "      <td>44.435167</td>\n",
       "      <td>24.530167</td>\n",
       "      <td>11</td>\n",
       "      <td>&lt;200000</td>\n",
       "    </tr>\n",
       "    <tr>\n",
       "      <th>29999</th>\n",
       "      <td>50000</td>\n",
       "      <td>1</td>\n",
       "      <td>46</td>\n",
       "      <td>0</td>\n",
       "      <td>0</td>\n",
       "      <td>0</td>\n",
       "      <td>1</td>\n",
       "      <td>1</td>\n",
       "      <td>38.479000</td>\n",
       "      <td>1.384667</td>\n",
       "      <td>12</td>\n",
       "      <td>&lt;200000</td>\n",
       "    </tr>\n",
       "  </tbody>\n",
       "</table>\n",
       "</div>"
      ],
      "text/plain": [
       "       LIMIT_BAL  MARRIAGE  AGE  SEX_female  EDUCATION_graduate school  \\\n",
       "29995     220000         1   39           0                          0   \n",
       "29996     150000         2   43           0                          0   \n",
       "29997      30000         2   37           0                          0   \n",
       "29998      80000         1   41           0                          0   \n",
       "29999      50000         1   46           0                          0   \n",
       "\n",
       "       EDUCATION_high school  EDUCATION_university  \\\n",
       "29995                      1                     0   \n",
       "29996                      1                     0   \n",
       "29997                      0                     1   \n",
       "29998                      1                     0   \n",
       "29999                      0                     1   \n",
       "\n",
       "       default payment next month_default    AVE_BILL  AVE_PAY_AMT  \\\n",
       "29995                                   0  120.891500     7.091667   \n",
       "29996                                   0    3.530333     2.415000   \n",
       "29997                                   1   11.749333     5.216667   \n",
       "29998                                   1   44.435167    24.530167   \n",
       "29999                                   1   38.479000     1.384667   \n",
       "\n",
       "       PAY_STATUS LIMIT_BAL_GP  \n",
       "29995          12      <400000  \n",
       "29996           8      <200000  \n",
       "29997          20      <200000  \n",
       "29998          11      <200000  \n",
       "29999          12      <200000  "
      ]
     },
     "execution_count": 86,
     "metadata": {},
     "output_type": "execute_result"
    }
   ],
   "source": [
    "credit.tail(5)"
   ]
  },
  {
   "cell_type": "code",
   "execution_count": 87,
   "metadata": {},
   "outputs": [],
   "source": [
    "y = credit.LIMIT_BAL_GP"
   ]
  },
  {
   "cell_type": "code",
   "execution_count": 88,
   "metadata": {},
   "outputs": [
    {
     "name": "stdout",
     "output_type": "stream",
     "text": [
      "[0.702      0.693      0.69166667 0.698      0.697      0.702\n",
      " 0.692      0.677      0.683      0.69366667]\n"
     ]
    }
   ],
   "source": [
    "# 10-fold cross-validation with K=5 for KNN (the n_neighbors parameter)\n",
    "knn = KNeighborsClassifier(n_neighbors=5)\n",
    "scores = cross_val_score(knn, X, y, cv=10, scoring='accuracy')\n",
    "print(scores)"
   ]
  },
  {
   "cell_type": "code",
   "execution_count": 89,
   "metadata": {},
   "outputs": [
    {
     "name": "stdout",
     "output_type": "stream",
     "text": [
      "0.6929333333333332\n"
     ]
    }
   ],
   "source": [
    "# use average accuracy as an estimate of out-of-sample accuracy\n",
    "print(scores.mean())"
   ]
  },
  {
   "cell_type": "code",
   "execution_count": 90,
   "metadata": {},
   "outputs": [
    {
     "name": "stdout",
     "output_type": "stream",
     "text": [
      "[0.6929333333333332, 0.6977, 0.6978, 0.7015666666666667, 0.7016333333333333, 0.7044333333333334, 0.7043333333333334, 0.7053999999999999, 0.7064, 0.7072, 0.7087666666666667, 0.7097, 0.7104333333333333, 0.7117333333333333, 0.7111999999999999, 0.7114666666666667, 0.7112333333333333, 0.7129333333333332, 0.7135999999999999, 0.7133, 0.7146333333333333, 0.7147333333333333, 0.7159333333333333, 0.7162666666666666, 0.7163, 0.7158333333333333]\n"
     ]
    }
   ],
   "source": [
    "# search for an optimal value of K for KNN\n",
    "k_range = list(range(5, 31))\n",
    "k_scores = []\n",
    "for k in k_range:\n",
    "    knn = KNeighborsClassifier(n_neighbors=k)\n",
    "    scores = cross_val_score(knn, X, y, cv=10, scoring='accuracy')\n",
    "    k_scores.append(scores.mean())\n",
    "print(k_scores)"
   ]
  },
  {
   "cell_type": "code",
   "execution_count": 91,
   "metadata": {},
   "outputs": [
    {
     "data": {
      "text/plain": [
       "Text(0, 0.5, 'Cross-Validated Accuracy')"
      ]
     },
     "execution_count": 91,
     "metadata": {},
     "output_type": "execute_result"
    },
    {
     "data": {
      "image/png": "[encoded data removed]",
      "text/plain": [
       "<Figure size 432x288 with 1 Axes>"
      ]
     },
     "metadata": {
      "needs_background": "light"
     },
     "output_type": "display_data"
    }
   ],
   "source": [
    "#plot the value of K for KNN (x-axis) versus the cross-validated accuracy (y-axis)\n",
    "plt.plot(k_range, k_scores)\n",
    "plt.xlabel('Value of K for KNN')\n",
    "plt.ylabel('Cross-Validated Accuracy')"
   ]
  },
  {
   "cell_type": "code",
   "execution_count": 93,
   "metadata": {},
   "outputs": [
    {
     "name": "stdout",
     "output_type": "stream",
     "text": [
      "[0.721      0.71566667 0.718      0.717      0.71566667 0.723\n",
      " 0.70766667 0.70633333 0.71433333 0.72433333]\n"
     ]
    }
   ],
   "source": [
    "# From the above, k=29 give us the highest accuracy\n",
    "# 10-fold cross-validation with K=12 for KNN (the n_neighbors parameter)\n",
    "knn = KNeighborsClassifier(n_neighbors=29)\n",
    "scores = cross_val_score(knn, X, y, cv=10, scoring='accuracy')\n",
    "print(scores)"
   ]
  },
  {
   "cell_type": "code",
   "execution_count": 94,
   "metadata": {},
   "outputs": [
    {
     "name": "stdout",
     "output_type": "stream",
     "text": [
      "0.7163\n"
     ]
    }
   ],
   "source": [
    "# use average accuracy as an estimate of out-of-sample accuracy\n",
    "print(scores.mean())"
   ]
  },
  {
   "cell_type": "markdown",
   "metadata": {},
   "source": [
    "accuracy is now 0.72. "
   ]
  },
  {
   "cell_type": "markdown",
   "metadata": {},
   "source": [
    "# Support Vector Machine (SVM)"
   ]
  },
  {
   "cell_type": "markdown",
   "metadata": {},
   "source": [
    "A support-vector machine constructs a hyperplane or set of hyperplanes in a high- or infinite-dimensional space, which can be used for\n",
    "classification, regression, or other tasks like outliers detection.Intuitively, a good separation is achieved by the hyperplane that has\n",
    "the largest distance to the nearest training-data point of any class (so-called functional margin), since in general the larger the\n",
    "margin, the lower the generalization error of the classifier"
   ]
  },
  {
   "cell_type": "code",
   "execution_count": 95,
   "metadata": {},
   "outputs": [],
   "source": [
    "from sklearn.svm import SVC\n",
    "# Start off with the default parameters, default is radial basis function kernel- can map to infinite dimensions\n",
    "svc = SVC()"
   ]
  },
  {
   "cell_type": "code",
   "execution_count": 96,
   "metadata": {},
   "outputs": [
    {
     "data": {
      "text/plain": [
       "SVC(C=1.0, break_ties=False, cache_size=200, class_weight=None, coef0=0.0,\n",
       "    decision_function_shape='ovr', degree=3, gamma='scale', kernel='rbf',\n",
       "    max_iter=-1, probability=False, random_state=None, shrinking=True,\n",
       "    tol=0.001, verbose=False)"
      ]
     },
     "execution_count": 96,
     "metadata": {},
     "output_type": "execute_result"
    }
   ],
   "source": [
    "#train the model\n",
    "svc.fit(X_train,y_train)"
   ]
  },
  {
   "cell_type": "code",
   "execution_count": 97,
   "metadata": {},
   "outputs": [
    {
     "data": {
      "text/plain": [
       "0.5504"
      ]
     },
     "execution_count": 97,
     "metadata": {},
     "output_type": "execute_result"
    }
   ],
   "source": [
    "#predfict\n",
    "svc.score(X_test,y_test)"
   ]
  },
  {
   "cell_type": "code",
   "execution_count": 98,
   "metadata": {},
   "outputs": [],
   "source": [
    "#Change parameter C=10\n",
    "svc = SVC(C=10)"
   ]
  },
  {
   "cell_type": "code",
   "execution_count": 99,
   "metadata": {},
   "outputs": [
    {
     "data": {
      "text/plain": [
       "SVC(C=10, break_ties=False, cache_size=200, class_weight=None, coef0=0.0,\n",
       "    decision_function_shape='ovr', degree=3, gamma='scale', kernel='rbf',\n",
       "    max_iter=-1, probability=False, random_state=None, shrinking=True,\n",
       "    tol=0.001, verbose=False)"
      ]
     },
     "execution_count": 99,
     "metadata": {},
     "output_type": "execute_result"
    }
   ],
   "source": [
    "svc.fit(X_train,y_train)"
   ]
  },
  {
   "cell_type": "code",
   "execution_count": 100,
   "metadata": {},
   "outputs": [
    {
     "data": {
      "text/plain": [
       "0.5570666666666667"
      ]
     },
     "execution_count": 100,
     "metadata": {},
     "output_type": "execute_result"
    }
   ],
   "source": [
    "svc.score(X_test,y_test)"
   ]
  },
  {
   "cell_type": "code",
   "execution_count": null,
   "metadata": {},
   "outputs": [],
   "source": [
    "#Change parameter gamma=1\n",
    "# remember to use shift tab to see the parameters associate with SVC\n",
    "# C :  Regularization parameter (>0, default=1.0), regularization strengthis inversely proportional to C\n",
    "# kernel : 'linear', 'poly', 'rbf', 'sigmoid', 'precomputed' (default='rbf') \n",
    "svc = SVC(kernel ='poly')"
   ]
  },
  {
   "cell_type": "code",
   "execution_count": null,
   "metadata": {},
   "outputs": [],
   "source": [
    "svc.fit(X_train,y_train)"
   ]
  },
  {
   "cell_type": "code",
   "execution_count": null,
   "metadata": {},
   "outputs": [],
   "source": [
    "svc.score(X_test,y_test)"
   ]
  },
  {
   "cell_type": "code",
   "execution_count": null,
   "metadata": {},
   "outputs": [],
   "source": [
    "svc = SVC(kernel ='linear')"
   ]
  },
  {
   "cell_type": "code",
   "execution_count": null,
   "metadata": {},
   "outputs": [],
   "source": [
    "svc.fit(X_train,y_train)"
   ]
  },
  {
   "cell_type": "code",
   "execution_count": null,
   "metadata": {},
   "outputs": [],
   "source": [
    "svc.score(X_test,y_test)"
   ]
  },
  {
   "cell_type": "markdown",
   "metadata": {},
   "source": [
    "Note that it took too long to run SVC with kernel = 'linear'. SO task abort"
   ]
  },
  {
   "cell_type": "markdown",
   "metadata": {},
   "source": [
    "# Recursive feature elimination with cross-validation"
   ]
  },
  {
   "cell_type": "code",
   "execution_count": null,
   "metadata": {},
   "outputs": [],
   "source": [
    "from sklearn.model_selection import StratifiedKFold\n",
    "from sklearn.feature_selection import RFECV"
   ]
  }
 ],
 "metadata": {
  "kernelspec": {
   "display_name": "hw",
   "language": "python",
   "name": "hw"
  },
  "language_info": {
   "codemirror_mode": {
    "name": "ipython",
    "version": 3
   },
   "file_extension": ".py",
   "mimetype": "text/x-python",
   "name": "python",
   "nbconvert_exporter": "python",
   "pygments_lexer": "ipython3",
   "version": "3.7.7"
  }
 },
 "nbformat": 4,
 "nbformat_minor": 4
}
