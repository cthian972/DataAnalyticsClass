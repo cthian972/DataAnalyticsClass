{
 "cells": [
  {
   "cell_type": "markdown",
   "metadata": {},
   "source": [
    "## Credit One Customers' Credit Limit Setting and Default Reduction"
   ]
  },
  {
   "cell_type": "markdown",
   "metadata": {},
   "source": [
    "### Import libraries"
   ]
  },
  {
   "cell_type": "code",
   "execution_count": 1,
   "metadata": {},
   "outputs": [],
   "source": [
    "# import the following libraries.  \n",
    "import pandas as pd\n",
    "import numpy as np\n",
    "import matplotlib.pyplot as plt \n",
    "import seaborn as sns\n",
    "import scipy\n",
    "from math import sqrt\n",
    "from scipy import stats # To interpret output\n",
    "#import statsmodels.api as sm"
   ]
  },
  {
   "cell_type": "code",
   "execution_count": 2,
   "metadata": {},
   "outputs": [],
   "source": [
    "# Leverage the built in preprocessing machine learning Models in the libraries\n",
    "# \n",
    "from sklearn.preprocessing import PolynomialFeatures\n",
    "from sklearn.preprocessing import RobustScaler\n",
    "from sklearn.preprocessing import StandardScaler\n",
    "from sklearn.preprocessing import QuantileTransformer"
   ]
  },
  {
   "cell_type": "code",
   "execution_count": 91,
   "metadata": {},
   "outputs": [],
   "source": [
    "# Leverage the built in machine learning Models in the libraries\n",
    "# import different estimators\n",
    "from sklearn.linear_model import LinearRegression\n",
    "from sklearn.linear_model import LogisticRegression\n",
    "from sklearn.linear_model import BayesianRidge\n",
    "from sklearn.linear_model import Lasso\n",
    "\n",
    "from sklearn.svm import SVR\n",
    "from sklearn.ensemble import RandomForestRegressor\n",
    "from sklearn.ensemble import RandomForestClassifier\n",
    "from sklearn.ensemble import GradientBoostingClassifier #GB builds an additive model in a forward stage-wise\n",
    "\n",
    "from sklearn.tree import DecisionTreeClassifier\n",
    "from sklearn.tree import export_graphviz # Export decision tree in DOT format\n",
    "\n",
    "from sklearn.neighbors import KNeighborsClassifier\n",
    "\n",
    "from sklearn.model_selection import GridSearchCV\n",
    "from sklearn.model_selection import cross_val_score # Import cross_val_score function\n",
    "\n",
    "from sklearn.decomposition import PCA"
   ]
  },
  {
   "cell_type": "code",
   "execution_count": 4,
   "metadata": {},
   "outputs": [],
   "source": [
    "#model metrics\n",
    "from sklearn.metrics import mean_squared_error\n",
    "from sklearn.metrics import accuracy_score\n",
    "from sklearn.metrics import mean_absolute_error\n",
    "from sklearn.metrics import r2_score\n",
    "from sklearn.metrics import classification_report\n",
    "from sklearn.metrics import confusion_matrix\n",
    "from sklearn.model_selection import cross_val_score\n",
    "from sklearn.metrics import roc_auc_score\n",
    "from sklearn.metrics import roc_curve"
   ]
  },
  {
   "cell_type": "code",
   "execution_count": 5,
   "metadata": {},
   "outputs": [],
   "source": [
    "#cross validation\n",
    "from sklearn.model_selection import train_test_split # Split arrays/matrices into random train and test subsets"
   ]
  },
  {
   "cell_type": "markdown",
   "metadata": {},
   "source": [
    "### import Credit One data"
   ]
  },
  {
   "cell_type": "code",
   "execution_count": 6,
   "metadata": {},
   "outputs": [],
   "source": [
    "# We can use the new 'pd' reference and run the read_csv function from within Pandas to import our data as follows:\n",
    "credit = pd.read_csv('default of credit card clients.csv', header =1)\n",
    "\n",
    "# Note that the first row of the data file is excluded."
   ]
  },
  {
   "cell_type": "code",
   "execution_count": 7,
   "metadata": {},
   "outputs": [],
   "source": [
    "# remove redundant columns\n",
    "credit=credit.drop(['ID'], axis=1)"
   ]
  },
  {
   "cell_type": "markdown",
   "metadata": {},
   "source": [
    "### Dealing with non-numeric data (One-Hot Encoding)"
   ]
  },
  {
   "cell_type": "markdown",
   "metadata": {},
   "source": [
    "We can see we have three variables that are listed as being the object data type; we need to covert these to 'Dummy variables' so they can be used in this multiple regression problem."
   ]
  },
  {
   "cell_type": "code",
   "execution_count": 8,
   "metadata": {},
   "outputs": [],
   "source": [
    "# Use the get_dummies() function within pandas to convert non-numeric columns to a series of binary numeric 'Dummy' columns\n",
    "credit = pd.get_dummies(credit)"
   ]
  },
  {
   "cell_type": "code",
   "execution_count": 9,
   "metadata": {},
   "outputs": [],
   "source": [
    "# rename to reduce the number of field name characters\n",
    "credit.rename({'SEX_male':'male','SEX_female':'female','default payment next month_default': 'default','default payment next month_not default': 'not_default', 'EDUCATION_high school': 'ED_hs', 'EDUCATION_graduate school': 'ED_gs','EDUCATION_other': 'ED_o', 'EDUCATION_university': 'ED_u'}, axis=1, inplace=True)"
   ]
  },
  {
   "cell_type": "markdown",
   "metadata": {},
   "source": [
    "### Create New variables"
   ]
  },
  {
   "cell_type": "code",
   "execution_count": 10,
   "metadata": {},
   "outputs": [],
   "source": [
    "# Create a variable TOTAL_BILL as the sum of all the 6 months' BILL_AMTs\n",
    "credit[\"TOTAL_BILL\"] = credit[\"BILL_AMT1\"]+credit[\"BILL_AMT2\"]+credit[\"BILL_AMT3\"]+credit[\"BILL_AMT4\"]+credit[\"BILL_AMT5\"]+credit[\"BILL_AMT6\"]"
   ]
  },
  {
   "cell_type": "code",
   "execution_count": 11,
   "metadata": {},
   "outputs": [],
   "source": [
    "# Create a variable AVE_BILL as the average of all the 6 months' BILL_AMTs\n",
    "credit[\"AVE_BILL\"] =credit[\"TOTAL_BILL\"]/6"
   ]
  },
  {
   "cell_type": "code",
   "execution_count": 12,
   "metadata": {},
   "outputs": [],
   "source": [
    "# Create a variable TOTAL_PAY as the sum of all the 6 months' PAY_AMTs\n",
    "credit[\"TOTAL_PAY\"] = credit[\"PAY_AMT1\"]+credit[\"PAY_AMT2\"]+credit[\"PAY_AMT3\"]+credit[\"PAY_AMT4\"]+credit[\"PAY_AMT5\"]+credit[\"PAY_AMT6\"]"
   ]
  },
  {
   "cell_type": "code",
   "execution_count": 13,
   "metadata": {},
   "outputs": [],
   "source": [
    "# Create a variable AVE_PAY_AMT as the average of all the 6 months' PAY_AMTs\n",
    "credit[\"AVE_PAY_AMT\"] =credit[\"TOTAL_PAY\"]/6"
   ]
  },
  {
   "cell_type": "code",
   "execution_count": 14,
   "metadata": {},
   "outputs": [],
   "source": [
    "# shift pay features for -2 to -1                                \n",
    "credit['PAY_0']=credit['PAY_0'].replace(-2,-1)\n",
    "credit['PAY_2']=credit['PAY_2'].replace(-2,-1)\n",
    "credit['PAY_3']=credit['PAY_3'].replace(-2,-1)\n",
    "credit['PAY_4']=credit['PAY_4'].replace(-2,-1)\n",
    "credit['PAY_5']=credit['PAY_5'].replace(-2,-1)\n",
    "credit['PAY_6']=credit['PAY_6'].replace(-2,-1)"
   ]
  },
  {
   "cell_type": "code",
   "execution_count": 15,
   "metadata": {},
   "outputs": [],
   "source": [
    "# Create another variable PAY_STATUS : first assign all non positive of PAY_x as 0, and then sum them up\n",
    "credit['PAY_0']=credit['PAY_0'].replace(-1,0)\n",
    "credit['PAY_2']=credit['PAY_2'].replace(-1,0)\n",
    "credit['PAY_3']=credit['PAY_3'].replace(-1,0)\n",
    "credit['PAY_4']=credit['PAY_4'].replace(-1,0)\n",
    "credit['PAY_5']=credit['PAY_5'].replace(-1,0)\n",
    "credit['PAY_6']=credit['PAY_6'].replace(-1,0)\n",
    "\n",
    "credit[\"PAY_STATUS\"] = credit[\"PAY_0\"]+credit[\"PAY_2\"]+credit[\"PAY_3\"]+credit[\"PAY_4\"]+credit[\"PAY_5\"]+credit[\"PAY_6\"]"
   ]
  },
  {
   "cell_type": "code",
   "execution_count": 16,
   "metadata": {},
   "outputs": [],
   "source": [
    "# remove redundant columns\n",
    "credit=credit.drop(['BILL_AMT1','BILL_AMT2','BILL_AMT3','BILL_AMT4','BILL_AMT5','BILL_AMT6','TOTAL_BILL','TOTAL_PAY'], axis=1)"
   ]
  },
  {
   "cell_type": "code",
   "execution_count": 17,
   "metadata": {},
   "outputs": [],
   "source": [
    "# Replaced EDU from 4 columns to 1 column, as time in education.\n",
    "# Create EDU as 1 to 4: 4-graduate school(longest time in school), 3-university, 2-high school, 1-others.\n",
    "credit['EDU'] = credit['ED_o']\n",
    "credit.loc[credit['ED_gs'] == 1, 'EDU'] = 4\n",
    "credit.loc[credit['ED_u'] == 1, 'EDU'] = 3\n",
    "credit.loc[credit['ED_hs'] == 1, 'EDU'] = 2\n",
    "credit=credit.drop(['ED_gs','ED_hs','ED_o','ED_u','not_default','female'], axis=1)"
   ]
  },
  {
   "cell_type": "markdown",
   "metadata": {},
   "source": [
    "## Identify key features that affect credit limits, \"LIMIT_BAL\"\n",
    "### PreProcessing Data"
   ]
  },
  {
   "cell_type": "code",
   "execution_count": 18,
   "metadata": {},
   "outputs": [],
   "source": [
    "# create a Python list of feature names\n",
    "feature_bal = ['MARRIAGE','AGE','male','AVE_BILL','PAY_AMT1','PAY_AMT2','PAY_AMT3','PAY_AMT4','PAY_AMT5','PAY_AMT6','PAY_STATUS','PAY_pcount','zero_PAYMENT','EDU','default']\n",
    "# use the list to select a subset of the original DataFrame\n",
    "X_bal = credit[feature_bal]\n",
    "y_bal = credit['LIMIT_BAL']"
   ]
  },
  {
   "cell_type": "code",
   "execution_count": 19,
   "metadata": {},
   "outputs": [
    {
     "name": "stdout",
     "output_type": "stream",
     "text": [
      "Best degree 2 with RMSE 107633.27590045413\n"
     ]
    },
    {
     "data": {
      "text/plain": [
       "Text(0.5, 0, 'Degree')"
      ]
     },
     "execution_count": 19,
     "metadata": {},
     "output_type": "execute_result"
    },
    {
     "data": {
      "image/png": "[encoded data removed]",
      "text/plain": [
       "<Figure size 432x288 with 1 Axes>"
      ]
     },
     "metadata": {
      "needs_background": "light"
     },
     "output_type": "display_data"
    }
   ],
   "source": [
    "# copied from https://stackoverflow.com/questions/47442102/how-to-find-the-best-degree-of-polynomials\n",
    "x_train, x_test, y_train, y_test = train_test_split(X_bal, y_bal, test_size=0.3)\n",
    "\n",
    "rmses = []\n",
    "degrees = np.arange(1, 4)\n",
    "min_rmse, min_deg = 1e10, 0\n",
    "\n",
    "for deg in degrees:\n",
    "\n",
    "    # Train features\n",
    "    poly_features = PolynomialFeatures(degree=deg, include_bias=False)\n",
    "    x_poly_train = poly_features.fit_transform(x_train)\n",
    "\n",
    "    # Linear regression\n",
    "    poly_reg = LinearRegression()\n",
    "    poly_reg.fit(x_poly_train, y_train)\n",
    "\n",
    "    # Compare with test data\n",
    "    x_poly_test = poly_features.fit_transform(x_test)\n",
    "    poly_predict = poly_reg.predict(x_poly_test)\n",
    "    poly_mse = mean_squared_error(y_test, poly_predict)\n",
    "    poly_rmse = np.sqrt(poly_mse)\n",
    "    rmses.append(poly_rmse)\n",
    "\n",
    "    # Cross-validation of degree\n",
    "    if min_rmse > poly_rmse:\n",
    "        min_rmse = poly_rmse\n",
    "        min_deg = deg\n",
    "\n",
    "# Plot and present results\n",
    "print('Best degree {} with RMSE {}'.format(min_deg, min_rmse))\n",
    "\n",
    "fig = plt.figure()\n",
    "ax = fig.add_subplot(111)\n",
    "ax.plot(degrees, rmses)\n",
    "ax.set_yscale('log')\n",
    "ax.set_xlabel('Degree')"
   ]
  },
  {
   "cell_type": "markdown",
   "metadata": {},
   "source": [
    "## Modeling Format:"
   ]
  },
  {
   "cell_type": "code",
   "execution_count": 20,
   "metadata": {},
   "outputs": [],
   "source": [
    "# prepare each regression algorithm\n",
    "algosClass = []\n",
    "algosClass.append(('Random Forest Regressor',RandomForestRegressor()))\n",
    "algosClass.append(('Linear Regression',LinearRegression()))\n",
    "algosClass.append(('LASSO', Lasso()))\n",
    "algosClass.append(('Ridge Regression', BayesianRidge()))\n",
    "algosClass.append(('Support Vector Regression',SVR()))"
   ]
  },
  {
   "cell_type": "code",
   "execution_count": 21,
   "metadata": {},
   "outputs": [],
   "source": [
    "# To build and assess both models recursively, we create an empty list to store the results and another to\n",
    "# hold the name of each algorithm so we can easily¶\n",
    "results = []\n",
    "names = []\n",
    "for name, model in algosClass:\n",
    "    result = cross_val_score(model, X_bal,y_bal, cv=3, scoring='r2')\n",
    "    names.append(name)\n",
    "    results.append(result)"
   ]
  },
  {
   "cell_type": "code",
   "execution_count": 22,
   "metadata": {},
   "outputs": [
    {
     "name": "stdout",
     "output_type": "stream",
     "text": [
      "Random Forest Regressor 0.4467956250885539\n",
      "Linear Regression 0.286516206846626\n",
      "LASSO 0.28651612700177637\n",
      "Ridge Regression 0.15541392343993676\n",
      "Support Vector Regression -0.0492082139490145\n"
     ]
    }
   ],
   "source": [
    "# print out the results and keep them separated as follows:\n",
    "for i in range(len(names)):\n",
    "    print(names[i],results[i].mean())"
   ]
  },
  {
   "cell_type": "markdown",
   "metadata": {},
   "source": [
    "#### Random Forest Regressor(RFR) has the highest r2. However, it is still <50%. So we will train RFR model. \n",
    "### Split the data"
   ]
  },
  {
   "cell_type": "code",
   "execution_count": 23,
   "metadata": {},
   "outputs": [],
   "source": [
    "# Train/Test Split: splitting data into 80% for training and 20% for testing and ensuring the data\n",
    "# is randomly stratified to prevent and bias from occurring due to any ordering of the data.\n",
    "X_train, X_test, y_train, y_test = train_test_split(X_bal, y_bal, test_size = .20, random_state=123)"
   ]
  },
  {
   "cell_type": "code",
   "execution_count": 24,
   "metadata": {},
   "outputs": [
    {
     "data": {
      "text/plain": [
       "RandomForestRegressor(bootstrap=True, ccp_alpha=0.0, criterion='mse',\n",
       "                      max_depth=None, max_features='auto', max_leaf_nodes=None,\n",
       "                      max_samples=None, min_impurity_decrease=0.0,\n",
       "                      min_impurity_split=None, min_samples_leaf=1,\n",
       "                      min_samples_split=2, min_weight_fraction_leaf=0.0,\n",
       "                      n_estimators=100, n_jobs=None, oob_score=False,\n",
       "                      random_state=None, verbose=0, warm_start=False)"
      ]
     },
     "execution_count": 24,
     "metadata": {},
     "output_type": "execute_result"
    }
   ],
   "source": [
    "#RFC = RandomForestClassifier()\n",
    "RFR = RandomForestRegressor()\n",
    "RFR.fit(X_train, y_train)"
   ]
  },
  {
   "cell_type": "code",
   "execution_count": 25,
   "metadata": {},
   "outputs": [
    {
     "data": {
      "text/plain": [
       "0.45692529323095504"
      ]
     },
     "execution_count": 25,
     "metadata": {},
     "output_type": "execute_result"
    }
   ],
   "source": [
    "RFR.score(X_test,y_test)"
   ]
  },
  {
   "cell_type": "code",
   "execution_count": 26,
   "metadata": {},
   "outputs": [],
   "source": [
    "y_pred_rfr = RFR.predict(X_test)"
   ]
  },
  {
   "cell_type": "code",
   "execution_count": 27,
   "metadata": {},
   "outputs": [
    {
     "data": {
      "image/png": "[encoded data removed]",
      "text/plain": [
       "<Figure size 432x288 with 1 Axes>"
      ]
     },
     "metadata": {
      "needs_background": "light"
     },
     "output_type": "display_data"
    }
   ],
   "source": [
    "plt.scatter(y_test, y_pred_rfr,  color='green', alpha = 0.4)\n",
    "plt.plot(y_test, y_test, color='red', linewidth=2)\n",
    "plt.xlabel('Ground Truth')\n",
    "plt.ylabel('Predictions')\n",
    "plt.show()"
   ]
  },
  {
   "cell_type": "code",
   "execution_count": 29,
   "metadata": {},
   "outputs": [
    {
     "name": "stdout",
     "output_type": "stream",
     "text": [
      "Mean Absolute Error: 68543.957 , Root Mean Squared Error: 94531.527 , R-squared: 0.457\n"
     ]
    }
   ],
   "source": [
    "# compare actual response values (y_test) with predicted response values (y_pred)\n",
    "mae = mean_absolute_error(y_test, y_pred_rfr)\n",
    "rmse = np.sqrt(mean_squared_error(y_test, y_pred_rfr))\n",
    "r_square = r2_score(y_test, y_pred_rfr, multioutput='variance_weighted')\n",
    "print('Mean Absolute Error: %5.3f'% mae,', Root Mean Squared Error: %6.3f'%rmse, ', R-squared: %.3f'% r_square)"
   ]
  },
  {
   "cell_type": "markdown",
   "metadata": {},
   "source": [
    "### Run Linear regression in scikit-learn"
   ]
  },
  {
   "cell_type": "code",
   "execution_count": 30,
   "metadata": {},
   "outputs": [],
   "source": [
    "linreg = LinearRegression()\n",
    "# fit the model to the training data (learn the coefficients)\n",
    "linreg.fit(X_train, y_train)\n",
    "# make predictions on the testing set\n",
    "y_pred_lm = linreg.predict(X_test)"
   ]
  },
  {
   "cell_type": "code",
   "execution_count": 31,
   "metadata": {},
   "outputs": [
    {
     "name": "stdout",
     "output_type": "stream",
     "text": [
      "Mean Absolute Error: 83385.099 , Root Mean Squared Error: 107967.848 , R-squared: 0.292\n"
     ]
    }
   ],
   "source": [
    "# compare actual response values (y_test) with predicted response values (y_pred)\n",
    "mae = mean_absolute_error(y_test, y_pred_lm)\n",
    "rmse = np.sqrt(mean_squared_error(y_test, y_pred_lm))\n",
    "r_square = r2_score(y_test, y_pred_lm, multioutput='variance_weighted')\n",
    "print('Mean Absolute Error: %5.3f'% mae,', Root Mean Squared Error: %6.3f'%rmse, ', R-squared: %.3f'% r_square)"
   ]
  },
  {
   "cell_type": "code",
   "execution_count": 32,
   "metadata": {},
   "outputs": [
    {
     "data": {
      "image/png": "[encoded data removed]",
      "text/plain": [
       "<Figure size 432x288 with 1 Axes>"
      ]
     },
     "metadata": {
      "needs_background": "light"
     },
     "output_type": "display_data"
    }
   ],
   "source": [
    "plt.scatter(y_test, y_pred_lm,  color='green', alpha = 0.4)\n",
    "plt.plot(y_test, y_test, color='red', linewidth=2)\n",
    "plt.xlabel('Ground Truth')\n",
    "plt.ylabel('Predictions')\n",
    "plt.show()"
   ]
  },
  {
   "cell_type": "markdown",
   "metadata": {},
   "source": [
    "#### Principal Component Analysis (PCA)"
   ]
  },
  {
   "cell_type": "markdown",
   "metadata": {},
   "source": [
    "PCA identifies highly correlated features and remove the redundant data for prediction, thus reduces dimensions"
   ]
  },
  {
   "cell_type": "code",
   "execution_count": 33,
   "metadata": {},
   "outputs": [],
   "source": [
    "pca = PCA(n_components=5)  # n_components specifies the new dimensionality\n",
    "X_reduced = pca.fit(X_bal).transform(X_bal) # or just pca.fit_transform(X)\n",
    "X_reduced = pd.DataFrame(data=X_reduced, columns=['x1','x2','x3','x4','x5'])"
   ]
  },
  {
   "cell_type": "code",
   "execution_count": 34,
   "metadata": {},
   "outputs": [
    {
     "name": "stdout",
     "output_type": "stream",
     "text": [
      "Explained Variance: [4.08863089e+09 6.15852003e+08 3.21890702e+08 2.61932362e+08\n",
      " 2.12791961e+08]\n",
      "Explained Variance Ratio: [0.69157654 0.10416905 0.0544466  0.04430487 0.03599296]\n"
     ]
    }
   ],
   "source": [
    "#print('Components:', pca.components_)\n",
    "print('Explained Variance:', pca.explained_variance_)\n",
    "print('Explained Variance Ratio:', pca.explained_variance_ratio_ )"
   ]
  },
  {
   "cell_type": "markdown",
   "metadata": {},
   "source": [
    "PCA X1 explains 69.2% of the variation, and X2 explains 10.4%. Together is 79.6%"
   ]
  },
  {
   "cell_type": "code",
   "execution_count": 35,
   "metadata": {},
   "outputs": [
    {
     "data": {
      "text/plain": [
       "<matplotlib.axes._subplots.AxesSubplot at 0x1bfba9069c8>"
      ]
     },
     "execution_count": 35,
     "metadata": {},
     "output_type": "execute_result"
    },
    {
     "data": {
      "image/png": "[encoded data removed]",
      "text/plain": [
       "<Figure size 432x288 with 1 Axes>"
      ]
     },
     "metadata": {
      "needs_background": "light"
     },
     "output_type": "display_data"
    }
   ],
   "source": [
    "sns.scatterplot(x='x1', y='x2', hue=y_bal ,data=X_reduced)"
   ]
  },
  {
   "cell_type": "code",
   "execution_count": 37,
   "metadata": {},
   "outputs": [
    {
     "data": {
      "text/plain": [
       "<matplotlib.axes._subplots.AxesSubplot at 0x1bfba884c88>"
      ]
     },
     "execution_count": 37,
     "metadata": {},
     "output_type": "execute_result"
    },
    {
     "data": {
      "image/png": "[encoded data removed]",
      "text/plain": [
       "<Figure size 432x288 with 1 Axes>"
      ]
     },
     "metadata": {
      "needs_background": "light"
     },
     "output_type": "display_data"
    }
   ],
   "source": [
    "from sklearn.decomposition import IncrementalPCA\n",
    "ipca = IncrementalPCA(n_components=5, batch_size=10) # batch_size specifies the number of samples per batch\n",
    "X_reduced = pca.fit(X_bal).transform(X_bal) # or just pca.fit_transform(X)\n",
    "X_reduced = pd.DataFrame(data=X_reduced, columns=['a1','a2','a3','a4','a5'])\n",
    "sns.scatterplot(x='a1', y='a3', hue=y_bal ,data=X_reduced)"
   ]
  },
  {
   "cell_type": "code",
   "execution_count": 38,
   "metadata": {},
   "outputs": [
    {
     "data": {
      "text/plain": [
       "<matplotlib.axes._subplots.AxesSubplot at 0x1bfbcdf8f48>"
      ]
     },
     "execution_count": 38,
     "metadata": {},
     "output_type": "execute_result"
    },
    {
     "data": {
      "image/png": "[encoded data removed]",
      "text/plain": [
       "<Figure size 432x288 with 1 Axes>"
      ]
     },
     "metadata": {
      "needs_background": "light"
     },
     "output_type": "display_data"
    }
   ],
   "source": [
    "sns.scatterplot(x='a1', y='a2', hue=y_bal ,data=X_reduced)"
   ]
  },
  {
   "cell_type": "code",
   "execution_count": 39,
   "metadata": {},
   "outputs": [
    {
     "data": {
      "text/plain": [
       "<matplotlib.axes._subplots.AxesSubplot at 0x1bfce0abd48>"
      ]
     },
     "execution_count": 39,
     "metadata": {},
     "output_type": "execute_result"
    },
    {
     "data": {
      "image/png": "[encoded data removed]",
      "text/plain": [
       "<Figure size 432x288 with 1 Axes>"
      ]
     },
     "metadata": {
      "needs_background": "light"
     },
     "output_type": "display_data"
    }
   ],
   "source": [
    "sns.scatterplot(x='a2', y='a3', hue=y_bal ,data=X_reduced)"
   ]
  },
  {
   "cell_type": "code",
   "execution_count": 40,
   "metadata": {},
   "outputs": [
    {
     "data": {
      "text/plain": [
       "<matplotlib.axes._subplots.AxesSubplot at 0x1bfe4bcaf48>"
      ]
     },
     "execution_count": 40,
     "metadata": {},
     "output_type": "execute_result"
    },
    {
     "data": {
      "image/png": "[encoded data removed]",
      "text/plain": [
       "<Figure size 432x288 with 1 Axes>"
      ]
     },
     "metadata": {
      "needs_background": "light"
     },
     "output_type": "display_data"
    }
   ],
   "source": [
    "sns.scatterplot(x='a4', y='a5', hue=y_bal ,data=X_reduced)"
   ]
  },
  {
   "cell_type": "code",
   "execution_count": null,
   "metadata": {},
   "outputs": [],
   "source": []
  },
  {
   "cell_type": "markdown",
   "metadata": {},
   "source": [
    "### Transform LIMIT_BAL from continuous values into categorical variables , LIMIT_BAL_GP,LIMIT_BAL_GPx"
   ]
  },
  {
   "cell_type": "code",
   "execution_count": 48,
   "metadata": {},
   "outputs": [],
   "source": [
    "# Convert LIMIT_BAL from Continuous variable to categorical data\n",
    "# Create LIMI_BAL_GP\n",
    "# Use floor_divide by 100000 to get the tens, then multiply by 100000. \n",
    "# Create 5 groups\n",
    "credit['LIMIT_BAL_GP'] = np.floor_divide(credit['LIMIT_BAL'],100000)\n",
    "credit.loc[credit['LIMIT_BAL_GP'] == 0, 'LIMIT_BAL_GP'] = \"<100000\"\n",
    "credit.loc[credit['LIMIT_BAL_GP'] == 1, 'LIMIT_BAL_GP'] = \"<200000\"\n",
    "credit.loc[credit['LIMIT_BAL_GP'] == 2, 'LIMIT_BAL_GP'] = \"<300000\"\n",
    "credit.loc[credit['LIMIT_BAL_GP'] == 3, 'LIMIT_BAL_GP'] = \"<400000\"\n",
    "credit.loc[credit['LIMIT_BAL_GP'] == 4, 'LIMIT_BAL_GP'] = \">=400000\"\n",
    "credit.loc[credit['LIMIT_BAL_GP'] == 5, 'LIMIT_BAL_GP'] = \">=400000\"\n",
    "credit.loc[credit['LIMIT_BAL_GP'] == 6, 'LIMIT_BAL_GP'] = \">=400000\"\n",
    "credit.loc[credit['LIMIT_BAL_GP'] == 7, 'LIMIT_BAL_GP'] = \">=400000\"\n",
    "credit.loc[credit['LIMIT_BAL_GP'] == 8, 'LIMIT_BAL_GP'] = \">=400000\"\n",
    "credit.loc[credit['LIMIT_BAL_GP'] == 9, 'LIMIT_BAL_GP'] = \">=400000\"\n",
    "credit.loc[credit['LIMIT_BAL_GP'] == 10, 'LIMIT_BAL_GP'] = \">=400000\"\n",
    "# Create LIMI_BAL_GP"
   ]
  },
  {
   "cell_type": "code",
   "execution_count": 49,
   "metadata": {},
   "outputs": [],
   "source": [
    "# Use the grouped LIMIT_BAL\n",
    "y = credit.LIMIT_BAL_GP"
   ]
  },
  {
   "cell_type": "code",
   "execution_count": 50,
   "metadata": {},
   "outputs": [
    {
     "name": "stdout",
     "output_type": "stream",
     "text": [
      "[0.49466667 0.493      0.50166667 0.48433333 0.51133333 0.51566667\n",
      " 0.499      0.49066667 0.51166667 0.506     ]\n"
     ]
    }
   ],
   "source": [
    "# 10-fold cross-validation with K=5 for KNN (the n_neighbors parameter)\n",
    "knn = KNeighborsClassifier(n_neighbors=5)\n",
    "scores = cross_val_score(knn, X_bal, y, cv=10, scoring='accuracy')\n",
    "print(scores)"
   ]
  },
  {
   "cell_type": "code",
   "execution_count": 51,
   "metadata": {},
   "outputs": [
    {
     "name": "stdout",
     "output_type": "stream",
     "text": [
      "0.5008\n"
     ]
    }
   ],
   "source": [
    "# use average accuracy as an estimate of out-of-sample accuracy\n",
    "print(scores.mean())"
   ]
  },
  {
   "cell_type": "code",
   "execution_count": 52,
   "metadata": {},
   "outputs": [],
   "source": [
    "feature2 = ['MARRIAGE','AGE','male','AVE_BILL','AVE_PAY_AMT','PAY_STATUS','PAY_pcount','zero_PAYMENT','EDU','default']\n",
    "# use the list to select a subset of the original DataFrame\n",
    "X2 = credit[feature2]\n",
    "y2 = credit['LIMIT_BAL_GP']\n",
    "\n",
    "X2_train, X2_test, y2_train, y2_test = train_test_split(X2, y2, random_state=123)"
   ]
  },
  {
   "cell_type": "code",
   "execution_count": 53,
   "metadata": {},
   "outputs": [
    {
     "name": "stdout",
     "output_type": "stream",
     "text": [
      "[0.493      0.49066667 0.50533333 0.48533333 0.50733333 0.518\n",
      " 0.496      0.50133333 0.498      0.50666667]\n"
     ]
    }
   ],
   "source": [
    "knn = KNeighborsClassifier(n_neighbors=7)\n",
    "scores = cross_val_score(knn, X2, y2, cv=10, scoring='accuracy')\n",
    "print(scores)"
   ]
  },
  {
   "cell_type": "code",
   "execution_count": 56,
   "metadata": {},
   "outputs": [
    {
     "name": "stdout",
     "output_type": "stream",
     "text": [
      "[0.5008, 0.5027333333333333, 0.5045666666666667, 0.5077333333333334, 0.5115666666666667, 0.5128, 0.5125333333333334, 0.5154666666666666, 0.516, 0.5179666666666667, 0.5177666666666666, 0.5184666666666666, 0.5181, 0.5192, 0.5195000000000001, 0.5212, 0.5196999999999999]\n"
     ]
    }
   ],
   "source": [
    "# search for an optimal value of K for KNN\n",
    "k_range = list(range(5, 22))\n",
    "k_scores = []\n",
    "for k in k_range:\n",
    "    knn = KNeighborsClassifier(n_neighbors=k)\n",
    "    scores = cross_val_score(knn, X_bal, y, cv=10, scoring='accuracy')\n",
    "    k_scores.append(scores.mean())\n",
    "print(k_scores)"
   ]
  },
  {
   "cell_type": "code",
   "execution_count": 57,
   "metadata": {},
   "outputs": [
    {
     "data": {
      "text/plain": [
       "Text(0, 0.5, 'Cross-Validated Accuracy')"
      ]
     },
     "execution_count": 57,
     "metadata": {},
     "output_type": "execute_result"
    },
    {
     "data": {
      "image/png": "[encoded data removed]",
      "text/plain": [
       "<Figure size 432x288 with 1 Axes>"
      ]
     },
     "metadata": {
      "needs_background": "light"
     },
     "output_type": "display_data"
    }
   ],
   "source": [
    "# plot the value of K for KNN (x-axis) versus the cross-validated accuracy (y-axis)\n",
    "plt.plot(k_range, k_scores)\n",
    "plt.xlabel('Value of K for KNN')\n",
    "plt.ylabel('Cross-Validated Accuracy')"
   ]
  },
  {
   "cell_type": "markdown",
   "metadata": {},
   "source": [
    "k=20 has the highest accuracy of ~0.52"
   ]
  },
  {
   "cell_type": "code",
   "execution_count": 58,
   "metadata": {},
   "outputs": [],
   "source": [
    "# define the parameter values that should be searched\n",
    "k_range = list(range(16, 22))\n",
    "weight_options = ['uniform', 'distance']"
   ]
  },
  {
   "cell_type": "code",
   "execution_count": 59,
   "metadata": {},
   "outputs": [
    {
     "name": "stdout",
     "output_type": "stream",
     "text": [
      "{'n_neighbors': [16, 17, 18, 19, 20, 21], 'weights': ['uniform', 'distance']}\n"
     ]
    }
   ],
   "source": [
    "# create a parameter grid: map the parameter names to the values that should be searched\n",
    "param_grid = dict(n_neighbors=k_range, weights=weight_options)\n",
    "print(param_grid)"
   ]
  },
  {
   "cell_type": "code",
   "execution_count": 60,
   "metadata": {},
   "outputs": [
    {
     "data": {
      "text/plain": [
       "GridSearchCV(cv=10, error_score=nan,\n",
       "             estimator=KNeighborsClassifier(algorithm='auto', leaf_size=30,\n",
       "                                            metric='minkowski',\n",
       "                                            metric_params=None, n_jobs=None,\n",
       "                                            n_neighbors=21, p=2,\n",
       "                                            weights='uniform'),\n",
       "             iid='deprecated', n_jobs=None,\n",
       "             param_grid={'n_neighbors': [16, 17, 18, 19, 20, 21],\n",
       "                         'weights': ['uniform', 'distance']},\n",
       "             pre_dispatch='2*n_jobs', refit=True, return_train_score=False,\n",
       "             scoring='accuracy', verbose=0)"
      ]
     },
     "execution_count": 60,
     "metadata": {},
     "output_type": "execute_result"
    }
   ],
   "source": [
    "# instantiate and fit the grid\n",
    "grid = GridSearchCV(knn, param_grid, cv=10, scoring='accuracy', return_train_score=False)\n",
    "grid.fit(X2, y2)"
   ]
  },
  {
   "cell_type": "code",
   "execution_count": 61,
   "metadata": {},
   "outputs": [
    {
     "data": {
      "text/html": [
       "<div>\n",
       "<style scoped>\n",
       "    .dataframe tbody tr th:only-of-type {\n",
       "        vertical-align: middle;\n",
       "    }\n",
       "\n",
       "    .dataframe tbody tr th {\n",
       "        vertical-align: top;\n",
       "    }\n",
       "\n",
       "    .dataframe thead th {\n",
       "        text-align: right;\n",
       "    }\n",
       "</style>\n",
       "<table border=\"1\" class=\"dataframe\">\n",
       "  <thead>\n",
       "    <tr style=\"text-align: right;\">\n",
       "      <th></th>\n",
       "      <th>mean_test_score</th>\n",
       "      <th>std_test_score</th>\n",
       "      <th>params</th>\n",
       "    </tr>\n",
       "  </thead>\n",
       "  <tbody>\n",
       "    <tr>\n",
       "      <th>0</th>\n",
       "      <td>0.513300</td>\n",
       "      <td>0.008935</td>\n",
       "      <td>{'n_neighbors': 16, 'weights': 'uniform'}</td>\n",
       "    </tr>\n",
       "    <tr>\n",
       "      <th>1</th>\n",
       "      <td>0.502100</td>\n",
       "      <td>0.011437</td>\n",
       "      <td>{'n_neighbors': 16, 'weights': 'distance'}</td>\n",
       "    </tr>\n",
       "    <tr>\n",
       "      <th>2</th>\n",
       "      <td>0.515033</td>\n",
       "      <td>0.008739</td>\n",
       "      <td>{'n_neighbors': 17, 'weights': 'uniform'}</td>\n",
       "    </tr>\n",
       "    <tr>\n",
       "      <th>3</th>\n",
       "      <td>0.503633</td>\n",
       "      <td>0.011000</td>\n",
       "      <td>{'n_neighbors': 17, 'weights': 'distance'}</td>\n",
       "    </tr>\n",
       "    <tr>\n",
       "      <th>4</th>\n",
       "      <td>0.515167</td>\n",
       "      <td>0.008710</td>\n",
       "      <td>{'n_neighbors': 18, 'weights': 'uniform'}</td>\n",
       "    </tr>\n",
       "    <tr>\n",
       "      <th>5</th>\n",
       "      <td>0.503667</td>\n",
       "      <td>0.011928</td>\n",
       "      <td>{'n_neighbors': 18, 'weights': 'distance'}</td>\n",
       "    </tr>\n",
       "    <tr>\n",
       "      <th>6</th>\n",
       "      <td>0.515200</td>\n",
       "      <td>0.009542</td>\n",
       "      <td>{'n_neighbors': 19, 'weights': 'uniform'}</td>\n",
       "    </tr>\n",
       "    <tr>\n",
       "      <th>7</th>\n",
       "      <td>0.505533</td>\n",
       "      <td>0.011031</td>\n",
       "      <td>{'n_neighbors': 19, 'weights': 'distance'}</td>\n",
       "    </tr>\n",
       "    <tr>\n",
       "      <th>8</th>\n",
       "      <td>0.516567</td>\n",
       "      <td>0.009838</td>\n",
       "      <td>{'n_neighbors': 20, 'weights': 'uniform'}</td>\n",
       "    </tr>\n",
       "    <tr>\n",
       "      <th>9</th>\n",
       "      <td>0.506767</td>\n",
       "      <td>0.011057</td>\n",
       "      <td>{'n_neighbors': 20, 'weights': 'distance'}</td>\n",
       "    </tr>\n",
       "    <tr>\n",
       "      <th>10</th>\n",
       "      <td>0.515733</td>\n",
       "      <td>0.009850</td>\n",
       "      <td>{'n_neighbors': 21, 'weights': 'uniform'}</td>\n",
       "    </tr>\n",
       "    <tr>\n",
       "      <th>11</th>\n",
       "      <td>0.506367</td>\n",
       "      <td>0.010218</td>\n",
       "      <td>{'n_neighbors': 21, 'weights': 'distance'}</td>\n",
       "    </tr>\n",
       "  </tbody>\n",
       "</table>\n",
       "</div>"
      ],
      "text/plain": [
       "    mean_test_score  std_test_score  \\\n",
       "0          0.513300        0.008935   \n",
       "1          0.502100        0.011437   \n",
       "2          0.515033        0.008739   \n",
       "3          0.503633        0.011000   \n",
       "4          0.515167        0.008710   \n",
       "5          0.503667        0.011928   \n",
       "6          0.515200        0.009542   \n",
       "7          0.505533        0.011031   \n",
       "8          0.516567        0.009838   \n",
       "9          0.506767        0.011057   \n",
       "10         0.515733        0.009850   \n",
       "11         0.506367        0.010218   \n",
       "\n",
       "                                        params  \n",
       "0    {'n_neighbors': 16, 'weights': 'uniform'}  \n",
       "1   {'n_neighbors': 16, 'weights': 'distance'}  \n",
       "2    {'n_neighbors': 17, 'weights': 'uniform'}  \n",
       "3   {'n_neighbors': 17, 'weights': 'distance'}  \n",
       "4    {'n_neighbors': 18, 'weights': 'uniform'}  \n",
       "5   {'n_neighbors': 18, 'weights': 'distance'}  \n",
       "6    {'n_neighbors': 19, 'weights': 'uniform'}  \n",
       "7   {'n_neighbors': 19, 'weights': 'distance'}  \n",
       "8    {'n_neighbors': 20, 'weights': 'uniform'}  \n",
       "9   {'n_neighbors': 20, 'weights': 'distance'}  \n",
       "10   {'n_neighbors': 21, 'weights': 'uniform'}  \n",
       "11  {'n_neighbors': 21, 'weights': 'distance'}  "
      ]
     },
     "execution_count": 61,
     "metadata": {},
     "output_type": "execute_result"
    }
   ],
   "source": [
    "# view the results as a pandas DataFrame\n",
    "pd.DataFrame(grid.cv_results_)[['mean_test_score', 'std_test_score', 'params']]"
   ]
  },
  {
   "cell_type": "code",
   "execution_count": 62,
   "metadata": {},
   "outputs": [],
   "source": [
    "# create LIMI_BAL_GP1\n",
    "# Use floor_divide by 100000 to get the tens, then multiply by 100000. \n",
    "credit['LIMIT_BAL_GP1'] = np.floor_divide(credit['LIMIT_BAL'],100000)\n",
    "credit.loc[credit['LIMIT_BAL_GP1'] == 0, 'LIMIT_BAL_GP1'] = \"<100000\"\n",
    "credit.loc[credit['LIMIT_BAL_GP1'] == 1, 'LIMIT_BAL_GP1'] = \"<200000\"\n",
    "credit.loc[credit['LIMIT_BAL_GP1'] == 2, 'LIMIT_BAL_GP1'] = \"<300000\"\n",
    "credit.loc[credit['LIMIT_BAL_GP1'] == 3, 'LIMIT_BAL_GP1'] = \">=300000\"\n",
    "credit.loc[credit['LIMIT_BAL_GP1'] == 4, 'LIMIT_BAL_GP1'] = \">=300000\"\n",
    "credit.loc[credit['LIMIT_BAL_GP1'] == 5, 'LIMIT_BAL_GP1'] = \">=300000\"\n",
    "credit.loc[credit['LIMIT_BAL_GP1'] == 6, 'LIMIT_BAL_GP1'] = \">=300000\"\n",
    "credit.loc[credit['LIMIT_BAL_GP1'] == 7, 'LIMIT_BAL_GP1'] = \">=300000\"\n",
    "credit.loc[credit['LIMIT_BAL_GP1'] == 8, 'LIMIT_BAL_GP1'] = \">=300000\"\n",
    "credit.loc[credit['LIMIT_BAL_GP1'] == 9, 'LIMIT_BAL_GP1'] = \">=300000\"\n",
    "credit.loc[credit['LIMIT_BAL_GP1'] == 10, 'LIMIT_BAL_GP1'] = \">=300000\""
   ]
  },
  {
   "cell_type": "code",
   "execution_count": 63,
   "metadata": {},
   "outputs": [],
   "source": [
    "feature3 = ['MARRIAGE','AGE','male','AVE_BILL','AVE_PAY_AMT','PAY_STATUS','PAY_pcount','zero_PAYMENT','EDU','default']\n",
    "# use the list to select a subset of the original DataFrame\n",
    "X3 = credit[feature3]\n",
    "y3 = credit['LIMIT_BAL_GP1']"
   ]
  },
  {
   "cell_type": "code",
   "execution_count": 70,
   "metadata": {},
   "outputs": [
    {
     "name": "stdout",
     "output_type": "stream",
     "text": [
      "[0.496      0.49733333 0.50766667 0.50666667 0.51233333 0.53133333\n",
      " 0.514      0.50366667 0.50466667 0.51333333]\n"
     ]
    }
   ],
   "source": [
    "# 10-fold cross-validation with K=5 for KNN (the n_neighbors parameter)\n",
    "knn = KNeighborsClassifier(n_neighbors=5)\n",
    "scores = cross_val_score(knn, X3, y3, cv=10, scoring='accuracy')\n",
    "print(scores)"
   ]
  },
  {
   "cell_type": "code",
   "execution_count": 71,
   "metadata": {},
   "outputs": [
    {
     "name": "stdout",
     "output_type": "stream",
     "text": [
      "0.5087000000000002\n"
     ]
    }
   ],
   "source": [
    "# use average accuracy as an estimate of out-of-sample accuracy\n",
    "print(scores.mean())"
   ]
  },
  {
   "cell_type": "markdown",
   "metadata": {},
   "source": [
    "LIMI_BAL_GP1 grouping is not very good"
   ]
  },
  {
   "cell_type": "code",
   "execution_count": 64,
   "metadata": {},
   "outputs": [],
   "source": [
    "# create LIMI_BAL_GP2\n",
    "# Use floor_divide by 100000 to get the tens, then multiply by 100000. \n",
    "credit['LIMIT_BAL_GP2'] = np.floor_divide(credit['LIMIT_BAL'],100000)\n",
    "credit.loc[credit['LIMIT_BAL_GP2'] == 0, 'LIMIT_BAL_GP2'] = \"<200000\"\n",
    "credit.loc[credit['LIMIT_BAL_GP2'] == 1, 'LIMIT_BAL_GP2'] = \"<200000\"\n",
    "credit.loc[credit['LIMIT_BAL_GP2'] == 2, 'LIMIT_BAL_GP2'] = \"<400000\"\n",
    "credit.loc[credit['LIMIT_BAL_GP2'] == 3, 'LIMIT_BAL_GP2'] = \"<400000\"\n",
    "credit.loc[credit['LIMIT_BAL_GP2'] == 4, 'LIMIT_BAL_GP2'] = \">=400000\"\n",
    "credit.loc[credit['LIMIT_BAL_GP2'] == 5, 'LIMIT_BAL_GP2'] = \">=400000\"\n",
    "credit.loc[credit['LIMIT_BAL_GP2'] == 6, 'LIMIT_BAL_GP2'] = \">=400000\"\n",
    "credit.loc[credit['LIMIT_BAL_GP2'] == 7, 'LIMIT_BAL_GP2'] = \">=400000\"\n",
    "credit.loc[credit['LIMIT_BAL_GP2'] == 8, 'LIMIT_BAL_GP2'] = \">=400000\"\n",
    "credit.loc[credit['LIMIT_BAL_GP2'] == 9, 'LIMIT_BAL_GP2'] = \">=400000\"\n",
    "credit.loc[credit['LIMIT_BAL_GP2'] == 10, 'LIMIT_BAL_GP2'] = \">=400000\""
   ]
  },
  {
   "cell_type": "code",
   "execution_count": 65,
   "metadata": {},
   "outputs": [],
   "source": [
    "feature4 = ['MARRIAGE','AGE','male','AVE_BILL','PAY_AMT1','PAY_AMT2','PAY_AMT3','PAY_AMT4','PAY_AMT5','PAY_AMT6','PAY_STATUS','PAY_pcount','zero_PAYMENT','EDU','default']\n",
    "# use the list to select a subset of the original DataFrame\n",
    "X4 = credit[feature4]\n",
    "y4 = credit['LIMIT_BAL_GP2']"
   ]
  },
  {
   "cell_type": "code",
   "execution_count": 66,
   "metadata": {},
   "outputs": [
    {
     "name": "stdout",
     "output_type": "stream",
     "text": [
      "[0.692      0.686      0.69       0.694      0.69233333 0.69666667\n",
      " 0.69233333 0.67966667 0.69       0.698     ]\n"
     ]
    }
   ],
   "source": [
    "# 10-fold cross-validation with K=5 for KNN (the n_neighbors parameter)\n",
    "knn = KNeighborsClassifier(n_neighbors=10)\n",
    "scores = cross_val_score(knn, X4, y4, cv=10, scoring='accuracy')\n",
    "print(scores)"
   ]
  },
  {
   "cell_type": "code",
   "execution_count": 67,
   "metadata": {},
   "outputs": [
    {
     "name": "stdout",
     "output_type": "stream",
     "text": [
      "0.6910999999999999\n"
     ]
    }
   ],
   "source": [
    "# use average accuracy as an estimate of out-of-sample accuracy\n",
    "print(scores.mean())"
   ]
  },
  {
   "cell_type": "code",
   "execution_count": 72,
   "metadata": {},
   "outputs": [
    {
     "name": "stdout",
     "output_type": "stream",
     "text": [
      "[0.6910999999999999, 0.6903666666666667, 0.6925333333333333, 0.6926, 0.6937666666666666, 0.6926333333333333, 0.6936666666666667, 0.6937333333333333, 0.6936, 0.6935333333333333, 0.6942666666666667, 0.6923666666666667, 0.6938, 0.6925666666666667, 0.6946999999999999, 0.6940333333333333, 0.6939666666666666, 0.6949, 0.6942666666666667, 0.6945666666666666, 0.6941333333333335]\n"
     ]
    }
   ],
   "source": [
    "# search for an optimal value of K for KNN\n",
    "k_range = list(range(10, 31))\n",
    "k_scores = []\n",
    "for k in k_range:\n",
    "    knn = KNeighborsClassifier(n_neighbors=k)\n",
    "    scores = cross_val_score(knn, X4, y4, cv=10, scoring='accuracy')\n",
    "    k_scores.append(scores.mean())\n",
    "print(k_scores)"
   ]
  },
  {
   "cell_type": "code",
   "execution_count": 73,
   "metadata": {},
   "outputs": [
    {
     "data": {
      "text/plain": [
       "Text(0, 0.5, 'Cross-Validated Accuracy')"
      ]
     },
     "execution_count": 73,
     "metadata": {},
     "output_type": "execute_result"
    },
    {
     "data": {
      "image/png": "[encoded data removed]",
      "text/plain": [
       "<Figure size 432x288 with 1 Axes>"
      ]
     },
     "metadata": {
      "needs_background": "light"
     },
     "output_type": "display_data"
    }
   ],
   "source": [
    "#plot the value of K for KNN (x-axis) versus the cross-validated accuracy (y-axis)\n",
    "\n",
    "plt.plot(k_range, k_scores)\n",
    "plt.xlabel('Value of K for KNN')\n",
    "plt.ylabel('Cross-Validated Accuracy')"
   ]
  },
  {
   "cell_type": "markdown",
   "metadata": {},
   "source": [
    "accuracy increases to 0.695 when k =27"
   ]
  },
  {
   "cell_type": "code",
   "execution_count": 74,
   "metadata": {},
   "outputs": [],
   "source": [
    "feature5 = ['MARRIAGE','AGE','male','AVE_BILL','AVE_PAY_AMT','PAY_STATUS','PAY_pcount','zero_PAYMENT','EDU','default']\n",
    "# use the list to select a subset of the original DataFrame\n",
    "X5 = credit[feature5]\n",
    "y5 = credit['LIMIT_BAL_GP2']"
   ]
  },
  {
   "cell_type": "code",
   "execution_count": 75,
   "metadata": {},
   "outputs": [
    {
     "name": "stdout",
     "output_type": "stream",
     "text": [
      "[0.686      0.68466667 0.69033333 0.682      0.691      0.69633333\n",
      " 0.67966667 0.66633333 0.677      0.692     ]\n"
     ]
    }
   ],
   "source": [
    "# 10-fold cross-validation with K=5 for KNN (the n_neighbors parameter)\n",
    "knn = KNeighborsClassifier(n_neighbors=10)\n",
    "scores = cross_val_score(knn, X5, y5, cv=10, scoring='accuracy')\n",
    "print(scores)"
   ]
  },
  {
   "cell_type": "code",
   "execution_count": 76,
   "metadata": {},
   "outputs": [
    {
     "name": "stdout",
     "output_type": "stream",
     "text": [
      "0.6845333333333334\n"
     ]
    }
   ],
   "source": [
    "# use average accuracy as an estimate of out-of-sample accuracy\n",
    "print(scores.mean())"
   ]
  },
  {
   "cell_type": "markdown",
   "metadata": {},
   "source": [
    "Note that if I replaced PAY_AMT1,,,, PAY_AMT6 by AVE_PAY_AMT, not much accuracy lose, accuracy is 0.685"
   ]
  },
  {
   "cell_type": "code",
   "execution_count": 77,
   "metadata": {},
   "outputs": [],
   "source": [
    "# create LIMI_BAL_GP3\n",
    "# Use floor_divide by 100000 to get the tens, then multiply by 100000. \n",
    "credit['LIMIT_BAL_GP3'] = np.floor_divide(credit['LIMIT_BAL'],100000)\n",
    "credit.loc[credit['LIMIT_BAL_GP3'] == 0, 'LIMIT_BAL_GP3'] = \"<100000\"\n",
    "credit.loc[credit['LIMIT_BAL_GP3'] == 1, 'LIMIT_BAL_GP3'] = \"<200000\"\n",
    "credit.loc[credit['LIMIT_BAL_GP3'] == 2, 'LIMIT_BAL_GP3'] = \"<200000\"\n",
    "credit.loc[credit['LIMIT_BAL_GP3'] == 3, 'LIMIT_BAL_GP3'] = \">=300000\"\n",
    "credit.loc[credit['LIMIT_BAL_GP3'] == 4, 'LIMIT_BAL_GP3'] = \">=300000\"\n",
    "credit.loc[credit['LIMIT_BAL_GP3'] == 5, 'LIMIT_BAL_GP3'] = \">=300000\"\n",
    "credit.loc[credit['LIMIT_BAL_GP3'] == 6, 'LIMIT_BAL_GP3'] = \">=300000\"\n",
    "credit.loc[credit['LIMIT_BAL_GP3'] == 7, 'LIMIT_BAL_GP3'] = \">=300000\"\n",
    "credit.loc[credit['LIMIT_BAL_GP3'] == 8, 'LIMIT_BAL_GP3'] = \">=300000\"\n",
    "credit.loc[credit['LIMIT_BAL_GP3'] == 9, 'LIMIT_BAL_GP3'] = \">=300000\"\n",
    "credit.loc[credit['LIMIT_BAL_GP3'] == 10, 'LIMIT_BAL_GP3'] = \">=300000\""
   ]
  },
  {
   "cell_type": "code",
   "execution_count": 78,
   "metadata": {},
   "outputs": [],
   "source": [
    "feature6 = ['MARRIAGE','AGE','male','AVE_BILL','PAY_AMT1','PAY_AMT2','PAY_AMT3','PAY_AMT4','PAY_AMT5','PAY_AMT6','PAY_STATUS','PAY_pcount','zero_PAYMENT','EDU','default']\n",
    "# use the list to select a subset of the original DataFrame\n",
    "X6 = credit[feature6]\n",
    "y6 = credit['LIMIT_BAL_GP3']"
   ]
  },
  {
   "cell_type": "code",
   "execution_count": 79,
   "metadata": {},
   "outputs": [
    {
     "name": "stdout",
     "output_type": "stream",
     "text": [
      "[0.64133333 0.643      0.637      0.64066667 0.657      0.65466667\n",
      " 0.64466667 0.62766667 0.653      0.64166667]\n"
     ]
    }
   ],
   "source": [
    "# 10-fold cross-validation with K=5 for KNN (the n_neighbors parameter)\n",
    "knn = KNeighborsClassifier(n_neighbors=10)\n",
    "scores = cross_val_score(knn, X6, y6, cv=10, scoring='accuracy')\n",
    "print(scores)"
   ]
  },
  {
   "cell_type": "code",
   "execution_count": 80,
   "metadata": {},
   "outputs": [
    {
     "name": "stdout",
     "output_type": "stream",
     "text": [
      "0.6440666666666668\n"
     ]
    }
   ],
   "source": [
    "# use average accuracy as an estimate of out-of-sample accuracy\n",
    "print(scores.mean())"
   ]
  },
  {
   "cell_type": "code",
   "execution_count": 81,
   "metadata": {},
   "outputs": [],
   "source": [
    "feature7 = ['MARRIAGE','AGE','male','AVE_BILL','AVE_PAY_AMT','PAY_STATUS','PAY_pcount','zero_PAYMENT','EDU','default']\n",
    "# use the list to select a subset of the original DataFrame\n",
    "X7 = credit[feature7]\n",
    "y7 = credit['LIMIT_BAL_GP3']"
   ]
  },
  {
   "cell_type": "code",
   "execution_count": 82,
   "metadata": {},
   "outputs": [
    {
     "name": "stdout",
     "output_type": "stream",
     "text": [
      "[0.635      0.638      0.63233333 0.625      0.648      0.64733333\n",
      " 0.63466667 0.62066667 0.647      0.636     ]\n"
     ]
    }
   ],
   "source": [
    "# 10-fold cross-validation with K=5 for KNN (the n_neighbors parameter)\n",
    "knn = KNeighborsClassifier(n_neighbors=10)\n",
    "scores = cross_val_score(knn, X7, y7, cv=10, scoring='accuracy')\n",
    "print(scores)"
   ]
  },
  {
   "cell_type": "code",
   "execution_count": 83,
   "metadata": {},
   "outputs": [
    {
     "name": "stdout",
     "output_type": "stream",
     "text": [
      "0.6364\n"
     ]
    }
   ],
   "source": [
    "# use average accuracy as an estimate of out-of-sample accuracy\n",
    "print(scores.mean())"
   ]
  },
  {
   "cell_type": "markdown",
   "metadata": {},
   "source": [
    "# Identify key features that affect \"Default\""
   ]
  },
  {
   "cell_type": "markdown",
   "metadata": {},
   "source": [
    "### Logistic regression"
   ]
  },
  {
   "cell_type": "code",
   "execution_count": 84,
   "metadata": {},
   "outputs": [],
   "source": [
    "feature_col =  ['LIMIT_BAL','MARRIAGE','AGE','male','AVE_BILL','PAY_AMT1','PAY_AMT2','PAY_AMT3','PAY_AMT4','PAY_AMT5','PAY_AMT6','PAY_STATUS','PAY_pcount','zero_PAYMENT','EDU']\n",
    "X = credit[feature_col]\n",
    "y = credit['default']"
   ]
  },
  {
   "cell_type": "code",
   "execution_count": 85,
   "metadata": {},
   "outputs": [],
   "source": [
    "# Standardizing the features\n",
    "X_1 = StandardScaler().fit_transform(X)"
   ]
  },
  {
   "cell_type": "code",
   "execution_count": 88,
   "metadata": {},
   "outputs": [
    {
     "name": "stderr",
     "output_type": "stream",
     "text": [
      "C:\\Users\\cthian972\\anaconda3\\envs\\hw\\lib\\site-packages\\sklearn\\linear_model\\_logistic.py:940: ConvergenceWarning: lbfgs failed to converge (status=1):\n",
      "STOP: TOTAL NO. of ITERATIONS REACHED LIMIT.\n",
      "\n",
      "Increase the number of iterations (max_iter) or scale the data as shown in:\n",
      "    https://scikit-learn.org/stable/modules/preprocessing.html\n",
      "Please also refer to the documentation for alternative solver options:\n",
      "    https://scikit-learn.org/stable/modules/linear_model.html#logistic-regression\n",
      "  extra_warning_msg=_LOGISTIC_SOLVER_CONVERGENCE_MSG)\n"
     ]
    },
    {
     "name": "stdout",
     "output_type": "stream",
     "text": [
      "Best degree 2 with RMSE 0.4395704974429269\n"
     ]
    },
    {
     "name": "stderr",
     "output_type": "stream",
     "text": [
      "C:\\Users\\cthian972\\anaconda3\\envs\\hw\\lib\\site-packages\\sklearn\\linear_model\\_logistic.py:940: ConvergenceWarning: lbfgs failed to converge (status=1):\n",
      "STOP: TOTAL NO. of ITERATIONS REACHED LIMIT.\n",
      "\n",
      "Increase the number of iterations (max_iter) or scale the data as shown in:\n",
      "    https://scikit-learn.org/stable/modules/preprocessing.html\n",
      "Please also refer to the documentation for alternative solver options:\n",
      "    https://scikit-learn.org/stable/modules/linear_model.html#logistic-regression\n",
      "  extra_warning_msg=_LOGISTIC_SOLVER_CONVERGENCE_MSG)\n"
     ]
    },
    {
     "data": {
      "text/plain": [
       "Text(0.5, 0, 'Degree')"
      ]
     },
     "execution_count": 88,
     "metadata": {},
     "output_type": "execute_result"
    },
    {
     "data": {
      "image/png": "[encoded data removed]",
      "text/plain": [
       "<Figure size 432x288 with 1 Axes>"
      ]
     },
     "metadata": {
      "needs_background": "light"
     },
     "output_type": "display_data"
    }
   ],
   "source": [
    "# applied to the StandardizedtScaler X\n",
    "x_train, x_test, y_train, y_test = train_test_split(X_1, y, test_size=0.3)\n",
    "\n",
    "rmses = []\n",
    "degrees = np.arange(1, 4)\n",
    "min_rmse, min_deg = 1e10, 0\n",
    "\n",
    "for deg in degrees:\n",
    "\n",
    "    # Train features\n",
    "    poly_features = PolynomialFeatures(degree=deg, include_bias=False)\n",
    "    x_poly_train = poly_features.fit_transform(x_train)\n",
    "\n",
    "    # Logistic regression\n",
    "    poly_reg = LogisticRegression()\n",
    "    poly_reg.fit(x_poly_train, y_train)\n",
    "\n",
    "    # Compare with test data\n",
    "    x_poly_test = poly_features.fit_transform(x_test)\n",
    "    poly_predict = poly_reg.predict(x_poly_test)\n",
    "    poly_mse = mean_squared_error(y_test, poly_predict)\n",
    "    poly_rmse = np.sqrt(poly_mse)\n",
    "    rmses.append(poly_rmse)\n",
    "\n",
    "    # Cross-validation of degree\n",
    "    if min_rmse > poly_rmse:\n",
    "        min_rmse = poly_rmse\n",
    "        min_deg = deg\n",
    "\n",
    "# Plot and present results\n",
    "print('Best degree {} with RMSE {}'.format(min_deg, min_rmse))\n",
    "\n",
    "fig = plt.figure()\n",
    "ax = fig.add_subplot(111)\n",
    "ax.plot(degrees, rmses)\n",
    "ax.set_yscale('log')\n",
    "ax.set_xlabel('Degree')"
   ]
  },
  {
   "cell_type": "code",
   "execution_count": null,
   "metadata": {},
   "outputs": [],
   "source": []
  },
  {
   "cell_type": "code",
   "execution_count": 95,
   "metadata": {},
   "outputs": [],
   "source": [
    "algos_Class = [] # empty list\n",
    "algos_Class.append(('Random Forest Classifier = ', RandomForestClassifier()))\n",
    "algos_Class.append(('Decision Tree Classifier = ', DecisionTreeClassifier()))\n",
    "algos_Class.append(('Logistic Regression = ', LogisticRegression()))"
   ]
  },
  {
   "cell_type": "code",
   "execution_count": 96,
   "metadata": {},
   "outputs": [
    {
     "name": "stderr",
     "output_type": "stream",
     "text": [
      "C:\\Users\\cthian972\\anaconda3\\envs\\hw\\lib\\site-packages\\sklearn\\linear_model\\_logistic.py:940: ConvergenceWarning: lbfgs failed to converge (status=1):\n",
      "STOP: TOTAL NO. of ITERATIONS REACHED LIMIT.\n",
      "\n",
      "Increase the number of iterations (max_iter) or scale the data as shown in:\n",
      "    https://scikit-learn.org/stable/modules/preprocessing.html\n",
      "Please also refer to the documentation for alternative solver options:\n",
      "    https://scikit-learn.org/stable/modules/linear_model.html#logistic-regression\n",
      "  extra_warning_msg=_LOGISTIC_SOLVER_CONVERGENCE_MSG)\n",
      "C:\\Users\\cthian972\\anaconda3\\envs\\hw\\lib\\site-packages\\sklearn\\linear_model\\_logistic.py:940: ConvergenceWarning: lbfgs failed to converge (status=1):\n",
      "STOP: TOTAL NO. of ITERATIONS REACHED LIMIT.\n",
      "\n",
      "Increase the number of iterations (max_iter) or scale the data as shown in:\n",
      "    https://scikit-learn.org/stable/modules/preprocessing.html\n",
      "Please also refer to the documentation for alternative solver options:\n",
      "    https://scikit-learn.org/stable/modules/linear_model.html#logistic-regression\n",
      "  extra_warning_msg=_LOGISTIC_SOLVER_CONVERGENCE_MSG)\n",
      "C:\\Users\\cthian972\\anaconda3\\envs\\hw\\lib\\site-packages\\sklearn\\linear_model\\_logistic.py:940: ConvergenceWarning: lbfgs failed to converge (status=1):\n",
      "STOP: TOTAL NO. of ITERATIONS REACHED LIMIT.\n",
      "\n",
      "Increase the number of iterations (max_iter) or scale the data as shown in:\n",
      "    https://scikit-learn.org/stable/modules/preprocessing.html\n",
      "Please also refer to the documentation for alternative solver options:\n",
      "    https://scikit-learn.org/stable/modules/linear_model.html#logistic-regression\n",
      "  extra_warning_msg=_LOGISTIC_SOLVER_CONVERGENCE_MSG)\n"
     ]
    }
   ],
   "source": [
    "# classification\n",
    "results = []\n",
    "names = []\n",
    "for name, model in algos_Class:\n",
    "    accuracy = cross_val_score(model, X, y, cv = 3, scoring ='accuracy')\n",
    "    names.append(name)\n",
    "    results.append(accuracy)"
   ]
  },
  {
   "cell_type": "code",
   "execution_count": 97,
   "metadata": {},
   "outputs": [
    {
     "name": "stdout",
     "output_type": "stream",
     "text": [
      "Random Forest Classifier =  0.8057333333333334\n",
      "Decision Tree Classifier =  0.7168333333333333\n",
      "Logistic Regression =  0.7788\n"
     ]
    }
   ],
   "source": [
    "for i in range(len(names)):\n",
    "    print(names[i], results[i].mean())"
   ]
  },
  {
   "cell_type": "code",
   "execution_count": 98,
   "metadata": {},
   "outputs": [],
   "source": [
    "# classification\n",
    "results = []\n",
    "names = []\n",
    "for name, model in algos_Class:\n",
    "    accuracy = cross_val_score(model, X_1, y, cv = 3, scoring ='accuracy')\n",
    "    names.append(name)\n",
    "    results.append(accuracy)"
   ]
  },
  {
   "cell_type": "code",
   "execution_count": 99,
   "metadata": {},
   "outputs": [
    {
     "name": "stdout",
     "output_type": "stream",
     "text": [
      "Random Forest Classifier =  0.8061666666666666\n",
      "Decision Tree Classifier =  0.7169333333333334\n",
      "Logistic Regression =  0.8035\n"
     ]
    }
   ],
   "source": [
    "for i in range(len(names)):\n",
    "    print(names[i], results[i].mean())"
   ]
  },
  {
   "cell_type": "code",
   "execution_count": 100,
   "metadata": {},
   "outputs": [],
   "source": [
    "# Split X and y into 75% training and 25% testing sets\n",
    "from sklearn.model_selection import train_test_split\n",
    "X_train, X_test, y_train, y_test = train_test_split(X_1, y, test_size=0.25, random_state= 12)"
   ]
  },
  {
   "cell_type": "code",
   "execution_count": 101,
   "metadata": {},
   "outputs": [
    {
     "data": {
      "text/plain": [
       "LogisticRegression(C=1.0, class_weight=None, dual=False, fit_intercept=True,\n",
       "                   intercept_scaling=1, l1_ratio=None, max_iter=100,\n",
       "                   multi_class='auto', n_jobs=None, penalty='l2',\n",
       "                   random_state=None, solver='lbfgs', tol=0.0001, verbose=0,\n",
       "                   warm_start=False)"
      ]
     },
     "execution_count": 101,
     "metadata": {},
     "output_type": "execute_result"
    }
   ],
   "source": [
    "# instantiate the model (using the default parameters)\n",
    "logreg = LogisticRegression()\n",
    "# train the model on the training set\n",
    "logreg.fit(X_train, y_train)"
   ]
  },
  {
   "cell_type": "code",
   "execution_count": 102,
   "metadata": {},
   "outputs": [],
   "source": [
    "# make predictions on the testing set and store the predicted response values\n",
    "y_pred = logreg.predict(X_test)"
   ]
  },
  {
   "cell_type": "markdown",
   "metadata": {},
   "source": [
    "#### Evaluate model"
   ]
  },
  {
   "cell_type": "code",
   "execution_count": 103,
   "metadata": {},
   "outputs": [
    {
     "name": "stdout",
     "output_type": "stream",
     "text": [
      "Accuracy: 0.804 , Mean Absolute Error: 41.953 , Root Mean Squared Error:  0.442 , R-squared: -0.128\n"
     ]
    }
   ],
   "source": [
    "# compare actual response values (y_test) with predicted response values (y_pred)\n",
    "accuracy = accuracy_score(y_test, y_pred)\n",
    "mae = mean_absolute_error(y_test, y_pred)\n",
    "rmse = np.sqrt(mean_squared_error(y_test, y_pred))\n",
    "r_square = r2_score(y_test, y_pred, multioutput='variance_weighted')\n",
    "print('Accuracy: %.3f'% accuracy,', Mean Absolute Error: %5.3f'% mae,', Root Mean Squared Error: %6.3f'%rmse, ', R-squared: %.3f'% r_square)"
   ]
  },
  {
   "cell_type": "code",
   "execution_count": 104,
   "metadata": {},
   "outputs": [
    {
     "name": "stdout",
     "output_type": "stream",
     "text": [
      "TruePositive  : 442 FalsePositive : 234\n",
      "FalseNegative : 1233 TrueNegative  : 5591\n",
      "Accuracy: 0.804 ,        Misclassification Rate: 0.196\n",
      "Sensitivity: 0.264 ,  Specificity: 0.960\n",
      "False Positive Rate: 0.040 , Precision: 0.654\n"
     ]
    }
   ],
   "source": [
    "# Metrics from Confusion matrix \n",
    "confusion = confusion_matrix(y_test, y_pred)\n",
    "TruePositive = confusion[1, 1]\n",
    "TrueNegative = confusion[0, 0]\n",
    "FalsePositive = confusion[0, 1]\n",
    "FalseNegative = confusion[1, 0]\n",
    "\n",
    "# Classification Accuracy: how often is the classifier correct?\n",
    "Accuracy = (TruePositive + TrueNegative) / float(TruePositive + FalsePositive + TrueNegative + FalseNegative)\n",
    "\n",
    "# Misclassification Rate or classification error: how often is the classifier incorrect\n",
    "Misclassification = (FalsePositive + FalseNegative) / float(TruePositive + FalsePositive + TrueNegative + FalseNegative)\n",
    "\n",
    "# How often is the prediction correct when the actual value is positive?\n",
    "Sensitivity =  TruePositive  / float(TruePositive + FalseNegative)\n",
    "\n",
    "# How often is the prediction correct when the actual value is negative?\n",
    "Specificity = TrueNegative / float(TrueNegative + FalsePositive)\n",
    "\n",
    "# How often is the prediction incorrect when the actual value is negative?\n",
    "FalsePositiveRate = FalsePositive / float(FalsePositive + TrueNegative)\n",
    "\n",
    "# When a positive value is predicted, how often is the prediction correct?\n",
    "Precision = TruePositive / float(TruePositive + FalsePositive)\n",
    "\n",
    "print('TruePositive  : %d' %TruePositive , 'FalsePositive : %d'% FalsePositive)\n",
    "print('FalseNegative : %d' %FalseNegative, 'TrueNegative  : %d'% TrueNegative)\n",
    "print('Accuracy: %.3f'% Accuracy,',        Misclassification Rate: %.3f'% Misclassification)\n",
    "print('Sensitivity: %.3f'% Sensitivity, ',  Specificity: %.3f'% Specificity)\n",
    "print('False Positive Rate: %.3f'% FalsePositiveRate, ', Precision: %.3f'% Precision)"
   ]
  },
  {
   "cell_type": "code",
   "execution_count": 105,
   "metadata": {},
   "outputs": [
    {
     "name": "stdout",
     "output_type": "stream",
     "text": [
      "[[5591  234]\n",
      " [1233  442]]\n"
     ]
    }
   ],
   "source": [
    "print(confusion)"
   ]
  },
  {
   "cell_type": "code",
   "execution_count": 106,
   "metadata": {},
   "outputs": [
    {
     "name": "stdout",
     "output_type": "stream",
     "text": [
      "              precision    recall  f1-score   support\n",
      "\n",
      "           0       0.82      0.96      0.88      5825\n",
      "           1       0.65      0.26      0.38      1675\n",
      "\n",
      "    accuracy                           0.80      7500\n",
      "   macro avg       0.74      0.61      0.63      7500\n",
      "weighted avg       0.78      0.80      0.77      7500\n",
      "\n"
     ]
    }
   ],
   "source": [
    "print(classification_report(y_test, y_pred))"
   ]
  },
  {
   "cell_type": "markdown",
   "metadata": {},
   "source": [
    "In the classification report, for all identifed as \"not default\", 82% are correctly identified. (precision). For all instances that are actually \"not default\", 96% was classified correctly (Recall). For the \"default\" group, precision is \"65%\" and recall is 26%. Which is not too good. Since there are more count in the 'not default\" group, the weighted mean precision is 78% and weighted recall is close to 80%."
   ]
  },
  {
   "cell_type": "code",
   "execution_count": 108,
   "metadata": {},
   "outputs": [],
   "source": [
    "X1 = RobustScaler(quantile_range=(25.0, 75.0)).fit_transform(X)"
   ]
  },
  {
   "cell_type": "code",
   "execution_count": 109,
   "metadata": {},
   "outputs": [],
   "source": [
    "X_train, X_test, y_train, y_test = train_test_split(X1, y, test_size=0.25, random_state= 123)"
   ]
  },
  {
   "cell_type": "code",
   "execution_count": 110,
   "metadata": {},
   "outputs": [],
   "source": [
    "# instantiate the model (using the default parameters)\n",
    "logreg = LogisticRegression()\n",
    "# train the model on the training set\n",
    "logreg.fit(X_train, y_train)\n",
    "# make predictions on the testing set and store the predicted response values\n",
    "y_pred = logreg.predict(X_test)"
   ]
  },
  {
   "cell_type": "code",
   "execution_count": 111,
   "metadata": {},
   "outputs": [
    {
     "name": "stdout",
     "output_type": "stream",
     "text": [
      "              precision    recall  f1-score   support\n",
      "\n",
      "           0       0.83      0.95      0.88      5873\n",
      "           1       0.62      0.27      0.38      1627\n",
      "\n",
      "    accuracy                           0.81      7500\n",
      "   macro avg       0.72      0.61      0.63      7500\n",
      "weighted avg       0.78      0.81      0.77      7500\n",
      "\n"
     ]
    }
   ],
   "source": [
    "print(classification_report(y_test, y_pred))"
   ]
  },
  {
   "cell_type": "markdown",
   "metadata": {},
   "source": [
    "In the classification report, for all identifed as \"not default\", 83% are correctly identified. (precision). For all instances that are actually \"not default\", 95% was classified correctly (Recall). For the \"default\" group, precision is \"62%\" and recall is 27%. Which is not too good. Since there are more count in the 'not default\" group, the weighted mean precision is 78% and weighted recall is 81%"
   ]
  },
  {
   "cell_type": "code",
   "execution_count": 112,
   "metadata": {},
   "outputs": [],
   "source": [
    "feature_col1 =  ['MARRIAGE','AGE','male','AVE_BILL','AVE_PAY_AMT','PAY_STATUS','PAY_pcount','zero_PAYMENT','EDU']\n",
    "X2=credit[feature_col1]"
   ]
  },
  {
   "cell_type": "code",
   "execution_count": 113,
   "metadata": {},
   "outputs": [],
   "source": [
    "X2 = RobustScaler(quantile_range=(25.0, 75.0)).fit_transform(X2)"
   ]
  },
  {
   "cell_type": "code",
   "execution_count": 114,
   "metadata": {},
   "outputs": [],
   "source": [
    "# Split X and y into 80% training and 20% testing sets\n",
    "X_train, X_test, y_train, y_test = train_test_split(X2, y, test_size=0.2, random_state= 12)"
   ]
  },
  {
   "cell_type": "code",
   "execution_count": 115,
   "metadata": {},
   "outputs": [],
   "source": [
    "# instantiate the model (using the default parameters)\n",
    "logreg = LogisticRegression()\n",
    "# train the model on the training set\n",
    "logreg.fit(X_train, y_train)\n",
    "# make predictions on the testing set and store the predicted response values\n",
    "y_pred = logreg.predict(X_test)"
   ]
  },
  {
   "cell_type": "code",
   "execution_count": 116,
   "metadata": {},
   "outputs": [
    {
     "name": "stdout",
     "output_type": "stream",
     "text": [
      "              precision    recall  f1-score   support\n",
      "\n",
      "           0       0.82      0.96      0.88      4648\n",
      "           1       0.65      0.26      0.37      1352\n",
      "\n",
      "    accuracy                           0.80      6000\n",
      "   macro avg       0.73      0.61      0.63      6000\n",
      "weighted avg       0.78      0.80      0.77      6000\n",
      "\n"
     ]
    }
   ],
   "source": [
    "print(classification_report(y_test, y_pred))"
   ]
  },
  {
   "cell_type": "markdown",
   "metadata": {},
   "source": [
    "Note that AVE PAY AMT can replace PAY_AMT1,..., PAY_AMT6. The performance are akmost the same. In the classification report, for all identifed as \"not default\", 82% are correctly identified. (precision). For all instances that are actually \"not default\", 96% was classified correctly (Recall). For the \"default\" group, precision is \"65%\" and recall is 26%. Which is not too good. Since there are more count in the 'not default\" group, the weighted mean precision is 78% and weighted recall is close to 80%."
   ]
  },
  {
   "cell_type": "markdown",
   "metadata": {},
   "source": [
    "### PCA"
   ]
  },
  {
   "cell_type": "code",
   "execution_count": 117,
   "metadata": {},
   "outputs": [],
   "source": [
    "pca = PCA(n_components=4)  # n_components specifies the new dimensionality\n",
    "X_log_pca = pca.fit(X2).transform(X2) # or just pca.fit_transform(X)\n",
    "X_log_pca = pd.DataFrame(data=X_reduced, columns=['x1','x2','x3','x4'])"
   ]
  },
  {
   "cell_type": "code",
   "execution_count": 118,
   "metadata": {},
   "outputs": [
    {
     "name": "stdout",
     "output_type": "stream",
     "text": [
      "Explained Variance: [6.87888932 5.06368608 1.31910897 0.67624346]\n",
      "Explained Variance Ratio: [0.43597868 0.32093251 0.08360411 0.04285979]\n"
     ]
    }
   ],
   "source": [
    "#print('Components:', pca.components_)\n",
    "print('Explained Variance:', pca.explained_variance_)\n",
    "print('Explained Variance Ratio:', pca.explained_variance_ratio_ )"
   ]
  },
  {
   "cell_type": "code",
   "execution_count": 120,
   "metadata": {},
   "outputs": [
    {
     "data": {
      "text/plain": [
       "<matplotlib.axes._subplots.AxesSubplot at 0x1bfbaaf7c48>"
      ]
     },
     "execution_count": 120,
     "metadata": {},
     "output_type": "execute_result"
    },
    {
     "data": {
      "image/png": "[encoded data removed]",
      "text/plain": [
       "<Figure size 432x288 with 1 Axes>"
      ]
     },
     "metadata": {
      "needs_background": "light"
     },
     "output_type": "display_data"
    }
   ],
   "source": [
    "sns.scatterplot(x='x1', y='x2', hue=y ,data=X_log_pca)"
   ]
  },
  {
   "cell_type": "code",
   "execution_count": 121,
   "metadata": {},
   "outputs": [
    {
     "data": {
      "text/plain": [
       "<matplotlib.axes._subplots.AxesSubplot at 0x1bfbaa0b448>"
      ]
     },
     "execution_count": 121,
     "metadata": {},
     "output_type": "execute_result"
    },
    {
     "data": {
      "image/png": "[encoded data removed]",
      "text/plain": [
       "<Figure size 432x288 with 1 Axes>"
      ]
     },
     "metadata": {
      "needs_background": "light"
     },
     "output_type": "display_data"
    }
   ],
   "source": [
    "sns.scatterplot(x='x1', y='x3', hue=y ,data=X_log_pca)"
   ]
  },
  {
   "cell_type": "code",
   "execution_count": 122,
   "metadata": {},
   "outputs": [
    {
     "data": {
      "text/plain": [
       "<matplotlib.axes._subplots.AxesSubplot at 0x1bfc1b06dc8>"
      ]
     },
     "execution_count": 122,
     "metadata": {},
     "output_type": "execute_result"
    },
    {
     "data": {
      "image/png": "[encoded data removed]",
      "text/plain": [
       "<Figure size 432x288 with 1 Axes>"
      ]
     },
     "metadata": {
      "needs_background": "light"
     },
     "output_type": "display_data"
    }
   ],
   "source": [
    "sns.scatterplot(x='x2', y='x3', hue=y ,data=X_log_pca)"
   ]
  },
  {
   "cell_type": "code",
   "execution_count": null,
   "metadata": {},
   "outputs": [],
   "source": [
    "from IPython.display import Markdown\n",
    "display (Markdown('<span style=\"color: #ff0000\">Quesion for instructor </span> '))"
   ]
  },
  {
   "cell_type": "code",
   "execution_count": 123,
   "metadata": {},
   "outputs": [],
   "source": [
    "from sklearn.model_selection import train_test_split\n",
    "X_train, X_test, y_train, y_test = train_test_split(X_log_pca, y, test_size=0.25, random_state= 12)"
   ]
  },
  {
   "cell_type": "code",
   "execution_count": 124,
   "metadata": {},
   "outputs": [
    {
     "ename": "ValueError",
     "evalue": "Input contains NaN, infinity or a value too large for dtype('float64').",
     "output_type": "error",
     "traceback": [
      "\u001b[1;31m---------------------------------------------------------------------------\u001b[0m",
      "\u001b[1;31mValueError\u001b[0m                                Traceback (most recent call last)",
      "\u001b[1;32m<ipython-input-124-624414b7f7c9>\u001b[0m in \u001b[0;36m<module>\u001b[1;34m\u001b[0m\n\u001b[0;32m      1\u001b[0m \u001b[0mlogreg\u001b[0m \u001b[1;33m=\u001b[0m \u001b[0mLogisticRegression\u001b[0m\u001b[1;33m(\u001b[0m\u001b[1;33m)\u001b[0m\u001b[1;33m\u001b[0m\u001b[1;33m\u001b[0m\u001b[0m\n\u001b[0;32m      2\u001b[0m \u001b[1;31m# train the model on the training set\u001b[0m\u001b[1;33m\u001b[0m\u001b[1;33m\u001b[0m\u001b[1;33m\u001b[0m\u001b[0m\n\u001b[1;32m----> 3\u001b[1;33m \u001b[0mlogreg\u001b[0m\u001b[1;33m.\u001b[0m\u001b[0mfit\u001b[0m\u001b[1;33m(\u001b[0m\u001b[0mX_train\u001b[0m\u001b[1;33m,\u001b[0m \u001b[0my_train\u001b[0m\u001b[1;33m)\u001b[0m\u001b[1;33m\u001b[0m\u001b[1;33m\u001b[0m\u001b[0m\n\u001b[0m",
      "\u001b[1;32m~\\anaconda3\\envs\\hw\\lib\\site-packages\\sklearn\\linear_model\\_logistic.py\u001b[0m in \u001b[0;36mfit\u001b[1;34m(self, X, y, sample_weight)\u001b[0m\n\u001b[0;32m   1525\u001b[0m \u001b[1;33m\u001b[0m\u001b[0m\n\u001b[0;32m   1526\u001b[0m         X, y = check_X_y(X, y, accept_sparse='csr', dtype=_dtype, order=\"C\",\n\u001b[1;32m-> 1527\u001b[1;33m                          accept_large_sparse=solver != 'liblinear')\n\u001b[0m\u001b[0;32m   1528\u001b[0m         \u001b[0mcheck_classification_targets\u001b[0m\u001b[1;33m(\u001b[0m\u001b[0my\u001b[0m\u001b[1;33m)\u001b[0m\u001b[1;33m\u001b[0m\u001b[1;33m\u001b[0m\u001b[0m\n\u001b[0;32m   1529\u001b[0m         \u001b[0mself\u001b[0m\u001b[1;33m.\u001b[0m\u001b[0mclasses_\u001b[0m \u001b[1;33m=\u001b[0m \u001b[0mnp\u001b[0m\u001b[1;33m.\u001b[0m\u001b[0munique\u001b[0m\u001b[1;33m(\u001b[0m\u001b[0my\u001b[0m\u001b[1;33m)\u001b[0m\u001b[1;33m\u001b[0m\u001b[1;33m\u001b[0m\u001b[0m\n",
      "\u001b[1;32m~\\anaconda3\\envs\\hw\\lib\\site-packages\\sklearn\\utils\\validation.py\u001b[0m in \u001b[0;36mcheck_X_y\u001b[1;34m(X, y, accept_sparse, accept_large_sparse, dtype, order, copy, force_all_finite, ensure_2d, allow_nd, multi_output, ensure_min_samples, ensure_min_features, y_numeric, warn_on_dtype, estimator)\u001b[0m\n\u001b[0;32m    753\u001b[0m                     \u001b[0mensure_min_features\u001b[0m\u001b[1;33m=\u001b[0m\u001b[0mensure_min_features\u001b[0m\u001b[1;33m,\u001b[0m\u001b[1;33m\u001b[0m\u001b[1;33m\u001b[0m\u001b[0m\n\u001b[0;32m    754\u001b[0m                     \u001b[0mwarn_on_dtype\u001b[0m\u001b[1;33m=\u001b[0m\u001b[0mwarn_on_dtype\u001b[0m\u001b[1;33m,\u001b[0m\u001b[1;33m\u001b[0m\u001b[1;33m\u001b[0m\u001b[0m\n\u001b[1;32m--> 755\u001b[1;33m                     estimator=estimator)\n\u001b[0m\u001b[0;32m    756\u001b[0m     \u001b[1;32mif\u001b[0m \u001b[0mmulti_output\u001b[0m\u001b[1;33m:\u001b[0m\u001b[1;33m\u001b[0m\u001b[1;33m\u001b[0m\u001b[0m\n\u001b[0;32m    757\u001b[0m         y = check_array(y, 'csr', force_all_finite=True, ensure_2d=False,\n",
      "\u001b[1;32m~\\anaconda3\\envs\\hw\\lib\\site-packages\\sklearn\\utils\\validation.py\u001b[0m in \u001b[0;36mcheck_array\u001b[1;34m(array, accept_sparse, accept_large_sparse, dtype, order, copy, force_all_finite, ensure_2d, allow_nd, ensure_min_samples, ensure_min_features, warn_on_dtype, estimator)\u001b[0m\n\u001b[0;32m    576\u001b[0m         \u001b[1;32mif\u001b[0m \u001b[0mforce_all_finite\u001b[0m\u001b[1;33m:\u001b[0m\u001b[1;33m\u001b[0m\u001b[1;33m\u001b[0m\u001b[0m\n\u001b[0;32m    577\u001b[0m             _assert_all_finite(array,\n\u001b[1;32m--> 578\u001b[1;33m                                allow_nan=force_all_finite == 'allow-nan')\n\u001b[0m\u001b[0;32m    579\u001b[0m \u001b[1;33m\u001b[0m\u001b[0m\n\u001b[0;32m    580\u001b[0m     \u001b[1;32mif\u001b[0m \u001b[0mensure_min_samples\u001b[0m \u001b[1;33m>\u001b[0m \u001b[1;36m0\u001b[0m\u001b[1;33m:\u001b[0m\u001b[1;33m\u001b[0m\u001b[1;33m\u001b[0m\u001b[0m\n",
      "\u001b[1;32m~\\anaconda3\\envs\\hw\\lib\\site-packages\\sklearn\\utils\\validation.py\u001b[0m in \u001b[0;36m_assert_all_finite\u001b[1;34m(X, allow_nan, msg_dtype)\u001b[0m\n\u001b[0;32m     58\u001b[0m                     \u001b[0mmsg_err\u001b[0m\u001b[1;33m.\u001b[0m\u001b[0mformat\u001b[0m\u001b[1;33m\u001b[0m\u001b[1;33m\u001b[0m\u001b[0m\n\u001b[0;32m     59\u001b[0m                     (type_err,\n\u001b[1;32m---> 60\u001b[1;33m                      msg_dtype if msg_dtype is not None else X.dtype)\n\u001b[0m\u001b[0;32m     61\u001b[0m             )\n\u001b[0;32m     62\u001b[0m     \u001b[1;31m# for object dtype data, we only check for NaNs (GH-13254)\u001b[0m\u001b[1;33m\u001b[0m\u001b[1;33m\u001b[0m\u001b[1;33m\u001b[0m\u001b[0m\n",
      "\u001b[1;31mValueError\u001b[0m: Input contains NaN, infinity or a value too large for dtype('float64')."
     ]
    }
   ],
   "source": [
    "logreg = LogisticRegression()\n",
    "# train the model on the training set\n",
    "logreg.fit(X_train, y_train)"
   ]
  },
  {
   "cell_type": "code",
   "execution_count": null,
   "metadata": {},
   "outputs": [],
   "source": [
    "# make predictions on the testing set and store the predicted response values\n",
    "y_pred = logreg.predict(X_test)"
   ]
  },
  {
   "cell_type": "code",
   "execution_count": null,
   "metadata": {},
   "outputs": [],
   "source": [
    "print(classification_report(y_test, y_pred))"
   ]
  },
  {
   "cell_type": "markdown",
   "metadata": {},
   "source": [
    "### Random Forest Classifier"
   ]
  },
  {
   "cell_type": "code",
   "execution_count": 150,
   "metadata": {},
   "outputs": [],
   "source": [
    "feature_col1 =  ['MARRIAGE','AGE','male','AVE_BILL','AVE_PAY_AMT','PAY_STATUS','PAY_pcount','zero_PAYMENT','EDU']\n",
    "X2=credit[feature_col1]\n",
    "y =credit['default']"
   ]
  },
  {
   "cell_type": "markdown",
   "metadata": {},
   "source": [
    "#### Train the model"
   ]
  },
  {
   "cell_type": "code",
   "execution_count": 151,
   "metadata": {},
   "outputs": [],
   "source": [
    "X_train, X_test, y_train, y_test = train_test_split(X2, y, test_size = .20, random_state = 123)\n",
    "algo = RandomForestClassifier()\n",
    "model = algo.fit(X_train,y_train)"
   ]
  },
  {
   "cell_type": "code",
   "execution_count": 152,
   "metadata": {},
   "outputs": [],
   "source": [
    "preds = model.predict(X_test)"
   ]
  },
  {
   "cell_type": "code",
   "execution_count": 153,
   "metadata": {},
   "outputs": [
    {
     "name": "stdout",
     "output_type": "stream",
     "text": [
      "              precision    recall  f1-score   support\n",
      "\n",
      "           0       0.84      0.92      0.88      4696\n",
      "           1       0.55      0.35      0.43      1304\n",
      "\n",
      "    accuracy                           0.80      6000\n",
      "   macro avg       0.69      0.64      0.65      6000\n",
      "weighted avg       0.77      0.80      0.78      6000\n",
      "\n"
     ]
    }
   ],
   "source": [
    "print(classification_report(y_test, preds))"
   ]
  },
  {
   "cell_type": "markdown",
   "metadata": {},
   "source": [
    "In the classification report, for all identifed as \"not default\", 83% are correctly identified. (precision). For all instances that are actually \"not default\", 92% was classified correctly (Recall). For the \"default\" group , both precision is \"55%\" and recall is 34%. Which is not too good. Since there are more count in the 'not default\" group, the weighted mean precision is 77%  and weighted recall is close to 75%."
   ]
  },
  {
   "cell_type": "code",
   "execution_count": 154,
   "metadata": {},
   "outputs": [
    {
     "data": {
      "image/png": "[encoded data removed]",
      "text/plain": [
       "<Figure size 432x288 with 1 Axes>"
      ]
     },
     "metadata": {
      "needs_background": "light"
     },
     "output_type": "display_data"
    }
   ],
   "source": [
    "from sklearn.metrics import roc_auc_score\n",
    "from sklearn.metrics import roc_curve\n",
    "rfr_roc_auc = roc_auc_score(y_test, model.predict(X_test))\n",
    "fpr, tpr, thresholds = roc_curve(y_test, model.predict_proba(X_test)[:,1])\n",
    "plt.figure()\n",
    "plt.plot(fpr, tpr, label='RandomForestClassifier (area = %0.2f)' % rfr_roc_auc)\n",
    "plt.plot([0, 1], [0, 1],'r--')\n",
    "plt.xlim([0.0, 1.0])\n",
    "plt.ylim([0.0, 1.05])\n",
    "plt.xlabel('False Positive Rate (Sensitivity)')\n",
    "plt.ylabel('True Positive Rate')\n",
    "plt.title('Receiver operating characteristic')\n",
    "plt.legend(loc=\"lower right\")\n",
    "plt.savefig('Log_ROC')\n",
    "plt.show()"
   ]
  },
  {
   "cell_type": "markdown",
   "metadata": {},
   "source": [
    "### features with 2 way interactions"
   ]
  },
  {
   "cell_type": "code",
   "execution_count": 130,
   "metadata": {},
   "outputs": [],
   "source": [
    "# code is from https://www.youtube.com/watch?v=V0u6bxQOUJ8\n",
    "from itertools import combinations\n",
    "from sklearn.preprocessing import PolynomialFeatures\n",
    "def add_interactions (Z):\n",
    "    # Get feature names\n",
    "    combos = list(combinations(list(Z.columns),2))\n",
    "    colnames = list(Z.columns)+['_'.join(x) for x in combos]\n",
    "    \n",
    "    # Find imtractions\n",
    "    poly = PolynomialFeatures(interaction_only=True, include_bias=False)\n",
    "    Z = poly.fit_transform(Z)\n",
    "    Z = pd.DataFrame(Z)\n",
    "    Z.columns = colnames\n",
    "    \n",
    "    # Remove interaction terms with all 0 values\n",
    "    noint_indices =[i for i, x in enumerate(list((Z == 0).all())) if x]\n",
    "    Z = Z.drop(Z.columns[noint_indices],axis=1)\n",
    "    \n",
    "    return Z"
   ]
  },
  {
   "cell_type": "code",
   "execution_count": 131,
   "metadata": {},
   "outputs": [],
   "source": [
    "feature_col1 =  ['MARRIAGE','AGE','male','AVE_BILL','AVE_PAY_AMT','PAY_STATUS','PAY_pcount','zero_PAYMENT','EDU']\n",
    "X3 = credit[feature_col1]\n",
    "y3 = credit['default']"
   ]
  },
  {
   "cell_type": "code",
   "execution_count": 132,
   "metadata": {},
   "outputs": [
    {
     "name": "stdout",
     "output_type": "stream",
     "text": [
      "   MARRIAGE   AGE  male     AVE_BILL  AVE_PAY_AMT  PAY_STATUS  PAY_pcount  \\\n",
      "0       1.0  24.0   0.0  1284.000000   114.833333         4.0         2.0   \n",
      "1       2.0  26.0   0.0  2846.166667   833.333333         4.0         2.0   \n",
      "\n",
      "   zero_PAYMENT  EDU  MARRIAGE_AGE  ...  AVE_PAY_AMT_PAY_STATUS  \\\n",
      "0           5.0  3.0          24.0  ...              459.333333   \n",
      "1           2.0  3.0          52.0  ...             3333.333333   \n",
      "\n",
      "   AVE_PAY_AMT_PAY_pcount  AVE_PAY_AMT_zero_PAYMENT  AVE_PAY_AMT_EDU  \\\n",
      "0              229.666667                574.166667            344.5   \n",
      "1             1666.666667               1666.666667           2500.0   \n",
      "\n",
      "   PAY_STATUS_PAY_pcount  PAY_STATUS_zero_PAYMENT  PAY_STATUS_EDU  \\\n",
      "0                    8.0                     20.0            12.0   \n",
      "1                    8.0                      8.0            12.0   \n",
      "\n",
      "   PAY_pcount_zero_PAYMENT  PAY_pcount_EDU  zero_PAYMENT_EDU  \n",
      "0                     10.0             6.0              15.0  \n",
      "1                      4.0             6.0               6.0  \n",
      "\n",
      "[2 rows x 45 columns]\n"
     ]
    }
   ],
   "source": [
    "X3 = add_interactions(X3)\n",
    "print(X3.head(2))"
   ]
  },
  {
   "cell_type": "code",
   "execution_count": 133,
   "metadata": {},
   "outputs": [],
   "source": [
    "X3 = RobustScaler(quantile_range=(25.0, 75.0)).fit_transform(X3)"
   ]
  },
  {
   "cell_type": "code",
   "execution_count": 134,
   "metadata": {},
   "outputs": [],
   "source": [
    "X_train, X_test, y_train, y_test = train_test_split(X3, y3, test_size=0.2, random_state= 112)"
   ]
  },
  {
   "cell_type": "code",
   "execution_count": 135,
   "metadata": {},
   "outputs": [
    {
     "name": "stderr",
     "output_type": "stream",
     "text": [
      "C:\\Users\\cthian972\\anaconda3\\envs\\hw\\lib\\site-packages\\sklearn\\linear_model\\_logistic.py:940: ConvergenceWarning: lbfgs failed to converge (status=1):\n",
      "STOP: TOTAL NO. of ITERATIONS REACHED LIMIT.\n",
      "\n",
      "Increase the number of iterations (max_iter) or scale the data as shown in:\n",
      "    https://scikit-learn.org/stable/modules/preprocessing.html\n",
      "Please also refer to the documentation for alternative solver options:\n",
      "    https://scikit-learn.org/stable/modules/linear_model.html#logistic-regression\n",
      "  extra_warning_msg=_LOGISTIC_SOLVER_CONVERGENCE_MSG)\n"
     ]
    },
    {
     "data": {
      "text/plain": [
       "LogisticRegression(C=1.0, class_weight=None, dual=False, fit_intercept=True,\n",
       "                   intercept_scaling=1, l1_ratio=None, max_iter=100,\n",
       "                   multi_class='auto', n_jobs=None, penalty='l2',\n",
       "                   random_state=None, solver='lbfgs', tol=0.0001, verbose=0,\n",
       "                   warm_start=False)"
      ]
     },
     "execution_count": 135,
     "metadata": {},
     "output_type": "execute_result"
    }
   ],
   "source": [
    "# instantiate the model (using the default parameters)\n",
    "logreg = LogisticRegression()\n",
    "\n",
    "# train the model on the training set\n",
    "logreg.fit(X_train, y_train)"
   ]
  },
  {
   "cell_type": "code",
   "execution_count": 136,
   "metadata": {},
   "outputs": [],
   "source": [
    "# make predictions on the testing set and store the predicted response values\n",
    "y_pred = logreg.predict(X_test)"
   ]
  },
  {
   "cell_type": "code",
   "execution_count": 138,
   "metadata": {},
   "outputs": [
    {
     "name": "stdout",
     "output_type": "stream",
     "text": [
      "TruePositive  : 416 FalsePositive : 255\n",
      "FalseNegative : 880 TrueNegative  : 4449\n",
      "Accuracy: 0.811 ,        Misclassification Rate: 0.189\n",
      "Sensitivity: 0.321 ,  Specificity: 0.946\n",
      "False Positive Rate: 0.054 , Precision: 0.620\n"
     ]
    }
   ],
   "source": [
    "# Metrics from Confusion matrix \n",
    "confusion = confusion_matrix(y_test, y_pred)\n",
    "TruePositive = confusion[1, 1]\n",
    "TrueNegative = confusion[0, 0]\n",
    "FalsePositive = confusion[0, 1]\n",
    "FalseNegative = confusion[1, 0]\n",
    "\n",
    "# Classification Accuracy: how often is the classifier correct?\n",
    "Accuracy = (TruePositive + TrueNegative) / float(TruePositive + FalsePositive + TrueNegative + FalseNegative)\n",
    "\n",
    "# Misclassification Rate or classification error: how often is the classifier incorrect\n",
    "Misclassification = (FalsePositive + FalseNegative) / float(TruePositive + FalsePositive + TrueNegative + FalseNegative)\n",
    "\n",
    "# How often is the prediction correct when the actual value is positive?\n",
    "Sensitivity =  TruePositive  / float(TruePositive + FalseNegative)\n",
    "\n",
    "# How often is the prediction correct when the actual value is negative?\n",
    "Specificity = TrueNegative / float(TrueNegative + FalsePositive)\n",
    "\n",
    "# How often is the prediction incorrect when the actual value is negative?\n",
    "FalsePositiveRate = FalsePositive / float(FalsePositive + TrueNegative)\n",
    "\n",
    "# When a positive value is predicted, how often is the prediction correct?\n",
    "Precision = TruePositive / float(TruePositive + FalsePositive)\n",
    "\n",
    "print('TruePositive  : %d' %TruePositive , 'FalsePositive : %d'% FalsePositive)\n",
    "print('FalseNegative : %d' %FalseNegative, 'TrueNegative  : %d'% TrueNegative)\n",
    "print('Accuracy: %.3f'% Accuracy,',        Misclassification Rate: %.3f'% Misclassification)\n",
    "print('Sensitivity: %.3f'% Sensitivity, ',  Specificity: %.3f'% Specificity)\n",
    "print('False Positive Rate: %.3f'% FalsePositiveRate, ', Precision: %.3f'% Precision)"
   ]
  },
  {
   "cell_type": "markdown",
   "metadata": {},
   "source": [
    "ADding 2 way interaction, did not improve Sensitivity much."
   ]
  },
  {
   "cell_type": "code",
   "execution_count": 139,
   "metadata": {},
   "outputs": [
    {
     "data": {
      "image/png": "[encoded data removed]",
      "text/plain": [
       "<Figure size 432x288 with 1 Axes>"
      ]
     },
     "metadata": {
      "needs_background": "light"
     },
     "output_type": "display_data"
    }
   ],
   "source": [
    "from sklearn.metrics import roc_auc_score\n",
    "from sklearn.metrics import roc_curve\n",
    "logit_roc_auc = roc_auc_score(y_test, logreg.predict(X_test))\n",
    "fpr, tpr, thresholds = roc_curve(y_test, logreg.predict_proba(X_test)[:,1])\n",
    "plt.figure()\n",
    "plt.plot(fpr, tpr, label='Logistic Regression (area = %0.2f)' % logit_roc_auc)\n",
    "plt.plot([0, 1], [0, 1],'r--')\n",
    "plt.xlim([0.0, 1.0])\n",
    "plt.ylim([0.0, 1.05])\n",
    "plt.xlabel('False Positive Rate (Sensitivity)')\n",
    "plt.ylabel('True Positive Rate')\n",
    "plt.title('Receiver operating characteristic')\n",
    "plt.legend(loc=\"lower right\")\n",
    "plt.savefig('Log_ROC')\n",
    "plt.show()"
   ]
  },
  {
   "cell_type": "markdown",
   "metadata": {},
   "source": [
    "A model with high discrimination ability will have high sensitivity (True Positive Rate) and specificity (False Positive Rate) simultaneously, leading to an ROC curve which goes close to the top left corner of the plot. A model with no discrimination ability will have an ROC curve which is the 45 degree diagonal line. In this case, we can see that this model is \"so so\""
   ]
  },
  {
   "cell_type": "code",
   "execution_count": null,
   "metadata": {},
   "outputs": [],
   "source": [
    "from sklearn.pipeline import Pipeline\n",
    "# fits PCA, transforms data and fits the decision tree classifier\n",
    "# on the transformed data\n",
    "pipe = Pipeline([('pca', PCA()),\n",
    "                 ('tree', DecisionTreeClassifier())])\n",
    "\n",
    "pipe.fit(X_train,y_train)\n",
    "\n",
    "pipe.predict(X_test)"
   ]
  },
  {
   "cell_type": "markdown",
   "metadata": {},
   "source": [
    "Adding PAY_AMT1 to PAY_AMT6, and 2 way interaction and see if there is any improvement over Sensitivity"
   ]
  },
  {
   "cell_type": "code",
   "execution_count": 140,
   "metadata": {},
   "outputs": [],
   "source": [
    "feature_col2 =  ['MARRIAGE','AGE','male','AVE_BILL','AVE_PAY_AMT','PAY_AMT1','PAY_AMT2','PAY_AMT3','PAY_AMT4','PAY_AMT5','PAY_AMT6','PAY_STATUS','PAY_pcount','zero_PAYMENT','EDU']\n",
    "X4 = credit[feature_col2]\n",
    "y4 = credit['default']"
   ]
  },
  {
   "cell_type": "code",
   "execution_count": 141,
   "metadata": {},
   "outputs": [],
   "source": [
    "X4 = add_interactions(X4)"
   ]
  },
  {
   "cell_type": "code",
   "execution_count": 142,
   "metadata": {},
   "outputs": [],
   "source": [
    "X4 = RobustScaler(quantile_range=(25.0, 75.0)).fit_transform(X4)"
   ]
  },
  {
   "cell_type": "code",
   "execution_count": 143,
   "metadata": {},
   "outputs": [],
   "source": [
    "X_train, X_test, y_train, y_test = train_test_split(X4, y4, test_size=0.2, random_state= 112)"
   ]
  },
  {
   "cell_type": "code",
   "execution_count": 144,
   "metadata": {},
   "outputs": [
    {
     "name": "stderr",
     "output_type": "stream",
     "text": [
      "C:\\Users\\cthian972\\anaconda3\\envs\\hw\\lib\\site-packages\\sklearn\\linear_model\\_logistic.py:940: ConvergenceWarning: lbfgs failed to converge (status=1):\n",
      "STOP: TOTAL NO. of ITERATIONS REACHED LIMIT.\n",
      "\n",
      "Increase the number of iterations (max_iter) or scale the data as shown in:\n",
      "    https://scikit-learn.org/stable/modules/preprocessing.html\n",
      "Please also refer to the documentation for alternative solver options:\n",
      "    https://scikit-learn.org/stable/modules/linear_model.html#logistic-regression\n",
      "  extra_warning_msg=_LOGISTIC_SOLVER_CONVERGENCE_MSG)\n"
     ]
    }
   ],
   "source": [
    "# instantiate the model (using the default parameters)\n",
    "logreg = LogisticRegression()\n",
    "# train the model on the training set\n",
    "logreg.fit(X_train, y_train)\n",
    "# make predictions on the testing set and store the predicted response values\n",
    "y_pred = logreg.predict(X_test)"
   ]
  },
  {
   "cell_type": "code",
   "execution_count": 146,
   "metadata": {},
   "outputs": [
    {
     "name": "stdout",
     "output_type": "stream",
     "text": [
      "TruePositive  : 664 FalsePositive : 985\n",
      "FalseNegative : 632 TrueNegative  : 3719\n",
      "Accuracy: 0.731 ,        Misclassification Rate: 0.270\n",
      "Sensitivity: 0.512 ,  Specificity: 0.791\n",
      "False Positive Rate: 0.209 , Precision: 0.403\n"
     ]
    }
   ],
   "source": [
    "# Metrics from Confusion matrix \n",
    "confusion = confusion_matrix(y_test, y_pred)\n",
    "TruePositive = confusion[1, 1]\n",
    "TrueNegative = confusion[0, 0]\n",
    "FalsePositive = confusion[0, 1]\n",
    "FalseNegative = confusion[1, 0]\n",
    "\n",
    "# Classification Accuracy: how often is the classifier correct?\n",
    "Accuracy = (TruePositive + TrueNegative) / float(TruePositive + FalsePositive + TrueNegative + FalseNegative)\n",
    "\n",
    "# Misclassification Rate or classification error: how often is the classifier incorrect\n",
    "Misclassification = (FalsePositive + FalseNegative) / float(TruePositive + FalsePositive + TrueNegative + FalseNegative)\n",
    "\n",
    "# How often is the prediction correct when the actual value is positive?\n",
    "Sensitivity =  TruePositive  / float(TruePositive + FalseNegative)\n",
    "\n",
    "# How often is the prediction correct when the actual value is negative?\n",
    "Specificity = TrueNegative / float(TrueNegative + FalsePositive)\n",
    "\n",
    "# How often is the prediction incorrect when the actual value is negative?\n",
    "FalsePositiveRate = FalsePositive / float(FalsePositive + TrueNegative)\n",
    "\n",
    "# When a positive value is predicted, how often is the prediction correct?\n",
    "Precision = TruePositive / float(TruePositive + FalsePositive)\n",
    "\n",
    "print('TruePositive  : %d' %TruePositive , 'FalsePositive : %d'% FalsePositive)\n",
    "print('FalseNegative : %d' %FalseNegative, 'TrueNegative  : %d'% TrueNegative)\n",
    "print('Accuracy: %.3f'% Accuracy,',        Misclassification Rate: %.3f'% Misclassification)\n",
    "print('Sensitivity: %.3f'% Sensitivity, ',  Specificity: %.3f'% Specificity)\n",
    "print('False Positive Rate: %.3f'% FalsePositiveRate, ', Precision: %.3f'% Precision)"
   ]
  },
  {
   "cell_type": "code",
   "execution_count": 147,
   "metadata": {},
   "outputs": [
    {
     "name": "stdout",
     "output_type": "stream",
     "text": [
      "              precision    recall  f1-score   support\n",
      "\n",
      "           0       0.85      0.79      0.82      4704\n",
      "           1       0.40      0.51      0.45      1296\n",
      "\n",
      "    accuracy                           0.73      6000\n",
      "   macro avg       0.63      0.65      0.64      6000\n",
      "weighted avg       0.76      0.73      0.74      6000\n",
      "\n"
     ]
    }
   ],
   "source": [
    "print(classification_report(y_test, y_pred))"
   ]
  },
  {
   "cell_type": "markdown",
   "metadata": {},
   "source": [
    "Note that accuracy dropped. For all identifed as \"not default\", 85% are correctly identified. (precision). For all instances that are actually \"not default\", now only 79% was classified correctly (Recall). For the \"default\", precision is \"40%\" and recall increases to 51%.  Since there are more count in the not default\" group, the weighted mean precision is 77% and weighted recall is close to 75%."
   ]
  },
  {
   "cell_type": "code",
   "execution_count": 148,
   "metadata": {},
   "outputs": [
    {
     "data": {
      "image/png": "[encoded data removed]",
      "text/plain": [
       "<Figure size 432x288 with 1 Axes>"
      ]
     },
     "metadata": {
      "needs_background": "light"
     },
     "output_type": "display_data"
    }
   ],
   "source": [
    "from sklearn.metrics import roc_auc_score\n",
    "from sklearn.metrics import roc_curve\n",
    "logit_roc_auc = roc_auc_score(y_test, logreg.predict(X_test))\n",
    "fpr, tpr, thresholds = roc_curve(y_test, logreg.predict_proba(X_test)[:,1])\n",
    "plt.figure()\n",
    "plt.plot(fpr, tpr, label='Logistic Regression (area = %0.2f)' % logit_roc_auc)\n",
    "plt.plot([0, 1], [0, 1],'r--')\n",
    "plt.xlim([0.0, 1.0])\n",
    "plt.ylim([0.0, 1.05])\n",
    "plt.xlabel('Specificity (False Positive Rate)')\n",
    "plt.ylabel('sensitivity (True Positive Rate)')\n",
    "plt.title('Receiver operating characteristic')\n",
    "plt.legend(loc=\"lower right\")\n",
    "plt.savefig('Log_ROC')\n",
    "plt.show()"
   ]
  },
  {
   "cell_type": "markdown",
   "metadata": {},
   "source": [
    "A model with high discrimination ability will have high sensitivity (True Positive Rate) and specificity (False Positive Rate)  simultaneously, leading to an ROC curve which goes close to the top left corner of the plot. A model with no discrimination ability will have an ROC curve which is the 45 degree diagonal line.\n",
    "In this case, we can see that this model is mot too good"
   ]
  },
  {
   "cell_type": "markdown",
   "metadata": {},
   "source": [
    "### features with 3 way interactions"
   ]
  },
  {
   "cell_type": "code",
   "execution_count": null,
   "metadata": {},
   "outputs": [],
   "source": []
  }
 ],
 "metadata": {
  "kernelspec": {
   "display_name": "hw",
   "language": "python",
   "name": "hw"
  },
  "language_info": {
   "codemirror_mode": {
    "name": "ipython",
    "version": 3
   },
   "file_extension": ".py",
   "mimetype": "text/x-python",
   "name": "python",
   "nbconvert_exporter": "python",
   "pygments_lexer": "ipython3",
   "version": "3.7.7"
  }
 },
 "nbformat": 4,
 "nbformat_minor": 4
}
