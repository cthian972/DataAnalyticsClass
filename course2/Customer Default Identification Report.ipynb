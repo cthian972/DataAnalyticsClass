{
 "cells": [
  {
   "cell_type": "markdown",
   "metadata": {},
   "source": [
    "## Credit One Customers' Credit Limit Setting and Default Reduction"
   ]
  },
  {
   "cell_type": "markdown",
   "metadata": {},
   "source": [
    "### Import libraries"
   ]
  },
  {
   "cell_type": "code",
   "execution_count": 1,
   "metadata": {},
   "outputs": [],
   "source": [
    "# import the following libraries.  \n",
    "import pandas as pd\n",
    "import numpy as np\n",
    "import matplotlib.pyplot as plt \n",
    "import seaborn as sns\n",
    "import scipy\n",
    "from math import sqrt\n",
    "from scipy import stats # To interpret output\n",
    "#import statsmodels.api as sm"
   ]
  },
  {
   "cell_type": "code",
   "execution_count": 2,
   "metadata": {},
   "outputs": [],
   "source": [
    "# Leverage the built in preprocessing machine learning Models in the libraries\n",
    "# \n",
    "from sklearn.preprocessing import PolynomialFeatures\n",
    "from sklearn.preprocessing import RobustScaler\n",
    "from sklearn.preprocessing import StandardScaler\n",
    "from sklearn.preprocessing import QuantileTransformer"
   ]
  },
  {
   "cell_type": "code",
   "execution_count": 3,
   "metadata": {},
   "outputs": [],
   "source": [
    "# Leverage the built in machine learning Models in the libraries\n",
    "# import different estimators\n",
    "from sklearn.linear_model import LinearRegression\n",
    "from sklearn.linear_model import LogisticRegression\n",
    "from sklearn.linear_model import BayesianRidge\n",
    "from sklearn.linear_model import Lasso\n",
    "\n",
    "from sklearn.svm import SVR\n",
    "from sklearn.ensemble import RandomForestRegressor\n",
    "from sklearn.ensemble import RandomForestClassifier\n",
    "from sklearn.ensemble import GradientBoostingClassifier #GB builds an additive model in a forward stage-wise\n",
    "\n",
    "from sklearn.tree import DecisionTreeClassifier\n",
    "from sklearn.tree import export_graphviz # Export decision tree in DOT format\n",
    "\n",
    "from sklearn.neighbors import KNeighborsClassifier\n",
    "\n",
    "from sklearn.model_selection import GridSearchCV\n",
    "from sklearn.model_selection import cross_val_score # Import cross_val_score function\n",
    "\n",
    "from sklearn.decomposition import PCA"
   ]
  },
  {
   "cell_type": "code",
   "execution_count": 4,
   "metadata": {},
   "outputs": [],
   "source": [
    "#model metrics\n",
    "from sklearn.metrics import mean_squared_error\n",
    "from sklearn.metrics import accuracy_score\n",
    "from sklearn.metrics import mean_absolute_error\n",
    "from sklearn.metrics import r2_score\n",
    "from sklearn.metrics import classification_report\n",
    "from sklearn.metrics import confusion_matrix\n",
    "from sklearn.model_selection import cross_val_score\n",
    "from sklearn.metrics import roc_auc_score\n",
    "from sklearn.metrics import roc_curve"
   ]
  },
  {
   "cell_type": "code",
   "execution_count": 5,
   "metadata": {},
   "outputs": [],
   "source": [
    "#cross validation\n",
    "from sklearn.model_selection import train_test_split # Split arrays/matrices into random train and test subsets"
   ]
  },
  {
   "cell_type": "markdown",
   "metadata": {},
   "source": [
    "### import Credit One data"
   ]
  },
  {
   "cell_type": "code",
   "execution_count": 6,
   "metadata": {},
   "outputs": [],
   "source": [
    "# We can use the new 'pd' reference and run the read_csv function from within Pandas to import our data as follows:\n",
    "credit = pd.read_csv('default of credit card clients.csv', header =1)\n",
    "\n",
    "# Note that the first row of the data file is excluded."
   ]
  },
  {
   "cell_type": "code",
   "execution_count": 7,
   "metadata": {},
   "outputs": [],
   "source": [
    "# remove redundant columns\n",
    "credit=credit.drop(['ID'], axis=1)"
   ]
  },
  {
   "cell_type": "markdown",
   "metadata": {},
   "source": [
    "### Dealing with non-numeric data (One-Hot Encoding)"
   ]
  },
  {
   "cell_type": "markdown",
   "metadata": {},
   "source": [
    "We can see we have three variables that are listed as being the object data type; we need to covert these to 'Dummy variables' so they can be used in this multiple regression problem."
   ]
  },
  {
   "cell_type": "code",
   "execution_count": 8,
   "metadata": {},
   "outputs": [],
   "source": [
    "# Use the get_dummies() function within pandas to convert non-numeric columns to a series of binary numeric 'Dummy' columns\n",
    "credit = pd.get_dummies(credit)"
   ]
  },
  {
   "cell_type": "code",
   "execution_count": 9,
   "metadata": {},
   "outputs": [],
   "source": [
    "# rename to reduce the number of field name characters\n",
    "credit.rename({'SEX_male':'male','SEX_female':'female','default payment next month_default': 'default','default payment next month_not default': 'not_default', 'EDUCATION_high school': 'ED_hs', 'EDUCATION_graduate school': 'ED_gs','EDUCATION_other': 'ED_o', 'EDUCATION_university': 'ED_u'}, axis=1, inplace=True)"
   ]
  },
  {
   "cell_type": "markdown",
   "metadata": {},
   "source": [
    "### Create New variables"
   ]
  },
  {
   "cell_type": "code",
   "execution_count": 10,
   "metadata": {},
   "outputs": [],
   "source": [
    "# Create a variable TOTAL_BILL as the sum of all the 6 months' BILL_AMTs\n",
    "credit[\"TOTAL_BILL\"] = credit[\"BILL_AMT1\"]+credit[\"BILL_AMT2\"]+credit[\"BILL_AMT3\"]+credit[\"BILL_AMT4\"]+credit[\"BILL_AMT5\"]+credit[\"BILL_AMT6\"]"
   ]
  },
  {
   "cell_type": "code",
   "execution_count": 11,
   "metadata": {},
   "outputs": [],
   "source": [
    "# Create a variable AVE_BILL as the average of all the 6 months' BILL_AMTs\n",
    "credit[\"AVE_BILL\"] =credit[\"TOTAL_BILL\"]/6"
   ]
  },
  {
   "cell_type": "code",
   "execution_count": 12,
   "metadata": {},
   "outputs": [],
   "source": [
    "# Create a variable TOTAL_PAY as the sum of all the 6 months' PAY_AMTs\n",
    "credit[\"TOTAL_PAY\"] = credit[\"PAY_AMT1\"]+credit[\"PAY_AMT2\"]+credit[\"PAY_AMT3\"]+credit[\"PAY_AMT4\"]+credit[\"PAY_AMT5\"]+credit[\"PAY_AMT6\"]"
   ]
  },
  {
   "cell_type": "code",
   "execution_count": 13,
   "metadata": {},
   "outputs": [],
   "source": [
    "# Create a variable AVE_PAY_AMT as the average of all the 6 months' PAY_AMTs\n",
    "credit[\"AVE_PAY_AMT\"] =credit[\"TOTAL_PAY\"]/6"
   ]
  },
  {
   "cell_type": "code",
   "execution_count": 14,
   "metadata": {},
   "outputs": [],
   "source": [
    "# shift pay features for -2 to -1                                \n",
    "credit['PAY_0']=credit['PAY_0'].replace(-2,-1)\n",
    "credit['PAY_2']=credit['PAY_2'].replace(-2,-1)\n",
    "credit['PAY_3']=credit['PAY_3'].replace(-2,-1)\n",
    "credit['PAY_4']=credit['PAY_4'].replace(-2,-1)\n",
    "credit['PAY_5']=credit['PAY_5'].replace(-2,-1)\n",
    "credit['PAY_6']=credit['PAY_6'].replace(-2,-1)"
   ]
  },
  {
   "cell_type": "code",
   "execution_count": 15,
   "metadata": {},
   "outputs": [],
   "source": [
    "# Create another variable PAY_STATUS : first assign all non positive of PAY_x as 0, and then sum them up\n",
    "credit['PAY_0']=credit['PAY_0'].replace(-1,0)\n",
    "credit['PAY_2']=credit['PAY_2'].replace(-1,0)\n",
    "credit['PAY_3']=credit['PAY_3'].replace(-1,0)\n",
    "credit['PAY_4']=credit['PAY_4'].replace(-1,0)\n",
    "credit['PAY_5']=credit['PAY_5'].replace(-1,0)\n",
    "credit['PAY_6']=credit['PAY_6'].replace(-1,0)\n",
    "\n",
    "credit[\"PAY_STATUS\"] = credit[\"PAY_0\"]+credit[\"PAY_2\"]+credit[\"PAY_3\"]+credit[\"PAY_4\"]+credit[\"PAY_5\"]+credit[\"PAY_6\"]"
   ]
  },
  {
   "cell_type": "code",
   "execution_count": 16,
   "metadata": {},
   "outputs": [],
   "source": [
    "# remove redundant columns\n",
    "credit=credit.drop(['TOTAL_BILL','TOTAL_PAY'], axis=1)"
   ]
  },
  {
   "cell_type": "code",
   "execution_count": 17,
   "metadata": {},
   "outputs": [],
   "source": [
    "# Replaced EDU from 4 columns to 1 column, as time in education.\n",
    "# Create EDU as 1 to 4: 4-graduate school(longest time in school), 3-university, 2-high school, 1-others.\n",
    "credit['EDU'] = credit['ED_o']\n",
    "credit.loc[credit['ED_gs'] == 1, 'EDU'] = 4\n",
    "credit.loc[credit['ED_u'] == 1, 'EDU'] = 3\n",
    "credit.loc[credit['ED_hs'] == 1, 'EDU'] = 2\n",
    "credit=credit.drop(['ED_gs','ED_hs','ED_o','ED_u','not_default','female'], axis=1)"
   ]
  },
  {
   "cell_type": "markdown",
   "metadata": {},
   "source": [
    "## Identify key features that affect credit limits, \"LIMIT_BAL\"\n",
    "### PreProcessing Data"
   ]
  },
  {
   "cell_type": "code",
   "execution_count": 18,
   "metadata": {},
   "outputs": [
    {
     "data": {
      "text/html": [
       "<style  type=\"text/css\" >\n",
       "    #T_111cb282_9a3b_11ea_b7c5_c49dedb01420row0_col0 {\n",
       "            background-color:  #b40426;\n",
       "            color:  #f1f1f1;\n",
       "        }    #T_111cb282_9a3b_11ea_b7c5_c49dedb01420row0_col1 {\n",
       "            background-color:  #81a4fb;\n",
       "            color:  #000000;\n",
       "        }    #T_111cb282_9a3b_11ea_b7c5_c49dedb01420row0_col2 {\n",
       "            background-color:  #bfd3f6;\n",
       "            color:  #000000;\n",
       "        }    #T_111cb282_9a3b_11ea_b7c5_c49dedb01420row0_col3 {\n",
       "            background-color:  #3b4cc0;\n",
       "            color:  #f1f1f1;\n",
       "        }    #T_111cb282_9a3b_11ea_b7c5_c49dedb01420row0_col4 {\n",
       "            background-color:  #3b4cc0;\n",
       "            color:  #f1f1f1;\n",
       "        }    #T_111cb282_9a3b_11ea_b7c5_c49dedb01420row0_col5 {\n",
       "            background-color:  #3b4cc0;\n",
       "            color:  #f1f1f1;\n",
       "        }    #T_111cb282_9a3b_11ea_b7c5_c49dedb01420row0_col6 {\n",
       "            background-color:  #3b4cc0;\n",
       "            color:  #f1f1f1;\n",
       "        }    #T_111cb282_9a3b_11ea_b7c5_c49dedb01420row0_col7 {\n",
       "            background-color:  #3b4cc0;\n",
       "            color:  #f1f1f1;\n",
       "        }    #T_111cb282_9a3b_11ea_b7c5_c49dedb01420row0_col8 {\n",
       "            background-color:  #3b4cc0;\n",
       "            color:  #f1f1f1;\n",
       "        }    #T_111cb282_9a3b_11ea_b7c5_c49dedb01420row0_col9 {\n",
       "            background-color:  #cdd9ec;\n",
       "            color:  #000000;\n",
       "        }    #T_111cb282_9a3b_11ea_b7c5_c49dedb01420row0_col10 {\n",
       "            background-color:  #cedaeb;\n",
       "            color:  #000000;\n",
       "        }    #T_111cb282_9a3b_11ea_b7c5_c49dedb01420row0_col11 {\n",
       "            background-color:  #d1dae9;\n",
       "            color:  #000000;\n",
       "        }    #T_111cb282_9a3b_11ea_b7c5_c49dedb01420row0_col12 {\n",
       "            background-color:  #d3dbe7;\n",
       "            color:  #000000;\n",
       "        }    #T_111cb282_9a3b_11ea_b7c5_c49dedb01420row0_col13 {\n",
       "            background-color:  #d3dbe7;\n",
       "            color:  #000000;\n",
       "        }    #T_111cb282_9a3b_11ea_b7c5_c49dedb01420row0_col14 {\n",
       "            background-color:  #d2dbe8;\n",
       "            color:  #000000;\n",
       "        }    #T_111cb282_9a3b_11ea_b7c5_c49dedb01420row0_col15 {\n",
       "            background-color:  #9dbdff;\n",
       "            color:  #000000;\n",
       "        }    #T_111cb282_9a3b_11ea_b7c5_c49dedb01420row0_col16 {\n",
       "            background-color:  #90b2fe;\n",
       "            color:  #000000;\n",
       "        }    #T_111cb282_9a3b_11ea_b7c5_c49dedb01420row0_col17 {\n",
       "            background-color:  #9fbfff;\n",
       "            color:  #000000;\n",
       "        }    #T_111cb282_9a3b_11ea_b7c5_c49dedb01420row0_col18 {\n",
       "            background-color:  #9ebeff;\n",
       "            color:  #000000;\n",
       "        }    #T_111cb282_9a3b_11ea_b7c5_c49dedb01420row0_col19 {\n",
       "            background-color:  #a2c1ff;\n",
       "            color:  #000000;\n",
       "        }    #T_111cb282_9a3b_11ea_b7c5_c49dedb01420row0_col20 {\n",
       "            background-color:  #9fbfff;\n",
       "            color:  #000000;\n",
       "        }    #T_111cb282_9a3b_11ea_b7c5_c49dedb01420row0_col21 {\n",
       "            background-color:  #7a9df8;\n",
       "            color:  #000000;\n",
       "        }    #T_111cb282_9a3b_11ea_b7c5_c49dedb01420row0_col22 {\n",
       "            background-color:  #3b4cc0;\n",
       "            color:  #f1f1f1;\n",
       "        }    #T_111cb282_9a3b_11ea_b7c5_c49dedb01420row0_col23 {\n",
       "            background-color:  #3b4cc0;\n",
       "            color:  #f1f1f1;\n",
       "        }    #T_111cb282_9a3b_11ea_b7c5_c49dedb01420row0_col24 {\n",
       "            background-color:  #3b4cc0;\n",
       "            color:  #f1f1f1;\n",
       "        }    #T_111cb282_9a3b_11ea_b7c5_c49dedb01420row0_col25 {\n",
       "            background-color:  #d6dce4;\n",
       "            color:  #000000;\n",
       "        }    #T_111cb282_9a3b_11ea_b7c5_c49dedb01420row0_col26 {\n",
       "            background-color:  #d5dbe5;\n",
       "            color:  #000000;\n",
       "        }    #T_111cb282_9a3b_11ea_b7c5_c49dedb01420row0_col27 {\n",
       "            background-color:  #3b4cc0;\n",
       "            color:  #f1f1f1;\n",
       "        }    #T_111cb282_9a3b_11ea_b7c5_c49dedb01420row0_col28 {\n",
       "            background-color:  #afcafc;\n",
       "            color:  #000000;\n",
       "        }    #T_111cb282_9a3b_11ea_b7c5_c49dedb01420row1_col0 {\n",
       "            background-color:  #5a78e4;\n",
       "            color:  #000000;\n",
       "        }    #T_111cb282_9a3b_11ea_b7c5_c49dedb01420row1_col1 {\n",
       "            background-color:  #b40426;\n",
       "            color:  #f1f1f1;\n",
       "        }    #T_111cb282_9a3b_11ea_b7c5_c49dedb01420row1_col2 {\n",
       "            background-color:  #3b4cc0;\n",
       "            color:  #f1f1f1;\n",
       "        }    #T_111cb282_9a3b_11ea_b7c5_c49dedb01420row1_col3 {\n",
       "            background-color:  #6384eb;\n",
       "            color:  #000000;\n",
       "        }    #T_111cb282_9a3b_11ea_b7c5_c49dedb01420row1_col4 {\n",
       "            background-color:  #6a8bef;\n",
       "            color:  #000000;\n",
       "        }    #T_111cb282_9a3b_11ea_b7c5_c49dedb01420row1_col5 {\n",
       "            background-color:  #6b8df0;\n",
       "            color:  #000000;\n",
       "        }    #T_111cb282_9a3b_11ea_b7c5_c49dedb01420row1_col6 {\n",
       "            background-color:  #688aef;\n",
       "            color:  #000000;\n",
       "        }    #T_111cb282_9a3b_11ea_b7c5_c49dedb01420row1_col7 {\n",
       "            background-color:  #6788ee;\n",
       "            color:  #000000;\n",
       "        }    #T_111cb282_9a3b_11ea_b7c5_c49dedb01420row1_col8 {\n",
       "            background-color:  #688aef;\n",
       "            color:  #000000;\n",
       "        }    #T_111cb282_9a3b_11ea_b7c5_c49dedb01420row1_col9 {\n",
       "            background-color:  #7da0f9;\n",
       "            color:  #000000;\n",
       "        }    #T_111cb282_9a3b_11ea_b7c5_c49dedb01420row1_col10 {\n",
       "            background-color:  #81a4fb;\n",
       "            color:  #000000;\n",
       "        }    #T_111cb282_9a3b_11ea_b7c5_c49dedb01420row1_col11 {\n",
       "            background-color:  #82a6fb;\n",
       "            color:  #000000;\n",
       "        }    #T_111cb282_9a3b_11ea_b7c5_c49dedb01420row1_col12 {\n",
       "            background-color:  #84a7fc;\n",
       "            color:  #000000;\n",
       "        }    #T_111cb282_9a3b_11ea_b7c5_c49dedb01420row1_col13 {\n",
       "            background-color:  #82a6fb;\n",
       "            color:  #000000;\n",
       "        }    #T_111cb282_9a3b_11ea_b7c5_c49dedb01420row1_col14 {\n",
       "            background-color:  #82a6fb;\n",
       "            color:  #000000;\n",
       "        }    #T_111cb282_9a3b_11ea_b7c5_c49dedb01420row1_col15 {\n",
       "            background-color:  #5f7fe8;\n",
       "            color:  #000000;\n",
       "        }    #T_111cb282_9a3b_11ea_b7c5_c49dedb01420row1_col16 {\n",
       "            background-color:  #5673e0;\n",
       "            color:  #000000;\n",
       "        }    #T_111cb282_9a3b_11ea_b7c5_c49dedb01420row1_col17 {\n",
       "            background-color:  #5d7ce6;\n",
       "            color:  #000000;\n",
       "        }    #T_111cb282_9a3b_11ea_b7c5_c49dedb01420row1_col18 {\n",
       "            background-color:  #5b7ae5;\n",
       "            color:  #000000;\n",
       "        }    #T_111cb282_9a3b_11ea_b7c5_c49dedb01420row1_col19 {\n",
       "            background-color:  #5e7de7;\n",
       "            color:  #000000;\n",
       "        }    #T_111cb282_9a3b_11ea_b7c5_c49dedb01420row1_col20 {\n",
       "            background-color:  #5a78e4;\n",
       "            color:  #000000;\n",
       "        }    #T_111cb282_9a3b_11ea_b7c5_c49dedb01420row1_col21 {\n",
       "            background-color:  #86a9fc;\n",
       "            color:  #000000;\n",
       "        }    #T_111cb282_9a3b_11ea_b7c5_c49dedb01420row1_col22 {\n",
       "            background-color:  #7699f6;\n",
       "            color:  #000000;\n",
       "        }    #T_111cb282_9a3b_11ea_b7c5_c49dedb01420row1_col23 {\n",
       "            background-color:  #4b64d5;\n",
       "            color:  #f1f1f1;\n",
       "        }    #T_111cb282_9a3b_11ea_b7c5_c49dedb01420row1_col24 {\n",
       "            background-color:  #5d7ce6;\n",
       "            color:  #000000;\n",
       "        }    #T_111cb282_9a3b_11ea_b7c5_c49dedb01420row1_col25 {\n",
       "            background-color:  #84a7fc;\n",
       "            color:  #000000;\n",
       "        }    #T_111cb282_9a3b_11ea_b7c5_c49dedb01420row1_col26 {\n",
       "            background-color:  #7093f3;\n",
       "            color:  #000000;\n",
       "        }    #T_111cb282_9a3b_11ea_b7c5_c49dedb01420row1_col27 {\n",
       "            background-color:  #6f92f3;\n",
       "            color:  #000000;\n",
       "        }    #T_111cb282_9a3b_11ea_b7c5_c49dedb01420row1_col28 {\n",
       "            background-color:  #97b8ff;\n",
       "            color:  #000000;\n",
       "        }    #T_111cb282_9a3b_11ea_b7c5_c49dedb01420row2_col0 {\n",
       "            background-color:  #a1c0ff;\n",
       "            color:  #000000;\n",
       "        }    #T_111cb282_9a3b_11ea_b7c5_c49dedb01420row2_col1 {\n",
       "            background-color:  #3b4cc0;\n",
       "            color:  #f1f1f1;\n",
       "        }    #T_111cb282_9a3b_11ea_b7c5_c49dedb01420row2_col2 {\n",
       "            background-color:  #b40426;\n",
       "            color:  #f1f1f1;\n",
       "        }    #T_111cb282_9a3b_11ea_b7c5_c49dedb01420row2_col3 {\n",
       "            background-color:  #6687ed;\n",
       "            color:  #000000;\n",
       "        }    #T_111cb282_9a3b_11ea_b7c5_c49dedb01420row2_col4 {\n",
       "            background-color:  #6a8bef;\n",
       "            color:  #000000;\n",
       "        }    #T_111cb282_9a3b_11ea_b7c5_c49dedb01420row2_col5 {\n",
       "            background-color:  #6788ee;\n",
       "            color:  #000000;\n",
       "        }    #T_111cb282_9a3b_11ea_b7c5_c49dedb01420row2_col6 {\n",
       "            background-color:  #6788ee;\n",
       "            color:  #000000;\n",
       "        }    #T_111cb282_9a3b_11ea_b7c5_c49dedb01420row2_col7 {\n",
       "            background-color:  #6384eb;\n",
       "            color:  #000000;\n",
       "        }    #T_111cb282_9a3b_11ea_b7c5_c49dedb01420row2_col8 {\n",
       "            background-color:  #6384eb;\n",
       "            color:  #000000;\n",
       "        }    #T_111cb282_9a3b_11ea_b7c5_c49dedb01420row2_col9 {\n",
       "            background-color:  #93b5fe;\n",
       "            color:  #000000;\n",
       "        }    #T_111cb282_9a3b_11ea_b7c5_c49dedb01420row2_col10 {\n",
       "            background-color:  #96b7ff;\n",
       "            color:  #000000;\n",
       "        }    #T_111cb282_9a3b_11ea_b7c5_c49dedb01420row2_col11 {\n",
       "            background-color:  #97b8ff;\n",
       "            color:  #000000;\n",
       "        }    #T_111cb282_9a3b_11ea_b7c5_c49dedb01420row2_col12 {\n",
       "            background-color:  #97b8ff;\n",
       "            color:  #000000;\n",
       "        }    #T_111cb282_9a3b_11ea_b7c5_c49dedb01420row2_col13 {\n",
       "            background-color:  #96b7ff;\n",
       "            color:  #000000;\n",
       "        }    #T_111cb282_9a3b_11ea_b7c5_c49dedb01420row2_col14 {\n",
       "            background-color:  #96b7ff;\n",
       "            color:  #000000;\n",
       "        }    #T_111cb282_9a3b_11ea_b7c5_c49dedb01420row2_col15 {\n",
       "            background-color:  #688aef;\n",
       "            color:  #000000;\n",
       "        }    #T_111cb282_9a3b_11ea_b7c5_c49dedb01420row2_col16 {\n",
       "            background-color:  #5f7fe8;\n",
       "            color:  #000000;\n",
       "        }    #T_111cb282_9a3b_11ea_b7c5_c49dedb01420row2_col17 {\n",
       "            background-color:  #6788ee;\n",
       "            color:  #000000;\n",
       "        }    #T_111cb282_9a3b_11ea_b7c5_c49dedb01420row2_col18 {\n",
       "            background-color:  #6687ed;\n",
       "            color:  #000000;\n",
       "        }    #T_111cb282_9a3b_11ea_b7c5_c49dedb01420row2_col19 {\n",
       "            background-color:  #6687ed;\n",
       "            color:  #000000;\n",
       "        }    #T_111cb282_9a3b_11ea_b7c5_c49dedb01420row2_col20 {\n",
       "            background-color:  #6282ea;\n",
       "            color:  #000000;\n",
       "        }    #T_111cb282_9a3b_11ea_b7c5_c49dedb01420row2_col21 {\n",
       "            background-color:  #8fb1fe;\n",
       "            color:  #000000;\n",
       "        }    #T_111cb282_9a3b_11ea_b7c5_c49dedb01420row2_col22 {\n",
       "            background-color:  #7396f5;\n",
       "            color:  #000000;\n",
       "        }    #T_111cb282_9a3b_11ea_b7c5_c49dedb01420row2_col23 {\n",
       "            background-color:  #5d7ce6;\n",
       "            color:  #000000;\n",
       "        }    #T_111cb282_9a3b_11ea_b7c5_c49dedb01420row2_col24 {\n",
       "            background-color:  #688aef;\n",
       "            color:  #000000;\n",
       "        }    #T_111cb282_9a3b_11ea_b7c5_c49dedb01420row2_col25 {\n",
       "            background-color:  #9abbff;\n",
       "            color:  #000000;\n",
       "        }    #T_111cb282_9a3b_11ea_b7c5_c49dedb01420row2_col26 {\n",
       "            background-color:  #80a3fa;\n",
       "            color:  #000000;\n",
       "        }    #T_111cb282_9a3b_11ea_b7c5_c49dedb01420row2_col27 {\n",
       "            background-color:  #6e90f2;\n",
       "            color:  #000000;\n",
       "        }    #T_111cb282_9a3b_11ea_b7c5_c49dedb01420row2_col28 {\n",
       "            background-color:  #3b4cc0;\n",
       "            color:  #f1f1f1;\n",
       "        }    #T_111cb282_9a3b_11ea_b7c5_c49dedb01420row3_col0 {\n",
       "            background-color:  #4c66d6;\n",
       "            color:  #000000;\n",
       "        }    #T_111cb282_9a3b_11ea_b7c5_c49dedb01420row3_col1 {\n",
       "            background-color:  #9abbff;\n",
       "            color:  #000000;\n",
       "        }    #T_111cb282_9a3b_11ea_b7c5_c49dedb01420row3_col2 {\n",
       "            background-color:  #9bbcff;\n",
       "            color:  #000000;\n",
       "        }    #T_111cb282_9a3b_11ea_b7c5_c49dedb01420row3_col3 {\n",
       "            background-color:  #b40426;\n",
       "            color:  #f1f1f1;\n",
       "        }    #T_111cb282_9a3b_11ea_b7c5_c49dedb01420row3_col4 {\n",
       "            background-color:  #ea7b60;\n",
       "            color:  #000000;\n",
       "        }    #T_111cb282_9a3b_11ea_b7c5_c49dedb01420row3_col5 {\n",
       "            background-color:  #f7aa8c;\n",
       "            color:  #000000;\n",
       "        }    #T_111cb282_9a3b_11ea_b7c5_c49dedb01420row3_col6 {\n",
       "            background-color:  #f7b99e;\n",
       "            color:  #000000;\n",
       "        }    #T_111cb282_9a3b_11ea_b7c5_c49dedb01420row3_col7 {\n",
       "            background-color:  #f4c5ad;\n",
       "            color:  #000000;\n",
       "        }    #T_111cb282_9a3b_11ea_b7c5_c49dedb01420row3_col8 {\n",
       "            background-color:  #ebd3c6;\n",
       "            color:  #000000;\n",
       "        }    #T_111cb282_9a3b_11ea_b7c5_c49dedb01420row3_col9 {\n",
       "            background-color:  #7ea1fa;\n",
       "            color:  #000000;\n",
       "        }    #T_111cb282_9a3b_11ea_b7c5_c49dedb01420row3_col10 {\n",
       "            background-color:  #84a7fc;\n",
       "            color:  #000000;\n",
       "        }    #T_111cb282_9a3b_11ea_b7c5_c49dedb01420row3_col11 {\n",
       "            background-color:  #86a9fc;\n",
       "            color:  #000000;\n",
       "        }    #T_111cb282_9a3b_11ea_b7c5_c49dedb01420row3_col12 {\n",
       "            background-color:  #89acfd;\n",
       "            color:  #000000;\n",
       "        }    #T_111cb282_9a3b_11ea_b7c5_c49dedb01420row3_col13 {\n",
       "            background-color:  #8badfd;\n",
       "            color:  #000000;\n",
       "        }    #T_111cb282_9a3b_11ea_b7c5_c49dedb01420row3_col14 {\n",
       "            background-color:  #8badfd;\n",
       "            color:  #000000;\n",
       "        }    #T_111cb282_9a3b_11ea_b7c5_c49dedb01420row3_col15 {\n",
       "            background-color:  #4b64d5;\n",
       "            color:  #f1f1f1;\n",
       "        }    #T_111cb282_9a3b_11ea_b7c5_c49dedb01420row3_col16 {\n",
       "            background-color:  #4961d2;\n",
       "            color:  #f1f1f1;\n",
       "        }    #T_111cb282_9a3b_11ea_b7c5_c49dedb01420row3_col17 {\n",
       "            background-color:  #4c66d6;\n",
       "            color:  #000000;\n",
       "        }    #T_111cb282_9a3b_11ea_b7c5_c49dedb01420row3_col18 {\n",
       "            background-color:  #4e68d8;\n",
       "            color:  #000000;\n",
       "        }    #T_111cb282_9a3b_11ea_b7c5_c49dedb01420row3_col19 {\n",
       "            background-color:  #506bda;\n",
       "            color:  #000000;\n",
       "        }    #T_111cb282_9a3b_11ea_b7c5_c49dedb01420row3_col20 {\n",
       "            background-color:  #4e68d8;\n",
       "            color:  #000000;\n",
       "        }    #T_111cb282_9a3b_11ea_b7c5_c49dedb01420row3_col21 {\n",
       "            background-color:  #d1dae9;\n",
       "            color:  #000000;\n",
       "        }    #T_111cb282_9a3b_11ea_b7c5_c49dedb01420row3_col22 {\n",
       "            background-color:  #f39778;\n",
       "            color:  #000000;\n",
       "        }    #T_111cb282_9a3b_11ea_b7c5_c49dedb01420row3_col23 {\n",
       "            background-color:  #4e68d8;\n",
       "            color:  #000000;\n",
       "        }    #T_111cb282_9a3b_11ea_b7c5_c49dedb01420row3_col24 {\n",
       "            background-color:  #d1dae9;\n",
       "            color:  #000000;\n",
       "        }    #T_111cb282_9a3b_11ea_b7c5_c49dedb01420row3_col25 {\n",
       "            background-color:  #89acfd;\n",
       "            color:  #000000;\n",
       "        }    #T_111cb282_9a3b_11ea_b7c5_c49dedb01420row3_col26 {\n",
       "            background-color:  #5875e1;\n",
       "            color:  #000000;\n",
       "        }    #T_111cb282_9a3b_11ea_b7c5_c49dedb01420row3_col27 {\n",
       "            background-color:  #e36b54;\n",
       "            color:  #000000;\n",
       "        }    #T_111cb282_9a3b_11ea_b7c5_c49dedb01420row3_col28 {\n",
       "            background-color:  #5d7ce6;\n",
       "            color:  #000000;\n",
       "        }    #T_111cb282_9a3b_11ea_b7c5_c49dedb01420row4_col0 {\n",
       "            background-color:  #465ecf;\n",
       "            color:  #f1f1f1;\n",
       "        }    #T_111cb282_9a3b_11ea_b7c5_c49dedb01420row4_col1 {\n",
       "            background-color:  #9abbff;\n",
       "            color:  #000000;\n",
       "        }    #T_111cb282_9a3b_11ea_b7c5_c49dedb01420row4_col2 {\n",
       "            background-color:  #9abbff;\n",
       "            color:  #000000;\n",
       "        }    #T_111cb282_9a3b_11ea_b7c5_c49dedb01420row4_col3 {\n",
       "            background-color:  #eb7d62;\n",
       "            color:  #000000;\n",
       "        }    #T_111cb282_9a3b_11ea_b7c5_c49dedb01420row4_col4 {\n",
       "            background-color:  #b40426;\n",
       "            color:  #f1f1f1;\n",
       "        }    #T_111cb282_9a3b_11ea_b7c5_c49dedb01420row4_col5 {\n",
       "            background-color:  #ee8669;\n",
       "            color:  #000000;\n",
       "        }    #T_111cb282_9a3b_11ea_b7c5_c49dedb01420row4_col6 {\n",
       "            background-color:  #f7ac8e;\n",
       "            color:  #000000;\n",
       "        }    #T_111cb282_9a3b_11ea_b7c5_c49dedb01420row4_col7 {\n",
       "            background-color:  #f7ba9f;\n",
       "            color:  #000000;\n",
       "        }    #T_111cb282_9a3b_11ea_b7c5_c49dedb01420row4_col8 {\n",
       "            background-color:  #f1ccb8;\n",
       "            color:  #000000;\n",
       "        }    #T_111cb282_9a3b_11ea_b7c5_c49dedb01420row4_col9 {\n",
       "            background-color:  #81a4fb;\n",
       "            color:  #000000;\n",
       "        }    #T_111cb282_9a3b_11ea_b7c5_c49dedb01420row4_col10 {\n",
       "            background-color:  #86a9fc;\n",
       "            color:  #000000;\n",
       "        }    #T_111cb282_9a3b_11ea_b7c5_c49dedb01420row4_col11 {\n",
       "            background-color:  #89acfd;\n",
       "            color:  #000000;\n",
       "        }    #T_111cb282_9a3b_11ea_b7c5_c49dedb01420row4_col12 {\n",
       "            background-color:  #8caffe;\n",
       "            color:  #000000;\n",
       "        }    #T_111cb282_9a3b_11ea_b7c5_c49dedb01420row4_col13 {\n",
       "            background-color:  #8db0fe;\n",
       "            color:  #000000;\n",
       "        }    #T_111cb282_9a3b_11ea_b7c5_c49dedb01420row4_col14 {\n",
       "            background-color:  #8db0fe;\n",
       "            color:  #000000;\n",
       "        }    #T_111cb282_9a3b_11ea_b7c5_c49dedb01420row4_col15 {\n",
       "            background-color:  #465ecf;\n",
       "            color:  #f1f1f1;\n",
       "        }    #T_111cb282_9a3b_11ea_b7c5_c49dedb01420row4_col16 {\n",
       "            background-color:  #4961d2;\n",
       "            color:  #f1f1f1;\n",
       "        }    #T_111cb282_9a3b_11ea_b7c5_c49dedb01420row4_col17 {\n",
       "            background-color:  #4c66d6;\n",
       "            color:  #000000;\n",
       "        }    #T_111cb282_9a3b_11ea_b7c5_c49dedb01420row4_col18 {\n",
       "            background-color:  #4f69d9;\n",
       "            color:  #000000;\n",
       "        }    #T_111cb282_9a3b_11ea_b7c5_c49dedb01420row4_col19 {\n",
       "            background-color:  #506bda;\n",
       "            color:  #000000;\n",
       "        }    #T_111cb282_9a3b_11ea_b7c5_c49dedb01420row4_col20 {\n",
       "            background-color:  #4f69d9;\n",
       "            color:  #000000;\n",
       "        }    #T_111cb282_9a3b_11ea_b7c5_c49dedb01420row4_col21 {\n",
       "            background-color:  #cad8ef;\n",
       "            color:  #000000;\n",
       "        }    #T_111cb282_9a3b_11ea_b7c5_c49dedb01420row4_col22 {\n",
       "            background-color:  #ea7b60;\n",
       "            color:  #000000;\n",
       "        }    #T_111cb282_9a3b_11ea_b7c5_c49dedb01420row4_col23 {\n",
       "            background-color:  #506bda;\n",
       "            color:  #000000;\n",
       "        }    #T_111cb282_9a3b_11ea_b7c5_c49dedb01420row4_col24 {\n",
       "            background-color:  #c4d5f3;\n",
       "            color:  #000000;\n",
       "        }    #T_111cb282_9a3b_11ea_b7c5_c49dedb01420row4_col25 {\n",
       "            background-color:  #8caffe;\n",
       "            color:  #000000;\n",
       "        }    #T_111cb282_9a3b_11ea_b7c5_c49dedb01420row4_col26 {\n",
       "            background-color:  #5875e1;\n",
       "            color:  #000000;\n",
       "        }    #T_111cb282_9a3b_11ea_b7c5_c49dedb01420row4_col27 {\n",
       "            background-color:  #d85646;\n",
       "            color:  #000000;\n",
       "        }    #T_111cb282_9a3b_11ea_b7c5_c49dedb01420row4_col28 {\n",
       "            background-color:  #5b7ae5;\n",
       "            color:  #000000;\n",
       "        }    #T_111cb282_9a3b_11ea_b7c5_c49dedb01420row5_col0 {\n",
       "            background-color:  #485fd1;\n",
       "            color:  #f1f1f1;\n",
       "        }    #T_111cb282_9a3b_11ea_b7c5_c49dedb01420row5_col1 {\n",
       "            background-color:  #9dbdff;\n",
       "            color:  #000000;\n",
       "        }    #T_111cb282_9a3b_11ea_b7c5_c49dedb01420row5_col2 {\n",
       "            background-color:  #98b9ff;\n",
       "            color:  #000000;\n",
       "        }    #T_111cb282_9a3b_11ea_b7c5_c49dedb01420row5_col3 {\n",
       "            background-color:  #f7ac8e;\n",
       "            color:  #000000;\n",
       "        }    #T_111cb282_9a3b_11ea_b7c5_c49dedb01420row5_col4 {\n",
       "            background-color:  #ee8669;\n",
       "            color:  #000000;\n",
       "        }    #T_111cb282_9a3b_11ea_b7c5_c49dedb01420row5_col5 {\n",
       "            background-color:  #b40426;\n",
       "            color:  #f1f1f1;\n",
       "        }    #T_111cb282_9a3b_11ea_b7c5_c49dedb01420row5_col6 {\n",
       "            background-color:  #ef886b;\n",
       "            color:  #000000;\n",
       "        }    #T_111cb282_9a3b_11ea_b7c5_c49dedb01420row5_col7 {\n",
       "            background-color:  #f7b093;\n",
       "            color:  #000000;\n",
       "        }    #T_111cb282_9a3b_11ea_b7c5_c49dedb01420row5_col8 {\n",
       "            background-color:  #f5c4ac;\n",
       "            color:  #000000;\n",
       "        }    #T_111cb282_9a3b_11ea_b7c5_c49dedb01420row5_col9 {\n",
       "            background-color:  #7b9ff9;\n",
       "            color:  #000000;\n",
       "        }    #T_111cb282_9a3b_11ea_b7c5_c49dedb01420row5_col10 {\n",
       "            background-color:  #84a7fc;\n",
       "            color:  #000000;\n",
       "        }    #T_111cb282_9a3b_11ea_b7c5_c49dedb01420row5_col11 {\n",
       "            background-color:  #86a9fc;\n",
       "            color:  #000000;\n",
       "        }    #T_111cb282_9a3b_11ea_b7c5_c49dedb01420row5_col12 {\n",
       "            background-color:  #8badfd;\n",
       "            color:  #000000;\n",
       "        }    #T_111cb282_9a3b_11ea_b7c5_c49dedb01420row5_col13 {\n",
       "            background-color:  #8caffe;\n",
       "            color:  #000000;\n",
       "        }    #T_111cb282_9a3b_11ea_b7c5_c49dedb01420row5_col14 {\n",
       "            background-color:  #8db0fe;\n",
       "            color:  #000000;\n",
       "        }    #T_111cb282_9a3b_11ea_b7c5_c49dedb01420row5_col15 {\n",
       "            background-color:  #5572df;\n",
       "            color:  #000000;\n",
       "        }    #T_111cb282_9a3b_11ea_b7c5_c49dedb01420row5_col16 {\n",
       "            background-color:  #445acc;\n",
       "            color:  #f1f1f1;\n",
       "        }    #T_111cb282_9a3b_11ea_b7c5_c49dedb01420row5_col17 {\n",
       "            background-color:  #4e68d8;\n",
       "            color:  #000000;\n",
       "        }    #T_111cb282_9a3b_11ea_b7c5_c49dedb01420row5_col18 {\n",
       "            background-color:  #506bda;\n",
       "            color:  #000000;\n",
       "        }    #T_111cb282_9a3b_11ea_b7c5_c49dedb01420row5_col19 {\n",
       "            background-color:  #506bda;\n",
       "            color:  #000000;\n",
       "        }    #T_111cb282_9a3b_11ea_b7c5_c49dedb01420row5_col20 {\n",
       "            background-color:  #4e68d8;\n",
       "            color:  #000000;\n",
       "        }    #T_111cb282_9a3b_11ea_b7c5_c49dedb01420row5_col21 {\n",
       "            background-color:  #c7d7f0;\n",
       "            color:  #000000;\n",
       "        }    #T_111cb282_9a3b_11ea_b7c5_c49dedb01420row5_col22 {\n",
       "            background-color:  #ec8165;\n",
       "            color:  #000000;\n",
       "        }    #T_111cb282_9a3b_11ea_b7c5_c49dedb01420row5_col23 {\n",
       "            background-color:  #4f69d9;\n",
       "            color:  #000000;\n",
       "        }    #T_111cb282_9a3b_11ea_b7c5_c49dedb01420row5_col24 {\n",
       "            background-color:  #bad0f8;\n",
       "            color:  #000000;\n",
       "        }    #T_111cb282_9a3b_11ea_b7c5_c49dedb01420row5_col25 {\n",
       "            background-color:  #89acfd;\n",
       "            color:  #000000;\n",
       "        }    #T_111cb282_9a3b_11ea_b7c5_c49dedb01420row5_col26 {\n",
       "            background-color:  #5a78e4;\n",
       "            color:  #000000;\n",
       "        }    #T_111cb282_9a3b_11ea_b7c5_c49dedb01420row5_col27 {\n",
       "            background-color:  #d75445;\n",
       "            color:  #000000;\n",
       "        }    #T_111cb282_9a3b_11ea_b7c5_c49dedb01420row5_col28 {\n",
       "            background-color:  #5d7ce6;\n",
       "            color:  #000000;\n",
       "        }    #T_111cb282_9a3b_11ea_b7c5_c49dedb01420row6_col0 {\n",
       "            background-color:  #4961d2;\n",
       "            color:  #f1f1f1;\n",
       "        }    #T_111cb282_9a3b_11ea_b7c5_c49dedb01420row6_col1 {\n",
       "            background-color:  #9bbcff;\n",
       "            color:  #000000;\n",
       "        }    #T_111cb282_9a3b_11ea_b7c5_c49dedb01420row6_col2 {\n",
       "            background-color:  #9abbff;\n",
       "            color:  #000000;\n",
       "        }    #T_111cb282_9a3b_11ea_b7c5_c49dedb01420row6_col3 {\n",
       "            background-color:  #f7ba9f;\n",
       "            color:  #000000;\n",
       "        }    #T_111cb282_9a3b_11ea_b7c5_c49dedb01420row6_col4 {\n",
       "            background-color:  #f7aa8c;\n",
       "            color:  #000000;\n",
       "        }    #T_111cb282_9a3b_11ea_b7c5_c49dedb01420row6_col5 {\n",
       "            background-color:  #ef886b;\n",
       "            color:  #000000;\n",
       "        }    #T_111cb282_9a3b_11ea_b7c5_c49dedb01420row6_col6 {\n",
       "            background-color:  #b40426;\n",
       "            color:  #f1f1f1;\n",
       "        }    #T_111cb282_9a3b_11ea_b7c5_c49dedb01420row6_col7 {\n",
       "            background-color:  #ed8366;\n",
       "            color:  #000000;\n",
       "        }    #T_111cb282_9a3b_11ea_b7c5_c49dedb01420row6_col8 {\n",
       "            background-color:  #f7b497;\n",
       "            color:  #000000;\n",
       "        }    #T_111cb282_9a3b_11ea_b7c5_c49dedb01420row6_col9 {\n",
       "            background-color:  #7b9ff9;\n",
       "            color:  #000000;\n",
       "        }    #T_111cb282_9a3b_11ea_b7c5_c49dedb01420row6_col10 {\n",
       "            background-color:  #82a6fb;\n",
       "            color:  #000000;\n",
       "        }    #T_111cb282_9a3b_11ea_b7c5_c49dedb01420row6_col11 {\n",
       "            background-color:  #88abfd;\n",
       "            color:  #000000;\n",
       "        }    #T_111cb282_9a3b_11ea_b7c5_c49dedb01420row6_col12 {\n",
       "            background-color:  #8caffe;\n",
       "            color:  #000000;\n",
       "        }    #T_111cb282_9a3b_11ea_b7c5_c49dedb01420row6_col13 {\n",
       "            background-color:  #8db0fe;\n",
       "            color:  #000000;\n",
       "        }    #T_111cb282_9a3b_11ea_b7c5_c49dedb01420row6_col14 {\n",
       "            background-color:  #8fb1fe;\n",
       "            color:  #000000;\n",
       "        }    #T_111cb282_9a3b_11ea_b7c5_c49dedb01420row6_col15 {\n",
       "            background-color:  #516ddb;\n",
       "            color:  #000000;\n",
       "        }    #T_111cb282_9a3b_11ea_b7c5_c49dedb01420row6_col16 {\n",
       "            background-color:  #4e68d8;\n",
       "            color:  #000000;\n",
       "        }    #T_111cb282_9a3b_11ea_b7c5_c49dedb01420row6_col17 {\n",
       "            background-color:  #4a63d3;\n",
       "            color:  #f1f1f1;\n",
       "        }    #T_111cb282_9a3b_11ea_b7c5_c49dedb01420row6_col18 {\n",
       "            background-color:  #4f69d9;\n",
       "            color:  #000000;\n",
       "        }    #T_111cb282_9a3b_11ea_b7c5_c49dedb01420row6_col19 {\n",
       "            background-color:  #506bda;\n",
       "            color:  #000000;\n",
       "        }    #T_111cb282_9a3b_11ea_b7c5_c49dedb01420row6_col20 {\n",
       "            background-color:  #4e68d8;\n",
       "            color:  #000000;\n",
       "        }    #T_111cb282_9a3b_11ea_b7c5_c49dedb01420row6_col21 {\n",
       "            background-color:  #c3d5f4;\n",
       "            color:  #000000;\n",
       "        }    #T_111cb282_9a3b_11ea_b7c5_c49dedb01420row6_col22 {\n",
       "            background-color:  #ee8669;\n",
       "            color:  #000000;\n",
       "        }    #T_111cb282_9a3b_11ea_b7c5_c49dedb01420row6_col23 {\n",
       "            background-color:  #4e68d8;\n",
       "            color:  #000000;\n",
       "        }    #T_111cb282_9a3b_11ea_b7c5_c49dedb01420row6_col24 {\n",
       "            background-color:  #b5cdfa;\n",
       "            color:  #000000;\n",
       "        }    #T_111cb282_9a3b_11ea_b7c5_c49dedb01420row6_col25 {\n",
       "            background-color:  #8badfd;\n",
       "            color:  #000000;\n",
       "        }    #T_111cb282_9a3b_11ea_b7c5_c49dedb01420row6_col26 {\n",
       "            background-color:  #5b7ae5;\n",
       "            color:  #000000;\n",
       "        }    #T_111cb282_9a3b_11ea_b7c5_c49dedb01420row6_col27 {\n",
       "            background-color:  #d95847;\n",
       "            color:  #000000;\n",
       "        }    #T_111cb282_9a3b_11ea_b7c5_c49dedb01420row6_col28 {\n",
       "            background-color:  #5d7ce6;\n",
       "            color:  #000000;\n",
       "        }    #T_111cb282_9a3b_11ea_b7c5_c49dedb01420row7_col0 {\n",
       "            background-color:  #4b64d5;\n",
       "            color:  #f1f1f1;\n",
       "        }    #T_111cb282_9a3b_11ea_b7c5_c49dedb01420row7_col1 {\n",
       "            background-color:  #9bbcff;\n",
       "            color:  #000000;\n",
       "        }    #T_111cb282_9a3b_11ea_b7c5_c49dedb01420row7_col2 {\n",
       "            background-color:  #98b9ff;\n",
       "            color:  #000000;\n",
       "        }    #T_111cb282_9a3b_11ea_b7c5_c49dedb01420row7_col3 {\n",
       "            background-color:  #f4c6af;\n",
       "            color:  #000000;\n",
       "        }    #T_111cb282_9a3b_11ea_b7c5_c49dedb01420row7_col4 {\n",
       "            background-color:  #f7b99e;\n",
       "            color:  #000000;\n",
       "        }    #T_111cb282_9a3b_11ea_b7c5_c49dedb01420row7_col5 {\n",
       "            background-color:  #f7af91;\n",
       "            color:  #000000;\n",
       "        }    #T_111cb282_9a3b_11ea_b7c5_c49dedb01420row7_col6 {\n",
       "            background-color:  #ed8366;\n",
       "            color:  #000000;\n",
       "        }    #T_111cb282_9a3b_11ea_b7c5_c49dedb01420row7_col7 {\n",
       "            background-color:  #b40426;\n",
       "            color:  #f1f1f1;\n",
       "        }    #T_111cb282_9a3b_11ea_b7c5_c49dedb01420row7_col8 {\n",
       "            background-color:  #f08b6e;\n",
       "            color:  #000000;\n",
       "        }    #T_111cb282_9a3b_11ea_b7c5_c49dedb01420row7_col9 {\n",
       "            background-color:  #7da0f9;\n",
       "            color:  #000000;\n",
       "        }    #T_111cb282_9a3b_11ea_b7c5_c49dedb01420row7_col10 {\n",
       "            background-color:  #84a7fc;\n",
       "            color:  #000000;\n",
       "        }    #T_111cb282_9a3b_11ea_b7c5_c49dedb01420row7_col11 {\n",
       "            background-color:  #89acfd;\n",
       "            color:  #000000;\n",
       "        }    #T_111cb282_9a3b_11ea_b7c5_c49dedb01420row7_col12 {\n",
       "            background-color:  #8fb1fe;\n",
       "            color:  #000000;\n",
       "        }    #T_111cb282_9a3b_11ea_b7c5_c49dedb01420row7_col13 {\n",
       "            background-color:  #92b4fe;\n",
       "            color:  #000000;\n",
       "        }    #T_111cb282_9a3b_11ea_b7c5_c49dedb01420row7_col14 {\n",
       "            background-color:  #93b5fe;\n",
       "            color:  #000000;\n",
       "        }    #T_111cb282_9a3b_11ea_b7c5_c49dedb01420row7_col15 {\n",
       "            background-color:  #516ddb;\n",
       "            color:  #000000;\n",
       "        }    #T_111cb282_9a3b_11ea_b7c5_c49dedb01420row7_col16 {\n",
       "            background-color:  #4c66d6;\n",
       "            color:  #000000;\n",
       "        }    #T_111cb282_9a3b_11ea_b7c5_c49dedb01420row7_col17 {\n",
       "            background-color:  #536edd;\n",
       "            color:  #000000;\n",
       "        }    #T_111cb282_9a3b_11ea_b7c5_c49dedb01420row7_col18 {\n",
       "            background-color:  #4c66d6;\n",
       "            color:  #000000;\n",
       "        }    #T_111cb282_9a3b_11ea_b7c5_c49dedb01420row7_col19 {\n",
       "            background-color:  #506bda;\n",
       "            color:  #000000;\n",
       "        }    #T_111cb282_9a3b_11ea_b7c5_c49dedb01420row7_col20 {\n",
       "            background-color:  #4f69d9;\n",
       "            color:  #000000;\n",
       "        }    #T_111cb282_9a3b_11ea_b7c5_c49dedb01420row7_col21 {\n",
       "            background-color:  #bed2f6;\n",
       "            color:  #000000;\n",
       "        }    #T_111cb282_9a3b_11ea_b7c5_c49dedb01420row7_col22 {\n",
       "            background-color:  #f18d6f;\n",
       "            color:  #000000;\n",
       "        }    #T_111cb282_9a3b_11ea_b7c5_c49dedb01420row7_col23 {\n",
       "            background-color:  #4e68d8;\n",
       "            color:  #000000;\n",
       "        }    #T_111cb282_9a3b_11ea_b7c5_c49dedb01420row7_col24 {\n",
       "            background-color:  #b2ccfb;\n",
       "            color:  #000000;\n",
       "        }    #T_111cb282_9a3b_11ea_b7c5_c49dedb01420row7_col25 {\n",
       "            background-color:  #8db0fe;\n",
       "            color:  #000000;\n",
       "        }    #T_111cb282_9a3b_11ea_b7c5_c49dedb01420row7_col26 {\n",
       "            background-color:  #5d7ce6;\n",
       "            color:  #000000;\n",
       "        }    #T_111cb282_9a3b_11ea_b7c5_c49dedb01420row7_col27 {\n",
       "            background-color:  #e0654f;\n",
       "            color:  #000000;\n",
       "        }    #T_111cb282_9a3b_11ea_b7c5_c49dedb01420row7_col28 {\n",
       "            background-color:  #6180e9;\n",
       "            color:  #000000;\n",
       "        }    #T_111cb282_9a3b_11ea_b7c5_c49dedb01420row8_col0 {\n",
       "            background-color:  #4b64d5;\n",
       "            color:  #f1f1f1;\n",
       "        }    #T_111cb282_9a3b_11ea_b7c5_c49dedb01420row8_col1 {\n",
       "            background-color:  #9dbdff;\n",
       "            color:  #000000;\n",
       "        }    #T_111cb282_9a3b_11ea_b7c5_c49dedb01420row8_col2 {\n",
       "            background-color:  #97b8ff;\n",
       "            color:  #000000;\n",
       "        }    #T_111cb282_9a3b_11ea_b7c5_c49dedb01420row8_col3 {\n",
       "            background-color:  #ead4c8;\n",
       "            color:  #000000;\n",
       "        }    #T_111cb282_9a3b_11ea_b7c5_c49dedb01420row8_col4 {\n",
       "            background-color:  #f2cbb7;\n",
       "            color:  #000000;\n",
       "        }    #T_111cb282_9a3b_11ea_b7c5_c49dedb01420row8_col5 {\n",
       "            background-color:  #f5c2aa;\n",
       "            color:  #000000;\n",
       "        }    #T_111cb282_9a3b_11ea_b7c5_c49dedb01420row8_col6 {\n",
       "            background-color:  #f7b497;\n",
       "            color:  #000000;\n",
       "        }    #T_111cb282_9a3b_11ea_b7c5_c49dedb01420row8_col7 {\n",
       "            background-color:  #f08b6e;\n",
       "            color:  #000000;\n",
       "        }    #T_111cb282_9a3b_11ea_b7c5_c49dedb01420row8_col8 {\n",
       "            background-color:  #b40426;\n",
       "            color:  #f1f1f1;\n",
       "        }    #T_111cb282_9a3b_11ea_b7c5_c49dedb01420row8_col9 {\n",
       "            background-color:  #7ea1fa;\n",
       "            color:  #000000;\n",
       "        }    #T_111cb282_9a3b_11ea_b7c5_c49dedb01420row8_col10 {\n",
       "            background-color:  #85a8fc;\n",
       "            color:  #000000;\n",
       "        }    #T_111cb282_9a3b_11ea_b7c5_c49dedb01420row8_col11 {\n",
       "            background-color:  #89acfd;\n",
       "            color:  #000000;\n",
       "        }    #T_111cb282_9a3b_11ea_b7c5_c49dedb01420row8_col12 {\n",
       "            background-color:  #8fb1fe;\n",
       "            color:  #000000;\n",
       "        }    #T_111cb282_9a3b_11ea_b7c5_c49dedb01420row8_col13 {\n",
       "            background-color:  #94b6ff;\n",
       "            color:  #000000;\n",
       "        }    #T_111cb282_9a3b_11ea_b7c5_c49dedb01420row8_col14 {\n",
       "            background-color:  #96b7ff;\n",
       "            color:  #000000;\n",
       "        }    #T_111cb282_9a3b_11ea_b7c5_c49dedb01420row8_col15 {\n",
       "            background-color:  #536edd;\n",
       "            color:  #000000;\n",
       "        }    #T_111cb282_9a3b_11ea_b7c5_c49dedb01420row8_col16 {\n",
       "            background-color:  #4c66d6;\n",
       "            color:  #000000;\n",
       "        }    #T_111cb282_9a3b_11ea_b7c5_c49dedb01420row8_col17 {\n",
       "            background-color:  #536edd;\n",
       "            color:  #000000;\n",
       "        }    #T_111cb282_9a3b_11ea_b7c5_c49dedb01420row8_col18 {\n",
       "            background-color:  #5673e0;\n",
       "            color:  #000000;\n",
       "        }    #T_111cb282_9a3b_11ea_b7c5_c49dedb01420row8_col19 {\n",
       "            background-color:  #4c66d6;\n",
       "            color:  #000000;\n",
       "        }    #T_111cb282_9a3b_11ea_b7c5_c49dedb01420row8_col20 {\n",
       "            background-color:  #4f69d9;\n",
       "            color:  #000000;\n",
       "        }    #T_111cb282_9a3b_11ea_b7c5_c49dedb01420row8_col21 {\n",
       "            background-color:  #b7cff9;\n",
       "            color:  #000000;\n",
       "        }    #T_111cb282_9a3b_11ea_b7c5_c49dedb01420row8_col22 {\n",
       "            background-color:  #f59d7e;\n",
       "            color:  #000000;\n",
       "        }    #T_111cb282_9a3b_11ea_b7c5_c49dedb01420row8_col23 {\n",
       "            background-color:  #4b64d5;\n",
       "            color:  #f1f1f1;\n",
       "        }    #T_111cb282_9a3b_11ea_b7c5_c49dedb01420row8_col24 {\n",
       "            background-color:  #aec9fc;\n",
       "            color:  #000000;\n",
       "        }    #T_111cb282_9a3b_11ea_b7c5_c49dedb01420row8_col25 {\n",
       "            background-color:  #8db0fe;\n",
       "            color:  #000000;\n",
       "        }    #T_111cb282_9a3b_11ea_b7c5_c49dedb01420row8_col26 {\n",
       "            background-color:  #5e7de7;\n",
       "            color:  #000000;\n",
       "        }    #T_111cb282_9a3b_11ea_b7c5_c49dedb01420row8_col27 {\n",
       "            background-color:  #ed8366;\n",
       "            color:  #000000;\n",
       "        }    #T_111cb282_9a3b_11ea_b7c5_c49dedb01420row8_col28 {\n",
       "            background-color:  #6384eb;\n",
       "            color:  #000000;\n",
       "        }    #T_111cb282_9a3b_11ea_b7c5_c49dedb01420row9_col0 {\n",
       "            background-color:  #c7d7f0;\n",
       "            color:  #000000;\n",
       "        }    #T_111cb282_9a3b_11ea_b7c5_c49dedb01420row9_col1 {\n",
       "            background-color:  #96b7ff;\n",
       "            color:  #000000;\n",
       "        }    #T_111cb282_9a3b_11ea_b7c5_c49dedb01420row9_col2 {\n",
       "            background-color:  #aac7fd;\n",
       "            color:  #000000;\n",
       "        }    #T_111cb282_9a3b_11ea_b7c5_c49dedb01420row9_col3 {\n",
       "            background-color:  #6180e9;\n",
       "            color:  #000000;\n",
       "        }    #T_111cb282_9a3b_11ea_b7c5_c49dedb01420row9_col4 {\n",
       "            background-color:  #6a8bef;\n",
       "            color:  #000000;\n",
       "        }    #T_111cb282_9a3b_11ea_b7c5_c49dedb01420row9_col5 {\n",
       "            background-color:  #6384eb;\n",
       "            color:  #000000;\n",
       "        }    #T_111cb282_9a3b_11ea_b7c5_c49dedb01420row9_col6 {\n",
       "            background-color:  #6180e9;\n",
       "            color:  #000000;\n",
       "        }    #T_111cb282_9a3b_11ea_b7c5_c49dedb01420row9_col7 {\n",
       "            background-color:  #6282ea;\n",
       "            color:  #000000;\n",
       "        }    #T_111cb282_9a3b_11ea_b7c5_c49dedb01420row9_col8 {\n",
       "            background-color:  #6282ea;\n",
       "            color:  #000000;\n",
       "        }    #T_111cb282_9a3b_11ea_b7c5_c49dedb01420row9_col9 {\n",
       "            background-color:  #b40426;\n",
       "            color:  #f1f1f1;\n",
       "        }    #T_111cb282_9a3b_11ea_b7c5_c49dedb01420row9_col10 {\n",
       "            background-color:  #c12b30;\n",
       "            color:  #f1f1f1;\n",
       "        }    #T_111cb282_9a3b_11ea_b7c5_c49dedb01420row9_col11 {\n",
       "            background-color:  #d0473d;\n",
       "            color:  #f1f1f1;\n",
       "        }    #T_111cb282_9a3b_11ea_b7c5_c49dedb01420row9_col12 {\n",
       "            background-color:  #d85646;\n",
       "            color:  #000000;\n",
       "        }    #T_111cb282_9a3b_11ea_b7c5_c49dedb01420row9_col13 {\n",
       "            background-color:  #df634e;\n",
       "            color:  #000000;\n",
       "        }    #T_111cb282_9a3b_11ea_b7c5_c49dedb01420row9_col14 {\n",
       "            background-color:  #e36c55;\n",
       "            color:  #000000;\n",
       "        }    #T_111cb282_9a3b_11ea_b7c5_c49dedb01420row9_col15 {\n",
       "            background-color:  #8caffe;\n",
       "            color:  #000000;\n",
       "        }    #T_111cb282_9a3b_11ea_b7c5_c49dedb01420row9_col16 {\n",
       "            background-color:  #779af7;\n",
       "            color:  #000000;\n",
       "        }    #T_111cb282_9a3b_11ea_b7c5_c49dedb01420row9_col17 {\n",
       "            background-color:  #8db0fe;\n",
       "            color:  #000000;\n",
       "        }    #T_111cb282_9a3b_11ea_b7c5_c49dedb01420row9_col18 {\n",
       "            background-color:  #90b2fe;\n",
       "            color:  #000000;\n",
       "        }    #T_111cb282_9a3b_11ea_b7c5_c49dedb01420row9_col19 {\n",
       "            background-color:  #92b4fe;\n",
       "            color:  #000000;\n",
       "        }    #T_111cb282_9a3b_11ea_b7c5_c49dedb01420row9_col20 {\n",
       "            background-color:  #93b5fe;\n",
       "            color:  #000000;\n",
       "        }    #T_111cb282_9a3b_11ea_b7c5_c49dedb01420row9_col21 {\n",
       "            background-color:  #4257c9;\n",
       "            color:  #f1f1f1;\n",
       "        }    #T_111cb282_9a3b_11ea_b7c5_c49dedb01420row9_col22 {\n",
       "            background-color:  #7093f3;\n",
       "            color:  #000000;\n",
       "        }    #T_111cb282_9a3b_11ea_b7c5_c49dedb01420row9_col23 {\n",
       "            background-color:  #4b64d5;\n",
       "            color:  #f1f1f1;\n",
       "        }    #T_111cb282_9a3b_11ea_b7c5_c49dedb01420row9_col24 {\n",
       "            background-color:  #5e7de7;\n",
       "            color:  #000000;\n",
       "        }    #T_111cb282_9a3b_11ea_b7c5_c49dedb01420row9_col25 {\n",
       "            background-color:  #c43032;\n",
       "            color:  #f1f1f1;\n",
       "        }    #T_111cb282_9a3b_11ea_b7c5_c49dedb01420row9_col26 {\n",
       "            background-color:  #bcd2f7;\n",
       "            color:  #000000;\n",
       "        }    #T_111cb282_9a3b_11ea_b7c5_c49dedb01420row9_col27 {\n",
       "            background-color:  #6a8bef;\n",
       "            color:  #000000;\n",
       "        }    #T_111cb282_9a3b_11ea_b7c5_c49dedb01420row9_col28 {\n",
       "            background-color:  #6687ed;\n",
       "            color:  #000000;\n",
       "        }    #T_111cb282_9a3b_11ea_b7c5_c49dedb01420row10_col0 {\n",
       "            background-color:  #c5d6f2;\n",
       "            color:  #000000;\n",
       "        }    #T_111cb282_9a3b_11ea_b7c5_c49dedb01420row10_col1 {\n",
       "            background-color:  #97b8ff;\n",
       "            color:  #000000;\n",
       "        }    #T_111cb282_9a3b_11ea_b7c5_c49dedb01420row10_col2 {\n",
       "            background-color:  #a9c6fd;\n",
       "            color:  #000000;\n",
       "        }    #T_111cb282_9a3b_11ea_b7c5_c49dedb01420row10_col3 {\n",
       "            background-color:  #6282ea;\n",
       "            color:  #000000;\n",
       "        }    #T_111cb282_9a3b_11ea_b7c5_c49dedb01420row10_col4 {\n",
       "            background-color:  #6b8df0;\n",
       "            color:  #000000;\n",
       "        }    #T_111cb282_9a3b_11ea_b7c5_c49dedb01420row10_col5 {\n",
       "            background-color:  #6788ee;\n",
       "            color:  #000000;\n",
       "        }    #T_111cb282_9a3b_11ea_b7c5_c49dedb01420row10_col6 {\n",
       "            background-color:  #6485ec;\n",
       "            color:  #000000;\n",
       "        }    #T_111cb282_9a3b_11ea_b7c5_c49dedb01420row10_col7 {\n",
       "            background-color:  #6485ec;\n",
       "            color:  #000000;\n",
       "        }    #T_111cb282_9a3b_11ea_b7c5_c49dedb01420row10_col8 {\n",
       "            background-color:  #6485ec;\n",
       "            color:  #000000;\n",
       "        }    #T_111cb282_9a3b_11ea_b7c5_c49dedb01420row10_col9 {\n",
       "            background-color:  #c12b30;\n",
       "            color:  #f1f1f1;\n",
       "        }    #T_111cb282_9a3b_11ea_b7c5_c49dedb01420row10_col10 {\n",
       "            background-color:  #b40426;\n",
       "            color:  #f1f1f1;\n",
       "        }    #T_111cb282_9a3b_11ea_b7c5_c49dedb01420row10_col11 {\n",
       "            background-color:  #c73635;\n",
       "            color:  #f1f1f1;\n",
       "        }    #T_111cb282_9a3b_11ea_b7c5_c49dedb01420row10_col12 {\n",
       "            background-color:  #d0473d;\n",
       "            color:  #f1f1f1;\n",
       "        }    #T_111cb282_9a3b_11ea_b7c5_c49dedb01420row10_col13 {\n",
       "            background-color:  #d85646;\n",
       "            color:  #000000;\n",
       "        }    #T_111cb282_9a3b_11ea_b7c5_c49dedb01420row10_col14 {\n",
       "            background-color:  #de614d;\n",
       "            color:  #000000;\n",
       "        }    #T_111cb282_9a3b_11ea_b7c5_c49dedb01420row10_col15 {\n",
       "            background-color:  #b6cefa;\n",
       "            color:  #000000;\n",
       "        }    #T_111cb282_9a3b_11ea_b7c5_c49dedb01420row10_col16 {\n",
       "            background-color:  #779af7;\n",
       "            color:  #000000;\n",
       "        }    #T_111cb282_9a3b_11ea_b7c5_c49dedb01420row10_col17 {\n",
       "            background-color:  #8caffe;\n",
       "            color:  #000000;\n",
       "        }    #T_111cb282_9a3b_11ea_b7c5_c49dedb01420row10_col18 {\n",
       "            background-color:  #8caffe;\n",
       "            color:  #000000;\n",
       "        }    #T_111cb282_9a3b_11ea_b7c5_c49dedb01420row10_col19 {\n",
       "            background-color:  #8fb1fe;\n",
       "            color:  #000000;\n",
       "        }    #T_111cb282_9a3b_11ea_b7c5_c49dedb01420row10_col20 {\n",
       "            background-color:  #92b4fe;\n",
       "            color:  #000000;\n",
       "        }    #T_111cb282_9a3b_11ea_b7c5_c49dedb01420row10_col21 {\n",
       "            background-color:  #3e51c5;\n",
       "            color:  #f1f1f1;\n",
       "        }    #T_111cb282_9a3b_11ea_b7c5_c49dedb01420row10_col22 {\n",
       "            background-color:  #7597f6;\n",
       "            color:  #000000;\n",
       "        }    #T_111cb282_9a3b_11ea_b7c5_c49dedb01420row10_col23 {\n",
       "            background-color:  #4a63d3;\n",
       "            color:  #f1f1f1;\n",
       "        }    #T_111cb282_9a3b_11ea_b7c5_c49dedb01420row10_col24 {\n",
       "            background-color:  #5f7fe8;\n",
       "            color:  #000000;\n",
       "        }    #T_111cb282_9a3b_11ea_b7c5_c49dedb01420row10_col25 {\n",
       "            background-color:  #be242e;\n",
       "            color:  #f1f1f1;\n",
       "        }    #T_111cb282_9a3b_11ea_b7c5_c49dedb01420row10_col26 {\n",
       "            background-color:  #c5d6f2;\n",
       "            color:  #000000;\n",
       "        }    #T_111cb282_9a3b_11ea_b7c5_c49dedb01420row10_col27 {\n",
       "            background-color:  #6c8ff1;\n",
       "            color:  #000000;\n",
       "        }    #T_111cb282_9a3b_11ea_b7c5_c49dedb01420row10_col28 {\n",
       "            background-color:  #6788ee;\n",
       "            color:  #000000;\n",
       "        }    #T_111cb282_9a3b_11ea_b7c5_c49dedb01420row11_col0 {\n",
       "            background-color:  #c6d6f1;\n",
       "            color:  #000000;\n",
       "        }    #T_111cb282_9a3b_11ea_b7c5_c49dedb01420row11_col1 {\n",
       "            background-color:  #96b7ff;\n",
       "            color:  #000000;\n",
       "        }    #T_111cb282_9a3b_11ea_b7c5_c49dedb01420row11_col2 {\n",
       "            background-color:  #a9c6fd;\n",
       "            color:  #000000;\n",
       "        }    #T_111cb282_9a3b_11ea_b7c5_c49dedb01420row11_col3 {\n",
       "            background-color:  #6384eb;\n",
       "            color:  #000000;\n",
       "        }    #T_111cb282_9a3b_11ea_b7c5_c49dedb01420row11_col4 {\n",
       "            background-color:  #6c8ff1;\n",
       "            color:  #000000;\n",
       "        }    #T_111cb282_9a3b_11ea_b7c5_c49dedb01420row11_col5 {\n",
       "            background-color:  #688aef;\n",
       "            color:  #000000;\n",
       "        }    #T_111cb282_9a3b_11ea_b7c5_c49dedb01420row11_col6 {\n",
       "            background-color:  #688aef;\n",
       "            color:  #000000;\n",
       "        }    #T_111cb282_9a3b_11ea_b7c5_c49dedb01420row11_col7 {\n",
       "            background-color:  #6788ee;\n",
       "            color:  #000000;\n",
       "        }    #T_111cb282_9a3b_11ea_b7c5_c49dedb01420row11_col8 {\n",
       "            background-color:  #688aef;\n",
       "            color:  #000000;\n",
       "        }    #T_111cb282_9a3b_11ea_b7c5_c49dedb01420row11_col9 {\n",
       "            background-color:  #d1493f;\n",
       "            color:  #f1f1f1;\n",
       "        }    #T_111cb282_9a3b_11ea_b7c5_c49dedb01420row11_col10 {\n",
       "            background-color:  #c83836;\n",
       "            color:  #f1f1f1;\n",
       "        }    #T_111cb282_9a3b_11ea_b7c5_c49dedb01420row11_col11 {\n",
       "            background-color:  #b40426;\n",
       "            color:  #f1f1f1;\n",
       "        }    #T_111cb282_9a3b_11ea_b7c5_c49dedb01420row11_col12 {\n",
       "            background-color:  #c83836;\n",
       "            color:  #f1f1f1;\n",
       "        }    #T_111cb282_9a3b_11ea_b7c5_c49dedb01420row11_col13 {\n",
       "            background-color:  #d24b40;\n",
       "            color:  #f1f1f1;\n",
       "        }    #T_111cb282_9a3b_11ea_b7c5_c49dedb01420row11_col14 {\n",
       "            background-color:  #d95847;\n",
       "            color:  #000000;\n",
       "        }    #T_111cb282_9a3b_11ea_b7c5_c49dedb01420row11_col15 {\n",
       "            background-color:  #abc8fd;\n",
       "            color:  #000000;\n",
       "        }    #T_111cb282_9a3b_11ea_b7c5_c49dedb01420row11_col16 {\n",
       "            background-color:  #bbd1f8;\n",
       "            color:  #000000;\n",
       "        }    #T_111cb282_9a3b_11ea_b7c5_c49dedb01420row11_col17 {\n",
       "            background-color:  #85a8fc;\n",
       "            color:  #000000;\n",
       "        }    #T_111cb282_9a3b_11ea_b7c5_c49dedb01420row11_col18 {\n",
       "            background-color:  #8badfd;\n",
       "            color:  #000000;\n",
       "        }    #T_111cb282_9a3b_11ea_b7c5_c49dedb01420row11_col19 {\n",
       "            background-color:  #96b7ff;\n",
       "            color:  #000000;\n",
       "        }    #T_111cb282_9a3b_11ea_b7c5_c49dedb01420row11_col20 {\n",
       "            background-color:  #94b6ff;\n",
       "            color:  #000000;\n",
       "        }    #T_111cb282_9a3b_11ea_b7c5_c49dedb01420row11_col21 {\n",
       "            background-color:  #3d50c3;\n",
       "            color:  #f1f1f1;\n",
       "        }    #T_111cb282_9a3b_11ea_b7c5_c49dedb01420row11_col22 {\n",
       "            background-color:  #799cf8;\n",
       "            color:  #000000;\n",
       "        }    #T_111cb282_9a3b_11ea_b7c5_c49dedb01420row11_col23 {\n",
       "            background-color:  #4961d2;\n",
       "            color:  #f1f1f1;\n",
       "        }    #T_111cb282_9a3b_11ea_b7c5_c49dedb01420row11_col24 {\n",
       "            background-color:  #5f7fe8;\n",
       "            color:  #000000;\n",
       "        }    #T_111cb282_9a3b_11ea_b7c5_c49dedb01420row11_col25 {\n",
       "            background-color:  #be242e;\n",
       "            color:  #f1f1f1;\n",
       "        }    #T_111cb282_9a3b_11ea_b7c5_c49dedb01420row11_col26 {\n",
       "            background-color:  #d6dce4;\n",
       "            color:  #000000;\n",
       "        }    #T_111cb282_9a3b_11ea_b7c5_c49dedb01420row11_col27 {\n",
       "            background-color:  #7093f3;\n",
       "            color:  #000000;\n",
       "        }    #T_111cb282_9a3b_11ea_b7c5_c49dedb01420row11_col28 {\n",
       "            background-color:  #6a8bef;\n",
       "            color:  #000000;\n",
       "        }    #T_111cb282_9a3b_11ea_b7c5_c49dedb01420row12_col0 {\n",
       "            background-color:  #c9d7f0;\n",
       "            color:  #000000;\n",
       "        }    #T_111cb282_9a3b_11ea_b7c5_c49dedb01420row12_col1 {\n",
       "            background-color:  #96b7ff;\n",
       "            color:  #000000;\n",
       "        }    #T_111cb282_9a3b_11ea_b7c5_c49dedb01420row12_col2 {\n",
       "            background-color:  #a9c6fd;\n",
       "            color:  #000000;\n",
       "        }    #T_111cb282_9a3b_11ea_b7c5_c49dedb01420row12_col3 {\n",
       "            background-color:  #6687ed;\n",
       "            color:  #000000;\n",
       "        }    #T_111cb282_9a3b_11ea_b7c5_c49dedb01420row12_col4 {\n",
       "            background-color:  #6f92f3;\n",
       "            color:  #000000;\n",
       "        }    #T_111cb282_9a3b_11ea_b7c5_c49dedb01420row12_col5 {\n",
       "            background-color:  #6c8ff1;\n",
       "            color:  #000000;\n",
       "        }    #T_111cb282_9a3b_11ea_b7c5_c49dedb01420row12_col6 {\n",
       "            background-color:  #6b8df0;\n",
       "            color:  #000000;\n",
       "        }    #T_111cb282_9a3b_11ea_b7c5_c49dedb01420row12_col7 {\n",
       "            background-color:  #6e90f2;\n",
       "            color:  #000000;\n",
       "        }    #T_111cb282_9a3b_11ea_b7c5_c49dedb01420row12_col8 {\n",
       "            background-color:  #6e90f2;\n",
       "            color:  #000000;\n",
       "        }    #T_111cb282_9a3b_11ea_b7c5_c49dedb01420row12_col9 {\n",
       "            background-color:  #d85646;\n",
       "            color:  #000000;\n",
       "        }    #T_111cb282_9a3b_11ea_b7c5_c49dedb01420row12_col10 {\n",
       "            background-color:  #d1493f;\n",
       "            color:  #f1f1f1;\n",
       "        }    #T_111cb282_9a3b_11ea_b7c5_c49dedb01420row12_col11 {\n",
       "            background-color:  #c83836;\n",
       "            color:  #f1f1f1;\n",
       "        }    #T_111cb282_9a3b_11ea_b7c5_c49dedb01420row12_col12 {\n",
       "            background-color:  #b40426;\n",
       "            color:  #f1f1f1;\n",
       "        }    #T_111cb282_9a3b_11ea_b7c5_c49dedb01420row12_col13 {\n",
       "            background-color:  #c43032;\n",
       "            color:  #f1f1f1;\n",
       "        }    #T_111cb282_9a3b_11ea_b7c5_c49dedb01420row12_col14 {\n",
       "            background-color:  #cf453c;\n",
       "            color:  #f1f1f1;\n",
       "        }    #T_111cb282_9a3b_11ea_b7c5_c49dedb01420row12_col15 {\n",
       "            background-color:  #a7c5fe;\n",
       "            color:  #000000;\n",
       "        }    #T_111cb282_9a3b_11ea_b7c5_c49dedb01420row12_col16 {\n",
       "            background-color:  #9abbff;\n",
       "            color:  #000000;\n",
       "        }    #T_111cb282_9a3b_11ea_b7c5_c49dedb01420row12_col17 {\n",
       "            background-color:  #bad0f8;\n",
       "            color:  #000000;\n",
       "        }    #T_111cb282_9a3b_11ea_b7c5_c49dedb01420row12_col18 {\n",
       "            background-color:  #86a9fc;\n",
       "            color:  #000000;\n",
       "        }    #T_111cb282_9a3b_11ea_b7c5_c49dedb01420row12_col19 {\n",
       "            background-color:  #90b2fe;\n",
       "            color:  #000000;\n",
       "        }    #T_111cb282_9a3b_11ea_b7c5_c49dedb01420row12_col20 {\n",
       "            background-color:  #93b5fe;\n",
       "            color:  #000000;\n",
       "        }    #T_111cb282_9a3b_11ea_b7c5_c49dedb01420row12_col21 {\n",
       "            background-color:  #3c4ec2;\n",
       "            color:  #f1f1f1;\n",
       "        }    #T_111cb282_9a3b_11ea_b7c5_c49dedb01420row12_col22 {\n",
       "            background-color:  #7ea1fa;\n",
       "            color:  #000000;\n",
       "        }    #T_111cb282_9a3b_11ea_b7c5_c49dedb01420row12_col23 {\n",
       "            background-color:  #485fd1;\n",
       "            color:  #f1f1f1;\n",
       "        }    #T_111cb282_9a3b_11ea_b7c5_c49dedb01420row12_col24 {\n",
       "            background-color:  #6180e9;\n",
       "            color:  #000000;\n",
       "        }    #T_111cb282_9a3b_11ea_b7c5_c49dedb01420row12_col25 {\n",
       "            background-color:  #bd1f2d;\n",
       "            color:  #f1f1f1;\n",
       "        }    #T_111cb282_9a3b_11ea_b7c5_c49dedb01420row12_col26 {\n",
       "            background-color:  #d5dbe5;\n",
       "            color:  #000000;\n",
       "        }    #T_111cb282_9a3b_11ea_b7c5_c49dedb01420row12_col27 {\n",
       "            background-color:  #7597f6;\n",
       "            color:  #000000;\n",
       "        }    #T_111cb282_9a3b_11ea_b7c5_c49dedb01420row12_col28 {\n",
       "            background-color:  #6c8ff1;\n",
       "            color:  #000000;\n",
       "        }    #T_111cb282_9a3b_11ea_b7c5_c49dedb01420row13_col0 {\n",
       "            background-color:  #cad8ef;\n",
       "            color:  #000000;\n",
       "        }    #T_111cb282_9a3b_11ea_b7c5_c49dedb01420row13_col1 {\n",
       "            background-color:  #96b7ff;\n",
       "            color:  #000000;\n",
       "        }    #T_111cb282_9a3b_11ea_b7c5_c49dedb01420row13_col2 {\n",
       "            background-color:  #a7c5fe;\n",
       "            color:  #000000;\n",
       "        }    #T_111cb282_9a3b_11ea_b7c5_c49dedb01420row13_col3 {\n",
       "            background-color:  #688aef;\n",
       "            color:  #000000;\n",
       "        }    #T_111cb282_9a3b_11ea_b7c5_c49dedb01420row13_col4 {\n",
       "            background-color:  #7295f4;\n",
       "            color:  #000000;\n",
       "        }    #T_111cb282_9a3b_11ea_b7c5_c49dedb01420row13_col5 {\n",
       "            background-color:  #6f92f3;\n",
       "            color:  #000000;\n",
       "        }    #T_111cb282_9a3b_11ea_b7c5_c49dedb01420row13_col6 {\n",
       "            background-color:  #6f92f3;\n",
       "            color:  #000000;\n",
       "        }    #T_111cb282_9a3b_11ea_b7c5_c49dedb01420row13_col7 {\n",
       "            background-color:  #7093f3;\n",
       "            color:  #000000;\n",
       "        }    #T_111cb282_9a3b_11ea_b7c5_c49dedb01420row13_col8 {\n",
       "            background-color:  #7396f5;\n",
       "            color:  #000000;\n",
       "        }    #T_111cb282_9a3b_11ea_b7c5_c49dedb01420row13_col9 {\n",
       "            background-color:  #df634e;\n",
       "            color:  #000000;\n",
       "        }    #T_111cb282_9a3b_11ea_b7c5_c49dedb01420row13_col10 {\n",
       "            background-color:  #d85646;\n",
       "            color:  #000000;\n",
       "        }    #T_111cb282_9a3b_11ea_b7c5_c49dedb01420row13_col11 {\n",
       "            background-color:  #d24b40;\n",
       "            color:  #f1f1f1;\n",
       "        }    #T_111cb282_9a3b_11ea_b7c5_c49dedb01420row13_col12 {\n",
       "            background-color:  #c43032;\n",
       "            color:  #f1f1f1;\n",
       "        }    #T_111cb282_9a3b_11ea_b7c5_c49dedb01420row13_col13 {\n",
       "            background-color:  #b40426;\n",
       "            color:  #f1f1f1;\n",
       "        }    #T_111cb282_9a3b_11ea_b7c5_c49dedb01420row13_col14 {\n",
       "            background-color:  #c32e31;\n",
       "            color:  #f1f1f1;\n",
       "        }    #T_111cb282_9a3b_11ea_b7c5_c49dedb01420row13_col15 {\n",
       "            background-color:  #a3c2fe;\n",
       "            color:  #000000;\n",
       "        }    #T_111cb282_9a3b_11ea_b7c5_c49dedb01420row13_col16 {\n",
       "            background-color:  #90b2fe;\n",
       "            color:  #000000;\n",
       "        }    #T_111cb282_9a3b_11ea_b7c5_c49dedb01420row13_col17 {\n",
       "            background-color:  #abc8fd;\n",
       "            color:  #000000;\n",
       "        }    #T_111cb282_9a3b_11ea_b7c5_c49dedb01420row13_col18 {\n",
       "            background-color:  #b9d0f9;\n",
       "            color:  #000000;\n",
       "        }    #T_111cb282_9a3b_11ea_b7c5_c49dedb01420row13_col19 {\n",
       "            background-color:  #8badfd;\n",
       "            color:  #000000;\n",
       "        }    #T_111cb282_9a3b_11ea_b7c5_c49dedb01420row13_col20 {\n",
       "            background-color:  #8fb1fe;\n",
       "            color:  #000000;\n",
       "        }    #T_111cb282_9a3b_11ea_b7c5_c49dedb01420row13_col21 {\n",
       "            background-color:  #3c4ec2;\n",
       "            color:  #f1f1f1;\n",
       "        }    #T_111cb282_9a3b_11ea_b7c5_c49dedb01420row13_col22 {\n",
       "            background-color:  #82a6fb;\n",
       "            color:  #000000;\n",
       "        }    #T_111cb282_9a3b_11ea_b7c5_c49dedb01420row13_col23 {\n",
       "            background-color:  #465ecf;\n",
       "            color:  #f1f1f1;\n",
       "        }    #T_111cb282_9a3b_11ea_b7c5_c49dedb01420row13_col24 {\n",
       "            background-color:  #6282ea;\n",
       "            color:  #000000;\n",
       "        }    #T_111cb282_9a3b_11ea_b7c5_c49dedb01420row13_col25 {\n",
       "            background-color:  #c12b30;\n",
       "            color:  #f1f1f1;\n",
       "        }    #T_111cb282_9a3b_11ea_b7c5_c49dedb01420row13_col26 {\n",
       "            background-color:  #d6dce4;\n",
       "            color:  #000000;\n",
       "        }    #T_111cb282_9a3b_11ea_b7c5_c49dedb01420row13_col27 {\n",
       "            background-color:  #779af7;\n",
       "            color:  #000000;\n",
       "        }    #T_111cb282_9a3b_11ea_b7c5_c49dedb01420row13_col28 {\n",
       "            background-color:  #6f92f3;\n",
       "            color:  #000000;\n",
       "        }    #T_111cb282_9a3b_11ea_b7c5_c49dedb01420row14_col0 {\n",
       "            background-color:  #c9d7f0;\n",
       "            color:  #000000;\n",
       "        }    #T_111cb282_9a3b_11ea_b7c5_c49dedb01420row14_col1 {\n",
       "            background-color:  #97b8ff;\n",
       "            color:  #000000;\n",
       "        }    #T_111cb282_9a3b_11ea_b7c5_c49dedb01420row14_col2 {\n",
       "            background-color:  #a7c5fe;\n",
       "            color:  #000000;\n",
       "        }    #T_111cb282_9a3b_11ea_b7c5_c49dedb01420row14_col3 {\n",
       "            background-color:  #6788ee;\n",
       "            color:  #000000;\n",
       "        }    #T_111cb282_9a3b_11ea_b7c5_c49dedb01420row14_col4 {\n",
       "            background-color:  #7295f4;\n",
       "            color:  #000000;\n",
       "        }    #T_111cb282_9a3b_11ea_b7c5_c49dedb01420row14_col5 {\n",
       "            background-color:  #6f92f3;\n",
       "            color:  #000000;\n",
       "        }    #T_111cb282_9a3b_11ea_b7c5_c49dedb01420row14_col6 {\n",
       "            background-color:  #7093f3;\n",
       "            color:  #000000;\n",
       "        }    #T_111cb282_9a3b_11ea_b7c5_c49dedb01420row14_col7 {\n",
       "            background-color:  #7396f5;\n",
       "            color:  #000000;\n",
       "        }    #T_111cb282_9a3b_11ea_b7c5_c49dedb01420row14_col8 {\n",
       "            background-color:  #7597f6;\n",
       "            color:  #000000;\n",
       "        }    #T_111cb282_9a3b_11ea_b7c5_c49dedb01420row14_col9 {\n",
       "            background-color:  #e46e56;\n",
       "            color:  #000000;\n",
       "        }    #T_111cb282_9a3b_11ea_b7c5_c49dedb01420row14_col10 {\n",
       "            background-color:  #df634e;\n",
       "            color:  #000000;\n",
       "        }    #T_111cb282_9a3b_11ea_b7c5_c49dedb01420row14_col11 {\n",
       "            background-color:  #d95847;\n",
       "            color:  #000000;\n",
       "        }    #T_111cb282_9a3b_11ea_b7c5_c49dedb01420row14_col12 {\n",
       "            background-color:  #cf453c;\n",
       "            color:  #f1f1f1;\n",
       "        }    #T_111cb282_9a3b_11ea_b7c5_c49dedb01420row14_col13 {\n",
       "            background-color:  #c32e31;\n",
       "            color:  #f1f1f1;\n",
       "        }    #T_111cb282_9a3b_11ea_b7c5_c49dedb01420row14_col14 {\n",
       "            background-color:  #b40426;\n",
       "            color:  #f1f1f1;\n",
       "        }    #T_111cb282_9a3b_11ea_b7c5_c49dedb01420row14_col15 {\n",
       "            background-color:  #9ebeff;\n",
       "            color:  #000000;\n",
       "        }    #T_111cb282_9a3b_11ea_b7c5_c49dedb01420row14_col16 {\n",
       "            background-color:  #8db0fe;\n",
       "            color:  #000000;\n",
       "        }    #T_111cb282_9a3b_11ea_b7c5_c49dedb01420row14_col17 {\n",
       "            background-color:  #a6c4fe;\n",
       "            color:  #000000;\n",
       "        }    #T_111cb282_9a3b_11ea_b7c5_c49dedb01420row14_col18 {\n",
       "            background-color:  #abc8fd;\n",
       "            color:  #000000;\n",
       "        }    #T_111cb282_9a3b_11ea_b7c5_c49dedb01420row14_col19 {\n",
       "            background-color:  #bcd2f7;\n",
       "            color:  #000000;\n",
       "        }    #T_111cb282_9a3b_11ea_b7c5_c49dedb01420row14_col20 {\n",
       "            background-color:  #7ea1fa;\n",
       "            color:  #000000;\n",
       "        }    #T_111cb282_9a3b_11ea_b7c5_c49dedb01420row14_col21 {\n",
       "            background-color:  #3c4ec2;\n",
       "            color:  #f1f1f1;\n",
       "        }    #T_111cb282_9a3b_11ea_b7c5_c49dedb01420row14_col22 {\n",
       "            background-color:  #84a7fc;\n",
       "            color:  #000000;\n",
       "        }    #T_111cb282_9a3b_11ea_b7c5_c49dedb01420row14_col23 {\n",
       "            background-color:  #465ecf;\n",
       "            color:  #f1f1f1;\n",
       "        }    #T_111cb282_9a3b_11ea_b7c5_c49dedb01420row14_col24 {\n",
       "            background-color:  #6282ea;\n",
       "            color:  #000000;\n",
       "        }    #T_111cb282_9a3b_11ea_b7c5_c49dedb01420row14_col25 {\n",
       "            background-color:  #c73635;\n",
       "            color:  #f1f1f1;\n",
       "        }    #T_111cb282_9a3b_11ea_b7c5_c49dedb01420row14_col26 {\n",
       "            background-color:  #d7dce3;\n",
       "            color:  #000000;\n",
       "        }    #T_111cb282_9a3b_11ea_b7c5_c49dedb01420row14_col27 {\n",
       "            background-color:  #799cf8;\n",
       "            color:  #000000;\n",
       "        }    #T_111cb282_9a3b_11ea_b7c5_c49dedb01420row14_col28 {\n",
       "            background-color:  #6f92f3;\n",
       "            color:  #000000;\n",
       "        }    #T_111cb282_9a3b_11ea_b7c5_c49dedb01420row15_col0 {\n",
       "            background-color:  #afcafc;\n",
       "            color:  #000000;\n",
       "        }    #T_111cb282_9a3b_11ea_b7c5_c49dedb01420row15_col1 {\n",
       "            background-color:  #9abbff;\n",
       "            color:  #000000;\n",
       "        }    #T_111cb282_9a3b_11ea_b7c5_c49dedb01420row15_col2 {\n",
       "            background-color:  #a2c1ff;\n",
       "            color:  #000000;\n",
       "        }    #T_111cb282_9a3b_11ea_b7c5_c49dedb01420row15_col3 {\n",
       "            background-color:  #506bda;\n",
       "            color:  #000000;\n",
       "        }    #T_111cb282_9a3b_11ea_b7c5_c49dedb01420row15_col4 {\n",
       "            background-color:  #536edd;\n",
       "            color:  #000000;\n",
       "        }    #T_111cb282_9a3b_11ea_b7c5_c49dedb01420row15_col5 {\n",
       "            background-color:  #5f7fe8;\n",
       "            color:  #000000;\n",
       "        }    #T_111cb282_9a3b_11ea_b7c5_c49dedb01420row15_col6 {\n",
       "            background-color:  #5a78e4;\n",
       "            color:  #000000;\n",
       "        }    #T_111cb282_9a3b_11ea_b7c5_c49dedb01420row15_col7 {\n",
       "            background-color:  #5875e1;\n",
       "            color:  #000000;\n",
       "        }    #T_111cb282_9a3b_11ea_b7c5_c49dedb01420row15_col8 {\n",
       "            background-color:  #5a78e4;\n",
       "            color:  #000000;\n",
       "        }    #T_111cb282_9a3b_11ea_b7c5_c49dedb01420row15_col9 {\n",
       "            background-color:  #aac7fd;\n",
       "            color:  #000000;\n",
       "        }    #T_111cb282_9a3b_11ea_b7c5_c49dedb01420row15_col10 {\n",
       "            background-color:  #cedaeb;\n",
       "            color:  #000000;\n",
       "        }    #T_111cb282_9a3b_11ea_b7c5_c49dedb01420row15_col11 {\n",
       "            background-color:  #c7d7f0;\n",
       "            color:  #000000;\n",
       "        }    #T_111cb282_9a3b_11ea_b7c5_c49dedb01420row15_col12 {\n",
       "            background-color:  #c5d6f2;\n",
       "            color:  #000000;\n",
       "        }    #T_111cb282_9a3b_11ea_b7c5_c49dedb01420row15_col13 {\n",
       "            background-color:  #c1d4f4;\n",
       "            color:  #000000;\n",
       "        }    #T_111cb282_9a3b_11ea_b7c5_c49dedb01420row15_col14 {\n",
       "            background-color:  #bed2f6;\n",
       "            color:  #000000;\n",
       "        }    #T_111cb282_9a3b_11ea_b7c5_c49dedb01420row15_col15 {\n",
       "            background-color:  #b40426;\n",
       "            color:  #f1f1f1;\n",
       "        }    #T_111cb282_9a3b_11ea_b7c5_c49dedb01420row15_col16 {\n",
       "            background-color:  #b2ccfb;\n",
       "            color:  #000000;\n",
       "        }    #T_111cb282_9a3b_11ea_b7c5_c49dedb01420row15_col17 {\n",
       "            background-color:  #abc8fd;\n",
       "            color:  #000000;\n",
       "        }    #T_111cb282_9a3b_11ea_b7c5_c49dedb01420row15_col18 {\n",
       "            background-color:  #9dbdff;\n",
       "            color:  #000000;\n",
       "        }    #T_111cb282_9a3b_11ea_b7c5_c49dedb01420row15_col19 {\n",
       "            background-color:  #8caffe;\n",
       "            color:  #000000;\n",
       "        }    #T_111cb282_9a3b_11ea_b7c5_c49dedb01420row15_col20 {\n",
       "            background-color:  #96b7ff;\n",
       "            color:  #000000;\n",
       "        }    #T_111cb282_9a3b_11ea_b7c5_c49dedb01420row15_col21 {\n",
       "            background-color:  #6687ed;\n",
       "            color:  #000000;\n",
       "        }    #T_111cb282_9a3b_11ea_b7c5_c49dedb01420row15_col22 {\n",
       "            background-color:  #6180e9;\n",
       "            color:  #000000;\n",
       "        }    #T_111cb282_9a3b_11ea_b7c5_c49dedb01420row15_col23 {\n",
       "            background-color:  #4257c9;\n",
       "            color:  #f1f1f1;\n",
       "        }    #T_111cb282_9a3b_11ea_b7c5_c49dedb01420row15_col24 {\n",
       "            background-color:  #4f69d9;\n",
       "            color:  #000000;\n",
       "        }    #T_111cb282_9a3b_11ea_b7c5_c49dedb01420row15_col25 {\n",
       "            background-color:  #c6d6f1;\n",
       "            color:  #000000;\n",
       "        }    #T_111cb282_9a3b_11ea_b7c5_c49dedb01420row15_col26 {\n",
       "            background-color:  #f7b79b;\n",
       "            color:  #000000;\n",
       "        }    #T_111cb282_9a3b_11ea_b7c5_c49dedb01420row15_col27 {\n",
       "            background-color:  #5d7ce6;\n",
       "            color:  #000000;\n",
       "        }    #T_111cb282_9a3b_11ea_b7c5_c49dedb01420row15_col28 {\n",
       "            background-color:  #779af7;\n",
       "            color:  #000000;\n",
       "        }    #T_111cb282_9a3b_11ea_b7c5_c49dedb01420row16_col0 {\n",
       "            background-color:  #aac7fd;\n",
       "            color:  #000000;\n",
       "        }    #T_111cb282_9a3b_11ea_b7c5_c49dedb01420row16_col1 {\n",
       "            background-color:  #9abbff;\n",
       "            color:  #000000;\n",
       "        }    #T_111cb282_9a3b_11ea_b7c5_c49dedb01420row16_col2 {\n",
       "            background-color:  #a1c0ff;\n",
       "            color:  #000000;\n",
       "        }    #T_111cb282_9a3b_11ea_b7c5_c49dedb01420row16_col3 {\n",
       "            background-color:  #5673e0;\n",
       "            color:  #000000;\n",
       "        }    #T_111cb282_9a3b_11ea_b7c5_c49dedb01420row16_col4 {\n",
       "            background-color:  #5d7ce6;\n",
       "            color:  #000000;\n",
       "        }    #T_111cb282_9a3b_11ea_b7c5_c49dedb01420row16_col5 {\n",
       "            background-color:  #5875e1;\n",
       "            color:  #000000;\n",
       "        }    #T_111cb282_9a3b_11ea_b7c5_c49dedb01420row16_col6 {\n",
       "            background-color:  #5e7de7;\n",
       "            color:  #000000;\n",
       "        }    #T_111cb282_9a3b_11ea_b7c5_c49dedb01420row16_col7 {\n",
       "            background-color:  #5d7ce6;\n",
       "            color:  #000000;\n",
       "        }    #T_111cb282_9a3b_11ea_b7c5_c49dedb01420row16_col8 {\n",
       "            background-color:  #5d7ce6;\n",
       "            color:  #000000;\n",
       "        }    #T_111cb282_9a3b_11ea_b7c5_c49dedb01420row16_col9 {\n",
       "            background-color:  #9ebeff;\n",
       "            color:  #000000;\n",
       "        }    #T_111cb282_9a3b_11ea_b7c5_c49dedb01420row16_col10 {\n",
       "            background-color:  #a2c1ff;\n",
       "            color:  #000000;\n",
       "        }    #T_111cb282_9a3b_11ea_b7c5_c49dedb01420row16_col11 {\n",
       "            background-color:  #d7dce3;\n",
       "            color:  #000000;\n",
       "        }    #T_111cb282_9a3b_11ea_b7c5_c49dedb01420row16_col12 {\n",
       "            background-color:  #bfd3f6;\n",
       "            color:  #000000;\n",
       "        }    #T_111cb282_9a3b_11ea_b7c5_c49dedb01420row16_col13 {\n",
       "            background-color:  #b9d0f9;\n",
       "            color:  #000000;\n",
       "        }    #T_111cb282_9a3b_11ea_b7c5_c49dedb01420row16_col14 {\n",
       "            background-color:  #b6cefa;\n",
       "            color:  #000000;\n",
       "        }    #T_111cb282_9a3b_11ea_b7c5_c49dedb01420row16_col15 {\n",
       "            background-color:  #b7cff9;\n",
       "            color:  #000000;\n",
       "        }    #T_111cb282_9a3b_11ea_b7c5_c49dedb01420row16_col16 {\n",
       "            background-color:  #b40426;\n",
       "            color:  #f1f1f1;\n",
       "        }    #T_111cb282_9a3b_11ea_b7c5_c49dedb01420row16_col17 {\n",
       "            background-color:  #a9c6fd;\n",
       "            color:  #000000;\n",
       "        }    #T_111cb282_9a3b_11ea_b7c5_c49dedb01420row16_col18 {\n",
       "            background-color:  #96b7ff;\n",
       "            color:  #000000;\n",
       "        }    #T_111cb282_9a3b_11ea_b7c5_c49dedb01420row16_col19 {\n",
       "            background-color:  #96b7ff;\n",
       "            color:  #000000;\n",
       "        }    #T_111cb282_9a3b_11ea_b7c5_c49dedb01420row16_col20 {\n",
       "            background-color:  #8caffe;\n",
       "            color:  #000000;\n",
       "        }    #T_111cb282_9a3b_11ea_b7c5_c49dedb01420row16_col21 {\n",
       "            background-color:  #6e90f2;\n",
       "            color:  #000000;\n",
       "        }    #T_111cb282_9a3b_11ea_b7c5_c49dedb01420row16_col22 {\n",
       "            background-color:  #6485ec;\n",
       "            color:  #000000;\n",
       "        }    #T_111cb282_9a3b_11ea_b7c5_c49dedb01420row16_col23 {\n",
       "            background-color:  #4257c9;\n",
       "            color:  #f1f1f1;\n",
       "        }    #T_111cb282_9a3b_11ea_b7c5_c49dedb01420row16_col24 {\n",
       "            background-color:  #5470de;\n",
       "            color:  #000000;\n",
       "        }    #T_111cb282_9a3b_11ea_b7c5_c49dedb01420row16_col25 {\n",
       "            background-color:  #bbd1f8;\n",
       "            color:  #000000;\n",
       "        }    #T_111cb282_9a3b_11ea_b7c5_c49dedb01420row16_col26 {\n",
       "            background-color:  #f6a385;\n",
       "            color:  #000000;\n",
       "        }    #T_111cb282_9a3b_11ea_b7c5_c49dedb01420row16_col27 {\n",
       "            background-color:  #6180e9;\n",
       "            color:  #000000;\n",
       "        }    #T_111cb282_9a3b_11ea_b7c5_c49dedb01420row16_col28 {\n",
       "            background-color:  #7597f6;\n",
       "            color:  #000000;\n",
       "        }    #T_111cb282_9a3b_11ea_b7c5_c49dedb01420row17_col0 {\n",
       "            background-color:  #b3cdfb;\n",
       "            color:  #000000;\n",
       "        }    #T_111cb282_9a3b_11ea_b7c5_c49dedb01420row17_col1 {\n",
       "            background-color:  #9bbcff;\n",
       "            color:  #000000;\n",
       "        }    #T_111cb282_9a3b_11ea_b7c5_c49dedb01420row17_col2 {\n",
       "            background-color:  #a3c2fe;\n",
       "            color:  #000000;\n",
       "        }    #T_111cb282_9a3b_11ea_b7c5_c49dedb01420row17_col3 {\n",
       "            background-color:  #5470de;\n",
       "            color:  #000000;\n",
       "        }    #T_111cb282_9a3b_11ea_b7c5_c49dedb01420row17_col4 {\n",
       "            background-color:  #5b7ae5;\n",
       "            color:  #000000;\n",
       "        }    #T_111cb282_9a3b_11ea_b7c5_c49dedb01420row17_col5 {\n",
       "            background-color:  #5b7ae5;\n",
       "            color:  #000000;\n",
       "        }    #T_111cb282_9a3b_11ea_b7c5_c49dedb01420row17_col6 {\n",
       "            background-color:  #5572df;\n",
       "            color:  #000000;\n",
       "        }    #T_111cb282_9a3b_11ea_b7c5_c49dedb01420row17_col7 {\n",
       "            background-color:  #5d7ce6;\n",
       "            color:  #000000;\n",
       "        }    #T_111cb282_9a3b_11ea_b7c5_c49dedb01420row17_col8 {\n",
       "            background-color:  #5b7ae5;\n",
       "            color:  #000000;\n",
       "        }    #T_111cb282_9a3b_11ea_b7c5_c49dedb01420row17_col9 {\n",
       "            background-color:  #aec9fc;\n",
       "            color:  #000000;\n",
       "        }    #T_111cb282_9a3b_11ea_b7c5_c49dedb01420row17_col10 {\n",
       "            background-color:  #afcafc;\n",
       "            color:  #000000;\n",
       "        }    #T_111cb282_9a3b_11ea_b7c5_c49dedb01420row17_col11 {\n",
       "            background-color:  #abc8fd;\n",
       "            color:  #000000;\n",
       "        }    #T_111cb282_9a3b_11ea_b7c5_c49dedb01420row17_col12 {\n",
       "            background-color:  #d4dbe6;\n",
       "            color:  #000000;\n",
       "        }    #T_111cb282_9a3b_11ea_b7c5_c49dedb01420row17_col13 {\n",
       "            background-color:  #cad8ef;\n",
       "            color:  #000000;\n",
       "        }    #T_111cb282_9a3b_11ea_b7c5_c49dedb01420row17_col14 {\n",
       "            background-color:  #c5d6f2;\n",
       "            color:  #000000;\n",
       "        }    #T_111cb282_9a3b_11ea_b7c5_c49dedb01420row17_col15 {\n",
       "            background-color:  #aec9fc;\n",
       "            color:  #000000;\n",
       "        }    #T_111cb282_9a3b_11ea_b7c5_c49dedb01420row17_col16 {\n",
       "            background-color:  #a5c3fe;\n",
       "            color:  #000000;\n",
       "        }    #T_111cb282_9a3b_11ea_b7c5_c49dedb01420row17_col17 {\n",
       "            background-color:  #b40426;\n",
       "            color:  #f1f1f1;\n",
       "        }    #T_111cb282_9a3b_11ea_b7c5_c49dedb01420row17_col18 {\n",
       "            background-color:  #a2c1ff;\n",
       "            color:  #000000;\n",
       "        }    #T_111cb282_9a3b_11ea_b7c5_c49dedb01420row17_col19 {\n",
       "            background-color:  #90b2fe;\n",
       "            color:  #000000;\n",
       "        }    #T_111cb282_9a3b_11ea_b7c5_c49dedb01420row17_col20 {\n",
       "            background-color:  #8db0fe;\n",
       "            color:  #000000;\n",
       "        }    #T_111cb282_9a3b_11ea_b7c5_c49dedb01420row17_col21 {\n",
       "            background-color:  #688aef;\n",
       "            color:  #000000;\n",
       "        }    #T_111cb282_9a3b_11ea_b7c5_c49dedb01420row17_col22 {\n",
       "            background-color:  #6384eb;\n",
       "            color:  #000000;\n",
       "        }    #T_111cb282_9a3b_11ea_b7c5_c49dedb01420row17_col23 {\n",
       "            background-color:  #445acc;\n",
       "            color:  #f1f1f1;\n",
       "        }    #T_111cb282_9a3b_11ea_b7c5_c49dedb01420row17_col24 {\n",
       "            background-color:  #5470de;\n",
       "            color:  #000000;\n",
       "        }    #T_111cb282_9a3b_11ea_b7c5_c49dedb01420row17_col25 {\n",
       "            background-color:  #c1d4f4;\n",
       "            color:  #000000;\n",
       "        }    #T_111cb282_9a3b_11ea_b7c5_c49dedb01420row17_col26 {\n",
       "            background-color:  #f7b89c;\n",
       "            color:  #000000;\n",
       "        }    #T_111cb282_9a3b_11ea_b7c5_c49dedb01420row17_col27 {\n",
       "            background-color:  #5e7de7;\n",
       "            color:  #000000;\n",
       "        }    #T_111cb282_9a3b_11ea_b7c5_c49dedb01420row17_col28 {\n",
       "            background-color:  #799cf8;\n",
       "            color:  #000000;\n",
       "        }    #T_111cb282_9a3b_11ea_b7c5_c49dedb01420row18_col0 {\n",
       "            background-color:  #b2ccfb;\n",
       "            color:  #000000;\n",
       "        }    #T_111cb282_9a3b_11ea_b7c5_c49dedb01420row18_col1 {\n",
       "            background-color:  #98b9ff;\n",
       "            color:  #000000;\n",
       "        }    #T_111cb282_9a3b_11ea_b7c5_c49dedb01420row18_col2 {\n",
       "            background-color:  #a1c0ff;\n",
       "            color:  #000000;\n",
       "        }    #T_111cb282_9a3b_11ea_b7c5_c49dedb01420row18_col3 {\n",
       "            background-color:  #5470de;\n",
       "            color:  #000000;\n",
       "        }    #T_111cb282_9a3b_11ea_b7c5_c49dedb01420row18_col4 {\n",
       "            background-color:  #5d7ce6;\n",
       "            color:  #000000;\n",
       "        }    #T_111cb282_9a3b_11ea_b7c5_c49dedb01420row18_col5 {\n",
       "            background-color:  #5b7ae5;\n",
       "            color:  #000000;\n",
       "        }    #T_111cb282_9a3b_11ea_b7c5_c49dedb01420row18_col6 {\n",
       "            background-color:  #5a78e4;\n",
       "            color:  #000000;\n",
       "        }    #T_111cb282_9a3b_11ea_b7c5_c49dedb01420row18_col7 {\n",
       "            background-color:  #5572df;\n",
       "            color:  #000000;\n",
       "        }    #T_111cb282_9a3b_11ea_b7c5_c49dedb01420row18_col8 {\n",
       "            background-color:  #5f7fe8;\n",
       "            color:  #000000;\n",
       "        }    #T_111cb282_9a3b_11ea_b7c5_c49dedb01420row18_col9 {\n",
       "            background-color:  #aec9fc;\n",
       "            color:  #000000;\n",
       "        }    #T_111cb282_9a3b_11ea_b7c5_c49dedb01420row18_col10 {\n",
       "            background-color:  #aec9fc;\n",
       "            color:  #000000;\n",
       "        }    #T_111cb282_9a3b_11ea_b7c5_c49dedb01420row18_col11 {\n",
       "            background-color:  #afcafc;\n",
       "            color:  #000000;\n",
       "        }    #T_111cb282_9a3b_11ea_b7c5_c49dedb01420row18_col12 {\n",
       "            background-color:  #abc8fd;\n",
       "            color:  #000000;\n",
       "        }    #T_111cb282_9a3b_11ea_b7c5_c49dedb01420row18_col13 {\n",
       "            background-color:  #d3dbe7;\n",
       "            color:  #000000;\n",
       "        }    #T_111cb282_9a3b_11ea_b7c5_c49dedb01420row18_col14 {\n",
       "            background-color:  #c9d7f0;\n",
       "            color:  #000000;\n",
       "        }    #T_111cb282_9a3b_11ea_b7c5_c49dedb01420row18_col15 {\n",
       "            background-color:  #9ebeff;\n",
       "            color:  #000000;\n",
       "        }    #T_111cb282_9a3b_11ea_b7c5_c49dedb01420row18_col16 {\n",
       "            background-color:  #90b2fe;\n",
       "            color:  #000000;\n",
       "        }    #T_111cb282_9a3b_11ea_b7c5_c49dedb01420row18_col17 {\n",
       "            background-color:  #a1c0ff;\n",
       "            color:  #000000;\n",
       "        }    #T_111cb282_9a3b_11ea_b7c5_c49dedb01420row18_col18 {\n",
       "            background-color:  #b40426;\n",
       "            color:  #f1f1f1;\n",
       "        }    #T_111cb282_9a3b_11ea_b7c5_c49dedb01420row18_col19 {\n",
       "            background-color:  #8db0fe;\n",
       "            color:  #000000;\n",
       "        }    #T_111cb282_9a3b_11ea_b7c5_c49dedb01420row18_col20 {\n",
       "            background-color:  #8caffe;\n",
       "            color:  #000000;\n",
       "        }    #T_111cb282_9a3b_11ea_b7c5_c49dedb01420row18_col21 {\n",
       "            background-color:  #6788ee;\n",
       "            color:  #000000;\n",
       "        }    #T_111cb282_9a3b_11ea_b7c5_c49dedb01420row18_col22 {\n",
       "            background-color:  #6485ec;\n",
       "            color:  #000000;\n",
       "        }    #T_111cb282_9a3b_11ea_b7c5_c49dedb01420row18_col23 {\n",
       "            background-color:  #4257c9;\n",
       "            color:  #f1f1f1;\n",
       "        }    #T_111cb282_9a3b_11ea_b7c5_c49dedb01420row18_col24 {\n",
       "            background-color:  #5470de;\n",
       "            color:  #000000;\n",
       "        }    #T_111cb282_9a3b_11ea_b7c5_c49dedb01420row18_col25 {\n",
       "            background-color:  #bcd2f7;\n",
       "            color:  #000000;\n",
       "        }    #T_111cb282_9a3b_11ea_b7c5_c49dedb01420row18_col26 {\n",
       "            background-color:  #f3c8b2;\n",
       "            color:  #000000;\n",
       "        }    #T_111cb282_9a3b_11ea_b7c5_c49dedb01420row18_col27 {\n",
       "            background-color:  #5f7fe8;\n",
       "            color:  #000000;\n",
       "        }    #T_111cb282_9a3b_11ea_b7c5_c49dedb01420row18_col28 {\n",
       "            background-color:  #779af7;\n",
       "            color:  #000000;\n",
       "        }    #T_111cb282_9a3b_11ea_b7c5_c49dedb01420row19_col0 {\n",
       "            background-color:  #b5cdfa;\n",
       "            color:  #000000;\n",
       "        }    #T_111cb282_9a3b_11ea_b7c5_c49dedb01420row19_col1 {\n",
       "            background-color:  #9bbcff;\n",
       "            color:  #000000;\n",
       "        }    #T_111cb282_9a3b_11ea_b7c5_c49dedb01420row19_col2 {\n",
       "            background-color:  #a2c1ff;\n",
       "            color:  #000000;\n",
       "        }    #T_111cb282_9a3b_11ea_b7c5_c49dedb01420row19_col3 {\n",
       "            background-color:  #5673e0;\n",
       "            color:  #000000;\n",
       "        }    #T_111cb282_9a3b_11ea_b7c5_c49dedb01420row19_col4 {\n",
       "            background-color:  #5e7de7;\n",
       "            color:  #000000;\n",
       "        }    #T_111cb282_9a3b_11ea_b7c5_c49dedb01420row19_col5 {\n",
       "            background-color:  #5d7ce6;\n",
       "            color:  #000000;\n",
       "        }    #T_111cb282_9a3b_11ea_b7c5_c49dedb01420row19_col6 {\n",
       "            background-color:  #5a78e4;\n",
       "            color:  #000000;\n",
       "        }    #T_111cb282_9a3b_11ea_b7c5_c49dedb01420row19_col7 {\n",
       "            background-color:  #5977e3;\n",
       "            color:  #000000;\n",
       "        }    #T_111cb282_9a3b_11ea_b7c5_c49dedb01420row19_col8 {\n",
       "            background-color:  #5572df;\n",
       "            color:  #000000;\n",
       "        }    #T_111cb282_9a3b_11ea_b7c5_c49dedb01420row19_col9 {\n",
       "            background-color:  #b1cbfc;\n",
       "            color:  #000000;\n",
       "        }    #T_111cb282_9a3b_11ea_b7c5_c49dedb01420row19_col10 {\n",
       "            background-color:  #b1cbfc;\n",
       "            color:  #000000;\n",
       "        }    #T_111cb282_9a3b_11ea_b7c5_c49dedb01420row19_col11 {\n",
       "            background-color:  #b9d0f9;\n",
       "            color:  #000000;\n",
       "        }    #T_111cb282_9a3b_11ea_b7c5_c49dedb01420row19_col12 {\n",
       "            background-color:  #b3cdfb;\n",
       "            color:  #000000;\n",
       "        }    #T_111cb282_9a3b_11ea_b7c5_c49dedb01420row19_col13 {\n",
       "            background-color:  #aec9fc;\n",
       "            color:  #000000;\n",
       "        }    #T_111cb282_9a3b_11ea_b7c5_c49dedb01420row19_col14 {\n",
       "            background-color:  #d6dce4;\n",
       "            color:  #000000;\n",
       "        }    #T_111cb282_9a3b_11ea_b7c5_c49dedb01420row19_col15 {\n",
       "            background-color:  #8db0fe;\n",
       "            color:  #000000;\n",
       "        }    #T_111cb282_9a3b_11ea_b7c5_c49dedb01420row19_col16 {\n",
       "            background-color:  #90b2fe;\n",
       "            color:  #000000;\n",
       "        }    #T_111cb282_9a3b_11ea_b7c5_c49dedb01420row19_col17 {\n",
       "            background-color:  #8fb1fe;\n",
       "            color:  #000000;\n",
       "        }    #T_111cb282_9a3b_11ea_b7c5_c49dedb01420row19_col18 {\n",
       "            background-color:  #8db0fe;\n",
       "            color:  #000000;\n",
       "        }    #T_111cb282_9a3b_11ea_b7c5_c49dedb01420row19_col19 {\n",
       "            background-color:  #b40426;\n",
       "            color:  #f1f1f1;\n",
       "        }    #T_111cb282_9a3b_11ea_b7c5_c49dedb01420row19_col20 {\n",
       "            background-color:  #8badfd;\n",
       "            color:  #000000;\n",
       "        }    #T_111cb282_9a3b_11ea_b7c5_c49dedb01420row19_col21 {\n",
       "            background-color:  #6788ee;\n",
       "            color:  #000000;\n",
       "        }    #T_111cb282_9a3b_11ea_b7c5_c49dedb01420row19_col22 {\n",
       "            background-color:  #6384eb;\n",
       "            color:  #000000;\n",
       "        }    #T_111cb282_9a3b_11ea_b7c5_c49dedb01420row19_col23 {\n",
       "            background-color:  #4257c9;\n",
       "            color:  #f1f1f1;\n",
       "        }    #T_111cb282_9a3b_11ea_b7c5_c49dedb01420row19_col24 {\n",
       "            background-color:  #5470de;\n",
       "            color:  #000000;\n",
       "        }    #T_111cb282_9a3b_11ea_b7c5_c49dedb01420row19_col25 {\n",
       "            background-color:  #bcd2f7;\n",
       "            color:  #000000;\n",
       "        }    #T_111cb282_9a3b_11ea_b7c5_c49dedb01420row19_col26 {\n",
       "            background-color:  #efcebd;\n",
       "            color:  #000000;\n",
       "        }    #T_111cb282_9a3b_11ea_b7c5_c49dedb01420row19_col27 {\n",
       "            background-color:  #5f7fe8;\n",
       "            color:  #000000;\n",
       "        }    #T_111cb282_9a3b_11ea_b7c5_c49dedb01420row19_col28 {\n",
       "            background-color:  #799cf8;\n",
       "            color:  #000000;\n",
       "        }    #T_111cb282_9a3b_11ea_b7c5_c49dedb01420row20_col0 {\n",
       "            background-color:  #b6cefa;\n",
       "            color:  #000000;\n",
       "        }    #T_111cb282_9a3b_11ea_b7c5_c49dedb01420row20_col1 {\n",
       "            background-color:  #9abbff;\n",
       "            color:  #000000;\n",
       "        }    #T_111cb282_9a3b_11ea_b7c5_c49dedb01420row20_col2 {\n",
       "            background-color:  #a1c0ff;\n",
       "            color:  #000000;\n",
       "        }    #T_111cb282_9a3b_11ea_b7c5_c49dedb01420row20_col3 {\n",
       "            background-color:  #5875e1;\n",
       "            color:  #000000;\n",
       "        }    #T_111cb282_9a3b_11ea_b7c5_c49dedb01420row20_col4 {\n",
       "            background-color:  #5f7fe8;\n",
       "            color:  #000000;\n",
       "        }    #T_111cb282_9a3b_11ea_b7c5_c49dedb01420row20_col5 {\n",
       "            background-color:  #5d7ce6;\n",
       "            color:  #000000;\n",
       "        }    #T_111cb282_9a3b_11ea_b7c5_c49dedb01420row20_col6 {\n",
       "            background-color:  #5b7ae5;\n",
       "            color:  #000000;\n",
       "        }    #T_111cb282_9a3b_11ea_b7c5_c49dedb01420row20_col7 {\n",
       "            background-color:  #5a78e4;\n",
       "            color:  #000000;\n",
       "        }    #T_111cb282_9a3b_11ea_b7c5_c49dedb01420row20_col8 {\n",
       "            background-color:  #5a78e4;\n",
       "            color:  #000000;\n",
       "        }    #T_111cb282_9a3b_11ea_b7c5_c49dedb01420row20_col9 {\n",
       "            background-color:  #b3cdfb;\n",
       "            color:  #000000;\n",
       "        }    #T_111cb282_9a3b_11ea_b7c5_c49dedb01420row20_col10 {\n",
       "            background-color:  #b6cefa;\n",
       "            color:  #000000;\n",
       "        }    #T_111cb282_9a3b_11ea_b7c5_c49dedb01420row20_col11 {\n",
       "            background-color:  #b9d0f9;\n",
       "            color:  #000000;\n",
       "        }    #T_111cb282_9a3b_11ea_b7c5_c49dedb01420row20_col12 {\n",
       "            background-color:  #b9d0f9;\n",
       "            color:  #000000;\n",
       "        }    #T_111cb282_9a3b_11ea_b7c5_c49dedb01420row20_col13 {\n",
       "            background-color:  #b5cdfa;\n",
       "            color:  #000000;\n",
       "        }    #T_111cb282_9a3b_11ea_b7c5_c49dedb01420row20_col14 {\n",
       "            background-color:  #a7c5fe;\n",
       "            color:  #000000;\n",
       "        }    #T_111cb282_9a3b_11ea_b7c5_c49dedb01420row20_col15 {\n",
       "            background-color:  #9abbff;\n",
       "            color:  #000000;\n",
       "        }    #T_111cb282_9a3b_11ea_b7c5_c49dedb01420row20_col16 {\n",
       "            background-color:  #89acfd;\n",
       "            color:  #000000;\n",
       "        }    #T_111cb282_9a3b_11ea_b7c5_c49dedb01420row20_col17 {\n",
       "            background-color:  #90b2fe;\n",
       "            color:  #000000;\n",
       "        }    #T_111cb282_9a3b_11ea_b7c5_c49dedb01420row20_col18 {\n",
       "            background-color:  #8fb1fe;\n",
       "            color:  #000000;\n",
       "        }    #T_111cb282_9a3b_11ea_b7c5_c49dedb01420row20_col19 {\n",
       "            background-color:  #8fb1fe;\n",
       "            color:  #000000;\n",
       "        }    #T_111cb282_9a3b_11ea_b7c5_c49dedb01420row20_col20 {\n",
       "            background-color:  #b40426;\n",
       "            color:  #f1f1f1;\n",
       "        }    #T_111cb282_9a3b_11ea_b7c5_c49dedb01420row20_col21 {\n",
       "            background-color:  #6b8df0;\n",
       "            color:  #000000;\n",
       "        }    #T_111cb282_9a3b_11ea_b7c5_c49dedb01420row20_col22 {\n",
       "            background-color:  #6687ed;\n",
       "            color:  #000000;\n",
       "        }    #T_111cb282_9a3b_11ea_b7c5_c49dedb01420row20_col23 {\n",
       "            background-color:  #4257c9;\n",
       "            color:  #f1f1f1;\n",
       "        }    #T_111cb282_9a3b_11ea_b7c5_c49dedb01420row20_col24 {\n",
       "            background-color:  #5572df;\n",
       "            color:  #000000;\n",
       "        }    #T_111cb282_9a3b_11ea_b7c5_c49dedb01420row20_col25 {\n",
       "            background-color:  #b9d0f9;\n",
       "            color:  #000000;\n",
       "        }    #T_111cb282_9a3b_11ea_b7c5_c49dedb01420row20_col26 {\n",
       "            background-color:  #f3c7b1;\n",
       "            color:  #000000;\n",
       "        }    #T_111cb282_9a3b_11ea_b7c5_c49dedb01420row20_col27 {\n",
       "            background-color:  #6180e9;\n",
       "            color:  #000000;\n",
       "        }    #T_111cb282_9a3b_11ea_b7c5_c49dedb01420row20_col28 {\n",
       "            background-color:  #799cf8;\n",
       "            color:  #000000;\n",
       "        }    #T_111cb282_9a3b_11ea_b7c5_c49dedb01420row21_col0 {\n",
       "            background-color:  #6687ed;\n",
       "            color:  #000000;\n",
       "        }    #T_111cb282_9a3b_11ea_b7c5_c49dedb01420row21_col1 {\n",
       "            background-color:  #98b9ff;\n",
       "            color:  #000000;\n",
       "        }    #T_111cb282_9a3b_11ea_b7c5_c49dedb01420row21_col2 {\n",
       "            background-color:  #9fbfff;\n",
       "            color:  #000000;\n",
       "        }    #T_111cb282_9a3b_11ea_b7c5_c49dedb01420row21_col3 {\n",
       "            background-color:  #bad0f8;\n",
       "            color:  #000000;\n",
       "        }    #T_111cb282_9a3b_11ea_b7c5_c49dedb01420row21_col4 {\n",
       "            background-color:  #b5cdfa;\n",
       "            color:  #000000;\n",
       "        }    #T_111cb282_9a3b_11ea_b7c5_c49dedb01420row21_col5 {\n",
       "            background-color:  #b2ccfb;\n",
       "            color:  #000000;\n",
       "        }    #T_111cb282_9a3b_11ea_b7c5_c49dedb01420row21_col6 {\n",
       "            background-color:  #a9c6fd;\n",
       "            color:  #000000;\n",
       "        }    #T_111cb282_9a3b_11ea_b7c5_c49dedb01420row21_col7 {\n",
       "            background-color:  #a2c1ff;\n",
       "            color:  #000000;\n",
       "        }    #T_111cb282_9a3b_11ea_b7c5_c49dedb01420row21_col8 {\n",
       "            background-color:  #9bbcff;\n",
       "            color:  #000000;\n",
       "        }    #T_111cb282_9a3b_11ea_b7c5_c49dedb01420row21_col9 {\n",
       "            background-color:  #3b4cc0;\n",
       "            color:  #f1f1f1;\n",
       "        }    #T_111cb282_9a3b_11ea_b7c5_c49dedb01420row21_col10 {\n",
       "            background-color:  #3b4cc0;\n",
       "            color:  #f1f1f1;\n",
       "        }    #T_111cb282_9a3b_11ea_b7c5_c49dedb01420row21_col11 {\n",
       "            background-color:  #3b4cc0;\n",
       "            color:  #f1f1f1;\n",
       "        }    #T_111cb282_9a3b_11ea_b7c5_c49dedb01420row21_col12 {\n",
       "            background-color:  #3b4cc0;\n",
       "            color:  #f1f1f1;\n",
       "        }    #T_111cb282_9a3b_11ea_b7c5_c49dedb01420row21_col13 {\n",
       "            background-color:  #3b4cc0;\n",
       "            color:  #f1f1f1;\n",
       "        }    #T_111cb282_9a3b_11ea_b7c5_c49dedb01420row21_col14 {\n",
       "            background-color:  #3b4cc0;\n",
       "            color:  #f1f1f1;\n",
       "        }    #T_111cb282_9a3b_11ea_b7c5_c49dedb01420row21_col15 {\n",
       "            background-color:  #3b4cc0;\n",
       "            color:  #f1f1f1;\n",
       "        }    #T_111cb282_9a3b_11ea_b7c5_c49dedb01420row21_col16 {\n",
       "            background-color:  #3b4cc0;\n",
       "            color:  #f1f1f1;\n",
       "        }    #T_111cb282_9a3b_11ea_b7c5_c49dedb01420row21_col17 {\n",
       "            background-color:  #3b4cc0;\n",
       "            color:  #f1f1f1;\n",
       "        }    #T_111cb282_9a3b_11ea_b7c5_c49dedb01420row21_col18 {\n",
       "            background-color:  #3b4cc0;\n",
       "            color:  #f1f1f1;\n",
       "        }    #T_111cb282_9a3b_11ea_b7c5_c49dedb01420row21_col19 {\n",
       "            background-color:  #3b4cc0;\n",
       "            color:  #f1f1f1;\n",
       "        }    #T_111cb282_9a3b_11ea_b7c5_c49dedb01420row21_col20 {\n",
       "            background-color:  #3b4cc0;\n",
       "            color:  #f1f1f1;\n",
       "        }    #T_111cb282_9a3b_11ea_b7c5_c49dedb01420row21_col21 {\n",
       "            background-color:  #b40426;\n",
       "            color:  #f1f1f1;\n",
       "        }    #T_111cb282_9a3b_11ea_b7c5_c49dedb01420row21_col22 {\n",
       "            background-color:  #bfd3f6;\n",
       "            color:  #000000;\n",
       "        }    #T_111cb282_9a3b_11ea_b7c5_c49dedb01420row21_col23 {\n",
       "            background-color:  #4257c9;\n",
       "            color:  #f1f1f1;\n",
       "        }    #T_111cb282_9a3b_11ea_b7c5_c49dedb01420row21_col24 {\n",
       "            background-color:  #96b7ff;\n",
       "            color:  #000000;\n",
       "        }    #T_111cb282_9a3b_11ea_b7c5_c49dedb01420row21_col25 {\n",
       "            background-color:  #3b4cc0;\n",
       "            color:  #f1f1f1;\n",
       "        }    #T_111cb282_9a3b_11ea_b7c5_c49dedb01420row21_col26 {\n",
       "            background-color:  #3b4cc0;\n",
       "            color:  #f1f1f1;\n",
       "        }    #T_111cb282_9a3b_11ea_b7c5_c49dedb01420row21_col27 {\n",
       "            background-color:  #bfd3f6;\n",
       "            color:  #000000;\n",
       "        }    #T_111cb282_9a3b_11ea_b7c5_c49dedb01420row21_col28 {\n",
       "            background-color:  #7699f6;\n",
       "            color:  #000000;\n",
       "        }    #T_111cb282_9a3b_11ea_b7c5_c49dedb01420row22_col0 {\n",
       "            background-color:  #3b4cc0;\n",
       "            color:  #f1f1f1;\n",
       "        }    #T_111cb282_9a3b_11ea_b7c5_c49dedb01420row22_col1 {\n",
       "            background-color:  #9abbff;\n",
       "            color:  #000000;\n",
       "        }    #T_111cb282_9a3b_11ea_b7c5_c49dedb01420row22_col2 {\n",
       "            background-color:  #98b9ff;\n",
       "            color:  #000000;\n",
       "        }    #T_111cb282_9a3b_11ea_b7c5_c49dedb01420row22_col3 {\n",
       "            background-color:  #f59f80;\n",
       "            color:  #000000;\n",
       "        }    #T_111cb282_9a3b_11ea_b7c5_c49dedb01420row22_col4 {\n",
       "            background-color:  #ec7f63;\n",
       "            color:  #000000;\n",
       "        }    #T_111cb282_9a3b_11ea_b7c5_c49dedb01420row22_col5 {\n",
       "            background-color:  #ee8669;\n",
       "            color:  #000000;\n",
       "        }    #T_111cb282_9a3b_11ea_b7c5_c49dedb01420row22_col6 {\n",
       "            background-color:  #f08b6e;\n",
       "            color:  #000000;\n",
       "        }    #T_111cb282_9a3b_11ea_b7c5_c49dedb01420row22_col7 {\n",
       "            background-color:  #f29274;\n",
       "            color:  #000000;\n",
       "        }    #T_111cb282_9a3b_11ea_b7c5_c49dedb01420row22_col8 {\n",
       "            background-color:  #f6a385;\n",
       "            color:  #000000;\n",
       "        }    #T_111cb282_9a3b_11ea_b7c5_c49dedb01420row22_col9 {\n",
       "            background-color:  #7b9ff9;\n",
       "            color:  #000000;\n",
       "        }    #T_111cb282_9a3b_11ea_b7c5_c49dedb01420row22_col10 {\n",
       "            background-color:  #84a7fc;\n",
       "            color:  #000000;\n",
       "        }    #T_111cb282_9a3b_11ea_b7c5_c49dedb01420row22_col11 {\n",
       "            background-color:  #89acfd;\n",
       "            color:  #000000;\n",
       "        }    #T_111cb282_9a3b_11ea_b7c5_c49dedb01420row22_col12 {\n",
       "            background-color:  #8fb1fe;\n",
       "            color:  #000000;\n",
       "        }    #T_111cb282_9a3b_11ea_b7c5_c49dedb01420row22_col13 {\n",
       "            background-color:  #93b5fe;\n",
       "            color:  #000000;\n",
       "        }    #T_111cb282_9a3b_11ea_b7c5_c49dedb01420row22_col14 {\n",
       "            background-color:  #94b6ff;\n",
       "            color:  #000000;\n",
       "        }    #T_111cb282_9a3b_11ea_b7c5_c49dedb01420row22_col15 {\n",
       "            background-color:  #4961d2;\n",
       "            color:  #f1f1f1;\n",
       "        }    #T_111cb282_9a3b_11ea_b7c5_c49dedb01420row22_col16 {\n",
       "            background-color:  #455cce;\n",
       "            color:  #f1f1f1;\n",
       "        }    #T_111cb282_9a3b_11ea_b7c5_c49dedb01420row22_col17 {\n",
       "            background-color:  #4961d2;\n",
       "            color:  #f1f1f1;\n",
       "        }    #T_111cb282_9a3b_11ea_b7c5_c49dedb01420row22_col18 {\n",
       "            background-color:  #4a63d3;\n",
       "            color:  #f1f1f1;\n",
       "        }    #T_111cb282_9a3b_11ea_b7c5_c49dedb01420row22_col19 {\n",
       "            background-color:  #4961d2;\n",
       "            color:  #f1f1f1;\n",
       "        }    #T_111cb282_9a3b_11ea_b7c5_c49dedb01420row22_col20 {\n",
       "            background-color:  #4961d2;\n",
       "            color:  #f1f1f1;\n",
       "        }    #T_111cb282_9a3b_11ea_b7c5_c49dedb01420row22_col21 {\n",
       "            background-color:  #cbd8ee;\n",
       "            color:  #000000;\n",
       "        }    #T_111cb282_9a3b_11ea_b7c5_c49dedb01420row22_col22 {\n",
       "            background-color:  #b40426;\n",
       "            color:  #f1f1f1;\n",
       "        }    #T_111cb282_9a3b_11ea_b7c5_c49dedb01420row22_col23 {\n",
       "            background-color:  #4f69d9;\n",
       "            color:  #000000;\n",
       "        }    #T_111cb282_9a3b_11ea_b7c5_c49dedb01420row22_col24 {\n",
       "            background-color:  #d7dce3;\n",
       "            color:  #000000;\n",
       "        }    #T_111cb282_9a3b_11ea_b7c5_c49dedb01420row22_col25 {\n",
       "            background-color:  #8db0fe;\n",
       "            color:  #000000;\n",
       "        }    #T_111cb282_9a3b_11ea_b7c5_c49dedb01420row22_col26 {\n",
       "            background-color:  #516ddb;\n",
       "            color:  #000000;\n",
       "        }    #T_111cb282_9a3b_11ea_b7c5_c49dedb01420row22_col27 {\n",
       "            background-color:  #d85646;\n",
       "            color:  #000000;\n",
       "        }    #T_111cb282_9a3b_11ea_b7c5_c49dedb01420row22_col28 {\n",
       "            background-color:  #5b7ae5;\n",
       "            color:  #000000;\n",
       "        }    #T_111cb282_9a3b_11ea_b7c5_c49dedb01420row23_col0 {\n",
       "            background-color:  #7093f3;\n",
       "            color:  #000000;\n",
       "        }    #T_111cb282_9a3b_11ea_b7c5_c49dedb01420row23_col1 {\n",
       "            background-color:  #a3c2fe;\n",
       "            color:  #000000;\n",
       "        }    #T_111cb282_9a3b_11ea_b7c5_c49dedb01420row23_col2 {\n",
       "            background-color:  #b2ccfb;\n",
       "            color:  #000000;\n",
       "        }    #T_111cb282_9a3b_11ea_b7c5_c49dedb01420row23_col3 {\n",
       "            background-color:  #7295f4;\n",
       "            color:  #000000;\n",
       "        }    #T_111cb282_9a3b_11ea_b7c5_c49dedb01420row23_col4 {\n",
       "            background-color:  #7a9df8;\n",
       "            color:  #000000;\n",
       "        }    #T_111cb282_9a3b_11ea_b7c5_c49dedb01420row23_col5 {\n",
       "            background-color:  #799cf8;\n",
       "            color:  #000000;\n",
       "        }    #T_111cb282_9a3b_11ea_b7c5_c49dedb01420row23_col6 {\n",
       "            background-color:  #7699f6;\n",
       "            color:  #000000;\n",
       "        }    #T_111cb282_9a3b_11ea_b7c5_c49dedb01420row23_col7 {\n",
       "            background-color:  #7396f5;\n",
       "            color:  #000000;\n",
       "        }    #T_111cb282_9a3b_11ea_b7c5_c49dedb01420row23_col8 {\n",
       "            background-color:  #7093f3;\n",
       "            color:  #000000;\n",
       "        }    #T_111cb282_9a3b_11ea_b7c5_c49dedb01420row23_col9 {\n",
       "            background-color:  #8caffe;\n",
       "            color:  #000000;\n",
       "        }    #T_111cb282_9a3b_11ea_b7c5_c49dedb01420row23_col10 {\n",
       "            background-color:  #90b2fe;\n",
       "            color:  #000000;\n",
       "        }    #T_111cb282_9a3b_11ea_b7c5_c49dedb01420row23_col11 {\n",
       "            background-color:  #8fb1fe;\n",
       "            color:  #000000;\n",
       "        }    #T_111cb282_9a3b_11ea_b7c5_c49dedb01420row23_col12 {\n",
       "            background-color:  #8fb1fe;\n",
       "            color:  #000000;\n",
       "        }    #T_111cb282_9a3b_11ea_b7c5_c49dedb01420row23_col13 {\n",
       "            background-color:  #8db0fe;\n",
       "            color:  #000000;\n",
       "        }    #T_111cb282_9a3b_11ea_b7c5_c49dedb01420row23_col14 {\n",
       "            background-color:  #8db0fe;\n",
       "            color:  #000000;\n",
       "        }    #T_111cb282_9a3b_11ea_b7c5_c49dedb01420row23_col15 {\n",
       "            background-color:  #6180e9;\n",
       "            color:  #000000;\n",
       "        }    #T_111cb282_9a3b_11ea_b7c5_c49dedb01420row23_col16 {\n",
       "            background-color:  #5977e3;\n",
       "            color:  #000000;\n",
       "        }    #T_111cb282_9a3b_11ea_b7c5_c49dedb01420row23_col17 {\n",
       "            background-color:  #6180e9;\n",
       "            color:  #000000;\n",
       "        }    #T_111cb282_9a3b_11ea_b7c5_c49dedb01420row23_col18 {\n",
       "            background-color:  #5f7fe8;\n",
       "            color:  #000000;\n",
       "        }    #T_111cb282_9a3b_11ea_b7c5_c49dedb01420row23_col19 {\n",
       "            background-color:  #5f7fe8;\n",
       "            color:  #000000;\n",
       "        }    #T_111cb282_9a3b_11ea_b7c5_c49dedb01420row23_col20 {\n",
       "            background-color:  #5d7ce6;\n",
       "            color:  #000000;\n",
       "        }    #T_111cb282_9a3b_11ea_b7c5_c49dedb01420row23_col21 {\n",
       "            background-color:  #8badfd;\n",
       "            color:  #000000;\n",
       "        }    #T_111cb282_9a3b_11ea_b7c5_c49dedb01420row23_col22 {\n",
       "            background-color:  #85a8fc;\n",
       "            color:  #000000;\n",
       "        }    #T_111cb282_9a3b_11ea_b7c5_c49dedb01420row23_col23 {\n",
       "            background-color:  #b40426;\n",
       "            color:  #f1f1f1;\n",
       "        }    #T_111cb282_9a3b_11ea_b7c5_c49dedb01420row23_col24 {\n",
       "            background-color:  #6f92f3;\n",
       "            color:  #000000;\n",
       "        }    #T_111cb282_9a3b_11ea_b7c5_c49dedb01420row23_col25 {\n",
       "            background-color:  #92b4fe;\n",
       "            color:  #000000;\n",
       "        }    #T_111cb282_9a3b_11ea_b7c5_c49dedb01420row23_col26 {\n",
       "            background-color:  #7699f6;\n",
       "            color:  #000000;\n",
       "        }    #T_111cb282_9a3b_11ea_b7c5_c49dedb01420row23_col27 {\n",
       "            background-color:  #80a3fa;\n",
       "            color:  #000000;\n",
       "        }    #T_111cb282_9a3b_11ea_b7c5_c49dedb01420row23_col28 {\n",
       "            background-color:  #6f92f3;\n",
       "            color:  #000000;\n",
       "        }    #T_111cb282_9a3b_11ea_b7c5_c49dedb01420row24_col0 {\n",
       "            background-color:  #4f69d9;\n",
       "            color:  #000000;\n",
       "        }    #T_111cb282_9a3b_11ea_b7c5_c49dedb01420row24_col1 {\n",
       "            background-color:  #96b7ff;\n",
       "            color:  #000000;\n",
       "        }    #T_111cb282_9a3b_11ea_b7c5_c49dedb01420row24_col2 {\n",
       "            background-color:  #9fbfff;\n",
       "            color:  #000000;\n",
       "        }    #T_111cb282_9a3b_11ea_b7c5_c49dedb01420row24_col3 {\n",
       "            background-color:  #d2dbe8;\n",
       "            color:  #000000;\n",
       "        }    #T_111cb282_9a3b_11ea_b7c5_c49dedb01420row24_col4 {\n",
       "            background-color:  #c9d7f0;\n",
       "            color:  #000000;\n",
       "        }    #T_111cb282_9a3b_11ea_b7c5_c49dedb01420row24_col5 {\n",
       "            background-color:  #bfd3f6;\n",
       "            color:  #000000;\n",
       "        }    #T_111cb282_9a3b_11ea_b7c5_c49dedb01420row24_col6 {\n",
       "            background-color:  #b9d0f9;\n",
       "            color:  #000000;\n",
       "        }    #T_111cb282_9a3b_11ea_b7c5_c49dedb01420row24_col7 {\n",
       "            background-color:  #b5cdfa;\n",
       "            color:  #000000;\n",
       "        }    #T_111cb282_9a3b_11ea_b7c5_c49dedb01420row24_col8 {\n",
       "            background-color:  #b1cbfc;\n",
       "            color:  #000000;\n",
       "        }    #T_111cb282_9a3b_11ea_b7c5_c49dedb01420row24_col9 {\n",
       "            background-color:  #7ea1fa;\n",
       "            color:  #000000;\n",
       "        }    #T_111cb282_9a3b_11ea_b7c5_c49dedb01420row24_col10 {\n",
       "            background-color:  #84a7fc;\n",
       "            color:  #000000;\n",
       "        }    #T_111cb282_9a3b_11ea_b7c5_c49dedb01420row24_col11 {\n",
       "            background-color:  #85a8fc;\n",
       "            color:  #000000;\n",
       "        }    #T_111cb282_9a3b_11ea_b7c5_c49dedb01420row24_col12 {\n",
       "            background-color:  #86a9fc;\n",
       "            color:  #000000;\n",
       "        }    #T_111cb282_9a3b_11ea_b7c5_c49dedb01420row24_col13 {\n",
       "            background-color:  #86a9fc;\n",
       "            color:  #000000;\n",
       "        }    #T_111cb282_9a3b_11ea_b7c5_c49dedb01420row24_col14 {\n",
       "            background-color:  #88abfd;\n",
       "            color:  #000000;\n",
       "        }    #T_111cb282_9a3b_11ea_b7c5_c49dedb01420row24_col15 {\n",
       "            background-color:  #4c66d6;\n",
       "            color:  #000000;\n",
       "        }    #T_111cb282_9a3b_11ea_b7c5_c49dedb01420row24_col16 {\n",
       "            background-color:  #485fd1;\n",
       "            color:  #f1f1f1;\n",
       "        }    #T_111cb282_9a3b_11ea_b7c5_c49dedb01420row24_col17 {\n",
       "            background-color:  #4e68d8;\n",
       "            color:  #000000;\n",
       "        }    #T_111cb282_9a3b_11ea_b7c5_c49dedb01420row24_col18 {\n",
       "            background-color:  #4f69d9;\n",
       "            color:  #000000;\n",
       "        }    #T_111cb282_9a3b_11ea_b7c5_c49dedb01420row24_col19 {\n",
       "            background-color:  #4f69d9;\n",
       "            color:  #000000;\n",
       "        }    #T_111cb282_9a3b_11ea_b7c5_c49dedb01420row24_col20 {\n",
       "            background-color:  #4c66d6;\n",
       "            color:  #000000;\n",
       "        }    #T_111cb282_9a3b_11ea_b7c5_c49dedb01420row24_col21 {\n",
       "            background-color:  #b6cefa;\n",
       "            color:  #000000;\n",
       "        }    #T_111cb282_9a3b_11ea_b7c5_c49dedb01420row24_col22 {\n",
       "            background-color:  #e0dbd8;\n",
       "            color:  #000000;\n",
       "        }    #T_111cb282_9a3b_11ea_b7c5_c49dedb01420row24_col23 {\n",
       "            background-color:  #4e68d8;\n",
       "            color:  #000000;\n",
       "        }    #T_111cb282_9a3b_11ea_b7c5_c49dedb01420row24_col24 {\n",
       "            background-color:  #b40426;\n",
       "            color:  #f1f1f1;\n",
       "        }    #T_111cb282_9a3b_11ea_b7c5_c49dedb01420row24_col25 {\n",
       "            background-color:  #88abfd;\n",
       "            color:  #000000;\n",
       "        }    #T_111cb282_9a3b_11ea_b7c5_c49dedb01420row24_col26 {\n",
       "            background-color:  #5875e1;\n",
       "            color:  #000000;\n",
       "        }    #T_111cb282_9a3b_11ea_b7c5_c49dedb01420row24_col27 {\n",
       "            background-color:  #d3dbe7;\n",
       "            color:  #000000;\n",
       "        }    #T_111cb282_9a3b_11ea_b7c5_c49dedb01420row24_col28 {\n",
       "            background-color:  #6282ea;\n",
       "            color:  #000000;\n",
       "        }    #T_111cb282_9a3b_11ea_b7c5_c49dedb01420row25_col0 {\n",
       "            background-color:  #cbd8ee;\n",
       "            color:  #000000;\n",
       "        }    #T_111cb282_9a3b_11ea_b7c5_c49dedb01420row25_col1 {\n",
       "            background-color:  #96b7ff;\n",
       "            color:  #000000;\n",
       "        }    #T_111cb282_9a3b_11ea_b7c5_c49dedb01420row25_col2 {\n",
       "            background-color:  #a9c6fd;\n",
       "            color:  #000000;\n",
       "        }    #T_111cb282_9a3b_11ea_b7c5_c49dedb01420row25_col3 {\n",
       "            background-color:  #6485ec;\n",
       "            color:  #000000;\n",
       "        }    #T_111cb282_9a3b_11ea_b7c5_c49dedb01420row25_col4 {\n",
       "            background-color:  #6e90f2;\n",
       "            color:  #000000;\n",
       "        }    #T_111cb282_9a3b_11ea_b7c5_c49dedb01420row25_col5 {\n",
       "            background-color:  #6a8bef;\n",
       "            color:  #000000;\n",
       "        }    #T_111cb282_9a3b_11ea_b7c5_c49dedb01420row25_col6 {\n",
       "            background-color:  #688aef;\n",
       "            color:  #000000;\n",
       "        }    #T_111cb282_9a3b_11ea_b7c5_c49dedb01420row25_col7 {\n",
       "            background-color:  #6a8bef;\n",
       "            color:  #000000;\n",
       "        }    #T_111cb282_9a3b_11ea_b7c5_c49dedb01420row25_col8 {\n",
       "            background-color:  #6b8df0;\n",
       "            color:  #000000;\n",
       "        }    #T_111cb282_9a3b_11ea_b7c5_c49dedb01420row25_col9 {\n",
       "            background-color:  #c43032;\n",
       "            color:  #f1f1f1;\n",
       "        }    #T_111cb282_9a3b_11ea_b7c5_c49dedb01420row25_col10 {\n",
       "            background-color:  #be242e;\n",
       "            color:  #f1f1f1;\n",
       "        }    #T_111cb282_9a3b_11ea_b7c5_c49dedb01420row25_col11 {\n",
       "            background-color:  #be242e;\n",
       "            color:  #f1f1f1;\n",
       "        }    #T_111cb282_9a3b_11ea_b7c5_c49dedb01420row25_col12 {\n",
       "            background-color:  #bd1f2d;\n",
       "            color:  #f1f1f1;\n",
       "        }    #T_111cb282_9a3b_11ea_b7c5_c49dedb01420row25_col13 {\n",
       "            background-color:  #c12b30;\n",
       "            color:  #f1f1f1;\n",
       "        }    #T_111cb282_9a3b_11ea_b7c5_c49dedb01420row25_col14 {\n",
       "            background-color:  #c73635;\n",
       "            color:  #f1f1f1;\n",
       "        }    #T_111cb282_9a3b_11ea_b7c5_c49dedb01420row25_col15 {\n",
       "            background-color:  #a7c5fe;\n",
       "            color:  #000000;\n",
       "        }    #T_111cb282_9a3b_11ea_b7c5_c49dedb01420row25_col16 {\n",
       "            background-color:  #93b5fe;\n",
       "            color:  #000000;\n",
       "        }    #T_111cb282_9a3b_11ea_b7c5_c49dedb01420row25_col17 {\n",
       "            background-color:  #9fbfff;\n",
       "            color:  #000000;\n",
       "        }    #T_111cb282_9a3b_11ea_b7c5_c49dedb01420row25_col18 {\n",
       "            background-color:  #9abbff;\n",
       "            color:  #000000;\n",
       "        }    #T_111cb282_9a3b_11ea_b7c5_c49dedb01420row25_col19 {\n",
       "            background-color:  #9abbff;\n",
       "            color:  #000000;\n",
       "        }    #T_111cb282_9a3b_11ea_b7c5_c49dedb01420row25_col20 {\n",
       "            background-color:  #92b4fe;\n",
       "            color:  #000000;\n",
       "        }    #T_111cb282_9a3b_11ea_b7c5_c49dedb01420row25_col21 {\n",
       "            background-color:  #3b4cc0;\n",
       "            color:  #f1f1f1;\n",
       "        }    #T_111cb282_9a3b_11ea_b7c5_c49dedb01420row25_col22 {\n",
       "            background-color:  #7a9df8;\n",
       "            color:  #000000;\n",
       "        }    #T_111cb282_9a3b_11ea_b7c5_c49dedb01420row25_col23 {\n",
       "            background-color:  #4961d2;\n",
       "            color:  #f1f1f1;\n",
       "        }    #T_111cb282_9a3b_11ea_b7c5_c49dedb01420row25_col24 {\n",
       "            background-color:  #6180e9;\n",
       "            color:  #000000;\n",
       "        }    #T_111cb282_9a3b_11ea_b7c5_c49dedb01420row25_col25 {\n",
       "            background-color:  #b40426;\n",
       "            color:  #f1f1f1;\n",
       "        }    #T_111cb282_9a3b_11ea_b7c5_c49dedb01420row25_col26 {\n",
       "            background-color:  #d3dbe7;\n",
       "            color:  #000000;\n",
       "        }    #T_111cb282_9a3b_11ea_b7c5_c49dedb01420row25_col27 {\n",
       "            background-color:  #7295f4;\n",
       "            color:  #000000;\n",
       "        }    #T_111cb282_9a3b_11ea_b7c5_c49dedb01420row25_col28 {\n",
       "            background-color:  #6b8df0;\n",
       "            color:  #000000;\n",
       "        }    #T_111cb282_9a3b_11ea_b7c5_c49dedb01420row26_col0 {\n",
       "            background-color:  #d7dce3;\n",
       "            color:  #000000;\n",
       "        }    #T_111cb282_9a3b_11ea_b7c5_c49dedb01420row26_col1 {\n",
       "            background-color:  #98b9ff;\n",
       "            color:  #000000;\n",
       "        }    #T_111cb282_9a3b_11ea_b7c5_c49dedb01420row26_col2 {\n",
       "            background-color:  #a6c4fe;\n",
       "            color:  #000000;\n",
       "        }    #T_111cb282_9a3b_11ea_b7c5_c49dedb01420row26_col3 {\n",
       "            background-color:  #4961d2;\n",
       "            color:  #f1f1f1;\n",
       "        }    #T_111cb282_9a3b_11ea_b7c5_c49dedb01420row26_col4 {\n",
       "            background-color:  #506bda;\n",
       "            color:  #000000;\n",
       "        }    #T_111cb282_9a3b_11ea_b7c5_c49dedb01420row26_col5 {\n",
       "            background-color:  #506bda;\n",
       "            color:  #000000;\n",
       "        }    #T_111cb282_9a3b_11ea_b7c5_c49dedb01420row26_col6 {\n",
       "            background-color:  #506bda;\n",
       "            color:  #000000;\n",
       "        }    #T_111cb282_9a3b_11ea_b7c5_c49dedb01420row26_col7 {\n",
       "            background-color:  #506bda;\n",
       "            color:  #000000;\n",
       "        }    #T_111cb282_9a3b_11ea_b7c5_c49dedb01420row26_col8 {\n",
       "            background-color:  #516ddb;\n",
       "            color:  #000000;\n",
       "        }    #T_111cb282_9a3b_11ea_b7c5_c49dedb01420row26_col9 {\n",
       "            background-color:  #c7d7f0;\n",
       "            color:  #000000;\n",
       "        }    #T_111cb282_9a3b_11ea_b7c5_c49dedb01420row26_col10 {\n",
       "            background-color:  #d1dae9;\n",
       "            color:  #000000;\n",
       "        }    #T_111cb282_9a3b_11ea_b7c5_c49dedb01420row26_col11 {\n",
       "            background-color:  #e0dbd8;\n",
       "            color:  #000000;\n",
       "        }    #T_111cb282_9a3b_11ea_b7c5_c49dedb01420row26_col12 {\n",
       "            background-color:  #dfdbd9;\n",
       "            color:  #000000;\n",
       "        }    #T_111cb282_9a3b_11ea_b7c5_c49dedb01420row26_col13 {\n",
       "            background-color:  #e0dbd8;\n",
       "            color:  #000000;\n",
       "        }    #T_111cb282_9a3b_11ea_b7c5_c49dedb01420row26_col14 {\n",
       "            background-color:  #e0dbd8;\n",
       "            color:  #000000;\n",
       "        }    #T_111cb282_9a3b_11ea_b7c5_c49dedb01420row26_col15 {\n",
       "            background-color:  #f6bea4;\n",
       "            color:  #000000;\n",
       "        }    #T_111cb282_9a3b_11ea_b7c5_c49dedb01420row26_col16 {\n",
       "            background-color:  #f7ad90;\n",
       "            color:  #000000;\n",
       "        }    #T_111cb282_9a3b_11ea_b7c5_c49dedb01420row26_col17 {\n",
       "            background-color:  #f6bfa6;\n",
       "            color:  #000000;\n",
       "        }    #T_111cb282_9a3b_11ea_b7c5_c49dedb01420row26_col18 {\n",
       "            background-color:  #efcebd;\n",
       "            color:  #000000;\n",
       "        }    #T_111cb282_9a3b_11ea_b7c5_c49dedb01420row26_col19 {\n",
       "            background-color:  #e9d5cb;\n",
       "            color:  #000000;\n",
       "        }    #T_111cb282_9a3b_11ea_b7c5_c49dedb01420row26_col20 {\n",
       "            background-color:  #efcfbf;\n",
       "            color:  #000000;\n",
       "        }    #T_111cb282_9a3b_11ea_b7c5_c49dedb01420row26_col21 {\n",
       "            background-color:  #536edd;\n",
       "            color:  #000000;\n",
       "        }    #T_111cb282_9a3b_11ea_b7c5_c49dedb01420row26_col22 {\n",
       "            background-color:  #5572df;\n",
       "            color:  #000000;\n",
       "        }    #T_111cb282_9a3b_11ea_b7c5_c49dedb01420row26_col23 {\n",
       "            background-color:  #4358cb;\n",
       "            color:  #f1f1f1;\n",
       "        }    #T_111cb282_9a3b_11ea_b7c5_c49dedb01420row26_col24 {\n",
       "            background-color:  #485fd1;\n",
       "            color:  #f1f1f1;\n",
       "        }    #T_111cb282_9a3b_11ea_b7c5_c49dedb01420row26_col25 {\n",
       "            background-color:  #dedcdb;\n",
       "            color:  #000000;\n",
       "        }    #T_111cb282_9a3b_11ea_b7c5_c49dedb01420row26_col26 {\n",
       "            background-color:  #b40426;\n",
       "            color:  #f1f1f1;\n",
       "        }    #T_111cb282_9a3b_11ea_b7c5_c49dedb01420row26_col27 {\n",
       "            background-color:  #536edd;\n",
       "            color:  #000000;\n",
       "        }    #T_111cb282_9a3b_11ea_b7c5_c49dedb01420row26_col28 {\n",
       "            background-color:  #80a3fa;\n",
       "            color:  #000000;\n",
       "        }    #T_111cb282_9a3b_11ea_b7c5_c49dedb01420row27_col0 {\n",
       "            background-color:  #4257c9;\n",
       "            color:  #f1f1f1;\n",
       "        }    #T_111cb282_9a3b_11ea_b7c5_c49dedb01420row27_col1 {\n",
       "            background-color:  #9bbcff;\n",
       "            color:  #000000;\n",
       "        }    #T_111cb282_9a3b_11ea_b7c5_c49dedb01420row27_col2 {\n",
       "            background-color:  #98b9ff;\n",
       "            color:  #000000;\n",
       "        }    #T_111cb282_9a3b_11ea_b7c5_c49dedb01420row27_col3 {\n",
       "            background-color:  #e36c55;\n",
       "            color:  #000000;\n",
       "        }    #T_111cb282_9a3b_11ea_b7c5_c49dedb01420row27_col4 {\n",
       "            background-color:  #d85646;\n",
       "            color:  #000000;\n",
       "        }    #T_111cb282_9a3b_11ea_b7c5_c49dedb01420row27_col5 {\n",
       "            background-color:  #d85646;\n",
       "            color:  #000000;\n",
       "        }    #T_111cb282_9a3b_11ea_b7c5_c49dedb01420row27_col6 {\n",
       "            background-color:  #da5a49;\n",
       "            color:  #000000;\n",
       "        }    #T_111cb282_9a3b_11ea_b7c5_c49dedb01420row27_col7 {\n",
       "            background-color:  #e16751;\n",
       "            color:  #000000;\n",
       "        }    #T_111cb282_9a3b_11ea_b7c5_c49dedb01420row27_col8 {\n",
       "            background-color:  #ee8669;\n",
       "            color:  #000000;\n",
       "        }    #T_111cb282_9a3b_11ea_b7c5_c49dedb01420row27_col9 {\n",
       "            background-color:  #7da0f9;\n",
       "            color:  #000000;\n",
       "        }    #T_111cb282_9a3b_11ea_b7c5_c49dedb01420row27_col10 {\n",
       "            background-color:  #84a7fc;\n",
       "            color:  #000000;\n",
       "        }    #T_111cb282_9a3b_11ea_b7c5_c49dedb01420row27_col11 {\n",
       "            background-color:  #88abfd;\n",
       "            color:  #000000;\n",
       "        }    #T_111cb282_9a3b_11ea_b7c5_c49dedb01420row27_col12 {\n",
       "            background-color:  #8caffe;\n",
       "            color:  #000000;\n",
       "        }    #T_111cb282_9a3b_11ea_b7c5_c49dedb01420row27_col13 {\n",
       "            background-color:  #90b2fe;\n",
       "            color:  #000000;\n",
       "        }    #T_111cb282_9a3b_11ea_b7c5_c49dedb01420row27_col14 {\n",
       "            background-color:  #90b2fe;\n",
       "            color:  #000000;\n",
       "        }    #T_111cb282_9a3b_11ea_b7c5_c49dedb01420row27_col15 {\n",
       "            background-color:  #4c66d6;\n",
       "            color:  #000000;\n",
       "        }    #T_111cb282_9a3b_11ea_b7c5_c49dedb01420row27_col16 {\n",
       "            background-color:  #485fd1;\n",
       "            color:  #f1f1f1;\n",
       "        }    #T_111cb282_9a3b_11ea_b7c5_c49dedb01420row27_col17 {\n",
       "            background-color:  #4b64d5;\n",
       "            color:  #f1f1f1;\n",
       "        }    #T_111cb282_9a3b_11ea_b7c5_c49dedb01420row27_col18 {\n",
       "            background-color:  #4c66d6;\n",
       "            color:  #000000;\n",
       "        }    #T_111cb282_9a3b_11ea_b7c5_c49dedb01420row27_col19 {\n",
       "            background-color:  #4c66d6;\n",
       "            color:  #000000;\n",
       "        }    #T_111cb282_9a3b_11ea_b7c5_c49dedb01420row27_col20 {\n",
       "            background-color:  #4b64d5;\n",
       "            color:  #f1f1f1;\n",
       "        }    #T_111cb282_9a3b_11ea_b7c5_c49dedb01420row27_col21 {\n",
       "            background-color:  #cedaeb;\n",
       "            color:  #000000;\n",
       "        }    #T_111cb282_9a3b_11ea_b7c5_c49dedb01420row27_col22 {\n",
       "            background-color:  #d75445;\n",
       "            color:  #000000;\n",
       "        }    #T_111cb282_9a3b_11ea_b7c5_c49dedb01420row27_col23 {\n",
       "            background-color:  #506bda;\n",
       "            color:  #000000;\n",
       "        }    #T_111cb282_9a3b_11ea_b7c5_c49dedb01420row27_col24 {\n",
       "            background-color:  #cbd8ee;\n",
       "            color:  #000000;\n",
       "        }    #T_111cb282_9a3b_11ea_b7c5_c49dedb01420row27_col25 {\n",
       "            background-color:  #8caffe;\n",
       "            color:  #000000;\n",
       "        }    #T_111cb282_9a3b_11ea_b7c5_c49dedb01420row27_col26 {\n",
       "            background-color:  #5673e0;\n",
       "            color:  #000000;\n",
       "        }    #T_111cb282_9a3b_11ea_b7c5_c49dedb01420row27_col27 {\n",
       "            background-color:  #b40426;\n",
       "            color:  #f1f1f1;\n",
       "        }    #T_111cb282_9a3b_11ea_b7c5_c49dedb01420row27_col28 {\n",
       "            background-color:  #5b7ae5;\n",
       "            color:  #000000;\n",
       "        }    #T_111cb282_9a3b_11ea_b7c5_c49dedb01420row28_col0 {\n",
       "            background-color:  #b9d0f9;\n",
       "            color:  #000000;\n",
       "        }    #T_111cb282_9a3b_11ea_b7c5_c49dedb01420row28_col1 {\n",
       "            background-color:  #bfd3f6;\n",
       "            color:  #000000;\n",
       "        }    #T_111cb282_9a3b_11ea_b7c5_c49dedb01420row28_col2 {\n",
       "            background-color:  #6e90f2;\n",
       "            color:  #000000;\n",
       "        }    #T_111cb282_9a3b_11ea_b7c5_c49dedb01420row28_col3 {\n",
       "            background-color:  #5875e1;\n",
       "            color:  #000000;\n",
       "        }    #T_111cb282_9a3b_11ea_b7c5_c49dedb01420row28_col4 {\n",
       "            background-color:  #5b7ae5;\n",
       "            color:  #000000;\n",
       "        }    #T_111cb282_9a3b_11ea_b7c5_c49dedb01420row28_col5 {\n",
       "            background-color:  #5d7ce6;\n",
       "            color:  #000000;\n",
       "        }    #T_111cb282_9a3b_11ea_b7c5_c49dedb01420row28_col6 {\n",
       "            background-color:  #5b7ae5;\n",
       "            color:  #000000;\n",
       "        }    #T_111cb282_9a3b_11ea_b7c5_c49dedb01420row28_col7 {\n",
       "            background-color:  #5d7ce6;\n",
       "            color:  #000000;\n",
       "        }    #T_111cb282_9a3b_11ea_b7c5_c49dedb01420row28_col8 {\n",
       "            background-color:  #5f7fe8;\n",
       "            color:  #000000;\n",
       "        }    #T_111cb282_9a3b_11ea_b7c5_c49dedb01420row28_col9 {\n",
       "            background-color:  #7ea1fa;\n",
       "            color:  #000000;\n",
       "        }    #T_111cb282_9a3b_11ea_b7c5_c49dedb01420row28_col10 {\n",
       "            background-color:  #84a7fc;\n",
       "            color:  #000000;\n",
       "        }    #T_111cb282_9a3b_11ea_b7c5_c49dedb01420row28_col11 {\n",
       "            background-color:  #86a9fc;\n",
       "            color:  #000000;\n",
       "        }    #T_111cb282_9a3b_11ea_b7c5_c49dedb01420row28_col12 {\n",
       "            background-color:  #8badfd;\n",
       "            color:  #000000;\n",
       "        }    #T_111cb282_9a3b_11ea_b7c5_c49dedb01420row28_col13 {\n",
       "            background-color:  #8caffe;\n",
       "            color:  #000000;\n",
       "        }    #T_111cb282_9a3b_11ea_b7c5_c49dedb01420row28_col14 {\n",
       "            background-color:  #8caffe;\n",
       "            color:  #000000;\n",
       "        }    #T_111cb282_9a3b_11ea_b7c5_c49dedb01420row28_col15 {\n",
       "            background-color:  #6c8ff1;\n",
       "            color:  #000000;\n",
       "        }    #T_111cb282_9a3b_11ea_b7c5_c49dedb01420row28_col16 {\n",
       "            background-color:  #6282ea;\n",
       "            color:  #000000;\n",
       "        }    #T_111cb282_9a3b_11ea_b7c5_c49dedb01420row28_col17 {\n",
       "            background-color:  #6b8df0;\n",
       "            color:  #000000;\n",
       "        }    #T_111cb282_9a3b_11ea_b7c5_c49dedb01420row28_col18 {\n",
       "            background-color:  #6b8df0;\n",
       "            color:  #000000;\n",
       "        }    #T_111cb282_9a3b_11ea_b7c5_c49dedb01420row28_col19 {\n",
       "            background-color:  #6c8ff1;\n",
       "            color:  #000000;\n",
       "        }    #T_111cb282_9a3b_11ea_b7c5_c49dedb01420row28_col20 {\n",
       "            background-color:  #688aef;\n",
       "            color:  #000000;\n",
       "        }    #T_111cb282_9a3b_11ea_b7c5_c49dedb01420row28_col21 {\n",
       "            background-color:  #94b6ff;\n",
       "            color:  #000000;\n",
       "        }    #T_111cb282_9a3b_11ea_b7c5_c49dedb01420row28_col22 {\n",
       "            background-color:  #688aef;\n",
       "            color:  #000000;\n",
       "        }    #T_111cb282_9a3b_11ea_b7c5_c49dedb01420row28_col23 {\n",
       "            background-color:  #455cce;\n",
       "            color:  #f1f1f1;\n",
       "        }    #T_111cb282_9a3b_11ea_b7c5_c49dedb01420row28_col24 {\n",
       "            background-color:  #5a78e4;\n",
       "            color:  #000000;\n",
       "        }    #T_111cb282_9a3b_11ea_b7c5_c49dedb01420row28_col25 {\n",
       "            background-color:  #8badfd;\n",
       "            color:  #000000;\n",
       "        }    #T_111cb282_9a3b_11ea_b7c5_c49dedb01420row28_col26 {\n",
       "            background-color:  #89acfd;\n",
       "            color:  #000000;\n",
       "        }    #T_111cb282_9a3b_11ea_b7c5_c49dedb01420row28_col27 {\n",
       "            background-color:  #6282ea;\n",
       "            color:  #000000;\n",
       "        }    #T_111cb282_9a3b_11ea_b7c5_c49dedb01420row28_col28 {\n",
       "            background-color:  #b40426;\n",
       "            color:  #f1f1f1;\n",
       "        }</style><table id=\"T_111cb282_9a3b_11ea_b7c5_c49dedb01420\" ><thead>    <tr>        <th class=\"blank level0\" ></th>        <th class=\"col_heading level0 col0\" >LIMIT_BAL</th>        <th class=\"col_heading level0 col1\" >MARRIAGE</th>        <th class=\"col_heading level0 col2\" >AGE</th>        <th class=\"col_heading level0 col3\" >PAY_0</th>        <th class=\"col_heading level0 col4\" >PAY_2</th>        <th class=\"col_heading level0 col5\" >PAY_3</th>        <th class=\"col_heading level0 col6\" >PAY_4</th>        <th class=\"col_heading level0 col7\" >PAY_5</th>        <th class=\"col_heading level0 col8\" >PAY_6</th>        <th class=\"col_heading level0 col9\" >BILL_AMT1</th>        <th class=\"col_heading level0 col10\" >BILL_AMT2</th>        <th class=\"col_heading level0 col11\" >BILL_AMT3</th>        <th class=\"col_heading level0 col12\" >BILL_AMT4</th>        <th class=\"col_heading level0 col13\" >BILL_AMT5</th>        <th class=\"col_heading level0 col14\" >BILL_AMT6</th>        <th class=\"col_heading level0 col15\" >PAY_AMT1</th>        <th class=\"col_heading level0 col16\" >PAY_AMT2</th>        <th class=\"col_heading level0 col17\" >PAY_AMT3</th>        <th class=\"col_heading level0 col18\" >PAY_AMT4</th>        <th class=\"col_heading level0 col19\" >PAY_AMT5</th>        <th class=\"col_heading level0 col20\" >PAY_AMT6</th>        <th class=\"col_heading level0 col21\" >zero_PAYMENT</th>        <th class=\"col_heading level0 col22\" >PAY_pcount</th>        <th class=\"col_heading level0 col23\" >male</th>        <th class=\"col_heading level0 col24\" >default</th>        <th class=\"col_heading level0 col25\" >AVE_BILL</th>        <th class=\"col_heading level0 col26\" >AVE_PAY_AMT</th>        <th class=\"col_heading level0 col27\" >PAY_STATUS</th>        <th class=\"col_heading level0 col28\" >EDU</th>    </tr></thead><tbody>\n",
       "                <tr>\n",
       "                        <th id=\"T_111cb282_9a3b_11ea_b7c5_c49dedb01420level0_row0\" class=\"row_heading level0 row0\" >LIMIT_BAL</th>\n",
       "                        <td id=\"T_111cb282_9a3b_11ea_b7c5_c49dedb01420row0_col0\" class=\"data row0 col0\" >1.00</td>\n",
       "                        <td id=\"T_111cb282_9a3b_11ea_b7c5_c49dedb01420row0_col1\" class=\"data row0 col1\" >-0.11</td>\n",
       "                        <td id=\"T_111cb282_9a3b_11ea_b7c5_c49dedb01420row0_col2\" class=\"data row0 col2\" >0.14</td>\n",
       "                        <td id=\"T_111cb282_9a3b_11ea_b7c5_c49dedb01420row0_col3\" class=\"data row0 col3\" >-0.16</td>\n",
       "                        <td id=\"T_111cb282_9a3b_11ea_b7c5_c49dedb01420row0_col4\" class=\"data row0 col4\" >-0.19</td>\n",
       "                        <td id=\"T_111cb282_9a3b_11ea_b7c5_c49dedb01420row0_col5\" class=\"data row0 col5\" >-0.18</td>\n",
       "                        <td id=\"T_111cb282_9a3b_11ea_b7c5_c49dedb01420row0_col6\" class=\"data row0 col6\" >-0.17</td>\n",
       "                        <td id=\"T_111cb282_9a3b_11ea_b7c5_c49dedb01420row0_col7\" class=\"data row0 col7\" >-0.17</td>\n",
       "                        <td id=\"T_111cb282_9a3b_11ea_b7c5_c49dedb01420row0_col8\" class=\"data row0 col8\" >-0.17</td>\n",
       "                        <td id=\"T_111cb282_9a3b_11ea_b7c5_c49dedb01420row0_col9\" class=\"data row0 col9\" >0.29</td>\n",
       "                        <td id=\"T_111cb282_9a3b_11ea_b7c5_c49dedb01420row0_col10\" class=\"data row0 col10\" >0.28</td>\n",
       "                        <td id=\"T_111cb282_9a3b_11ea_b7c5_c49dedb01420row0_col11\" class=\"data row0 col11\" >0.28</td>\n",
       "                        <td id=\"T_111cb282_9a3b_11ea_b7c5_c49dedb01420row0_col12\" class=\"data row0 col12\" >0.29</td>\n",
       "                        <td id=\"T_111cb282_9a3b_11ea_b7c5_c49dedb01420row0_col13\" class=\"data row0 col13\" >0.30</td>\n",
       "                        <td id=\"T_111cb282_9a3b_11ea_b7c5_c49dedb01420row0_col14\" class=\"data row0 col14\" >0.29</td>\n",
       "                        <td id=\"T_111cb282_9a3b_11ea_b7c5_c49dedb01420row0_col15\" class=\"data row0 col15\" >0.20</td>\n",
       "                        <td id=\"T_111cb282_9a3b_11ea_b7c5_c49dedb01420row0_col16\" class=\"data row0 col16\" >0.18</td>\n",
       "                        <td id=\"T_111cb282_9a3b_11ea_b7c5_c49dedb01420row0_col17\" class=\"data row0 col17\" >0.21</td>\n",
       "                        <td id=\"T_111cb282_9a3b_11ea_b7c5_c49dedb01420row0_col18\" class=\"data row0 col18\" >0.20</td>\n",
       "                        <td id=\"T_111cb282_9a3b_11ea_b7c5_c49dedb01420row0_col19\" class=\"data row0 col19\" >0.22</td>\n",
       "                        <td id=\"T_111cb282_9a3b_11ea_b7c5_c49dedb01420row0_col20\" class=\"data row0 col20\" >0.22</td>\n",
       "                        <td id=\"T_111cb282_9a3b_11ea_b7c5_c49dedb01420row0_col21\" class=\"data row0 col21\" >-0.07</td>\n",
       "                        <td id=\"T_111cb282_9a3b_11ea_b7c5_c49dedb01420row0_col22\" class=\"data row0 col22\" >-0.24</td>\n",
       "                        <td id=\"T_111cb282_9a3b_11ea_b7c5_c49dedb01420row0_col23\" class=\"data row0 col23\" >-0.02</td>\n",
       "                        <td id=\"T_111cb282_9a3b_11ea_b7c5_c49dedb01420row0_col24\" class=\"data row0 col24\" >-0.15</td>\n",
       "                        <td id=\"T_111cb282_9a3b_11ea_b7c5_c49dedb01420row0_col25\" class=\"data row0 col25\" >0.30</td>\n",
       "                        <td id=\"T_111cb282_9a3b_11ea_b7c5_c49dedb01420row0_col26\" class=\"data row0 col26\" >0.35</td>\n",
       "                        <td id=\"T_111cb282_9a3b_11ea_b7c5_c49dedb01420row0_col27\" class=\"data row0 col27\" >-0.21</td>\n",
       "                        <td id=\"T_111cb282_9a3b_11ea_b7c5_c49dedb01420row0_col28\" class=\"data row0 col28\" >0.23</td>\n",
       "            </tr>\n",
       "            <tr>\n",
       "                        <th id=\"T_111cb282_9a3b_11ea_b7c5_c49dedb01420level0_row1\" class=\"row_heading level0 row1\" >MARRIAGE</th>\n",
       "                        <td id=\"T_111cb282_9a3b_11ea_b7c5_c49dedb01420row1_col0\" class=\"data row1 col0\" >-0.11</td>\n",
       "                        <td id=\"T_111cb282_9a3b_11ea_b7c5_c49dedb01420row1_col1\" class=\"data row1 col1\" >1.00</td>\n",
       "                        <td id=\"T_111cb282_9a3b_11ea_b7c5_c49dedb01420row1_col2\" class=\"data row1 col2\" >-0.41</td>\n",
       "                        <td id=\"T_111cb282_9a3b_11ea_b7c5_c49dedb01420row1_col3\" class=\"data row1 col3\" >-0.01</td>\n",
       "                        <td id=\"T_111cb282_9a3b_11ea_b7c5_c49dedb01420row1_col4\" class=\"data row1 col4\" >-0.01</td>\n",
       "                        <td id=\"T_111cb282_9a3b_11ea_b7c5_c49dedb01420row1_col5\" class=\"data row1 col5\" >0.00</td>\n",
       "                        <td id=\"T_111cb282_9a3b_11ea_b7c5_c49dedb01420row1_col6\" class=\"data row1 col6\" >-0.00</td>\n",
       "                        <td id=\"T_111cb282_9a3b_11ea_b7c5_c49dedb01420row1_col7\" class=\"data row1 col7\" >-0.00</td>\n",
       "                        <td id=\"T_111cb282_9a3b_11ea_b7c5_c49dedb01420row1_col8\" class=\"data row1 col8\" >0.00</td>\n",
       "                        <td id=\"T_111cb282_9a3b_11ea_b7c5_c49dedb01420row1_col9\" class=\"data row1 col9\" >-0.02</td>\n",
       "                        <td id=\"T_111cb282_9a3b_11ea_b7c5_c49dedb01420row1_col10\" class=\"data row1 col10\" >-0.02</td>\n",
       "                        <td id=\"T_111cb282_9a3b_11ea_b7c5_c49dedb01420row1_col11\" class=\"data row1 col11\" >-0.02</td>\n",
       "                        <td id=\"T_111cb282_9a3b_11ea_b7c5_c49dedb01420row1_col12\" class=\"data row1 col12\" >-0.02</td>\n",
       "                        <td id=\"T_111cb282_9a3b_11ea_b7c5_c49dedb01420row1_col13\" class=\"data row1 col13\" >-0.03</td>\n",
       "                        <td id=\"T_111cb282_9a3b_11ea_b7c5_c49dedb01420row1_col14\" class=\"data row1 col14\" >-0.02</td>\n",
       "                        <td id=\"T_111cb282_9a3b_11ea_b7c5_c49dedb01420row1_col15\" class=\"data row1 col15\" >-0.01</td>\n",
       "                        <td id=\"T_111cb282_9a3b_11ea_b7c5_c49dedb01420row1_col16\" class=\"data row1 col16\" >-0.01</td>\n",
       "                        <td id=\"T_111cb282_9a3b_11ea_b7c5_c49dedb01420row1_col17\" class=\"data row1 col17\" >-0.00</td>\n",
       "                        <td id=\"T_111cb282_9a3b_11ea_b7c5_c49dedb01420row1_col18\" class=\"data row1 col18\" >-0.01</td>\n",
       "                        <td id=\"T_111cb282_9a3b_11ea_b7c5_c49dedb01420row1_col19\" class=\"data row1 col19\" >-0.00</td>\n",
       "                        <td id=\"T_111cb282_9a3b_11ea_b7c5_c49dedb01420row1_col20\" class=\"data row1 col20\" >-0.01</td>\n",
       "                        <td id=\"T_111cb282_9a3b_11ea_b7c5_c49dedb01420row1_col21\" class=\"data row1 col21\" >-0.02</td>\n",
       "                        <td id=\"T_111cb282_9a3b_11ea_b7c5_c49dedb01420row1_col22\" class=\"data row1 col22\" >-0.01</td>\n",
       "                        <td id=\"T_111cb282_9a3b_11ea_b7c5_c49dedb01420row1_col23\" class=\"data row1 col23\" >0.03</td>\n",
       "                        <td id=\"T_111cb282_9a3b_11ea_b7c5_c49dedb01420row1_col24\" class=\"data row1 col24\" >-0.02</td>\n",
       "                        <td id=\"T_111cb282_9a3b_11ea_b7c5_c49dedb01420row1_col25\" class=\"data row1 col25\" >-0.02</td>\n",
       "                        <td id=\"T_111cb282_9a3b_11ea_b7c5_c49dedb01420row1_col26\" class=\"data row1 col26\" >-0.01</td>\n",
       "                        <td id=\"T_111cb282_9a3b_11ea_b7c5_c49dedb01420row1_col27\" class=\"data row1 col27\" >-0.00</td>\n",
       "                        <td id=\"T_111cb282_9a3b_11ea_b7c5_c49dedb01420row1_col28\" class=\"data row1 col28\" >0.15</td>\n",
       "            </tr>\n",
       "            <tr>\n",
       "                        <th id=\"T_111cb282_9a3b_11ea_b7c5_c49dedb01420level0_row2\" class=\"row_heading level0 row2\" >AGE</th>\n",
       "                        <td id=\"T_111cb282_9a3b_11ea_b7c5_c49dedb01420row2_col0\" class=\"data row2 col0\" >0.14</td>\n",
       "                        <td id=\"T_111cb282_9a3b_11ea_b7c5_c49dedb01420row2_col1\" class=\"data row2 col1\" >-0.41</td>\n",
       "                        <td id=\"T_111cb282_9a3b_11ea_b7c5_c49dedb01420row2_col2\" class=\"data row2 col2\" >1.00</td>\n",
       "                        <td id=\"T_111cb282_9a3b_11ea_b7c5_c49dedb01420row2_col3\" class=\"data row2 col3\" >-0.00</td>\n",
       "                        <td id=\"T_111cb282_9a3b_11ea_b7c5_c49dedb01420row2_col4\" class=\"data row2 col4\" >-0.01</td>\n",
       "                        <td id=\"T_111cb282_9a3b_11ea_b7c5_c49dedb01420row2_col5\" class=\"data row2 col5\" >-0.01</td>\n",
       "                        <td id=\"T_111cb282_9a3b_11ea_b7c5_c49dedb01420row2_col6\" class=\"data row2 col6\" >-0.01</td>\n",
       "                        <td id=\"T_111cb282_9a3b_11ea_b7c5_c49dedb01420row2_col7\" class=\"data row2 col7\" >-0.01</td>\n",
       "                        <td id=\"T_111cb282_9a3b_11ea_b7c5_c49dedb01420row2_col8\" class=\"data row2 col8\" >-0.02</td>\n",
       "                        <td id=\"T_111cb282_9a3b_11ea_b7c5_c49dedb01420row2_col9\" class=\"data row2 col9\" >0.06</td>\n",
       "                        <td id=\"T_111cb282_9a3b_11ea_b7c5_c49dedb01420row2_col10\" class=\"data row2 col10\" >0.05</td>\n",
       "                        <td id=\"T_111cb282_9a3b_11ea_b7c5_c49dedb01420row2_col11\" class=\"data row2 col11\" >0.05</td>\n",
       "                        <td id=\"T_111cb282_9a3b_11ea_b7c5_c49dedb01420row2_col12\" class=\"data row2 col12\" >0.05</td>\n",
       "                        <td id=\"T_111cb282_9a3b_11ea_b7c5_c49dedb01420row2_col13\" class=\"data row2 col13\" >0.05</td>\n",
       "                        <td id=\"T_111cb282_9a3b_11ea_b7c5_c49dedb01420row2_col14\" class=\"data row2 col14\" >0.05</td>\n",
       "                        <td id=\"T_111cb282_9a3b_11ea_b7c5_c49dedb01420row2_col15\" class=\"data row2 col15\" >0.03</td>\n",
       "                        <td id=\"T_111cb282_9a3b_11ea_b7c5_c49dedb01420row2_col16\" class=\"data row2 col16\" >0.02</td>\n",
       "                        <td id=\"T_111cb282_9a3b_11ea_b7c5_c49dedb01420row2_col17\" class=\"data row2 col17\" >0.03</td>\n",
       "                        <td id=\"T_111cb282_9a3b_11ea_b7c5_c49dedb01420row2_col18\" class=\"data row2 col18\" >0.02</td>\n",
       "                        <td id=\"T_111cb282_9a3b_11ea_b7c5_c49dedb01420row2_col19\" class=\"data row2 col19\" >0.02</td>\n",
       "                        <td id=\"T_111cb282_9a3b_11ea_b7c5_c49dedb01420row2_col20\" class=\"data row2 col20\" >0.02</td>\n",
       "                        <td id=\"T_111cb282_9a3b_11ea_b7c5_c49dedb01420row2_col21\" class=\"data row2 col21\" >0.01</td>\n",
       "                        <td id=\"T_111cb282_9a3b_11ea_b7c5_c49dedb01420row2_col22\" class=\"data row2 col22\" >-0.02</td>\n",
       "                        <td id=\"T_111cb282_9a3b_11ea_b7c5_c49dedb01420row2_col23\" class=\"data row2 col23\" >0.09</td>\n",
       "                        <td id=\"T_111cb282_9a3b_11ea_b7c5_c49dedb01420row2_col24\" class=\"data row2 col24\" >0.01</td>\n",
       "                        <td id=\"T_111cb282_9a3b_11ea_b7c5_c49dedb01420row2_col25\" class=\"data row2 col25\" >0.05</td>\n",
       "                        <td id=\"T_111cb282_9a3b_11ea_b7c5_c49dedb01420row2_col26\" class=\"data row2 col26\" >0.04</td>\n",
       "                        <td id=\"T_111cb282_9a3b_11ea_b7c5_c49dedb01420row2_col27\" class=\"data row2 col27\" >-0.01</td>\n",
       "                        <td id=\"T_111cb282_9a3b_11ea_b7c5_c49dedb01420row2_col28\" class=\"data row2 col28\" >-0.18</td>\n",
       "            </tr>\n",
       "            <tr>\n",
       "                        <th id=\"T_111cb282_9a3b_11ea_b7c5_c49dedb01420level0_row3\" class=\"row_heading level0 row3\" >PAY_0</th>\n",
       "                        <td id=\"T_111cb282_9a3b_11ea_b7c5_c49dedb01420row3_col0\" class=\"data row3 col0\" >-0.16</td>\n",
       "                        <td id=\"T_111cb282_9a3b_11ea_b7c5_c49dedb01420row3_col1\" class=\"data row3 col1\" >-0.01</td>\n",
       "                        <td id=\"T_111cb282_9a3b_11ea_b7c5_c49dedb01420row3_col2\" class=\"data row3 col2\" >-0.00</td>\n",
       "                        <td id=\"T_111cb282_9a3b_11ea_b7c5_c49dedb01420row3_col3\" class=\"data row3 col3\" >1.00</td>\n",
       "                        <td id=\"T_111cb282_9a3b_11ea_b7c5_c49dedb01420row3_col4\" class=\"data row3 col4\" >0.78</td>\n",
       "                        <td id=\"T_111cb282_9a3b_11ea_b7c5_c49dedb01420row3_col5\" class=\"data row3 col5\" >0.65</td>\n",
       "                        <td id=\"T_111cb282_9a3b_11ea_b7c5_c49dedb01420row3_col6\" class=\"data row3 col6\" >0.60</td>\n",
       "                        <td id=\"T_111cb282_9a3b_11ea_b7c5_c49dedb01420row3_col7\" class=\"data row3 col7\" >0.56</td>\n",
       "                        <td id=\"T_111cb282_9a3b_11ea_b7c5_c49dedb01420row3_col8\" class=\"data row3 col8\" >0.49</td>\n",
       "                        <td id=\"T_111cb282_9a3b_11ea_b7c5_c49dedb01420row3_col9\" class=\"data row3 col9\" >-0.02</td>\n",
       "                        <td id=\"T_111cb282_9a3b_11ea_b7c5_c49dedb01420row3_col10\" class=\"data row3 col10\" >-0.01</td>\n",
       "                        <td id=\"T_111cb282_9a3b_11ea_b7c5_c49dedb01420row3_col11\" class=\"data row3 col11\" >-0.01</td>\n",
       "                        <td id=\"T_111cb282_9a3b_11ea_b7c5_c49dedb01420row3_col12\" class=\"data row3 col12\" >0.00</td>\n",
       "                        <td id=\"T_111cb282_9a3b_11ea_b7c5_c49dedb01420row3_col13\" class=\"data row3 col13\" >0.01</td>\n",
       "                        <td id=\"T_111cb282_9a3b_11ea_b7c5_c49dedb01420row3_col14\" class=\"data row3 col14\" >0.01</td>\n",
       "                        <td id=\"T_111cb282_9a3b_11ea_b7c5_c49dedb01420row3_col15\" class=\"data row3 col15\" >-0.08</td>\n",
       "                        <td id=\"T_111cb282_9a3b_11ea_b7c5_c49dedb01420row3_col16\" class=\"data row3 col16\" >-0.05</td>\n",
       "                        <td id=\"T_111cb282_9a3b_11ea_b7c5_c49dedb01420row3_col17\" class=\"data row3 col17\" >-0.06</td>\n",
       "                        <td id=\"T_111cb282_9a3b_11ea_b7c5_c49dedb01420row3_col18\" class=\"data row3 col18\" >-0.06</td>\n",
       "                        <td id=\"T_111cb282_9a3b_11ea_b7c5_c49dedb01420row3_col19\" class=\"data row3 col19\" >-0.05</td>\n",
       "                        <td id=\"T_111cb282_9a3b_11ea_b7c5_c49dedb01420row3_col20\" class=\"data row3 col20\" >-0.05</td>\n",
       "                        <td id=\"T_111cb282_9a3b_11ea_b7c5_c49dedb01420row3_col21\" class=\"data row3 col21\" >0.28</td>\n",
       "                        <td id=\"T_111cb282_9a3b_11ea_b7c5_c49dedb01420row3_col22\" class=\"data row3 col22\" >0.70</td>\n",
       "                        <td id=\"T_111cb282_9a3b_11ea_b7c5_c49dedb01420row3_col23\" class=\"data row3 col23\" >0.04</td>\n",
       "                        <td id=\"T_111cb282_9a3b_11ea_b7c5_c49dedb01420row3_col24\" class=\"data row3 col24\" >0.37</td>\n",
       "                        <td id=\"T_111cb282_9a3b_11ea_b7c5_c49dedb01420row3_col25\" class=\"data row3 col25\" >-0.00</td>\n",
       "                        <td id=\"T_111cb282_9a3b_11ea_b7c5_c49dedb01420row3_col26\" class=\"data row3 col26\" >-0.10</td>\n",
       "                        <td id=\"T_111cb282_9a3b_11ea_b7c5_c49dedb01420row3_col27\" class=\"data row3 col27\" >0.83</td>\n",
       "                        <td id=\"T_111cb282_9a3b_11ea_b7c5_c49dedb01420row3_col28\" class=\"data row3 col28\" >-0.05</td>\n",
       "            </tr>\n",
       "            <tr>\n",
       "                        <th id=\"T_111cb282_9a3b_11ea_b7c5_c49dedb01420level0_row4\" class=\"row_heading level0 row4\" >PAY_2</th>\n",
       "                        <td id=\"T_111cb282_9a3b_11ea_b7c5_c49dedb01420row4_col0\" class=\"data row4 col0\" >-0.19</td>\n",
       "                        <td id=\"T_111cb282_9a3b_11ea_b7c5_c49dedb01420row4_col1\" class=\"data row4 col1\" >-0.01</td>\n",
       "                        <td id=\"T_111cb282_9a3b_11ea_b7c5_c49dedb01420row4_col2\" class=\"data row4 col2\" >-0.01</td>\n",
       "                        <td id=\"T_111cb282_9a3b_11ea_b7c5_c49dedb01420row4_col3\" class=\"data row4 col3\" >0.78</td>\n",
       "                        <td id=\"T_111cb282_9a3b_11ea_b7c5_c49dedb01420row4_col4\" class=\"data row4 col4\" >1.00</td>\n",
       "                        <td id=\"T_111cb282_9a3b_11ea_b7c5_c49dedb01420row4_col5\" class=\"data row4 col5\" >0.76</td>\n",
       "                        <td id=\"T_111cb282_9a3b_11ea_b7c5_c49dedb01420row4_col6\" class=\"data row4 col6\" >0.65</td>\n",
       "                        <td id=\"T_111cb282_9a3b_11ea_b7c5_c49dedb01420row4_col7\" class=\"data row4 col7\" >0.60</td>\n",
       "                        <td id=\"T_111cb282_9a3b_11ea_b7c5_c49dedb01420row4_col8\" class=\"data row4 col8\" >0.53</td>\n",
       "                        <td id=\"T_111cb282_9a3b_11ea_b7c5_c49dedb01420row4_col9\" class=\"data row4 col9\" >-0.01</td>\n",
       "                        <td id=\"T_111cb282_9a3b_11ea_b7c5_c49dedb01420row4_col10\" class=\"data row4 col10\" >-0.00</td>\n",
       "                        <td id=\"T_111cb282_9a3b_11ea_b7c5_c49dedb01420row4_col11\" class=\"data row4 col11\" >0.00</td>\n",
       "                        <td id=\"T_111cb282_9a3b_11ea_b7c5_c49dedb01420row4_col12\" class=\"data row4 col12\" >0.01</td>\n",
       "                        <td id=\"T_111cb282_9a3b_11ea_b7c5_c49dedb01420row4_col13\" class=\"data row4 col13\" >0.02</td>\n",
       "                        <td id=\"T_111cb282_9a3b_11ea_b7c5_c49dedb01420row4_col14\" class=\"data row4 col14\" >0.02</td>\n",
       "                        <td id=\"T_111cb282_9a3b_11ea_b7c5_c49dedb01420row4_col15\" class=\"data row4 col15\" >-0.09</td>\n",
       "                        <td id=\"T_111cb282_9a3b_11ea_b7c5_c49dedb01420row4_col16\" class=\"data row4 col16\" >-0.05</td>\n",
       "                        <td id=\"T_111cb282_9a3b_11ea_b7c5_c49dedb01420row4_col17\" class=\"data row4 col17\" >-0.06</td>\n",
       "                        <td id=\"T_111cb282_9a3b_11ea_b7c5_c49dedb01420row4_col18\" class=\"data row4 col18\" >-0.05</td>\n",
       "                        <td id=\"T_111cb282_9a3b_11ea_b7c5_c49dedb01420row4_col19\" class=\"data row4 col19\" >-0.05</td>\n",
       "                        <td id=\"T_111cb282_9a3b_11ea_b7c5_c49dedb01420row4_col20\" class=\"data row4 col20\" >-0.04</td>\n",
       "                        <td id=\"T_111cb282_9a3b_11ea_b7c5_c49dedb01420row4_col21\" class=\"data row4 col21\" >0.25</td>\n",
       "                        <td id=\"T_111cb282_9a3b_11ea_b7c5_c49dedb01420row4_col22\" class=\"data row4 col22\" >0.77</td>\n",
       "                        <td id=\"T_111cb282_9a3b_11ea_b7c5_c49dedb01420row4_col23\" class=\"data row4 col23\" >0.05</td>\n",
       "                        <td id=\"T_111cb282_9a3b_11ea_b7c5_c49dedb01420row4_col24\" class=\"data row4 col24\" >0.32</td>\n",
       "                        <td id=\"T_111cb282_9a3b_11ea_b7c5_c49dedb01420row4_col25\" class=\"data row4 col25\" >0.01</td>\n",
       "                        <td id=\"T_111cb282_9a3b_11ea_b7c5_c49dedb01420row4_col26\" class=\"data row4 col26\" >-0.10</td>\n",
       "                        <td id=\"T_111cb282_9a3b_11ea_b7c5_c49dedb01420row4_col27\" class=\"data row4 col27\" >0.87</td>\n",
       "                        <td id=\"T_111cb282_9a3b_11ea_b7c5_c49dedb01420row4_col28\" class=\"data row4 col28\" >-0.06</td>\n",
       "            </tr>\n",
       "            <tr>\n",
       "                        <th id=\"T_111cb282_9a3b_11ea_b7c5_c49dedb01420level0_row5\" class=\"row_heading level0 row5\" >PAY_3</th>\n",
       "                        <td id=\"T_111cb282_9a3b_11ea_b7c5_c49dedb01420row5_col0\" class=\"data row5 col0\" >-0.18</td>\n",
       "                        <td id=\"T_111cb282_9a3b_11ea_b7c5_c49dedb01420row5_col1\" class=\"data row5 col1\" >0.00</td>\n",
       "                        <td id=\"T_111cb282_9a3b_11ea_b7c5_c49dedb01420row5_col2\" class=\"data row5 col2\" >-0.01</td>\n",
       "                        <td id=\"T_111cb282_9a3b_11ea_b7c5_c49dedb01420row5_col3\" class=\"data row5 col3\" >0.65</td>\n",
       "                        <td id=\"T_111cb282_9a3b_11ea_b7c5_c49dedb01420row5_col4\" class=\"data row5 col4\" >0.76</td>\n",
       "                        <td id=\"T_111cb282_9a3b_11ea_b7c5_c49dedb01420row5_col5\" class=\"data row5 col5\" >1.00</td>\n",
       "                        <td id=\"T_111cb282_9a3b_11ea_b7c5_c49dedb01420row5_col6\" class=\"data row5 col6\" >0.75</td>\n",
       "                        <td id=\"T_111cb282_9a3b_11ea_b7c5_c49dedb01420row5_col7\" class=\"data row5 col7\" >0.64</td>\n",
       "                        <td id=\"T_111cb282_9a3b_11ea_b7c5_c49dedb01420row5_col8\" class=\"data row5 col8\" >0.56</td>\n",
       "                        <td id=\"T_111cb282_9a3b_11ea_b7c5_c49dedb01420row5_col9\" class=\"data row5 col9\" >-0.03</td>\n",
       "                        <td id=\"T_111cb282_9a3b_11ea_b7c5_c49dedb01420row5_col10\" class=\"data row5 col10\" >-0.01</td>\n",
       "                        <td id=\"T_111cb282_9a3b_11ea_b7c5_c49dedb01420row5_col11\" class=\"data row5 col11\" >-0.01</td>\n",
       "                        <td id=\"T_111cb282_9a3b_11ea_b7c5_c49dedb01420row5_col12\" class=\"data row5 col12\" >0.00</td>\n",
       "                        <td id=\"T_111cb282_9a3b_11ea_b7c5_c49dedb01420row5_col13\" class=\"data row5 col13\" >0.01</td>\n",
       "                        <td id=\"T_111cb282_9a3b_11ea_b7c5_c49dedb01420row5_col14\" class=\"data row5 col14\" >0.02</td>\n",
       "                        <td id=\"T_111cb282_9a3b_11ea_b7c5_c49dedb01420row5_col15\" class=\"data row5 col15\" >-0.04</td>\n",
       "                        <td id=\"T_111cb282_9a3b_11ea_b7c5_c49dedb01420row5_col16\" class=\"data row5 col16\" >-0.07</td>\n",
       "                        <td id=\"T_111cb282_9a3b_11ea_b7c5_c49dedb01420row5_col17\" class=\"data row5 col17\" >-0.06</td>\n",
       "                        <td id=\"T_111cb282_9a3b_11ea_b7c5_c49dedb01420row5_col18\" class=\"data row5 col18\" >-0.05</td>\n",
       "                        <td id=\"T_111cb282_9a3b_11ea_b7c5_c49dedb01420row5_col19\" class=\"data row5 col19\" >-0.05</td>\n",
       "                        <td id=\"T_111cb282_9a3b_11ea_b7c5_c49dedb01420row5_col20\" class=\"data row5 col20\" >-0.05</td>\n",
       "                        <td id=\"T_111cb282_9a3b_11ea_b7c5_c49dedb01420row5_col21\" class=\"data row5 col21\" >0.24</td>\n",
       "                        <td id=\"T_111cb282_9a3b_11ea_b7c5_c49dedb01420row5_col22\" class=\"data row5 col22\" >0.76</td>\n",
       "                        <td id=\"T_111cb282_9a3b_11ea_b7c5_c49dedb01420row5_col23\" class=\"data row5 col23\" >0.05</td>\n",
       "                        <td id=\"T_111cb282_9a3b_11ea_b7c5_c49dedb01420row5_col24\" class=\"data row5 col24\" >0.28</td>\n",
       "                        <td id=\"T_111cb282_9a3b_11ea_b7c5_c49dedb01420row5_col25\" class=\"data row5 col25\" >-0.00</td>\n",
       "                        <td id=\"T_111cb282_9a3b_11ea_b7c5_c49dedb01420row5_col26\" class=\"data row5 col26\" >-0.10</td>\n",
       "                        <td id=\"T_111cb282_9a3b_11ea_b7c5_c49dedb01420row5_col27\" class=\"data row5 col27\" >0.87</td>\n",
       "                        <td id=\"T_111cb282_9a3b_11ea_b7c5_c49dedb01420row5_col28\" class=\"data row5 col28\" >-0.05</td>\n",
       "            </tr>\n",
       "            <tr>\n",
       "                        <th id=\"T_111cb282_9a3b_11ea_b7c5_c49dedb01420level0_row6\" class=\"row_heading level0 row6\" >PAY_4</th>\n",
       "                        <td id=\"T_111cb282_9a3b_11ea_b7c5_c49dedb01420row6_col0\" class=\"data row6 col0\" >-0.17</td>\n",
       "                        <td id=\"T_111cb282_9a3b_11ea_b7c5_c49dedb01420row6_col1\" class=\"data row6 col1\" >-0.00</td>\n",
       "                        <td id=\"T_111cb282_9a3b_11ea_b7c5_c49dedb01420row6_col2\" class=\"data row6 col2\" >-0.01</td>\n",
       "                        <td id=\"T_111cb282_9a3b_11ea_b7c5_c49dedb01420row6_col3\" class=\"data row6 col3\" >0.60</td>\n",
       "                        <td id=\"T_111cb282_9a3b_11ea_b7c5_c49dedb01420row6_col4\" class=\"data row6 col4\" >0.65</td>\n",
       "                        <td id=\"T_111cb282_9a3b_11ea_b7c5_c49dedb01420row6_col5\" class=\"data row6 col5\" >0.75</td>\n",
       "                        <td id=\"T_111cb282_9a3b_11ea_b7c5_c49dedb01420row6_col6\" class=\"data row6 col6\" >1.00</td>\n",
       "                        <td id=\"T_111cb282_9a3b_11ea_b7c5_c49dedb01420row6_col7\" class=\"data row6 col7\" >0.77</td>\n",
       "                        <td id=\"T_111cb282_9a3b_11ea_b7c5_c49dedb01420row6_col8\" class=\"data row6 col8\" >0.62</td>\n",
       "                        <td id=\"T_111cb282_9a3b_11ea_b7c5_c49dedb01420row6_col9\" class=\"data row6 col9\" >-0.03</td>\n",
       "                        <td id=\"T_111cb282_9a3b_11ea_b7c5_c49dedb01420row6_col10\" class=\"data row6 col10\" >-0.02</td>\n",
       "                        <td id=\"T_111cb282_9a3b_11ea_b7c5_c49dedb01420row6_col11\" class=\"data row6 col11\" >-0.00</td>\n",
       "                        <td id=\"T_111cb282_9a3b_11ea_b7c5_c49dedb01420row6_col12\" class=\"data row6 col12\" >0.01</td>\n",
       "                        <td id=\"T_111cb282_9a3b_11ea_b7c5_c49dedb01420row6_col13\" class=\"data row6 col13\" >0.02</td>\n",
       "                        <td id=\"T_111cb282_9a3b_11ea_b7c5_c49dedb01420row6_col14\" class=\"data row6 col14\" >0.02</td>\n",
       "                        <td id=\"T_111cb282_9a3b_11ea_b7c5_c49dedb01420row6_col15\" class=\"data row6 col15\" >-0.05</td>\n",
       "                        <td id=\"T_111cb282_9a3b_11ea_b7c5_c49dedb01420row6_col16\" class=\"data row6 col16\" >-0.04</td>\n",
       "                        <td id=\"T_111cb282_9a3b_11ea_b7c5_c49dedb01420row6_col17\" class=\"data row6 col17\" >-0.07</td>\n",
       "                        <td id=\"T_111cb282_9a3b_11ea_b7c5_c49dedb01420row6_col18\" class=\"data row6 col18\" >-0.05</td>\n",
       "                        <td id=\"T_111cb282_9a3b_11ea_b7c5_c49dedb01420row6_col19\" class=\"data row6 col19\" >-0.05</td>\n",
       "                        <td id=\"T_111cb282_9a3b_11ea_b7c5_c49dedb01420row6_col20\" class=\"data row6 col20\" >-0.05</td>\n",
       "                        <td id=\"T_111cb282_9a3b_11ea_b7c5_c49dedb01420row6_col21\" class=\"data row6 col21\" >0.22</td>\n",
       "                        <td id=\"T_111cb282_9a3b_11ea_b7c5_c49dedb01420row6_col22\" class=\"data row6 col22\" >0.74</td>\n",
       "                        <td id=\"T_111cb282_9a3b_11ea_b7c5_c49dedb01420row6_col23\" class=\"data row6 col23\" >0.04</td>\n",
       "                        <td id=\"T_111cb282_9a3b_11ea_b7c5_c49dedb01420row6_col24\" class=\"data row6 col24\" >0.27</td>\n",
       "                        <td id=\"T_111cb282_9a3b_11ea_b7c5_c49dedb01420row6_col25\" class=\"data row6 col25\" >-0.00</td>\n",
       "                        <td id=\"T_111cb282_9a3b_11ea_b7c5_c49dedb01420row6_col26\" class=\"data row6 col26\" >-0.09</td>\n",
       "                        <td id=\"T_111cb282_9a3b_11ea_b7c5_c49dedb01420row6_col27\" class=\"data row6 col27\" >0.87</td>\n",
       "                        <td id=\"T_111cb282_9a3b_11ea_b7c5_c49dedb01420row6_col28\" class=\"data row6 col28\" >-0.05</td>\n",
       "            </tr>\n",
       "            <tr>\n",
       "                        <th id=\"T_111cb282_9a3b_11ea_b7c5_c49dedb01420level0_row7\" class=\"row_heading level0 row7\" >PAY_5</th>\n",
       "                        <td id=\"T_111cb282_9a3b_11ea_b7c5_c49dedb01420row7_col0\" class=\"data row7 col0\" >-0.17</td>\n",
       "                        <td id=\"T_111cb282_9a3b_11ea_b7c5_c49dedb01420row7_col1\" class=\"data row7 col1\" >-0.00</td>\n",
       "                        <td id=\"T_111cb282_9a3b_11ea_b7c5_c49dedb01420row7_col2\" class=\"data row7 col2\" >-0.01</td>\n",
       "                        <td id=\"T_111cb282_9a3b_11ea_b7c5_c49dedb01420row7_col3\" class=\"data row7 col3\" >0.56</td>\n",
       "                        <td id=\"T_111cb282_9a3b_11ea_b7c5_c49dedb01420row7_col4\" class=\"data row7 col4\" >0.60</td>\n",
       "                        <td id=\"T_111cb282_9a3b_11ea_b7c5_c49dedb01420row7_col5\" class=\"data row7 col5\" >0.64</td>\n",
       "                        <td id=\"T_111cb282_9a3b_11ea_b7c5_c49dedb01420row7_col6\" class=\"data row7 col6\" >0.77</td>\n",
       "                        <td id=\"T_111cb282_9a3b_11ea_b7c5_c49dedb01420row7_col7\" class=\"data row7 col7\" >1.00</td>\n",
       "                        <td id=\"T_111cb282_9a3b_11ea_b7c5_c49dedb01420row7_col8\" class=\"data row7 col8\" >0.75</td>\n",
       "                        <td id=\"T_111cb282_9a3b_11ea_b7c5_c49dedb01420row7_col9\" class=\"data row7 col9\" >-0.02</td>\n",
       "                        <td id=\"T_111cb282_9a3b_11ea_b7c5_c49dedb01420row7_col10\" class=\"data row7 col10\" >-0.01</td>\n",
       "                        <td id=\"T_111cb282_9a3b_11ea_b7c5_c49dedb01420row7_col11\" class=\"data row7 col11\" >0.00</td>\n",
       "                        <td id=\"T_111cb282_9a3b_11ea_b7c5_c49dedb01420row7_col12\" class=\"data row7 col12\" >0.02</td>\n",
       "                        <td id=\"T_111cb282_9a3b_11ea_b7c5_c49dedb01420row7_col13\" class=\"data row7 col13\" >0.03</td>\n",
       "                        <td id=\"T_111cb282_9a3b_11ea_b7c5_c49dedb01420row7_col14\" class=\"data row7 col14\" >0.04</td>\n",
       "                        <td id=\"T_111cb282_9a3b_11ea_b7c5_c49dedb01420row7_col15\" class=\"data row7 col15\" >-0.05</td>\n",
       "                        <td id=\"T_111cb282_9a3b_11ea_b7c5_c49dedb01420row7_col16\" class=\"data row7 col16\" >-0.04</td>\n",
       "                        <td id=\"T_111cb282_9a3b_11ea_b7c5_c49dedb01420row7_col17\" class=\"data row7 col17\" >-0.04</td>\n",
       "                        <td id=\"T_111cb282_9a3b_11ea_b7c5_c49dedb01420row7_col18\" class=\"data row7 col18\" >-0.07</td>\n",
       "                        <td id=\"T_111cb282_9a3b_11ea_b7c5_c49dedb01420row7_col19\" class=\"data row7 col19\" >-0.05</td>\n",
       "                        <td id=\"T_111cb282_9a3b_11ea_b7c5_c49dedb01420row7_col20\" class=\"data row7 col20\" >-0.05</td>\n",
       "                        <td id=\"T_111cb282_9a3b_11ea_b7c5_c49dedb01420row7_col21\" class=\"data row7 col21\" >0.19</td>\n",
       "                        <td id=\"T_111cb282_9a3b_11ea_b7c5_c49dedb01420row7_col22\" class=\"data row7 col22\" >0.73</td>\n",
       "                        <td id=\"T_111cb282_9a3b_11ea_b7c5_c49dedb01420row7_col23\" class=\"data row7 col23\" >0.04</td>\n",
       "                        <td id=\"T_111cb282_9a3b_11ea_b7c5_c49dedb01420row7_col24\" class=\"data row7 col24\" >0.26</td>\n",
       "                        <td id=\"T_111cb282_9a3b_11ea_b7c5_c49dedb01420row7_col25\" class=\"data row7 col25\" >0.01</td>\n",
       "                        <td id=\"T_111cb282_9a3b_11ea_b7c5_c49dedb01420row7_col26\" class=\"data row7 col26\" >-0.08</td>\n",
       "                        <td id=\"T_111cb282_9a3b_11ea_b7c5_c49dedb01420row7_col27\" class=\"data row7 col27\" >0.84</td>\n",
       "                        <td id=\"T_111cb282_9a3b_11ea_b7c5_c49dedb01420row7_col28\" class=\"data row7 col28\" >-0.04</td>\n",
       "            </tr>\n",
       "            <tr>\n",
       "                        <th id=\"T_111cb282_9a3b_11ea_b7c5_c49dedb01420level0_row8\" class=\"row_heading level0 row8\" >PAY_6</th>\n",
       "                        <td id=\"T_111cb282_9a3b_11ea_b7c5_c49dedb01420row8_col0\" class=\"data row8 col0\" >-0.17</td>\n",
       "                        <td id=\"T_111cb282_9a3b_11ea_b7c5_c49dedb01420row8_col1\" class=\"data row8 col1\" >0.00</td>\n",
       "                        <td id=\"T_111cb282_9a3b_11ea_b7c5_c49dedb01420row8_col2\" class=\"data row8 col2\" >-0.02</td>\n",
       "                        <td id=\"T_111cb282_9a3b_11ea_b7c5_c49dedb01420row8_col3\" class=\"data row8 col3\" >0.49</td>\n",
       "                        <td id=\"T_111cb282_9a3b_11ea_b7c5_c49dedb01420row8_col4\" class=\"data row8 col4\" >0.53</td>\n",
       "                        <td id=\"T_111cb282_9a3b_11ea_b7c5_c49dedb01420row8_col5\" class=\"data row8 col5\" >0.56</td>\n",
       "                        <td id=\"T_111cb282_9a3b_11ea_b7c5_c49dedb01420row8_col6\" class=\"data row8 col6\" >0.62</td>\n",
       "                        <td id=\"T_111cb282_9a3b_11ea_b7c5_c49dedb01420row8_col7\" class=\"data row8 col7\" >0.75</td>\n",
       "                        <td id=\"T_111cb282_9a3b_11ea_b7c5_c49dedb01420row8_col8\" class=\"data row8 col8\" >1.00</td>\n",
       "                        <td id=\"T_111cb282_9a3b_11ea_b7c5_c49dedb01420row8_col9\" class=\"data row8 col9\" >-0.02</td>\n",
       "                        <td id=\"T_111cb282_9a3b_11ea_b7c5_c49dedb01420row8_col10\" class=\"data row8 col10\" >-0.01</td>\n",
       "                        <td id=\"T_111cb282_9a3b_11ea_b7c5_c49dedb01420row8_col11\" class=\"data row8 col11\" >0.00</td>\n",
       "                        <td id=\"T_111cb282_9a3b_11ea_b7c5_c49dedb01420row8_col12\" class=\"data row8 col12\" >0.02</td>\n",
       "                        <td id=\"T_111cb282_9a3b_11ea_b7c5_c49dedb01420row8_col13\" class=\"data row8 col13\" >0.04</td>\n",
       "                        <td id=\"T_111cb282_9a3b_11ea_b7c5_c49dedb01420row8_col14\" class=\"data row8 col14\" >0.05</td>\n",
       "                        <td id=\"T_111cb282_9a3b_11ea_b7c5_c49dedb01420row8_col15\" class=\"data row8 col15\" >-0.05</td>\n",
       "                        <td id=\"T_111cb282_9a3b_11ea_b7c5_c49dedb01420row8_col16\" class=\"data row8 col16\" >-0.04</td>\n",
       "                        <td id=\"T_111cb282_9a3b_11ea_b7c5_c49dedb01420row8_col17\" class=\"data row8 col17\" >-0.04</td>\n",
       "                        <td id=\"T_111cb282_9a3b_11ea_b7c5_c49dedb01420row8_col18\" class=\"data row8 col18\" >-0.03</td>\n",
       "                        <td id=\"T_111cb282_9a3b_11ea_b7c5_c49dedb01420row8_col19\" class=\"data row8 col19\" >-0.07</td>\n",
       "                        <td id=\"T_111cb282_9a3b_11ea_b7c5_c49dedb01420row8_col20\" class=\"data row8 col20\" >-0.05</td>\n",
       "                        <td id=\"T_111cb282_9a3b_11ea_b7c5_c49dedb01420row8_col21\" class=\"data row8 col21\" >0.17</td>\n",
       "                        <td id=\"T_111cb282_9a3b_11ea_b7c5_c49dedb01420row8_col22\" class=\"data row8 col22\" >0.68</td>\n",
       "                        <td id=\"T_111cb282_9a3b_11ea_b7c5_c49dedb01420row8_col23\" class=\"data row8 col23\" >0.03</td>\n",
       "                        <td id=\"T_111cb282_9a3b_11ea_b7c5_c49dedb01420row8_col24\" class=\"data row8 col24\" >0.24</td>\n",
       "                        <td id=\"T_111cb282_9a3b_11ea_b7c5_c49dedb01420row8_col25\" class=\"data row8 col25\" >0.01</td>\n",
       "                        <td id=\"T_111cb282_9a3b_11ea_b7c5_c49dedb01420row8_col26\" class=\"data row8 col26\" >-0.08</td>\n",
       "                        <td id=\"T_111cb282_9a3b_11ea_b7c5_c49dedb01420row8_col27\" class=\"data row8 col27\" >0.76</td>\n",
       "                        <td id=\"T_111cb282_9a3b_11ea_b7c5_c49dedb01420row8_col28\" class=\"data row8 col28\" >-0.03</td>\n",
       "            </tr>\n",
       "            <tr>\n",
       "                        <th id=\"T_111cb282_9a3b_11ea_b7c5_c49dedb01420level0_row9\" class=\"row_heading level0 row9\" >BILL_AMT1</th>\n",
       "                        <td id=\"T_111cb282_9a3b_11ea_b7c5_c49dedb01420row9_col0\" class=\"data row9 col0\" >0.29</td>\n",
       "                        <td id=\"T_111cb282_9a3b_11ea_b7c5_c49dedb01420row9_col1\" class=\"data row9 col1\" >-0.02</td>\n",
       "                        <td id=\"T_111cb282_9a3b_11ea_b7c5_c49dedb01420row9_col2\" class=\"data row9 col2\" >0.06</td>\n",
       "                        <td id=\"T_111cb282_9a3b_11ea_b7c5_c49dedb01420row9_col3\" class=\"data row9 col3\" >-0.02</td>\n",
       "                        <td id=\"T_111cb282_9a3b_11ea_b7c5_c49dedb01420row9_col4\" class=\"data row9 col4\" >-0.01</td>\n",
       "                        <td id=\"T_111cb282_9a3b_11ea_b7c5_c49dedb01420row9_col5\" class=\"data row9 col5\" >-0.03</td>\n",
       "                        <td id=\"T_111cb282_9a3b_11ea_b7c5_c49dedb01420row9_col6\" class=\"data row9 col6\" >-0.03</td>\n",
       "                        <td id=\"T_111cb282_9a3b_11ea_b7c5_c49dedb01420row9_col7\" class=\"data row9 col7\" >-0.02</td>\n",
       "                        <td id=\"T_111cb282_9a3b_11ea_b7c5_c49dedb01420row9_col8\" class=\"data row9 col8\" >-0.02</td>\n",
       "                        <td id=\"T_111cb282_9a3b_11ea_b7c5_c49dedb01420row9_col9\" class=\"data row9 col9\" >1.00</td>\n",
       "                        <td id=\"T_111cb282_9a3b_11ea_b7c5_c49dedb01420row9_col10\" class=\"data row9 col10\" >0.95</td>\n",
       "                        <td id=\"T_111cb282_9a3b_11ea_b7c5_c49dedb01420row9_col11\" class=\"data row9 col11\" >0.89</td>\n",
       "                        <td id=\"T_111cb282_9a3b_11ea_b7c5_c49dedb01420row9_col12\" class=\"data row9 col12\" >0.86</td>\n",
       "                        <td id=\"T_111cb282_9a3b_11ea_b7c5_c49dedb01420row9_col13\" class=\"data row9 col13\" >0.83</td>\n",
       "                        <td id=\"T_111cb282_9a3b_11ea_b7c5_c49dedb01420row9_col14\" class=\"data row9 col14\" >0.80</td>\n",
       "                        <td id=\"T_111cb282_9a3b_11ea_b7c5_c49dedb01420row9_col15\" class=\"data row9 col15\" >0.14</td>\n",
       "                        <td id=\"T_111cb282_9a3b_11ea_b7c5_c49dedb01420row9_col16\" class=\"data row9 col16\" >0.10</td>\n",
       "                        <td id=\"T_111cb282_9a3b_11ea_b7c5_c49dedb01420row9_col17\" class=\"data row9 col17\" >0.16</td>\n",
       "                        <td id=\"T_111cb282_9a3b_11ea_b7c5_c49dedb01420row9_col18\" class=\"data row9 col18\" >0.16</td>\n",
       "                        <td id=\"T_111cb282_9a3b_11ea_b7c5_c49dedb01420row9_col19\" class=\"data row9 col19\" >0.17</td>\n",
       "                        <td id=\"T_111cb282_9a3b_11ea_b7c5_c49dedb01420row9_col20\" class=\"data row9 col20\" >0.18</td>\n",
       "                        <td id=\"T_111cb282_9a3b_11ea_b7c5_c49dedb01420row9_col21\" class=\"data row9 col21\" >-0.29</td>\n",
       "                        <td id=\"T_111cb282_9a3b_11ea_b7c5_c49dedb01420row9_col22\" class=\"data row9 col22\" >-0.03</td>\n",
       "                        <td id=\"T_111cb282_9a3b_11ea_b7c5_c49dedb01420row9_col23\" class=\"data row9 col23\" >0.03</td>\n",
       "                        <td id=\"T_111cb282_9a3b_11ea_b7c5_c49dedb01420row9_col24\" class=\"data row9 col24\" >-0.02</td>\n",
       "                        <td id=\"T_111cb282_9a3b_11ea_b7c5_c49dedb01420row9_col25\" class=\"data row9 col25\" >0.94</td>\n",
       "                        <td id=\"T_111cb282_9a3b_11ea_b7c5_c49dedb01420row9_col26\" class=\"data row9 col26\" >0.26</td>\n",
       "                        <td id=\"T_111cb282_9a3b_11ea_b7c5_c49dedb01420row9_col27\" class=\"data row9 col27\" >-0.03</td>\n",
       "                        <td id=\"T_111cb282_9a3b_11ea_b7c5_c49dedb01420row9_col28\" class=\"data row9 col28\" >-0.02</td>\n",
       "            </tr>\n",
       "            <tr>\n",
       "                        <th id=\"T_111cb282_9a3b_11ea_b7c5_c49dedb01420level0_row10\" class=\"row_heading level0 row10\" >BILL_AMT2</th>\n",
       "                        <td id=\"T_111cb282_9a3b_11ea_b7c5_c49dedb01420row10_col0\" class=\"data row10 col0\" >0.28</td>\n",
       "                        <td id=\"T_111cb282_9a3b_11ea_b7c5_c49dedb01420row10_col1\" class=\"data row10 col1\" >-0.02</td>\n",
       "                        <td id=\"T_111cb282_9a3b_11ea_b7c5_c49dedb01420row10_col2\" class=\"data row10 col2\" >0.05</td>\n",
       "                        <td id=\"T_111cb282_9a3b_11ea_b7c5_c49dedb01420row10_col3\" class=\"data row10 col3\" >-0.01</td>\n",
       "                        <td id=\"T_111cb282_9a3b_11ea_b7c5_c49dedb01420row10_col4\" class=\"data row10 col4\" >-0.00</td>\n",
       "                        <td id=\"T_111cb282_9a3b_11ea_b7c5_c49dedb01420row10_col5\" class=\"data row10 col5\" >-0.01</td>\n",
       "                        <td id=\"T_111cb282_9a3b_11ea_b7c5_c49dedb01420row10_col6\" class=\"data row10 col6\" >-0.02</td>\n",
       "                        <td id=\"T_111cb282_9a3b_11ea_b7c5_c49dedb01420row10_col7\" class=\"data row10 col7\" >-0.01</td>\n",
       "                        <td id=\"T_111cb282_9a3b_11ea_b7c5_c49dedb01420row10_col8\" class=\"data row10 col8\" >-0.01</td>\n",
       "                        <td id=\"T_111cb282_9a3b_11ea_b7c5_c49dedb01420row10_col9\" class=\"data row10 col9\" >0.95</td>\n",
       "                        <td id=\"T_111cb282_9a3b_11ea_b7c5_c49dedb01420row10_col10\" class=\"data row10 col10\" >1.00</td>\n",
       "                        <td id=\"T_111cb282_9a3b_11ea_b7c5_c49dedb01420row10_col11\" class=\"data row10 col11\" >0.93</td>\n",
       "                        <td id=\"T_111cb282_9a3b_11ea_b7c5_c49dedb01420row10_col12\" class=\"data row10 col12\" >0.89</td>\n",
       "                        <td id=\"T_111cb282_9a3b_11ea_b7c5_c49dedb01420row10_col13\" class=\"data row10 col13\" >0.86</td>\n",
       "                        <td id=\"T_111cb282_9a3b_11ea_b7c5_c49dedb01420row10_col14\" class=\"data row10 col14\" >0.83</td>\n",
       "                        <td id=\"T_111cb282_9a3b_11ea_b7c5_c49dedb01420row10_col15\" class=\"data row10 col15\" >0.28</td>\n",
       "                        <td id=\"T_111cb282_9a3b_11ea_b7c5_c49dedb01420row10_col16\" class=\"data row10 col16\" >0.10</td>\n",
       "                        <td id=\"T_111cb282_9a3b_11ea_b7c5_c49dedb01420row10_col17\" class=\"data row10 col17\" >0.15</td>\n",
       "                        <td id=\"T_111cb282_9a3b_11ea_b7c5_c49dedb01420row10_col18\" class=\"data row10 col18\" >0.15</td>\n",
       "                        <td id=\"T_111cb282_9a3b_11ea_b7c5_c49dedb01420row10_col19\" class=\"data row10 col19\" >0.16</td>\n",
       "                        <td id=\"T_111cb282_9a3b_11ea_b7c5_c49dedb01420row10_col20\" class=\"data row10 col20\" >0.17</td>\n",
       "                        <td id=\"T_111cb282_9a3b_11ea_b7c5_c49dedb01420row10_col21\" class=\"data row10 col21\" >-0.31</td>\n",
       "                        <td id=\"T_111cb282_9a3b_11ea_b7c5_c49dedb01420row10_col22\" class=\"data row10 col22\" >-0.01</td>\n",
       "                        <td id=\"T_111cb282_9a3b_11ea_b7c5_c49dedb01420row10_col23\" class=\"data row10 col23\" >0.03</td>\n",
       "                        <td id=\"T_111cb282_9a3b_11ea_b7c5_c49dedb01420row10_col24\" class=\"data row10 col24\" >-0.01</td>\n",
       "                        <td id=\"T_111cb282_9a3b_11ea_b7c5_c49dedb01420row10_col25\" class=\"data row10 col25\" >0.96</td>\n",
       "                        <td id=\"T_111cb282_9a3b_11ea_b7c5_c49dedb01420row10_col26\" class=\"data row10 col26\" >0.29</td>\n",
       "                        <td id=\"T_111cb282_9a3b_11ea_b7c5_c49dedb01420row10_col27\" class=\"data row10 col27\" >-0.01</td>\n",
       "                        <td id=\"T_111cb282_9a3b_11ea_b7c5_c49dedb01420row10_col28\" class=\"data row10 col28\" >-0.01</td>\n",
       "            </tr>\n",
       "            <tr>\n",
       "                        <th id=\"T_111cb282_9a3b_11ea_b7c5_c49dedb01420level0_row11\" class=\"row_heading level0 row11\" >BILL_AMT3</th>\n",
       "                        <td id=\"T_111cb282_9a3b_11ea_b7c5_c49dedb01420row11_col0\" class=\"data row11 col0\" >0.28</td>\n",
       "                        <td id=\"T_111cb282_9a3b_11ea_b7c5_c49dedb01420row11_col1\" class=\"data row11 col1\" >-0.02</td>\n",
       "                        <td id=\"T_111cb282_9a3b_11ea_b7c5_c49dedb01420row11_col2\" class=\"data row11 col2\" >0.05</td>\n",
       "                        <td id=\"T_111cb282_9a3b_11ea_b7c5_c49dedb01420row11_col3\" class=\"data row11 col3\" >-0.01</td>\n",
       "                        <td id=\"T_111cb282_9a3b_11ea_b7c5_c49dedb01420row11_col4\" class=\"data row11 col4\" >0.00</td>\n",
       "                        <td id=\"T_111cb282_9a3b_11ea_b7c5_c49dedb01420row11_col5\" class=\"data row11 col5\" >-0.01</td>\n",
       "                        <td id=\"T_111cb282_9a3b_11ea_b7c5_c49dedb01420row11_col6\" class=\"data row11 col6\" >-0.00</td>\n",
       "                        <td id=\"T_111cb282_9a3b_11ea_b7c5_c49dedb01420row11_col7\" class=\"data row11 col7\" >0.00</td>\n",
       "                        <td id=\"T_111cb282_9a3b_11ea_b7c5_c49dedb01420row11_col8\" class=\"data row11 col8\" >0.00</td>\n",
       "                        <td id=\"T_111cb282_9a3b_11ea_b7c5_c49dedb01420row11_col9\" class=\"data row11 col9\" >0.89</td>\n",
       "                        <td id=\"T_111cb282_9a3b_11ea_b7c5_c49dedb01420row11_col10\" class=\"data row11 col10\" >0.93</td>\n",
       "                        <td id=\"T_111cb282_9a3b_11ea_b7c5_c49dedb01420row11_col11\" class=\"data row11 col11\" >1.00</td>\n",
       "                        <td id=\"T_111cb282_9a3b_11ea_b7c5_c49dedb01420row11_col12\" class=\"data row11 col12\" >0.92</td>\n",
       "                        <td id=\"T_111cb282_9a3b_11ea_b7c5_c49dedb01420row11_col13\" class=\"data row11 col13\" >0.88</td>\n",
       "                        <td id=\"T_111cb282_9a3b_11ea_b7c5_c49dedb01420row11_col14\" class=\"data row11 col14\" >0.85</td>\n",
       "                        <td id=\"T_111cb282_9a3b_11ea_b7c5_c49dedb01420row11_col15\" class=\"data row11 col15\" >0.24</td>\n",
       "                        <td id=\"T_111cb282_9a3b_11ea_b7c5_c49dedb01420row11_col16\" class=\"data row11 col16\" >0.32</td>\n",
       "                        <td id=\"T_111cb282_9a3b_11ea_b7c5_c49dedb01420row11_col17\" class=\"data row11 col17\" >0.13</td>\n",
       "                        <td id=\"T_111cb282_9a3b_11ea_b7c5_c49dedb01420row11_col18\" class=\"data row11 col18\" >0.14</td>\n",
       "                        <td id=\"T_111cb282_9a3b_11ea_b7c5_c49dedb01420row11_col19\" class=\"data row11 col19\" >0.18</td>\n",
       "                        <td id=\"T_111cb282_9a3b_11ea_b7c5_c49dedb01420row11_col20\" class=\"data row11 col20\" >0.18</td>\n",
       "                        <td id=\"T_111cb282_9a3b_11ea_b7c5_c49dedb01420row11_col21\" class=\"data row11 col21\" >-0.31</td>\n",
       "                        <td id=\"T_111cb282_9a3b_11ea_b7c5_c49dedb01420row11_col22\" class=\"data row11 col22\" >0.00</td>\n",
       "                        <td id=\"T_111cb282_9a3b_11ea_b7c5_c49dedb01420row11_col23\" class=\"data row11 col23\" >0.02</td>\n",
       "                        <td id=\"T_111cb282_9a3b_11ea_b7c5_c49dedb01420row11_col24\" class=\"data row11 col24\" >-0.01</td>\n",
       "                        <td id=\"T_111cb282_9a3b_11ea_b7c5_c49dedb01420row11_col25\" class=\"data row11 col25\" >0.96</td>\n",
       "                        <td id=\"T_111cb282_9a3b_11ea_b7c5_c49dedb01420row11_col26\" class=\"data row11 col26\" >0.36</td>\n",
       "                        <td id=\"T_111cb282_9a3b_11ea_b7c5_c49dedb01420row11_col27\" class=\"data row11 col27\" >-0.00</td>\n",
       "                        <td id=\"T_111cb282_9a3b_11ea_b7c5_c49dedb01420row11_col28\" class=\"data row11 col28\" >-0.01</td>\n",
       "            </tr>\n",
       "            <tr>\n",
       "                        <th id=\"T_111cb282_9a3b_11ea_b7c5_c49dedb01420level0_row12\" class=\"row_heading level0 row12\" >BILL_AMT4</th>\n",
       "                        <td id=\"T_111cb282_9a3b_11ea_b7c5_c49dedb01420row12_col0\" class=\"data row12 col0\" >0.29</td>\n",
       "                        <td id=\"T_111cb282_9a3b_11ea_b7c5_c49dedb01420row12_col1\" class=\"data row12 col1\" >-0.02</td>\n",
       "                        <td id=\"T_111cb282_9a3b_11ea_b7c5_c49dedb01420row12_col2\" class=\"data row12 col2\" >0.05</td>\n",
       "                        <td id=\"T_111cb282_9a3b_11ea_b7c5_c49dedb01420row12_col3\" class=\"data row12 col3\" >0.00</td>\n",
       "                        <td id=\"T_111cb282_9a3b_11ea_b7c5_c49dedb01420row12_col4\" class=\"data row12 col4\" >0.01</td>\n",
       "                        <td id=\"T_111cb282_9a3b_11ea_b7c5_c49dedb01420row12_col5\" class=\"data row12 col5\" >0.00</td>\n",
       "                        <td id=\"T_111cb282_9a3b_11ea_b7c5_c49dedb01420row12_col6\" class=\"data row12 col6\" >0.01</td>\n",
       "                        <td id=\"T_111cb282_9a3b_11ea_b7c5_c49dedb01420row12_col7\" class=\"data row12 col7\" >0.02</td>\n",
       "                        <td id=\"T_111cb282_9a3b_11ea_b7c5_c49dedb01420row12_col8\" class=\"data row12 col8\" >0.02</td>\n",
       "                        <td id=\"T_111cb282_9a3b_11ea_b7c5_c49dedb01420row12_col9\" class=\"data row12 col9\" >0.86</td>\n",
       "                        <td id=\"T_111cb282_9a3b_11ea_b7c5_c49dedb01420row12_col10\" class=\"data row12 col10\" >0.89</td>\n",
       "                        <td id=\"T_111cb282_9a3b_11ea_b7c5_c49dedb01420row12_col11\" class=\"data row12 col11\" >0.92</td>\n",
       "                        <td id=\"T_111cb282_9a3b_11ea_b7c5_c49dedb01420row12_col12\" class=\"data row12 col12\" >1.00</td>\n",
       "                        <td id=\"T_111cb282_9a3b_11ea_b7c5_c49dedb01420row12_col13\" class=\"data row12 col13\" >0.94</td>\n",
       "                        <td id=\"T_111cb282_9a3b_11ea_b7c5_c49dedb01420row12_col14\" class=\"data row12 col14\" >0.90</td>\n",
       "                        <td id=\"T_111cb282_9a3b_11ea_b7c5_c49dedb01420row12_col15\" class=\"data row12 col15\" >0.23</td>\n",
       "                        <td id=\"T_111cb282_9a3b_11ea_b7c5_c49dedb01420row12_col16\" class=\"data row12 col16\" >0.21</td>\n",
       "                        <td id=\"T_111cb282_9a3b_11ea_b7c5_c49dedb01420row12_col17\" class=\"data row12 col17\" >0.30</td>\n",
       "                        <td id=\"T_111cb282_9a3b_11ea_b7c5_c49dedb01420row12_col18\" class=\"data row12 col18\" >0.13</td>\n",
       "                        <td id=\"T_111cb282_9a3b_11ea_b7c5_c49dedb01420row12_col19\" class=\"data row12 col19\" >0.16</td>\n",
       "                        <td id=\"T_111cb282_9a3b_11ea_b7c5_c49dedb01420row12_col20\" class=\"data row12 col20\" >0.18</td>\n",
       "                        <td id=\"T_111cb282_9a3b_11ea_b7c5_c49dedb01420row12_col21\" class=\"data row12 col21\" >-0.32</td>\n",
       "                        <td id=\"T_111cb282_9a3b_11ea_b7c5_c49dedb01420row12_col22\" class=\"data row12 col22\" >0.02</td>\n",
       "                        <td id=\"T_111cb282_9a3b_11ea_b7c5_c49dedb01420row12_col23\" class=\"data row12 col23\" >0.02</td>\n",
       "                        <td id=\"T_111cb282_9a3b_11ea_b7c5_c49dedb01420row12_col24\" class=\"data row12 col24\" >-0.01</td>\n",
       "                        <td id=\"T_111cb282_9a3b_11ea_b7c5_c49dedb01420row12_col25\" class=\"data row12 col25\" >0.96</td>\n",
       "                        <td id=\"T_111cb282_9a3b_11ea_b7c5_c49dedb01420row12_col26\" class=\"data row12 col26\" >0.35</td>\n",
       "                        <td id=\"T_111cb282_9a3b_11ea_b7c5_c49dedb01420row12_col27\" class=\"data row12 col27\" >0.01</td>\n",
       "                        <td id=\"T_111cb282_9a3b_11ea_b7c5_c49dedb01420row12_col28\" class=\"data row12 col28\" >0.01</td>\n",
       "            </tr>\n",
       "            <tr>\n",
       "                        <th id=\"T_111cb282_9a3b_11ea_b7c5_c49dedb01420level0_row13\" class=\"row_heading level0 row13\" >BILL_AMT5</th>\n",
       "                        <td id=\"T_111cb282_9a3b_11ea_b7c5_c49dedb01420row13_col0\" class=\"data row13 col0\" >0.30</td>\n",
       "                        <td id=\"T_111cb282_9a3b_11ea_b7c5_c49dedb01420row13_col1\" class=\"data row13 col1\" >-0.03</td>\n",
       "                        <td id=\"T_111cb282_9a3b_11ea_b7c5_c49dedb01420row13_col2\" class=\"data row13 col2\" >0.05</td>\n",
       "                        <td id=\"T_111cb282_9a3b_11ea_b7c5_c49dedb01420row13_col3\" class=\"data row13 col3\" >0.01</td>\n",
       "                        <td id=\"T_111cb282_9a3b_11ea_b7c5_c49dedb01420row13_col4\" class=\"data row13 col4\" >0.02</td>\n",
       "                        <td id=\"T_111cb282_9a3b_11ea_b7c5_c49dedb01420row13_col5\" class=\"data row13 col5\" >0.01</td>\n",
       "                        <td id=\"T_111cb282_9a3b_11ea_b7c5_c49dedb01420row13_col6\" class=\"data row13 col6\" >0.02</td>\n",
       "                        <td id=\"T_111cb282_9a3b_11ea_b7c5_c49dedb01420row13_col7\" class=\"data row13 col7\" >0.03</td>\n",
       "                        <td id=\"T_111cb282_9a3b_11ea_b7c5_c49dedb01420row13_col8\" class=\"data row13 col8\" >0.04</td>\n",
       "                        <td id=\"T_111cb282_9a3b_11ea_b7c5_c49dedb01420row13_col9\" class=\"data row13 col9\" >0.83</td>\n",
       "                        <td id=\"T_111cb282_9a3b_11ea_b7c5_c49dedb01420row13_col10\" class=\"data row13 col10\" >0.86</td>\n",
       "                        <td id=\"T_111cb282_9a3b_11ea_b7c5_c49dedb01420row13_col11\" class=\"data row13 col11\" >0.88</td>\n",
       "                        <td id=\"T_111cb282_9a3b_11ea_b7c5_c49dedb01420row13_col12\" class=\"data row13 col12\" >0.94</td>\n",
       "                        <td id=\"T_111cb282_9a3b_11ea_b7c5_c49dedb01420row13_col13\" class=\"data row13 col13\" >1.00</td>\n",
       "                        <td id=\"T_111cb282_9a3b_11ea_b7c5_c49dedb01420row13_col14\" class=\"data row13 col14\" >0.95</td>\n",
       "                        <td id=\"T_111cb282_9a3b_11ea_b7c5_c49dedb01420row13_col15\" class=\"data row13 col15\" >0.22</td>\n",
       "                        <td id=\"T_111cb282_9a3b_11ea_b7c5_c49dedb01420row13_col16\" class=\"data row13 col16\" >0.18</td>\n",
       "                        <td id=\"T_111cb282_9a3b_11ea_b7c5_c49dedb01420row13_col17\" class=\"data row13 col17\" >0.25</td>\n",
       "                        <td id=\"T_111cb282_9a3b_11ea_b7c5_c49dedb01420row13_col18\" class=\"data row13 col18\" >0.29</td>\n",
       "                        <td id=\"T_111cb282_9a3b_11ea_b7c5_c49dedb01420row13_col19\" class=\"data row13 col19\" >0.14</td>\n",
       "                        <td id=\"T_111cb282_9a3b_11ea_b7c5_c49dedb01420row13_col20\" class=\"data row13 col20\" >0.16</td>\n",
       "                        <td id=\"T_111cb282_9a3b_11ea_b7c5_c49dedb01420row13_col21\" class=\"data row13 col21\" >-0.31</td>\n",
       "                        <td id=\"T_111cb282_9a3b_11ea_b7c5_c49dedb01420row13_col22\" class=\"data row13 col22\" >0.04</td>\n",
       "                        <td id=\"T_111cb282_9a3b_11ea_b7c5_c49dedb01420row13_col23\" class=\"data row13 col23\" >0.02</td>\n",
       "                        <td id=\"T_111cb282_9a3b_11ea_b7c5_c49dedb01420row13_col24\" class=\"data row13 col24\" >-0.01</td>\n",
       "                        <td id=\"T_111cb282_9a3b_11ea_b7c5_c49dedb01420row13_col25\" class=\"data row13 col25\" >0.95</td>\n",
       "                        <td id=\"T_111cb282_9a3b_11ea_b7c5_c49dedb01420row13_col26\" class=\"data row13 col26\" >0.36</td>\n",
       "                        <td id=\"T_111cb282_9a3b_11ea_b7c5_c49dedb01420row13_col27\" class=\"data row13 col27\" >0.02</td>\n",
       "                        <td id=\"T_111cb282_9a3b_11ea_b7c5_c49dedb01420row13_col28\" class=\"data row13 col28\" >0.01</td>\n",
       "            </tr>\n",
       "            <tr>\n",
       "                        <th id=\"T_111cb282_9a3b_11ea_b7c5_c49dedb01420level0_row14\" class=\"row_heading level0 row14\" >BILL_AMT6</th>\n",
       "                        <td id=\"T_111cb282_9a3b_11ea_b7c5_c49dedb01420row14_col0\" class=\"data row14 col0\" >0.29</td>\n",
       "                        <td id=\"T_111cb282_9a3b_11ea_b7c5_c49dedb01420row14_col1\" class=\"data row14 col1\" >-0.02</td>\n",
       "                        <td id=\"T_111cb282_9a3b_11ea_b7c5_c49dedb01420row14_col2\" class=\"data row14 col2\" >0.05</td>\n",
       "                        <td id=\"T_111cb282_9a3b_11ea_b7c5_c49dedb01420row14_col3\" class=\"data row14 col3\" >0.01</td>\n",
       "                        <td id=\"T_111cb282_9a3b_11ea_b7c5_c49dedb01420row14_col4\" class=\"data row14 col4\" >0.02</td>\n",
       "                        <td id=\"T_111cb282_9a3b_11ea_b7c5_c49dedb01420row14_col5\" class=\"data row14 col5\" >0.02</td>\n",
       "                        <td id=\"T_111cb282_9a3b_11ea_b7c5_c49dedb01420row14_col6\" class=\"data row14 col6\" >0.02</td>\n",
       "                        <td id=\"T_111cb282_9a3b_11ea_b7c5_c49dedb01420row14_col7\" class=\"data row14 col7\" >0.04</td>\n",
       "                        <td id=\"T_111cb282_9a3b_11ea_b7c5_c49dedb01420row14_col8\" class=\"data row14 col8\" >0.05</td>\n",
       "                        <td id=\"T_111cb282_9a3b_11ea_b7c5_c49dedb01420row14_col9\" class=\"data row14 col9\" >0.80</td>\n",
       "                        <td id=\"T_111cb282_9a3b_11ea_b7c5_c49dedb01420row14_col10\" class=\"data row14 col10\" >0.83</td>\n",
       "                        <td id=\"T_111cb282_9a3b_11ea_b7c5_c49dedb01420row14_col11\" class=\"data row14 col11\" >0.85</td>\n",
       "                        <td id=\"T_111cb282_9a3b_11ea_b7c5_c49dedb01420row14_col12\" class=\"data row14 col12\" >0.90</td>\n",
       "                        <td id=\"T_111cb282_9a3b_11ea_b7c5_c49dedb01420row14_col13\" class=\"data row14 col13\" >0.95</td>\n",
       "                        <td id=\"T_111cb282_9a3b_11ea_b7c5_c49dedb01420row14_col14\" class=\"data row14 col14\" >1.00</td>\n",
       "                        <td id=\"T_111cb282_9a3b_11ea_b7c5_c49dedb01420row14_col15\" class=\"data row14 col15\" >0.20</td>\n",
       "                        <td id=\"T_111cb282_9a3b_11ea_b7c5_c49dedb01420row14_col16\" class=\"data row14 col16\" >0.17</td>\n",
       "                        <td id=\"T_111cb282_9a3b_11ea_b7c5_c49dedb01420row14_col17\" class=\"data row14 col17\" >0.23</td>\n",
       "                        <td id=\"T_111cb282_9a3b_11ea_b7c5_c49dedb01420row14_col18\" class=\"data row14 col18\" >0.25</td>\n",
       "                        <td id=\"T_111cb282_9a3b_11ea_b7c5_c49dedb01420row14_col19\" class=\"data row14 col19\" >0.31</td>\n",
       "                        <td id=\"T_111cb282_9a3b_11ea_b7c5_c49dedb01420row14_col20\" class=\"data row14 col20\" >0.12</td>\n",
       "                        <td id=\"T_111cb282_9a3b_11ea_b7c5_c49dedb01420row14_col21\" class=\"data row14 col21\" >-0.31</td>\n",
       "                        <td id=\"T_111cb282_9a3b_11ea_b7c5_c49dedb01420row14_col22\" class=\"data row14 col22\" >0.04</td>\n",
       "                        <td id=\"T_111cb282_9a3b_11ea_b7c5_c49dedb01420row14_col23\" class=\"data row14 col23\" >0.02</td>\n",
       "                        <td id=\"T_111cb282_9a3b_11ea_b7c5_c49dedb01420row14_col24\" class=\"data row14 col24\" >-0.01</td>\n",
       "                        <td id=\"T_111cb282_9a3b_11ea_b7c5_c49dedb01420row14_col25\" class=\"data row14 col25\" >0.93</td>\n",
       "                        <td id=\"T_111cb282_9a3b_11ea_b7c5_c49dedb01420row14_col26\" class=\"data row14 col26\" >0.36</td>\n",
       "                        <td id=\"T_111cb282_9a3b_11ea_b7c5_c49dedb01420row14_col27\" class=\"data row14 col27\" >0.03</td>\n",
       "                        <td id=\"T_111cb282_9a3b_11ea_b7c5_c49dedb01420row14_col28\" class=\"data row14 col28\" >0.01</td>\n",
       "            </tr>\n",
       "            <tr>\n",
       "                        <th id=\"T_111cb282_9a3b_11ea_b7c5_c49dedb01420level0_row15\" class=\"row_heading level0 row15\" >PAY_AMT1</th>\n",
       "                        <td id=\"T_111cb282_9a3b_11ea_b7c5_c49dedb01420row15_col0\" class=\"data row15 col0\" >0.20</td>\n",
       "                        <td id=\"T_111cb282_9a3b_11ea_b7c5_c49dedb01420row15_col1\" class=\"data row15 col1\" >-0.01</td>\n",
       "                        <td id=\"T_111cb282_9a3b_11ea_b7c5_c49dedb01420row15_col2\" class=\"data row15 col2\" >0.03</td>\n",
       "                        <td id=\"T_111cb282_9a3b_11ea_b7c5_c49dedb01420row15_col3\" class=\"data row15 col3\" >-0.08</td>\n",
       "                        <td id=\"T_111cb282_9a3b_11ea_b7c5_c49dedb01420row15_col4\" class=\"data row15 col4\" >-0.09</td>\n",
       "                        <td id=\"T_111cb282_9a3b_11ea_b7c5_c49dedb01420row15_col5\" class=\"data row15 col5\" >-0.04</td>\n",
       "                        <td id=\"T_111cb282_9a3b_11ea_b7c5_c49dedb01420row15_col6\" class=\"data row15 col6\" >-0.05</td>\n",
       "                        <td id=\"T_111cb282_9a3b_11ea_b7c5_c49dedb01420row15_col7\" class=\"data row15 col7\" >-0.05</td>\n",
       "                        <td id=\"T_111cb282_9a3b_11ea_b7c5_c49dedb01420row15_col8\" class=\"data row15 col8\" >-0.05</td>\n",
       "                        <td id=\"T_111cb282_9a3b_11ea_b7c5_c49dedb01420row15_col9\" class=\"data row15 col9\" >0.14</td>\n",
       "                        <td id=\"T_111cb282_9a3b_11ea_b7c5_c49dedb01420row15_col10\" class=\"data row15 col10\" >0.28</td>\n",
       "                        <td id=\"T_111cb282_9a3b_11ea_b7c5_c49dedb01420row15_col11\" class=\"data row15 col11\" >0.24</td>\n",
       "                        <td id=\"T_111cb282_9a3b_11ea_b7c5_c49dedb01420row15_col12\" class=\"data row15 col12\" >0.23</td>\n",
       "                        <td id=\"T_111cb282_9a3b_11ea_b7c5_c49dedb01420row15_col13\" class=\"data row15 col13\" >0.22</td>\n",
       "                        <td id=\"T_111cb282_9a3b_11ea_b7c5_c49dedb01420row15_col14\" class=\"data row15 col14\" >0.20</td>\n",
       "                        <td id=\"T_111cb282_9a3b_11ea_b7c5_c49dedb01420row15_col15\" class=\"data row15 col15\" >1.00</td>\n",
       "                        <td id=\"T_111cb282_9a3b_11ea_b7c5_c49dedb01420row15_col16\" class=\"data row15 col16\" >0.29</td>\n",
       "                        <td id=\"T_111cb282_9a3b_11ea_b7c5_c49dedb01420row15_col17\" class=\"data row15 col17\" >0.25</td>\n",
       "                        <td id=\"T_111cb282_9a3b_11ea_b7c5_c49dedb01420row15_col18\" class=\"data row15 col18\" >0.20</td>\n",
       "                        <td id=\"T_111cb282_9a3b_11ea_b7c5_c49dedb01420row15_col19\" class=\"data row15 col19\" >0.15</td>\n",
       "                        <td id=\"T_111cb282_9a3b_11ea_b7c5_c49dedb01420row15_col20\" class=\"data row15 col20\" >0.19</td>\n",
       "                        <td id=\"T_111cb282_9a3b_11ea_b7c5_c49dedb01420row15_col21\" class=\"data row15 col21\" >-0.14</td>\n",
       "                        <td id=\"T_111cb282_9a3b_11ea_b7c5_c49dedb01420row15_col22\" class=\"data row15 col22\" >-0.09</td>\n",
       "                        <td id=\"T_111cb282_9a3b_11ea_b7c5_c49dedb01420row15_col23\" class=\"data row15 col23\" >0.00</td>\n",
       "                        <td id=\"T_111cb282_9a3b_11ea_b7c5_c49dedb01420row15_col24\" class=\"data row15 col24\" >-0.07</td>\n",
       "                        <td id=\"T_111cb282_9a3b_11ea_b7c5_c49dedb01420row15_col25\" class=\"data row15 col25\" >0.23</td>\n",
       "                        <td id=\"T_111cb282_9a3b_11ea_b7c5_c49dedb01420row15_col26\" class=\"data row15 col26\" >0.60</td>\n",
       "                        <td id=\"T_111cb282_9a3b_11ea_b7c5_c49dedb01420row15_col27\" class=\"data row15 col27\" >-0.07</td>\n",
       "                        <td id=\"T_111cb282_9a3b_11ea_b7c5_c49dedb01420row15_col28\" class=\"data row15 col28\" >0.04</td>\n",
       "            </tr>\n",
       "            <tr>\n",
       "                        <th id=\"T_111cb282_9a3b_11ea_b7c5_c49dedb01420level0_row16\" class=\"row_heading level0 row16\" >PAY_AMT2</th>\n",
       "                        <td id=\"T_111cb282_9a3b_11ea_b7c5_c49dedb01420row16_col0\" class=\"data row16 col0\" >0.18</td>\n",
       "                        <td id=\"T_111cb282_9a3b_11ea_b7c5_c49dedb01420row16_col1\" class=\"data row16 col1\" >-0.01</td>\n",
       "                        <td id=\"T_111cb282_9a3b_11ea_b7c5_c49dedb01420row16_col2\" class=\"data row16 col2\" >0.02</td>\n",
       "                        <td id=\"T_111cb282_9a3b_11ea_b7c5_c49dedb01420row16_col3\" class=\"data row16 col3\" >-0.05</td>\n",
       "                        <td id=\"T_111cb282_9a3b_11ea_b7c5_c49dedb01420row16_col4\" class=\"data row16 col4\" >-0.05</td>\n",
       "                        <td id=\"T_111cb282_9a3b_11ea_b7c5_c49dedb01420row16_col5\" class=\"data row16 col5\" >-0.07</td>\n",
       "                        <td id=\"T_111cb282_9a3b_11ea_b7c5_c49dedb01420row16_col6\" class=\"data row16 col6\" >-0.04</td>\n",
       "                        <td id=\"T_111cb282_9a3b_11ea_b7c5_c49dedb01420row16_col7\" class=\"data row16 col7\" >-0.04</td>\n",
       "                        <td id=\"T_111cb282_9a3b_11ea_b7c5_c49dedb01420row16_col8\" class=\"data row16 col8\" >-0.04</td>\n",
       "                        <td id=\"T_111cb282_9a3b_11ea_b7c5_c49dedb01420row16_col9\" class=\"data row16 col9\" >0.10</td>\n",
       "                        <td id=\"T_111cb282_9a3b_11ea_b7c5_c49dedb01420row16_col10\" class=\"data row16 col10\" >0.10</td>\n",
       "                        <td id=\"T_111cb282_9a3b_11ea_b7c5_c49dedb01420row16_col11\" class=\"data row16 col11\" >0.32</td>\n",
       "                        <td id=\"T_111cb282_9a3b_11ea_b7c5_c49dedb01420row16_col12\" class=\"data row16 col12\" >0.21</td>\n",
       "                        <td id=\"T_111cb282_9a3b_11ea_b7c5_c49dedb01420row16_col13\" class=\"data row16 col13\" >0.18</td>\n",
       "                        <td id=\"T_111cb282_9a3b_11ea_b7c5_c49dedb01420row16_col14\" class=\"data row16 col14\" >0.17</td>\n",
       "                        <td id=\"T_111cb282_9a3b_11ea_b7c5_c49dedb01420row16_col15\" class=\"data row16 col15\" >0.29</td>\n",
       "                        <td id=\"T_111cb282_9a3b_11ea_b7c5_c49dedb01420row16_col16\" class=\"data row16 col16\" >1.00</td>\n",
       "                        <td id=\"T_111cb282_9a3b_11ea_b7c5_c49dedb01420row16_col17\" class=\"data row16 col17\" >0.24</td>\n",
       "                        <td id=\"T_111cb282_9a3b_11ea_b7c5_c49dedb01420row16_col18\" class=\"data row16 col18\" >0.18</td>\n",
       "                        <td id=\"T_111cb282_9a3b_11ea_b7c5_c49dedb01420row16_col19\" class=\"data row16 col19\" >0.18</td>\n",
       "                        <td id=\"T_111cb282_9a3b_11ea_b7c5_c49dedb01420row16_col20\" class=\"data row16 col20\" >0.16</td>\n",
       "                        <td id=\"T_111cb282_9a3b_11ea_b7c5_c49dedb01420row16_col21\" class=\"data row16 col21\" >-0.11</td>\n",
       "                        <td id=\"T_111cb282_9a3b_11ea_b7c5_c49dedb01420row16_col22\" class=\"data row16 col22\" >-0.07</td>\n",
       "                        <td id=\"T_111cb282_9a3b_11ea_b7c5_c49dedb01420row16_col23\" class=\"data row16 col23\" >0.00</td>\n",
       "                        <td id=\"T_111cb282_9a3b_11ea_b7c5_c49dedb01420row16_col24\" class=\"data row16 col24\" >-0.06</td>\n",
       "                        <td id=\"T_111cb282_9a3b_11ea_b7c5_c49dedb01420row16_col25\" class=\"data row16 col25\" >0.19</td>\n",
       "                        <td id=\"T_111cb282_9a3b_11ea_b7c5_c49dedb01420row16_col26\" class=\"data row16 col26\" >0.67</td>\n",
       "                        <td id=\"T_111cb282_9a3b_11ea_b7c5_c49dedb01420row16_col27\" class=\"data row16 col27\" >-0.06</td>\n",
       "                        <td id=\"T_111cb282_9a3b_11ea_b7c5_c49dedb01420row16_col28\" class=\"data row16 col28\" >0.03</td>\n",
       "            </tr>\n",
       "            <tr>\n",
       "                        <th id=\"T_111cb282_9a3b_11ea_b7c5_c49dedb01420level0_row17\" class=\"row_heading level0 row17\" >PAY_AMT3</th>\n",
       "                        <td id=\"T_111cb282_9a3b_11ea_b7c5_c49dedb01420row17_col0\" class=\"data row17 col0\" >0.21</td>\n",
       "                        <td id=\"T_111cb282_9a3b_11ea_b7c5_c49dedb01420row17_col1\" class=\"data row17 col1\" >-0.00</td>\n",
       "                        <td id=\"T_111cb282_9a3b_11ea_b7c5_c49dedb01420row17_col2\" class=\"data row17 col2\" >0.03</td>\n",
       "                        <td id=\"T_111cb282_9a3b_11ea_b7c5_c49dedb01420row17_col3\" class=\"data row17 col3\" >-0.06</td>\n",
       "                        <td id=\"T_111cb282_9a3b_11ea_b7c5_c49dedb01420row17_col4\" class=\"data row17 col4\" >-0.06</td>\n",
       "                        <td id=\"T_111cb282_9a3b_11ea_b7c5_c49dedb01420row17_col5\" class=\"data row17 col5\" >-0.06</td>\n",
       "                        <td id=\"T_111cb282_9a3b_11ea_b7c5_c49dedb01420row17_col6\" class=\"data row17 col6\" >-0.07</td>\n",
       "                        <td id=\"T_111cb282_9a3b_11ea_b7c5_c49dedb01420row17_col7\" class=\"data row17 col7\" >-0.04</td>\n",
       "                        <td id=\"T_111cb282_9a3b_11ea_b7c5_c49dedb01420row17_col8\" class=\"data row17 col8\" >-0.04</td>\n",
       "                        <td id=\"T_111cb282_9a3b_11ea_b7c5_c49dedb01420row17_col9\" class=\"data row17 col9\" >0.16</td>\n",
       "                        <td id=\"T_111cb282_9a3b_11ea_b7c5_c49dedb01420row17_col10\" class=\"data row17 col10\" >0.15</td>\n",
       "                        <td id=\"T_111cb282_9a3b_11ea_b7c5_c49dedb01420row17_col11\" class=\"data row17 col11\" >0.13</td>\n",
       "                        <td id=\"T_111cb282_9a3b_11ea_b7c5_c49dedb01420row17_col12\" class=\"data row17 col12\" >0.30</td>\n",
       "                        <td id=\"T_111cb282_9a3b_11ea_b7c5_c49dedb01420row17_col13\" class=\"data row17 col13\" >0.25</td>\n",
       "                        <td id=\"T_111cb282_9a3b_11ea_b7c5_c49dedb01420row17_col14\" class=\"data row17 col14\" >0.23</td>\n",
       "                        <td id=\"T_111cb282_9a3b_11ea_b7c5_c49dedb01420row17_col15\" class=\"data row17 col15\" >0.25</td>\n",
       "                        <td id=\"T_111cb282_9a3b_11ea_b7c5_c49dedb01420row17_col16\" class=\"data row17 col16\" >0.24</td>\n",
       "                        <td id=\"T_111cb282_9a3b_11ea_b7c5_c49dedb01420row17_col17\" class=\"data row17 col17\" >1.00</td>\n",
       "                        <td id=\"T_111cb282_9a3b_11ea_b7c5_c49dedb01420row17_col18\" class=\"data row17 col18\" >0.22</td>\n",
       "                        <td id=\"T_111cb282_9a3b_11ea_b7c5_c49dedb01420row17_col19\" class=\"data row17 col19\" >0.16</td>\n",
       "                        <td id=\"T_111cb282_9a3b_11ea_b7c5_c49dedb01420row17_col20\" class=\"data row17 col20\" >0.16</td>\n",
       "                        <td id=\"T_111cb282_9a3b_11ea_b7c5_c49dedb01420row17_col21\" class=\"data row17 col21\" >-0.13</td>\n",
       "                        <td id=\"T_111cb282_9a3b_11ea_b7c5_c49dedb01420row17_col22\" class=\"data row17 col22\" >-0.08</td>\n",
       "                        <td id=\"T_111cb282_9a3b_11ea_b7c5_c49dedb01420row17_col23\" class=\"data row17 col23\" >0.01</td>\n",
       "                        <td id=\"T_111cb282_9a3b_11ea_b7c5_c49dedb01420row17_col24\" class=\"data row17 col24\" >-0.06</td>\n",
       "                        <td id=\"T_111cb282_9a3b_11ea_b7c5_c49dedb01420row17_col25\" class=\"data row17 col25\" >0.21</td>\n",
       "                        <td id=\"T_111cb282_9a3b_11ea_b7c5_c49dedb01420row17_col26\" class=\"data row17 col26\" >0.59</td>\n",
       "                        <td id=\"T_111cb282_9a3b_11ea_b7c5_c49dedb01420row17_col27\" class=\"data row17 col27\" >-0.07</td>\n",
       "                        <td id=\"T_111cb282_9a3b_11ea_b7c5_c49dedb01420row17_col28\" class=\"data row17 col28\" >0.04</td>\n",
       "            </tr>\n",
       "            <tr>\n",
       "                        <th id=\"T_111cb282_9a3b_11ea_b7c5_c49dedb01420level0_row18\" class=\"row_heading level0 row18\" >PAY_AMT4</th>\n",
       "                        <td id=\"T_111cb282_9a3b_11ea_b7c5_c49dedb01420row18_col0\" class=\"data row18 col0\" >0.20</td>\n",
       "                        <td id=\"T_111cb282_9a3b_11ea_b7c5_c49dedb01420row18_col1\" class=\"data row18 col1\" >-0.01</td>\n",
       "                        <td id=\"T_111cb282_9a3b_11ea_b7c5_c49dedb01420row18_col2\" class=\"data row18 col2\" >0.02</td>\n",
       "                        <td id=\"T_111cb282_9a3b_11ea_b7c5_c49dedb01420row18_col3\" class=\"data row18 col3\" >-0.06</td>\n",
       "                        <td id=\"T_111cb282_9a3b_11ea_b7c5_c49dedb01420row18_col4\" class=\"data row18 col4\" >-0.05</td>\n",
       "                        <td id=\"T_111cb282_9a3b_11ea_b7c5_c49dedb01420row18_col5\" class=\"data row18 col5\" >-0.05</td>\n",
       "                        <td id=\"T_111cb282_9a3b_11ea_b7c5_c49dedb01420row18_col6\" class=\"data row18 col6\" >-0.05</td>\n",
       "                        <td id=\"T_111cb282_9a3b_11ea_b7c5_c49dedb01420row18_col7\" class=\"data row18 col7\" >-0.07</td>\n",
       "                        <td id=\"T_111cb282_9a3b_11ea_b7c5_c49dedb01420row18_col8\" class=\"data row18 col8\" >-0.03</td>\n",
       "                        <td id=\"T_111cb282_9a3b_11ea_b7c5_c49dedb01420row18_col9\" class=\"data row18 col9\" >0.16</td>\n",
       "                        <td id=\"T_111cb282_9a3b_11ea_b7c5_c49dedb01420row18_col10\" class=\"data row18 col10\" >0.15</td>\n",
       "                        <td id=\"T_111cb282_9a3b_11ea_b7c5_c49dedb01420row18_col11\" class=\"data row18 col11\" >0.14</td>\n",
       "                        <td id=\"T_111cb282_9a3b_11ea_b7c5_c49dedb01420row18_col12\" class=\"data row18 col12\" >0.13</td>\n",
       "                        <td id=\"T_111cb282_9a3b_11ea_b7c5_c49dedb01420row18_col13\" class=\"data row18 col13\" >0.29</td>\n",
       "                        <td id=\"T_111cb282_9a3b_11ea_b7c5_c49dedb01420row18_col14\" class=\"data row18 col14\" >0.25</td>\n",
       "                        <td id=\"T_111cb282_9a3b_11ea_b7c5_c49dedb01420row18_col15\" class=\"data row18 col15\" >0.20</td>\n",
       "                        <td id=\"T_111cb282_9a3b_11ea_b7c5_c49dedb01420row18_col16\" class=\"data row18 col16\" >0.18</td>\n",
       "                        <td id=\"T_111cb282_9a3b_11ea_b7c5_c49dedb01420row18_col17\" class=\"data row18 col17\" >0.22</td>\n",
       "                        <td id=\"T_111cb282_9a3b_11ea_b7c5_c49dedb01420row18_col18\" class=\"data row18 col18\" >1.00</td>\n",
       "                        <td id=\"T_111cb282_9a3b_11ea_b7c5_c49dedb01420row18_col19\" class=\"data row18 col19\" >0.15</td>\n",
       "                        <td id=\"T_111cb282_9a3b_11ea_b7c5_c49dedb01420row18_col20\" class=\"data row18 col20\" >0.16</td>\n",
       "                        <td id=\"T_111cb282_9a3b_11ea_b7c5_c49dedb01420row18_col21\" class=\"data row18 col21\" >-0.13</td>\n",
       "                        <td id=\"T_111cb282_9a3b_11ea_b7c5_c49dedb01420row18_col22\" class=\"data row18 col22\" >-0.07</td>\n",
       "                        <td id=\"T_111cb282_9a3b_11ea_b7c5_c49dedb01420row18_col23\" class=\"data row18 col23\" >0.00</td>\n",
       "                        <td id=\"T_111cb282_9a3b_11ea_b7c5_c49dedb01420row18_col24\" class=\"data row18 col24\" >-0.06</td>\n",
       "                        <td id=\"T_111cb282_9a3b_11ea_b7c5_c49dedb01420row18_col25\" class=\"data row18 col25\" >0.19</td>\n",
       "                        <td id=\"T_111cb282_9a3b_11ea_b7c5_c49dedb01420row18_col26\" class=\"data row18 col26\" >0.53</td>\n",
       "                        <td id=\"T_111cb282_9a3b_11ea_b7c5_c49dedb01420row18_col27\" class=\"data row18 col27\" >-0.06</td>\n",
       "                        <td id=\"T_111cb282_9a3b_11ea_b7c5_c49dedb01420row18_col28\" class=\"data row18 col28\" >0.04</td>\n",
       "            </tr>\n",
       "            <tr>\n",
       "                        <th id=\"T_111cb282_9a3b_11ea_b7c5_c49dedb01420level0_row19\" class=\"row_heading level0 row19\" >PAY_AMT5</th>\n",
       "                        <td id=\"T_111cb282_9a3b_11ea_b7c5_c49dedb01420row19_col0\" class=\"data row19 col0\" >0.22</td>\n",
       "                        <td id=\"T_111cb282_9a3b_11ea_b7c5_c49dedb01420row19_col1\" class=\"data row19 col1\" >-0.00</td>\n",
       "                        <td id=\"T_111cb282_9a3b_11ea_b7c5_c49dedb01420row19_col2\" class=\"data row19 col2\" >0.02</td>\n",
       "                        <td id=\"T_111cb282_9a3b_11ea_b7c5_c49dedb01420row19_col3\" class=\"data row19 col3\" >-0.05</td>\n",
       "                        <td id=\"T_111cb282_9a3b_11ea_b7c5_c49dedb01420row19_col4\" class=\"data row19 col4\" >-0.05</td>\n",
       "                        <td id=\"T_111cb282_9a3b_11ea_b7c5_c49dedb01420row19_col5\" class=\"data row19 col5\" >-0.05</td>\n",
       "                        <td id=\"T_111cb282_9a3b_11ea_b7c5_c49dedb01420row19_col6\" class=\"data row19 col6\" >-0.05</td>\n",
       "                        <td id=\"T_111cb282_9a3b_11ea_b7c5_c49dedb01420row19_col7\" class=\"data row19 col7\" >-0.05</td>\n",
       "                        <td id=\"T_111cb282_9a3b_11ea_b7c5_c49dedb01420row19_col8\" class=\"data row19 col8\" >-0.07</td>\n",
       "                        <td id=\"T_111cb282_9a3b_11ea_b7c5_c49dedb01420row19_col9\" class=\"data row19 col9\" >0.17</td>\n",
       "                        <td id=\"T_111cb282_9a3b_11ea_b7c5_c49dedb01420row19_col10\" class=\"data row19 col10\" >0.16</td>\n",
       "                        <td id=\"T_111cb282_9a3b_11ea_b7c5_c49dedb01420row19_col11\" class=\"data row19 col11\" >0.18</td>\n",
       "                        <td id=\"T_111cb282_9a3b_11ea_b7c5_c49dedb01420row19_col12\" class=\"data row19 col12\" >0.16</td>\n",
       "                        <td id=\"T_111cb282_9a3b_11ea_b7c5_c49dedb01420row19_col13\" class=\"data row19 col13\" >0.14</td>\n",
       "                        <td id=\"T_111cb282_9a3b_11ea_b7c5_c49dedb01420row19_col14\" class=\"data row19 col14\" >0.31</td>\n",
       "                        <td id=\"T_111cb282_9a3b_11ea_b7c5_c49dedb01420row19_col15\" class=\"data row19 col15\" >0.15</td>\n",
       "                        <td id=\"T_111cb282_9a3b_11ea_b7c5_c49dedb01420row19_col16\" class=\"data row19 col16\" >0.18</td>\n",
       "                        <td id=\"T_111cb282_9a3b_11ea_b7c5_c49dedb01420row19_col17\" class=\"data row19 col17\" >0.16</td>\n",
       "                        <td id=\"T_111cb282_9a3b_11ea_b7c5_c49dedb01420row19_col18\" class=\"data row19 col18\" >0.15</td>\n",
       "                        <td id=\"T_111cb282_9a3b_11ea_b7c5_c49dedb01420row19_col19\" class=\"data row19 col19\" >1.00</td>\n",
       "                        <td id=\"T_111cb282_9a3b_11ea_b7c5_c49dedb01420row19_col20\" class=\"data row19 col20\" >0.15</td>\n",
       "                        <td id=\"T_111cb282_9a3b_11ea_b7c5_c49dedb01420row19_col21\" class=\"data row19 col21\" >-0.13</td>\n",
       "                        <td id=\"T_111cb282_9a3b_11ea_b7c5_c49dedb01420row19_col22\" class=\"data row19 col22\" >-0.08</td>\n",
       "                        <td id=\"T_111cb282_9a3b_11ea_b7c5_c49dedb01420row19_col23\" class=\"data row19 col23\" >0.00</td>\n",
       "                        <td id=\"T_111cb282_9a3b_11ea_b7c5_c49dedb01420row19_col24\" class=\"data row19 col24\" >-0.06</td>\n",
       "                        <td id=\"T_111cb282_9a3b_11ea_b7c5_c49dedb01420row19_col25\" class=\"data row19 col25\" >0.19</td>\n",
       "                        <td id=\"T_111cb282_9a3b_11ea_b7c5_c49dedb01420row19_col26\" class=\"data row19 col26\" >0.49</td>\n",
       "                        <td id=\"T_111cb282_9a3b_11ea_b7c5_c49dedb01420row19_col27\" class=\"data row19 col27\" >-0.06</td>\n",
       "                        <td id=\"T_111cb282_9a3b_11ea_b7c5_c49dedb01420row19_col28\" class=\"data row19 col28\" >0.05</td>\n",
       "            </tr>\n",
       "            <tr>\n",
       "                        <th id=\"T_111cb282_9a3b_11ea_b7c5_c49dedb01420level0_row20\" class=\"row_heading level0 row20\" >PAY_AMT6</th>\n",
       "                        <td id=\"T_111cb282_9a3b_11ea_b7c5_c49dedb01420row20_col0\" class=\"data row20 col0\" >0.22</td>\n",
       "                        <td id=\"T_111cb282_9a3b_11ea_b7c5_c49dedb01420row20_col1\" class=\"data row20 col1\" >-0.01</td>\n",
       "                        <td id=\"T_111cb282_9a3b_11ea_b7c5_c49dedb01420row20_col2\" class=\"data row20 col2\" >0.02</td>\n",
       "                        <td id=\"T_111cb282_9a3b_11ea_b7c5_c49dedb01420row20_col3\" class=\"data row20 col3\" >-0.05</td>\n",
       "                        <td id=\"T_111cb282_9a3b_11ea_b7c5_c49dedb01420row20_col4\" class=\"data row20 col4\" >-0.04</td>\n",
       "                        <td id=\"T_111cb282_9a3b_11ea_b7c5_c49dedb01420row20_col5\" class=\"data row20 col5\" >-0.05</td>\n",
       "                        <td id=\"T_111cb282_9a3b_11ea_b7c5_c49dedb01420row20_col6\" class=\"data row20 col6\" >-0.05</td>\n",
       "                        <td id=\"T_111cb282_9a3b_11ea_b7c5_c49dedb01420row20_col7\" class=\"data row20 col7\" >-0.05</td>\n",
       "                        <td id=\"T_111cb282_9a3b_11ea_b7c5_c49dedb01420row20_col8\" class=\"data row20 col8\" >-0.05</td>\n",
       "                        <td id=\"T_111cb282_9a3b_11ea_b7c5_c49dedb01420row20_col9\" class=\"data row20 col9\" >0.18</td>\n",
       "                        <td id=\"T_111cb282_9a3b_11ea_b7c5_c49dedb01420row20_col10\" class=\"data row20 col10\" >0.17</td>\n",
       "                        <td id=\"T_111cb282_9a3b_11ea_b7c5_c49dedb01420row20_col11\" class=\"data row20 col11\" >0.18</td>\n",
       "                        <td id=\"T_111cb282_9a3b_11ea_b7c5_c49dedb01420row20_col12\" class=\"data row20 col12\" >0.18</td>\n",
       "                        <td id=\"T_111cb282_9a3b_11ea_b7c5_c49dedb01420row20_col13\" class=\"data row20 col13\" >0.16</td>\n",
       "                        <td id=\"T_111cb282_9a3b_11ea_b7c5_c49dedb01420row20_col14\" class=\"data row20 col14\" >0.12</td>\n",
       "                        <td id=\"T_111cb282_9a3b_11ea_b7c5_c49dedb01420row20_col15\" class=\"data row20 col15\" >0.19</td>\n",
       "                        <td id=\"T_111cb282_9a3b_11ea_b7c5_c49dedb01420row20_col16\" class=\"data row20 col16\" >0.16</td>\n",
       "                        <td id=\"T_111cb282_9a3b_11ea_b7c5_c49dedb01420row20_col17\" class=\"data row20 col17\" >0.16</td>\n",
       "                        <td id=\"T_111cb282_9a3b_11ea_b7c5_c49dedb01420row20_col18\" class=\"data row20 col18\" >0.16</td>\n",
       "                        <td id=\"T_111cb282_9a3b_11ea_b7c5_c49dedb01420row20_col19\" class=\"data row20 col19\" >0.15</td>\n",
       "                        <td id=\"T_111cb282_9a3b_11ea_b7c5_c49dedb01420row20_col20\" class=\"data row20 col20\" >1.00</td>\n",
       "                        <td id=\"T_111cb282_9a3b_11ea_b7c5_c49dedb01420row20_col21\" class=\"data row20 col21\" >-0.12</td>\n",
       "                        <td id=\"T_111cb282_9a3b_11ea_b7c5_c49dedb01420row20_col22\" class=\"data row20 col22\" >-0.07</td>\n",
       "                        <td id=\"T_111cb282_9a3b_11ea_b7c5_c49dedb01420row20_col23\" class=\"data row20 col23\" >0.00</td>\n",
       "                        <td id=\"T_111cb282_9a3b_11ea_b7c5_c49dedb01420row20_col24\" class=\"data row20 col24\" >-0.05</td>\n",
       "                        <td id=\"T_111cb282_9a3b_11ea_b7c5_c49dedb01420row20_col25\" class=\"data row20 col25\" >0.18</td>\n",
       "                        <td id=\"T_111cb282_9a3b_11ea_b7c5_c49dedb01420row20_col26\" class=\"data row20 col26\" >0.53</td>\n",
       "                        <td id=\"T_111cb282_9a3b_11ea_b7c5_c49dedb01420row20_col27\" class=\"data row20 col27\" >-0.06</td>\n",
       "                        <td id=\"T_111cb282_9a3b_11ea_b7c5_c49dedb01420row20_col28\" class=\"data row20 col28\" >0.04</td>\n",
       "            </tr>\n",
       "            <tr>\n",
       "                        <th id=\"T_111cb282_9a3b_11ea_b7c5_c49dedb01420level0_row21\" class=\"row_heading level0 row21\" >zero_PAYMENT</th>\n",
       "                        <td id=\"T_111cb282_9a3b_11ea_b7c5_c49dedb01420row21_col0\" class=\"data row21 col0\" >-0.07</td>\n",
       "                        <td id=\"T_111cb282_9a3b_11ea_b7c5_c49dedb01420row21_col1\" class=\"data row21 col1\" >-0.02</td>\n",
       "                        <td id=\"T_111cb282_9a3b_11ea_b7c5_c49dedb01420row21_col2\" class=\"data row21 col2\" >0.01</td>\n",
       "                        <td id=\"T_111cb282_9a3b_11ea_b7c5_c49dedb01420row21_col3\" class=\"data row21 col3\" >0.28</td>\n",
       "                        <td id=\"T_111cb282_9a3b_11ea_b7c5_c49dedb01420row21_col4\" class=\"data row21 col4\" >0.25</td>\n",
       "                        <td id=\"T_111cb282_9a3b_11ea_b7c5_c49dedb01420row21_col5\" class=\"data row21 col5\" >0.24</td>\n",
       "                        <td id=\"T_111cb282_9a3b_11ea_b7c5_c49dedb01420row21_col6\" class=\"data row21 col6\" >0.22</td>\n",
       "                        <td id=\"T_111cb282_9a3b_11ea_b7c5_c49dedb01420row21_col7\" class=\"data row21 col7\" >0.19</td>\n",
       "                        <td id=\"T_111cb282_9a3b_11ea_b7c5_c49dedb01420row21_col8\" class=\"data row21 col8\" >0.17</td>\n",
       "                        <td id=\"T_111cb282_9a3b_11ea_b7c5_c49dedb01420row21_col9\" class=\"data row21 col9\" >-0.29</td>\n",
       "                        <td id=\"T_111cb282_9a3b_11ea_b7c5_c49dedb01420row21_col10\" class=\"data row21 col10\" >-0.31</td>\n",
       "                        <td id=\"T_111cb282_9a3b_11ea_b7c5_c49dedb01420row21_col11\" class=\"data row21 col11\" >-0.31</td>\n",
       "                        <td id=\"T_111cb282_9a3b_11ea_b7c5_c49dedb01420row21_col12\" class=\"data row21 col12\" >-0.32</td>\n",
       "                        <td id=\"T_111cb282_9a3b_11ea_b7c5_c49dedb01420row21_col13\" class=\"data row21 col13\" >-0.31</td>\n",
       "                        <td id=\"T_111cb282_9a3b_11ea_b7c5_c49dedb01420row21_col14\" class=\"data row21 col14\" >-0.31</td>\n",
       "                        <td id=\"T_111cb282_9a3b_11ea_b7c5_c49dedb01420row21_col15\" class=\"data row21 col15\" >-0.14</td>\n",
       "                        <td id=\"T_111cb282_9a3b_11ea_b7c5_c49dedb01420row21_col16\" class=\"data row21 col16\" >-0.11</td>\n",
       "                        <td id=\"T_111cb282_9a3b_11ea_b7c5_c49dedb01420row21_col17\" class=\"data row21 col17\" >-0.13</td>\n",
       "                        <td id=\"T_111cb282_9a3b_11ea_b7c5_c49dedb01420row21_col18\" class=\"data row21 col18\" >-0.13</td>\n",
       "                        <td id=\"T_111cb282_9a3b_11ea_b7c5_c49dedb01420row21_col19\" class=\"data row21 col19\" >-0.13</td>\n",
       "                        <td id=\"T_111cb282_9a3b_11ea_b7c5_c49dedb01420row21_col20\" class=\"data row21 col20\" >-0.12</td>\n",
       "                        <td id=\"T_111cb282_9a3b_11ea_b7c5_c49dedb01420row21_col21\" class=\"data row21 col21\" >1.00</td>\n",
       "                        <td id=\"T_111cb282_9a3b_11ea_b7c5_c49dedb01420row21_col22\" class=\"data row21 col22\" >0.25</td>\n",
       "                        <td id=\"T_111cb282_9a3b_11ea_b7c5_c49dedb01420row21_col23\" class=\"data row21 col23\" >-0.00</td>\n",
       "                        <td id=\"T_111cb282_9a3b_11ea_b7c5_c49dedb01420row21_col24\" class=\"data row21 col24\" >0.16</td>\n",
       "                        <td id=\"T_111cb282_9a3b_11ea_b7c5_c49dedb01420row21_col25\" class=\"data row21 col25\" >-0.32</td>\n",
       "                        <td id=\"T_111cb282_9a3b_11ea_b7c5_c49dedb01420row21_col26\" class=\"data row21 col26\" >-0.22</td>\n",
       "                        <td id=\"T_111cb282_9a3b_11ea_b7c5_c49dedb01420row21_col27\" class=\"data row21 col27\" >0.27</td>\n",
       "                        <td id=\"T_111cb282_9a3b_11ea_b7c5_c49dedb01420row21_col28\" class=\"data row21 col28\" >0.04</td>\n",
       "            </tr>\n",
       "            <tr>\n",
       "                        <th id=\"T_111cb282_9a3b_11ea_b7c5_c49dedb01420level0_row22\" class=\"row_heading level0 row22\" >PAY_pcount</th>\n",
       "                        <td id=\"T_111cb282_9a3b_11ea_b7c5_c49dedb01420row22_col0\" class=\"data row22 col0\" >-0.24</td>\n",
       "                        <td id=\"T_111cb282_9a3b_11ea_b7c5_c49dedb01420row22_col1\" class=\"data row22 col1\" >-0.01</td>\n",
       "                        <td id=\"T_111cb282_9a3b_11ea_b7c5_c49dedb01420row22_col2\" class=\"data row22 col2\" >-0.02</td>\n",
       "                        <td id=\"T_111cb282_9a3b_11ea_b7c5_c49dedb01420row22_col3\" class=\"data row22 col3\" >0.70</td>\n",
       "                        <td id=\"T_111cb282_9a3b_11ea_b7c5_c49dedb01420row22_col4\" class=\"data row22 col4\" >0.77</td>\n",
       "                        <td id=\"T_111cb282_9a3b_11ea_b7c5_c49dedb01420row22_col5\" class=\"data row22 col5\" >0.76</td>\n",
       "                        <td id=\"T_111cb282_9a3b_11ea_b7c5_c49dedb01420row22_col6\" class=\"data row22 col6\" >0.74</td>\n",
       "                        <td id=\"T_111cb282_9a3b_11ea_b7c5_c49dedb01420row22_col7\" class=\"data row22 col7\" >0.73</td>\n",
       "                        <td id=\"T_111cb282_9a3b_11ea_b7c5_c49dedb01420row22_col8\" class=\"data row22 col8\" >0.68</td>\n",
       "                        <td id=\"T_111cb282_9a3b_11ea_b7c5_c49dedb01420row22_col9\" class=\"data row22 col9\" >-0.03</td>\n",
       "                        <td id=\"T_111cb282_9a3b_11ea_b7c5_c49dedb01420row22_col10\" class=\"data row22 col10\" >-0.01</td>\n",
       "                        <td id=\"T_111cb282_9a3b_11ea_b7c5_c49dedb01420row22_col11\" class=\"data row22 col11\" >0.00</td>\n",
       "                        <td id=\"T_111cb282_9a3b_11ea_b7c5_c49dedb01420row22_col12\" class=\"data row22 col12\" >0.02</td>\n",
       "                        <td id=\"T_111cb282_9a3b_11ea_b7c5_c49dedb01420row22_col13\" class=\"data row22 col13\" >0.04</td>\n",
       "                        <td id=\"T_111cb282_9a3b_11ea_b7c5_c49dedb01420row22_col14\" class=\"data row22 col14\" >0.04</td>\n",
       "                        <td id=\"T_111cb282_9a3b_11ea_b7c5_c49dedb01420row22_col15\" class=\"data row22 col15\" >-0.09</td>\n",
       "                        <td id=\"T_111cb282_9a3b_11ea_b7c5_c49dedb01420row22_col16\" class=\"data row22 col16\" >-0.07</td>\n",
       "                        <td id=\"T_111cb282_9a3b_11ea_b7c5_c49dedb01420row22_col17\" class=\"data row22 col17\" >-0.08</td>\n",
       "                        <td id=\"T_111cb282_9a3b_11ea_b7c5_c49dedb01420row22_col18\" class=\"data row22 col18\" >-0.07</td>\n",
       "                        <td id=\"T_111cb282_9a3b_11ea_b7c5_c49dedb01420row22_col19\" class=\"data row22 col19\" >-0.08</td>\n",
       "                        <td id=\"T_111cb282_9a3b_11ea_b7c5_c49dedb01420row22_col20\" class=\"data row22 col20\" >-0.07</td>\n",
       "                        <td id=\"T_111cb282_9a3b_11ea_b7c5_c49dedb01420row22_col21\" class=\"data row22 col21\" >0.25</td>\n",
       "                        <td id=\"T_111cb282_9a3b_11ea_b7c5_c49dedb01420row22_col22\" class=\"data row22 col22\" >1.00</td>\n",
       "                        <td id=\"T_111cb282_9a3b_11ea_b7c5_c49dedb01420row22_col23\" class=\"data row22 col23\" >0.04</td>\n",
       "                        <td id=\"T_111cb282_9a3b_11ea_b7c5_c49dedb01420row22_col24\" class=\"data row22 col24\" >0.40</td>\n",
       "                        <td id=\"T_111cb282_9a3b_11ea_b7c5_c49dedb01420row22_col25\" class=\"data row22 col25\" >0.01</td>\n",
       "                        <td id=\"T_111cb282_9a3b_11ea_b7c5_c49dedb01420row22_col26\" class=\"data row22 col26\" >-0.13</td>\n",
       "                        <td id=\"T_111cb282_9a3b_11ea_b7c5_c49dedb01420row22_col27\" class=\"data row22 col27\" >0.87</td>\n",
       "                        <td id=\"T_111cb282_9a3b_11ea_b7c5_c49dedb01420row22_col28\" class=\"data row22 col28\" >-0.06</td>\n",
       "            </tr>\n",
       "            <tr>\n",
       "                        <th id=\"T_111cb282_9a3b_11ea_b7c5_c49dedb01420level0_row23\" class=\"row_heading level0 row23\" >male</th>\n",
       "                        <td id=\"T_111cb282_9a3b_11ea_b7c5_c49dedb01420row23_col0\" class=\"data row23 col0\" >-0.02</td>\n",
       "                        <td id=\"T_111cb282_9a3b_11ea_b7c5_c49dedb01420row23_col1\" class=\"data row23 col1\" >0.03</td>\n",
       "                        <td id=\"T_111cb282_9a3b_11ea_b7c5_c49dedb01420row23_col2\" class=\"data row23 col2\" >0.09</td>\n",
       "                        <td id=\"T_111cb282_9a3b_11ea_b7c5_c49dedb01420row23_col3\" class=\"data row23 col3\" >0.04</td>\n",
       "                        <td id=\"T_111cb282_9a3b_11ea_b7c5_c49dedb01420row23_col4\" class=\"data row23 col4\" >0.05</td>\n",
       "                        <td id=\"T_111cb282_9a3b_11ea_b7c5_c49dedb01420row23_col5\" class=\"data row23 col5\" >0.05</td>\n",
       "                        <td id=\"T_111cb282_9a3b_11ea_b7c5_c49dedb01420row23_col6\" class=\"data row23 col6\" >0.04</td>\n",
       "                        <td id=\"T_111cb282_9a3b_11ea_b7c5_c49dedb01420row23_col7\" class=\"data row23 col7\" >0.04</td>\n",
       "                        <td id=\"T_111cb282_9a3b_11ea_b7c5_c49dedb01420row23_col8\" class=\"data row23 col8\" >0.03</td>\n",
       "                        <td id=\"T_111cb282_9a3b_11ea_b7c5_c49dedb01420row23_col9\" class=\"data row23 col9\" >0.03</td>\n",
       "                        <td id=\"T_111cb282_9a3b_11ea_b7c5_c49dedb01420row23_col10\" class=\"data row23 col10\" >0.03</td>\n",
       "                        <td id=\"T_111cb282_9a3b_11ea_b7c5_c49dedb01420row23_col11\" class=\"data row23 col11\" >0.02</td>\n",
       "                        <td id=\"T_111cb282_9a3b_11ea_b7c5_c49dedb01420row23_col12\" class=\"data row23 col12\" >0.02</td>\n",
       "                        <td id=\"T_111cb282_9a3b_11ea_b7c5_c49dedb01420row23_col13\" class=\"data row23 col13\" >0.02</td>\n",
       "                        <td id=\"T_111cb282_9a3b_11ea_b7c5_c49dedb01420row23_col14\" class=\"data row23 col14\" >0.02</td>\n",
       "                        <td id=\"T_111cb282_9a3b_11ea_b7c5_c49dedb01420row23_col15\" class=\"data row23 col15\" >0.00</td>\n",
       "                        <td id=\"T_111cb282_9a3b_11ea_b7c5_c49dedb01420row23_col16\" class=\"data row23 col16\" >0.00</td>\n",
       "                        <td id=\"T_111cb282_9a3b_11ea_b7c5_c49dedb01420row23_col17\" class=\"data row23 col17\" >0.01</td>\n",
       "                        <td id=\"T_111cb282_9a3b_11ea_b7c5_c49dedb01420row23_col18\" class=\"data row23 col18\" >0.00</td>\n",
       "                        <td id=\"T_111cb282_9a3b_11ea_b7c5_c49dedb01420row23_col19\" class=\"data row23 col19\" >0.00</td>\n",
       "                        <td id=\"T_111cb282_9a3b_11ea_b7c5_c49dedb01420row23_col20\" class=\"data row23 col20\" >0.00</td>\n",
       "                        <td id=\"T_111cb282_9a3b_11ea_b7c5_c49dedb01420row23_col21\" class=\"data row23 col21\" >-0.00</td>\n",
       "                        <td id=\"T_111cb282_9a3b_11ea_b7c5_c49dedb01420row23_col22\" class=\"data row23 col22\" >0.04</td>\n",
       "                        <td id=\"T_111cb282_9a3b_11ea_b7c5_c49dedb01420row23_col23\" class=\"data row23 col23\" >1.00</td>\n",
       "                        <td id=\"T_111cb282_9a3b_11ea_b7c5_c49dedb01420row23_col24\" class=\"data row23 col24\" >0.04</td>\n",
       "                        <td id=\"T_111cb282_9a3b_11ea_b7c5_c49dedb01420row23_col25\" class=\"data row23 col25\" >0.03</td>\n",
       "                        <td id=\"T_111cb282_9a3b_11ea_b7c5_c49dedb01420row23_col26\" class=\"data row23 col26\" >0.00</td>\n",
       "                        <td id=\"T_111cb282_9a3b_11ea_b7c5_c49dedb01420row23_col27\" class=\"data row23 col27\" >0.05</td>\n",
       "                        <td id=\"T_111cb282_9a3b_11ea_b7c5_c49dedb01420row23_col28\" class=\"data row23 col28\" >0.01</td>\n",
       "            </tr>\n",
       "            <tr>\n",
       "                        <th id=\"T_111cb282_9a3b_11ea_b7c5_c49dedb01420level0_row24\" class=\"row_heading level0 row24\" >default</th>\n",
       "                        <td id=\"T_111cb282_9a3b_11ea_b7c5_c49dedb01420row24_col0\" class=\"data row24 col0\" >-0.15</td>\n",
       "                        <td id=\"T_111cb282_9a3b_11ea_b7c5_c49dedb01420row24_col1\" class=\"data row24 col1\" >-0.02</td>\n",
       "                        <td id=\"T_111cb282_9a3b_11ea_b7c5_c49dedb01420row24_col2\" class=\"data row24 col2\" >0.01</td>\n",
       "                        <td id=\"T_111cb282_9a3b_11ea_b7c5_c49dedb01420row24_col3\" class=\"data row24 col3\" >0.37</td>\n",
       "                        <td id=\"T_111cb282_9a3b_11ea_b7c5_c49dedb01420row24_col4\" class=\"data row24 col4\" >0.32</td>\n",
       "                        <td id=\"T_111cb282_9a3b_11ea_b7c5_c49dedb01420row24_col5\" class=\"data row24 col5\" >0.28</td>\n",
       "                        <td id=\"T_111cb282_9a3b_11ea_b7c5_c49dedb01420row24_col6\" class=\"data row24 col6\" >0.27</td>\n",
       "                        <td id=\"T_111cb282_9a3b_11ea_b7c5_c49dedb01420row24_col7\" class=\"data row24 col7\" >0.26</td>\n",
       "                        <td id=\"T_111cb282_9a3b_11ea_b7c5_c49dedb01420row24_col8\" class=\"data row24 col8\" >0.24</td>\n",
       "                        <td id=\"T_111cb282_9a3b_11ea_b7c5_c49dedb01420row24_col9\" class=\"data row24 col9\" >-0.02</td>\n",
       "                        <td id=\"T_111cb282_9a3b_11ea_b7c5_c49dedb01420row24_col10\" class=\"data row24 col10\" >-0.01</td>\n",
       "                        <td id=\"T_111cb282_9a3b_11ea_b7c5_c49dedb01420row24_col11\" class=\"data row24 col11\" >-0.01</td>\n",
       "                        <td id=\"T_111cb282_9a3b_11ea_b7c5_c49dedb01420row24_col12\" class=\"data row24 col12\" >-0.01</td>\n",
       "                        <td id=\"T_111cb282_9a3b_11ea_b7c5_c49dedb01420row24_col13\" class=\"data row24 col13\" >-0.01</td>\n",
       "                        <td id=\"T_111cb282_9a3b_11ea_b7c5_c49dedb01420row24_col14\" class=\"data row24 col14\" >-0.01</td>\n",
       "                        <td id=\"T_111cb282_9a3b_11ea_b7c5_c49dedb01420row24_col15\" class=\"data row24 col15\" >-0.07</td>\n",
       "                        <td id=\"T_111cb282_9a3b_11ea_b7c5_c49dedb01420row24_col16\" class=\"data row24 col16\" >-0.06</td>\n",
       "                        <td id=\"T_111cb282_9a3b_11ea_b7c5_c49dedb01420row24_col17\" class=\"data row24 col17\" >-0.06</td>\n",
       "                        <td id=\"T_111cb282_9a3b_11ea_b7c5_c49dedb01420row24_col18\" class=\"data row24 col18\" >-0.06</td>\n",
       "                        <td id=\"T_111cb282_9a3b_11ea_b7c5_c49dedb01420row24_col19\" class=\"data row24 col19\" >-0.06</td>\n",
       "                        <td id=\"T_111cb282_9a3b_11ea_b7c5_c49dedb01420row24_col20\" class=\"data row24 col20\" >-0.05</td>\n",
       "                        <td id=\"T_111cb282_9a3b_11ea_b7c5_c49dedb01420row24_col21\" class=\"data row24 col21\" >0.16</td>\n",
       "                        <td id=\"T_111cb282_9a3b_11ea_b7c5_c49dedb01420row24_col22\" class=\"data row24 col22\" >0.40</td>\n",
       "                        <td id=\"T_111cb282_9a3b_11ea_b7c5_c49dedb01420row24_col23\" class=\"data row24 col23\" >0.04</td>\n",
       "                        <td id=\"T_111cb282_9a3b_11ea_b7c5_c49dedb01420row24_col24\" class=\"data row24 col24\" >1.00</td>\n",
       "                        <td id=\"T_111cb282_9a3b_11ea_b7c5_c49dedb01420row24_col25\" class=\"data row24 col25\" >-0.01</td>\n",
       "                        <td id=\"T_111cb282_9a3b_11ea_b7c5_c49dedb01420row24_col26\" class=\"data row24 col26\" >-0.10</td>\n",
       "                        <td id=\"T_111cb282_9a3b_11ea_b7c5_c49dedb01420row24_col27\" class=\"data row24 col27\" >0.35</td>\n",
       "                        <td id=\"T_111cb282_9a3b_11ea_b7c5_c49dedb01420row24_col28\" class=\"data row24 col28\" >-0.03</td>\n",
       "            </tr>\n",
       "            <tr>\n",
       "                        <th id=\"T_111cb282_9a3b_11ea_b7c5_c49dedb01420level0_row25\" class=\"row_heading level0 row25\" >AVE_BILL</th>\n",
       "                        <td id=\"T_111cb282_9a3b_11ea_b7c5_c49dedb01420row25_col0\" class=\"data row25 col0\" >0.30</td>\n",
       "                        <td id=\"T_111cb282_9a3b_11ea_b7c5_c49dedb01420row25_col1\" class=\"data row25 col1\" >-0.02</td>\n",
       "                        <td id=\"T_111cb282_9a3b_11ea_b7c5_c49dedb01420row25_col2\" class=\"data row25 col2\" >0.05</td>\n",
       "                        <td id=\"T_111cb282_9a3b_11ea_b7c5_c49dedb01420row25_col3\" class=\"data row25 col3\" >-0.00</td>\n",
       "                        <td id=\"T_111cb282_9a3b_11ea_b7c5_c49dedb01420row25_col4\" class=\"data row25 col4\" >0.01</td>\n",
       "                        <td id=\"T_111cb282_9a3b_11ea_b7c5_c49dedb01420row25_col5\" class=\"data row25 col5\" >-0.00</td>\n",
       "                        <td id=\"T_111cb282_9a3b_11ea_b7c5_c49dedb01420row25_col6\" class=\"data row25 col6\" >-0.00</td>\n",
       "                        <td id=\"T_111cb282_9a3b_11ea_b7c5_c49dedb01420row25_col7\" class=\"data row25 col7\" >0.01</td>\n",
       "                        <td id=\"T_111cb282_9a3b_11ea_b7c5_c49dedb01420row25_col8\" class=\"data row25 col8\" >0.01</td>\n",
       "                        <td id=\"T_111cb282_9a3b_11ea_b7c5_c49dedb01420row25_col9\" class=\"data row25 col9\" >0.94</td>\n",
       "                        <td id=\"T_111cb282_9a3b_11ea_b7c5_c49dedb01420row25_col10\" class=\"data row25 col10\" >0.96</td>\n",
       "                        <td id=\"T_111cb282_9a3b_11ea_b7c5_c49dedb01420row25_col11\" class=\"data row25 col11\" >0.96</td>\n",
       "                        <td id=\"T_111cb282_9a3b_11ea_b7c5_c49dedb01420row25_col12\" class=\"data row25 col12\" >0.96</td>\n",
       "                        <td id=\"T_111cb282_9a3b_11ea_b7c5_c49dedb01420row25_col13\" class=\"data row25 col13\" >0.95</td>\n",
       "                        <td id=\"T_111cb282_9a3b_11ea_b7c5_c49dedb01420row25_col14\" class=\"data row25 col14\" >0.93</td>\n",
       "                        <td id=\"T_111cb282_9a3b_11ea_b7c5_c49dedb01420row25_col15\" class=\"data row25 col15\" >0.23</td>\n",
       "                        <td id=\"T_111cb282_9a3b_11ea_b7c5_c49dedb01420row25_col16\" class=\"data row25 col16\" >0.19</td>\n",
       "                        <td id=\"T_111cb282_9a3b_11ea_b7c5_c49dedb01420row25_col17\" class=\"data row25 col17\" >0.21</td>\n",
       "                        <td id=\"T_111cb282_9a3b_11ea_b7c5_c49dedb01420row25_col18\" class=\"data row25 col18\" >0.19</td>\n",
       "                        <td id=\"T_111cb282_9a3b_11ea_b7c5_c49dedb01420row25_col19\" class=\"data row25 col19\" >0.19</td>\n",
       "                        <td id=\"T_111cb282_9a3b_11ea_b7c5_c49dedb01420row25_col20\" class=\"data row25 col20\" >0.18</td>\n",
       "                        <td id=\"T_111cb282_9a3b_11ea_b7c5_c49dedb01420row25_col21\" class=\"data row25 col21\" >-0.32</td>\n",
       "                        <td id=\"T_111cb282_9a3b_11ea_b7c5_c49dedb01420row25_col22\" class=\"data row25 col22\" >0.01</td>\n",
       "                        <td id=\"T_111cb282_9a3b_11ea_b7c5_c49dedb01420row25_col23\" class=\"data row25 col23\" >0.03</td>\n",
       "                        <td id=\"T_111cb282_9a3b_11ea_b7c5_c49dedb01420row25_col24\" class=\"data row25 col24\" >-0.01</td>\n",
       "                        <td id=\"T_111cb282_9a3b_11ea_b7c5_c49dedb01420row25_col25\" class=\"data row25 col25\" >1.00</td>\n",
       "                        <td id=\"T_111cb282_9a3b_11ea_b7c5_c49dedb01420row25_col26\" class=\"data row25 col26\" >0.34</td>\n",
       "                        <td id=\"T_111cb282_9a3b_11ea_b7c5_c49dedb01420row25_col27\" class=\"data row25 col27\" >0.00</td>\n",
       "                        <td id=\"T_111cb282_9a3b_11ea_b7c5_c49dedb01420row25_col28\" class=\"data row25 col28\" >-0.00</td>\n",
       "            </tr>\n",
       "            <tr>\n",
       "                        <th id=\"T_111cb282_9a3b_11ea_b7c5_c49dedb01420level0_row26\" class=\"row_heading level0 row26\" >AVE_PAY_AMT</th>\n",
       "                        <td id=\"T_111cb282_9a3b_11ea_b7c5_c49dedb01420row26_col0\" class=\"data row26 col0\" >0.35</td>\n",
       "                        <td id=\"T_111cb282_9a3b_11ea_b7c5_c49dedb01420row26_col1\" class=\"data row26 col1\" >-0.01</td>\n",
       "                        <td id=\"T_111cb282_9a3b_11ea_b7c5_c49dedb01420row26_col2\" class=\"data row26 col2\" >0.04</td>\n",
       "                        <td id=\"T_111cb282_9a3b_11ea_b7c5_c49dedb01420row26_col3\" class=\"data row26 col3\" >-0.10</td>\n",
       "                        <td id=\"T_111cb282_9a3b_11ea_b7c5_c49dedb01420row26_col4\" class=\"data row26 col4\" >-0.10</td>\n",
       "                        <td id=\"T_111cb282_9a3b_11ea_b7c5_c49dedb01420row26_col5\" class=\"data row26 col5\" >-0.10</td>\n",
       "                        <td id=\"T_111cb282_9a3b_11ea_b7c5_c49dedb01420row26_col6\" class=\"data row26 col6\" >-0.09</td>\n",
       "                        <td id=\"T_111cb282_9a3b_11ea_b7c5_c49dedb01420row26_col7\" class=\"data row26 col7\" >-0.08</td>\n",
       "                        <td id=\"T_111cb282_9a3b_11ea_b7c5_c49dedb01420row26_col8\" class=\"data row26 col8\" >-0.08</td>\n",
       "                        <td id=\"T_111cb282_9a3b_11ea_b7c5_c49dedb01420row26_col9\" class=\"data row26 col9\" >0.26</td>\n",
       "                        <td id=\"T_111cb282_9a3b_11ea_b7c5_c49dedb01420row26_col10\" class=\"data row26 col10\" >0.29</td>\n",
       "                        <td id=\"T_111cb282_9a3b_11ea_b7c5_c49dedb01420row26_col11\" class=\"data row26 col11\" >0.36</td>\n",
       "                        <td id=\"T_111cb282_9a3b_11ea_b7c5_c49dedb01420row26_col12\" class=\"data row26 col12\" >0.35</td>\n",
       "                        <td id=\"T_111cb282_9a3b_11ea_b7c5_c49dedb01420row26_col13\" class=\"data row26 col13\" >0.36</td>\n",
       "                        <td id=\"T_111cb282_9a3b_11ea_b7c5_c49dedb01420row26_col14\" class=\"data row26 col14\" >0.36</td>\n",
       "                        <td id=\"T_111cb282_9a3b_11ea_b7c5_c49dedb01420row26_col15\" class=\"data row26 col15\" >0.60</td>\n",
       "                        <td id=\"T_111cb282_9a3b_11ea_b7c5_c49dedb01420row26_col16\" class=\"data row26 col16\" >0.67</td>\n",
       "                        <td id=\"T_111cb282_9a3b_11ea_b7c5_c49dedb01420row26_col17\" class=\"data row26 col17\" >0.59</td>\n",
       "                        <td id=\"T_111cb282_9a3b_11ea_b7c5_c49dedb01420row26_col18\" class=\"data row26 col18\" >0.53</td>\n",
       "                        <td id=\"T_111cb282_9a3b_11ea_b7c5_c49dedb01420row26_col19\" class=\"data row26 col19\" >0.49</td>\n",
       "                        <td id=\"T_111cb282_9a3b_11ea_b7c5_c49dedb01420row26_col20\" class=\"data row26 col20\" >0.53</td>\n",
       "                        <td id=\"T_111cb282_9a3b_11ea_b7c5_c49dedb01420row26_col21\" class=\"data row26 col21\" >-0.22</td>\n",
       "                        <td id=\"T_111cb282_9a3b_11ea_b7c5_c49dedb01420row26_col22\" class=\"data row26 col22\" >-0.13</td>\n",
       "                        <td id=\"T_111cb282_9a3b_11ea_b7c5_c49dedb01420row26_col23\" class=\"data row26 col23\" >0.00</td>\n",
       "                        <td id=\"T_111cb282_9a3b_11ea_b7c5_c49dedb01420row26_col24\" class=\"data row26 col24\" >-0.10</td>\n",
       "                        <td id=\"T_111cb282_9a3b_11ea_b7c5_c49dedb01420row26_col25\" class=\"data row26 col25\" >0.34</td>\n",
       "                        <td id=\"T_111cb282_9a3b_11ea_b7c5_c49dedb01420row26_col26\" class=\"data row26 col26\" >1.00</td>\n",
       "                        <td id=\"T_111cb282_9a3b_11ea_b7c5_c49dedb01420row26_col27\" class=\"data row26 col27\" >-0.11</td>\n",
       "                        <td id=\"T_111cb282_9a3b_11ea_b7c5_c49dedb01420row26_col28\" class=\"data row26 col28\" >0.07</td>\n",
       "            </tr>\n",
       "            <tr>\n",
       "                        <th id=\"T_111cb282_9a3b_11ea_b7c5_c49dedb01420level0_row27\" class=\"row_heading level0 row27\" >PAY_STATUS</th>\n",
       "                        <td id=\"T_111cb282_9a3b_11ea_b7c5_c49dedb01420row27_col0\" class=\"data row27 col0\" >-0.21</td>\n",
       "                        <td id=\"T_111cb282_9a3b_11ea_b7c5_c49dedb01420row27_col1\" class=\"data row27 col1\" >-0.00</td>\n",
       "                        <td id=\"T_111cb282_9a3b_11ea_b7c5_c49dedb01420row27_col2\" class=\"data row27 col2\" >-0.01</td>\n",
       "                        <td id=\"T_111cb282_9a3b_11ea_b7c5_c49dedb01420row27_col3\" class=\"data row27 col3\" >0.83</td>\n",
       "                        <td id=\"T_111cb282_9a3b_11ea_b7c5_c49dedb01420row27_col4\" class=\"data row27 col4\" >0.87</td>\n",
       "                        <td id=\"T_111cb282_9a3b_11ea_b7c5_c49dedb01420row27_col5\" class=\"data row27 col5\" >0.87</td>\n",
       "                        <td id=\"T_111cb282_9a3b_11ea_b7c5_c49dedb01420row27_col6\" class=\"data row27 col6\" >0.87</td>\n",
       "                        <td id=\"T_111cb282_9a3b_11ea_b7c5_c49dedb01420row27_col7\" class=\"data row27 col7\" >0.84</td>\n",
       "                        <td id=\"T_111cb282_9a3b_11ea_b7c5_c49dedb01420row27_col8\" class=\"data row27 col8\" >0.76</td>\n",
       "                        <td id=\"T_111cb282_9a3b_11ea_b7c5_c49dedb01420row27_col9\" class=\"data row27 col9\" >-0.03</td>\n",
       "                        <td id=\"T_111cb282_9a3b_11ea_b7c5_c49dedb01420row27_col10\" class=\"data row27 col10\" >-0.01</td>\n",
       "                        <td id=\"T_111cb282_9a3b_11ea_b7c5_c49dedb01420row27_col11\" class=\"data row27 col11\" >-0.00</td>\n",
       "                        <td id=\"T_111cb282_9a3b_11ea_b7c5_c49dedb01420row27_col12\" class=\"data row27 col12\" >0.01</td>\n",
       "                        <td id=\"T_111cb282_9a3b_11ea_b7c5_c49dedb01420row27_col13\" class=\"data row27 col13\" >0.02</td>\n",
       "                        <td id=\"T_111cb282_9a3b_11ea_b7c5_c49dedb01420row27_col14\" class=\"data row27 col14\" >0.03</td>\n",
       "                        <td id=\"T_111cb282_9a3b_11ea_b7c5_c49dedb01420row27_col15\" class=\"data row27 col15\" >-0.07</td>\n",
       "                        <td id=\"T_111cb282_9a3b_11ea_b7c5_c49dedb01420row27_col16\" class=\"data row27 col16\" >-0.06</td>\n",
       "                        <td id=\"T_111cb282_9a3b_11ea_b7c5_c49dedb01420row27_col17\" class=\"data row27 col17\" >-0.07</td>\n",
       "                        <td id=\"T_111cb282_9a3b_11ea_b7c5_c49dedb01420row27_col18\" class=\"data row27 col18\" >-0.06</td>\n",
       "                        <td id=\"T_111cb282_9a3b_11ea_b7c5_c49dedb01420row27_col19\" class=\"data row27 col19\" >-0.06</td>\n",
       "                        <td id=\"T_111cb282_9a3b_11ea_b7c5_c49dedb01420row27_col20\" class=\"data row27 col20\" >-0.06</td>\n",
       "                        <td id=\"T_111cb282_9a3b_11ea_b7c5_c49dedb01420row27_col21\" class=\"data row27 col21\" >0.27</td>\n",
       "                        <td id=\"T_111cb282_9a3b_11ea_b7c5_c49dedb01420row27_col22\" class=\"data row27 col22\" >0.87</td>\n",
       "                        <td id=\"T_111cb282_9a3b_11ea_b7c5_c49dedb01420row27_col23\" class=\"data row27 col23\" >0.05</td>\n",
       "                        <td id=\"T_111cb282_9a3b_11ea_b7c5_c49dedb01420row27_col24\" class=\"data row27 col24\" >0.35</td>\n",
       "                        <td id=\"T_111cb282_9a3b_11ea_b7c5_c49dedb01420row27_col25\" class=\"data row27 col25\" >0.00</td>\n",
       "                        <td id=\"T_111cb282_9a3b_11ea_b7c5_c49dedb01420row27_col26\" class=\"data row27 col26\" >-0.11</td>\n",
       "                        <td id=\"T_111cb282_9a3b_11ea_b7c5_c49dedb01420row27_col27\" class=\"data row27 col27\" >1.00</td>\n",
       "                        <td id=\"T_111cb282_9a3b_11ea_b7c5_c49dedb01420row27_col28\" class=\"data row27 col28\" >-0.06</td>\n",
       "            </tr>\n",
       "            <tr>\n",
       "                        <th id=\"T_111cb282_9a3b_11ea_b7c5_c49dedb01420level0_row28\" class=\"row_heading level0 row28\" >EDU</th>\n",
       "                        <td id=\"T_111cb282_9a3b_11ea_b7c5_c49dedb01420row28_col0\" class=\"data row28 col0\" >0.23</td>\n",
       "                        <td id=\"T_111cb282_9a3b_11ea_b7c5_c49dedb01420row28_col1\" class=\"data row28 col1\" >0.15</td>\n",
       "                        <td id=\"T_111cb282_9a3b_11ea_b7c5_c49dedb01420row28_col2\" class=\"data row28 col2\" >-0.18</td>\n",
       "                        <td id=\"T_111cb282_9a3b_11ea_b7c5_c49dedb01420row28_col3\" class=\"data row28 col3\" >-0.05</td>\n",
       "                        <td id=\"T_111cb282_9a3b_11ea_b7c5_c49dedb01420row28_col4\" class=\"data row28 col4\" >-0.06</td>\n",
       "                        <td id=\"T_111cb282_9a3b_11ea_b7c5_c49dedb01420row28_col5\" class=\"data row28 col5\" >-0.05</td>\n",
       "                        <td id=\"T_111cb282_9a3b_11ea_b7c5_c49dedb01420row28_col6\" class=\"data row28 col6\" >-0.05</td>\n",
       "                        <td id=\"T_111cb282_9a3b_11ea_b7c5_c49dedb01420row28_col7\" class=\"data row28 col7\" >-0.04</td>\n",
       "                        <td id=\"T_111cb282_9a3b_11ea_b7c5_c49dedb01420row28_col8\" class=\"data row28 col8\" >-0.03</td>\n",
       "                        <td id=\"T_111cb282_9a3b_11ea_b7c5_c49dedb01420row28_col9\" class=\"data row28 col9\" >-0.02</td>\n",
       "                        <td id=\"T_111cb282_9a3b_11ea_b7c5_c49dedb01420row28_col10\" class=\"data row28 col10\" >-0.01</td>\n",
       "                        <td id=\"T_111cb282_9a3b_11ea_b7c5_c49dedb01420row28_col11\" class=\"data row28 col11\" >-0.01</td>\n",
       "                        <td id=\"T_111cb282_9a3b_11ea_b7c5_c49dedb01420row28_col12\" class=\"data row28 col12\" >0.01</td>\n",
       "                        <td id=\"T_111cb282_9a3b_11ea_b7c5_c49dedb01420row28_col13\" class=\"data row28 col13\" >0.01</td>\n",
       "                        <td id=\"T_111cb282_9a3b_11ea_b7c5_c49dedb01420row28_col14\" class=\"data row28 col14\" >0.01</td>\n",
       "                        <td id=\"T_111cb282_9a3b_11ea_b7c5_c49dedb01420row28_col15\" class=\"data row28 col15\" >0.04</td>\n",
       "                        <td id=\"T_111cb282_9a3b_11ea_b7c5_c49dedb01420row28_col16\" class=\"data row28 col16\" >0.03</td>\n",
       "                        <td id=\"T_111cb282_9a3b_11ea_b7c5_c49dedb01420row28_col17\" class=\"data row28 col17\" >0.04</td>\n",
       "                        <td id=\"T_111cb282_9a3b_11ea_b7c5_c49dedb01420row28_col18\" class=\"data row28 col18\" >0.04</td>\n",
       "                        <td id=\"T_111cb282_9a3b_11ea_b7c5_c49dedb01420row28_col19\" class=\"data row28 col19\" >0.05</td>\n",
       "                        <td id=\"T_111cb282_9a3b_11ea_b7c5_c49dedb01420row28_col20\" class=\"data row28 col20\" >0.04</td>\n",
       "                        <td id=\"T_111cb282_9a3b_11ea_b7c5_c49dedb01420row28_col21\" class=\"data row28 col21\" >0.04</td>\n",
       "                        <td id=\"T_111cb282_9a3b_11ea_b7c5_c49dedb01420row28_col22\" class=\"data row28 col22\" >-0.06</td>\n",
       "                        <td id=\"T_111cb282_9a3b_11ea_b7c5_c49dedb01420row28_col23\" class=\"data row28 col23\" >0.01</td>\n",
       "                        <td id=\"T_111cb282_9a3b_11ea_b7c5_c49dedb01420row28_col24\" class=\"data row28 col24\" >-0.03</td>\n",
       "                        <td id=\"T_111cb282_9a3b_11ea_b7c5_c49dedb01420row28_col25\" class=\"data row28 col25\" >-0.00</td>\n",
       "                        <td id=\"T_111cb282_9a3b_11ea_b7c5_c49dedb01420row28_col26\" class=\"data row28 col26\" >0.07</td>\n",
       "                        <td id=\"T_111cb282_9a3b_11ea_b7c5_c49dedb01420row28_col27\" class=\"data row28 col27\" >-0.06</td>\n",
       "                        <td id=\"T_111cb282_9a3b_11ea_b7c5_c49dedb01420row28_col28\" class=\"data row28 col28\" >1.00</td>\n",
       "            </tr>\n",
       "    </tbody></table>"
      ],
      "text/plain": [
       "<pandas.io.formats.style.Styler at 0x27070072cc8>"
      ]
     },
     "execution_count": 18,
     "metadata": {},
     "output_type": "execute_result"
    }
   ],
   "source": [
    "corrMat = credit.corr()\n",
    "corrMat.style.background_gradient(cmap='coolwarm').set_precision(2)"
   ]
  },
  {
   "cell_type": "markdown",
   "metadata": {},
   "source": [
    "Clearly AVE_BILL is highly correlated to BILL_AMT1, BILL_AMT2,...,BILL_AMT6. (r ranges from 0.93 to 0.96)"
   ]
  },
  {
   "cell_type": "code",
   "execution_count": null,
   "metadata": {},
   "outputs": [],
   "source": [
    "%matplotlib inline\n",
    "credit1=credit=credit.drop(['PAY_0','PAY_2','PAY_3','PAY_4','PAY_5','PAY_6','BILL_AMT1','BILL_AMT2','BILL_AMT3','BILL_AMT4','BILL_AMT5','BILL_AMT6','PAY_pcount'], axis=1)\n",
    "# create the scatter plot\n",
    "sns.pairplot(credit1, hue='default', height=1.5)"
   ]
  },
  {
   "cell_type": "code",
   "execution_count": 19,
   "metadata": {},
   "outputs": [],
   "source": [
    "# create a Python list of feature names\n",
    "feature_b = ['MARRIAGE','AGE','male','AVE_BILL','PAY_AMT1','PAY_AMT2','PAY_AMT3','PAY_AMT4','PAY_AMT5','PAY_AMT6','PAY_STATUS','PAY_pcount','zero_PAYMENT','EDU','default']\n",
    "# use the list to select a subset of the original DataFrame\n",
    "X_b = credit[feature_b]\n",
    "y_b = credit['LIMIT_BAL']"
   ]
  },
  {
   "cell_type": "code",
   "execution_count": 20,
   "metadata": {},
   "outputs": [
    {
     "name": "stdout",
     "output_type": "stream",
     "text": [
      "Best degree 2 with RMSE 104369.6594183956\n"
     ]
    },
    {
     "data": {
      "text/plain": [
       "Text(0.5, 0, 'Degree')"
      ]
     },
     "execution_count": 20,
     "metadata": {},
     "output_type": "execute_result"
    },
    {
     "data": {
      "image/png": "[encoded data removed]",
      "text/plain": [
       "<Figure size 432x288 with 1 Axes>"
      ]
     },
     "metadata": {
      "needs_background": "light"
     },
     "output_type": "display_data"
    }
   ],
   "source": [
    "# copied from https://stackoverflow.com/questions/47442102/how-to-find-the-best-degree-of-polynomials\n",
    "x_train, x_test, y_train, y_test = train_test_split(X_b, y_b, test_size=0.3)\n",
    "\n",
    "rmses = []\n",
    "degrees = np.arange(1, 4)\n",
    "min_rmse, min_deg = 1e10, 0\n",
    "\n",
    "for deg in degrees:\n",
    "\n",
    "    # Train features\n",
    "    poly_features = PolynomialFeatures(degree=deg, include_bias=False)\n",
    "    x_poly_train = poly_features.fit_transform(x_train)\n",
    "\n",
    "    # Linear regression\n",
    "    poly_reg = LinearRegression()\n",
    "    poly_reg.fit(x_poly_train, y_train)\n",
    "\n",
    "    # Compare with test data\n",
    "    x_poly_test = poly_features.fit_transform(x_test)\n",
    "    poly_predict = poly_reg.predict(x_poly_test)\n",
    "    poly_mse = mean_squared_error(y_test, poly_predict)\n",
    "    poly_rmse = np.sqrt(poly_mse)\n",
    "    rmses.append(poly_rmse)\n",
    "\n",
    "    # Cross-validation of degree\n",
    "    if min_rmse > poly_rmse:\n",
    "        min_rmse = poly_rmse\n",
    "        min_deg = deg\n",
    "\n",
    "# Plot and present results\n",
    "print('Best degree {} with RMSE {}'.format(min_deg, min_rmse))\n",
    "\n",
    "fig = plt.figure()\n",
    "ax = fig.add_subplot(111)\n",
    "ax.plot(degrees, rmses)\n",
    "ax.set_yscale('log')\n",
    "ax.set_xlabel('Degree')"
   ]
  },
  {
   "cell_type": "markdown",
   "metadata": {},
   "source": [
    "### Compare Multiple Regression Algorithms"
   ]
  },
  {
   "cell_type": "code",
   "execution_count": 21,
   "metadata": {},
   "outputs": [],
   "source": [
    "# prepare each regression algorithm\n",
    "algosClass = []\n",
    "algosClass.append(('Random Forest Regressor',RandomForestRegressor()))\n",
    "algosClass.append(('Linear Regression',LinearRegression()))\n",
    "algosClass.append(('LASSO', Lasso()))\n",
    "algosClass.append(('Ridge Regression', BayesianRidge()))\n",
    "algosClass.append(('Support Vector Regression',SVR()))"
   ]
  },
  {
   "cell_type": "code",
   "execution_count": 23,
   "metadata": {},
   "outputs": [],
   "source": [
    "# To build and assess both models recursively, we create an empty list to store the results and another to\n",
    "# hold the name of each algorithm so we can easily\n",
    "results = []\n",
    "names = []\n",
    "for name, model in algosClass:\n",
    "    result = cross_val_score(model, X_b,y_b, cv=3, scoring='r2')\n",
    "    names.append(name)\n",
    "    results.append(result)"
   ]
  },
  {
   "cell_type": "code",
   "execution_count": 24,
   "metadata": {},
   "outputs": [
    {
     "name": "stdout",
     "output_type": "stream",
     "text": [
      "Random Forest Regressor 0.4470670944357485\n",
      "Linear Regression 0.286516206846626\n",
      "LASSO 0.28651612700177637\n",
      "Ridge Regression 0.15541392343993676\n",
      "Support Vector Regression -0.0492082139490145\n"
     ]
    }
   ],
   "source": [
    "# print out the results and keep them separated as follows:\n",
    "for i in range(len(names)):\n",
    "    print(names[i],results[i].mean())"
   ]
  },
  {
   "cell_type": "markdown",
   "metadata": {},
   "source": [
    "Random Forest Regressor(RFR) has the highest r2. However, it is still <50%. So we will train RFR mode"
   ]
  },
  {
   "cell_type": "code",
   "execution_count": 25,
   "metadata": {},
   "outputs": [],
   "source": [
    "# create a Python list of feature names\n",
    "feature_b1 = ['MARRIAGE','AGE','male','AVE_BILL','AVE_PAY_AMT','PAY_STATUS','PAY_pcount','zero_PAYMENT','EDU','default']\n",
    "# use the list to select a subset of the original DataFrame\n",
    "X_b1 = credit[feature_b1]\n",
    "y_b1 = credit['LIMIT_BAL']"
   ]
  },
  {
   "cell_type": "code",
   "execution_count": 26,
   "metadata": {},
   "outputs": [],
   "source": [
    "# To build and assess both models recursively, we create an empty list to store the results and another to\n",
    "# hold the name of each algorithm so we can easily\n",
    "results = []\n",
    "names = []\n",
    "for name, model in algosClass:\n",
    "    result = cross_val_score(model, X_b1,y_b1, cv=3, scoring='r2')\n",
    "    names.append(name)\n",
    "    results.append(result)"
   ]
  },
  {
   "cell_type": "code",
   "execution_count": 27,
   "metadata": {},
   "outputs": [
    {
     "name": "stdout",
     "output_type": "stream",
     "text": [
      "Random Forest Regressor 0.4266963578737903\n",
      "Linear Regression 0.2812970661026457\n",
      "LASSO 0.2812970790740261\n",
      "Ridge Regression 0.19375905815129021\n",
      "Support Vector Regression -0.05064563138302436\n"
     ]
    }
   ],
   "source": [
    "# print out the results and keep them separated as follows:\n",
    "for i in range(len(names)):\n",
    "    print(names[i],results[i].mean())"
   ]
  },
  {
   "cell_type": "markdown",
   "metadata": {},
   "source": [
    "Note that we don't lose too much by replacing PAY_AMT1,.. PAY_AMT6 by AVE_PAY_AMT. Note that Ridge Regression actually has R2 increased."
   ]
  },
  {
   "cell_type": "code",
   "execution_count": 102,
   "metadata": {},
   "outputs": [],
   "source": [
    "# drop PAY_pcount, for it is highly correlated to PAY_STATUS\n",
    "feature_b2 = ['MARRIAGE','AGE','male','AVE_BILL','AVE_PAY_AMT','PAY_STATUS','EDU','default']\n",
    "# use the list to select a subset of the original DataFrame\n",
    "X_b2 = credit[feature_b2]\n",
    "y_b2 = credit['LIMIT_BAL']"
   ]
  },
  {
   "cell_type": "code",
   "execution_count": 103,
   "metadata": {},
   "outputs": [],
   "source": [
    "# To build and assess both models recursively, we create an empty list to store the results and another to\n",
    "# hold the name of each algorithm so we can easily\n",
    "results = []\n",
    "names = []\n",
    "for name, model in algosClass:\n",
    "    result = cross_val_score(model, X_b2, y_b2, cv=3, scoring='r2')\n",
    "    names.append(name)\n",
    "    results.append(result)"
   ]
  },
  {
   "cell_type": "code",
   "execution_count": 104,
   "metadata": {},
   "outputs": [
    {
     "name": "stdout",
     "output_type": "stream",
     "text": [
      "Random Forest Regressor 0.42593249368004676\n",
      "Linear Regression 0.26242750136124865\n",
      "LASSO 0.2624275192320799\n",
      "Ridge Regression 0.18798108670184435\n",
      "Support Vector Regression -0.050624833978828\n"
     ]
    }
   ],
   "source": [
    "# print out the results and keep them separated as follows:\n",
    "for i in range(len(names)):\n",
    "    print(names[i],results[i].mean())"
   ]
  },
  {
   "cell_type": "markdown",
   "metadata": {},
   "source": [
    "Note that we don't lose too much by ther dropping PAY_pcount. Note that R2 for RFR and SVR increase.\n",
    "When we further remove zero_PAYMENT, insignificant reduction in R2.\n",
    " \n"
   ]
  },
  {
   "cell_type": "markdown",
   "metadata": {},
   "source": [
    "#### Train the models"
   ]
  },
  {
   "cell_type": "code",
   "execution_count": 36,
   "metadata": {},
   "outputs": [],
   "source": [
    "# Train/Test Split: splitting data into 80% for training and 20% for testing and ensuring the data\n",
    "# is randomly stratified to prevent and bias from occurring due to any ordering of the data.\n",
    "X_train, X_test, y_train, y_test = train_test_split(X_b, y_b, test_size = .20, random_state=123)"
   ]
  },
  {
   "cell_type": "code",
   "execution_count": 37,
   "metadata": {},
   "outputs": [
    {
     "data": {
      "text/plain": [
       "RandomForestRegressor(bootstrap=True, ccp_alpha=0.0, criterion='mse',\n",
       "                      max_depth=None, max_features='auto', max_leaf_nodes=None,\n",
       "                      max_samples=None, min_impurity_decrease=0.0,\n",
       "                      min_impurity_split=None, min_samples_leaf=1,\n",
       "                      min_samples_split=2, min_weight_fraction_leaf=0.0,\n",
       "                      n_estimators=100, n_jobs=None, oob_score=False,\n",
       "                      random_state=None, verbose=0, warm_start=False)"
      ]
     },
     "execution_count": 37,
     "metadata": {},
     "output_type": "execute_result"
    }
   ],
   "source": [
    "# RFC = RandomForestClassifier()\n",
    "RFR = RandomForestRegressor()\n",
    "RFR.fit(X_train, y_train)"
   ]
  },
  {
   "cell_type": "code",
   "execution_count": 38,
   "metadata": {},
   "outputs": [
    {
     "data": {
      "text/plain": [
       "0.45772085818056774"
      ]
     },
     "execution_count": 38,
     "metadata": {},
     "output_type": "execute_result"
    }
   ],
   "source": [
    "RFR.score(X_test,y_test)"
   ]
  },
  {
   "cell_type": "code",
   "execution_count": 39,
   "metadata": {},
   "outputs": [],
   "source": [
    "y_pred_rfr = RFR.predict(X_test)"
   ]
  },
  {
   "cell_type": "code",
   "execution_count": 40,
   "metadata": {},
   "outputs": [
    {
     "data": {
      "image/png": "[encoded data removed]",
      "text/plain": [
       "<Figure size 432x288 with 1 Axes>"
      ]
     },
     "metadata": {
      "needs_background": "light"
     },
     "output_type": "display_data"
    }
   ],
   "source": [
    "plt.scatter(y_test, y_pred_rfr,  color='green', alpha = 0.4)\n",
    "plt.plot(y_test, y_test, color='red', linewidth=2)\n",
    "plt.xlabel('Ground Truth')\n",
    "plt.ylabel('Predictions')\n",
    "plt.show()"
   ]
  },
  {
   "cell_type": "code",
   "execution_count": 41,
   "metadata": {},
   "outputs": [
    {
     "name": "stdout",
     "output_type": "stream",
     "text": [
      "Mean Absolute Error: 68666.729 , Root Mean Squared Error: 94462.261 , R-squared: 0.458\n"
     ]
    }
   ],
   "source": [
    "# compare actual response values (y_test) with predicted response values (y_pred)\n",
    "mae = mean_absolute_error(y_test, y_pred_rfr)\n",
    "rmse = np.sqrt(mean_squared_error(y_test, y_pred_rfr))\n",
    "r_square = r2_score(y_test, y_pred_rfr, multioutput='variance_weighted')\n",
    "print('Mean Absolute Error: %5.3f'% mae,', Root Mean Squared Error: %6.3f'%rmse, ', R-squared: %.3f'% r_square)"
   ]
  },
  {
   "cell_type": "markdown",
   "metadata": {},
   "source": [
    "### Run Linear regression in scikit-learn"
   ]
  },
  {
   "cell_type": "code",
   "execution_count": 42,
   "metadata": {},
   "outputs": [],
   "source": [
    "linreg = LinearRegression()\n",
    "# fit the model to the training data (learn the coefficients)\n",
    "linreg.fit(X_train, y_train)\n",
    "# make predictions on the testing set\n",
    "y_pred_lm = linreg.predict(X_test)"
   ]
  },
  {
   "cell_type": "code",
   "execution_count": 43,
   "metadata": {},
   "outputs": [
    {
     "name": "stdout",
     "output_type": "stream",
     "text": [
      "Mean Absolute Error: 83385.099 , Root Mean Squared Error: 107967.848 , R-squared: 0.292\n"
     ]
    }
   ],
   "source": [
    "# compare actual response values (y_test) with predicted response values (y_pred)\n",
    "mae = mean_absolute_error(y_test, y_pred_lm)\n",
    "rmse = np.sqrt(mean_squared_error(y_test, y_pred_lm))\n",
    "r_square = r2_score(y_test, y_pred_lm, multioutput='variance_weighted')\n",
    "print('Mean Absolute Error: %5.3f'% mae,', Root Mean Squared Error: %6.3f'%rmse, ', R-squared: %.3f'% r_square)"
   ]
  },
  {
   "cell_type": "code",
   "execution_count": 44,
   "metadata": {},
   "outputs": [
    {
     "data": {
      "image/png": "[encoded data removed]",
      "text/plain": [
       "<Figure size 432x288 with 1 Axes>"
      ]
     },
     "metadata": {
      "needs_background": "light"
     },
     "output_type": "display_data"
    }
   ],
   "source": [
    "plt.scatter(y_test, y_pred_lm,  color='green', alpha = 0.4)\n",
    "plt.plot(y_test, y_test, color='red', linewidth=2)\n",
    "plt.xlabel('Ground Truth')\n",
    "plt.ylabel('Predictions')\n",
    "plt.show()"
   ]
  },
  {
   "cell_type": "markdown",
   "metadata": {},
   "source": [
    "#### Principal Component Analysis (PCA)"
   ]
  },
  {
   "cell_type": "markdown",
   "metadata": {},
   "source": [
    "PCA identifies highly correlated features and remove the redundant data for prediction, thus reduces dimensions"
   ]
  },
  {
   "cell_type": "code",
   "execution_count": 46,
   "metadata": {},
   "outputs": [],
   "source": [
    "pca = PCA(n_components=5)  # n_components specifies the new dimensionality\n",
    "X_reduced = pca.fit(X_b).transform(X_b) # or just pca.fit_transform(X)\n",
    "X_reduced = pd.DataFrame(data=X_reduced, columns=['x1','x2','x3','x4','x5'])"
   ]
  },
  {
   "cell_type": "code",
   "execution_count": 47,
   "metadata": {},
   "outputs": [
    {
     "name": "stdout",
     "output_type": "stream",
     "text": [
      "Explained Variance: [4.08863089e+09 6.15852003e+08 3.21890702e+08 2.61932362e+08\n",
      " 2.12791961e+08]\n",
      "Explained Variance Ratio: [0.69157654 0.10416905 0.0544466  0.04430487 0.03599296]\n"
     ]
    }
   ],
   "source": [
    "#print('Components:', pca.components_)\n",
    "print('Explained Variance:', pca.explained_variance_)\n",
    "print('Explained Variance Ratio:', pca.explained_variance_ratio_ )"
   ]
  },
  {
   "cell_type": "markdown",
   "metadata": {},
   "source": [
    "PCA X1 explains 69.2% of the variation, and X2 explains 10.4%. Together is 79.6%"
   ]
  },
  {
   "cell_type": "code",
   "execution_count": 49,
   "metadata": {},
   "outputs": [
    {
     "data": {
      "text/plain": [
       "<matplotlib.axes._subplots.AxesSubplot at 0x2706fff2588>"
      ]
     },
     "execution_count": 49,
     "metadata": {},
     "output_type": "execute_result"
    },
    {
     "data": {
      "image/png": "[encoded data removed]",
      "text/plain": [
       "<Figure size 432x288 with 1 Axes>"
      ]
     },
     "metadata": {
      "needs_background": "light"
     },
     "output_type": "display_data"
    }
   ],
   "source": [
    "sns.scatterplot(x='x1', y='x2', hue=y_b ,data=X_reduced)"
   ]
  },
  {
   "cell_type": "code",
   "execution_count": 51,
   "metadata": {},
   "outputs": [
    {
     "data": {
      "text/plain": [
       "<matplotlib.axes._subplots.AxesSubplot at 0x2700dc64148>"
      ]
     },
     "execution_count": 51,
     "metadata": {},
     "output_type": "execute_result"
    },
    {
     "data": {
      "image/png": "[encoded data removed]",
      "text/plain": [
       "<Figure size 432x288 with 1 Axes>"
      ]
     },
     "metadata": {
      "needs_background": "light"
     },
     "output_type": "display_data"
    }
   ],
   "source": [
    "from sklearn.decomposition import IncrementalPCA\n",
    "ipca = IncrementalPCA(n_components=5, batch_size=10) # batch_size specifies the number of samples per batch\n",
    "X_reduced = pca.fit(X_b).transform(X_b) # or just pca.fit_transform(X)\n",
    "X_reduced = pd.DataFrame(data=X_reduced, columns=['a1','a2','a3','a4','a5'])\n",
    "sns.scatterplot(x='a1', y='a3', hue=y_b ,data=X_reduced)"
   ]
  },
  {
   "cell_type": "code",
   "execution_count": 52,
   "metadata": {},
   "outputs": [
    {
     "data": {
      "text/plain": [
       "<matplotlib.axes._subplots.AxesSubplot at 0x2700dd175c8>"
      ]
     },
     "execution_count": 52,
     "metadata": {},
     "output_type": "execute_result"
    },
    {
     "data": {
      "image/png": "[encoded data removed]",
      "text/plain": [
       "<Figure size 432x288 with 1 Axes>"
      ]
     },
     "metadata": {
      "needs_background": "light"
     },
     "output_type": "display_data"
    }
   ],
   "source": [
    "sns.scatterplot(x='a1', y='a2', hue=y_b ,data=X_reduced)"
   ]
  },
  {
   "cell_type": "code",
   "execution_count": 53,
   "metadata": {},
   "outputs": [
    {
     "data": {
      "text/plain": [
       "<matplotlib.axes._subplots.AxesSubplot at 0x2701c145b48>"
      ]
     },
     "execution_count": 53,
     "metadata": {},
     "output_type": "execute_result"
    },
    {
     "data": {
      "image/png": "[encoded data removed]",
      "text/plain": [
       "<Figure size 432x288 with 1 Axes>"
      ]
     },
     "metadata": {
      "needs_background": "light"
     },
     "output_type": "display_data"
    }
   ],
   "source": [
    "sns.scatterplot(x='a2', y='a3', hue=y_b ,data=X_reduced)"
   ]
  },
  {
   "cell_type": "code",
   "execution_count": 54,
   "metadata": {},
   "outputs": [
    {
     "data": {
      "text/plain": [
       "<matplotlib.axes._subplots.AxesSubplot at 0x2700dc46dc8>"
      ]
     },
     "execution_count": 54,
     "metadata": {},
     "output_type": "execute_result"
    },
    {
     "data": {
      "image/png": "[encoded data removed]",
      "text/plain": [
       "<Figure size 432x288 with 1 Axes>"
      ]
     },
     "metadata": {
      "needs_background": "light"
     },
     "output_type": "display_data"
    }
   ],
   "source": [
    "sns.scatterplot(x='a4', y='a5', hue=y_b ,data=X_reduced)"
   ]
  },
  {
   "cell_type": "markdown",
   "metadata": {},
   "source": [
    "#### Check if the reduced columns also reduce RMSE or MAE"
   ]
  },
  {
   "cell_type": "code",
   "execution_count": 55,
   "metadata": {},
   "outputs": [],
   "source": [
    "# Train/Test Split: splitting data into 80% for training and 20% for testing and ensuring the data\n",
    "# is randomly stratified to prevent and bias from occurring due to any ordering of the data.\n",
    "X_train, X_test, y_train, y_test = train_test_split(X_b2, y_b2, test_size = .20, random_state=123)"
   ]
  },
  {
   "cell_type": "code",
   "execution_count": 56,
   "metadata": {},
   "outputs": [
    {
     "data": {
      "text/plain": [
       "RandomForestRegressor(bootstrap=True, ccp_alpha=0.0, criterion='mse',\n",
       "                      max_depth=None, max_features='auto', max_leaf_nodes=None,\n",
       "                      max_samples=None, min_impurity_decrease=0.0,\n",
       "                      min_impurity_split=None, min_samples_leaf=1,\n",
       "                      min_samples_split=2, min_weight_fraction_leaf=0.0,\n",
       "                      n_estimators=100, n_jobs=None, oob_score=False,\n",
       "                      random_state=None, verbose=0, warm_start=False)"
      ]
     },
     "execution_count": 56,
     "metadata": {},
     "output_type": "execute_result"
    }
   ],
   "source": [
    "# RFC = RandomForestClassifier()\n",
    "RFR = RandomForestRegressor()\n",
    "RFR.fit(X_train, y_train)"
   ]
  },
  {
   "cell_type": "code",
   "execution_count": 57,
   "metadata": {},
   "outputs": [
    {
     "data": {
      "text/plain": [
       "0.42807587345251347"
      ]
     },
     "execution_count": 57,
     "metadata": {},
     "output_type": "execute_result"
    }
   ],
   "source": [
    "RFR.score(X_test,y_test)"
   ]
  },
  {
   "cell_type": "code",
   "execution_count": 58,
   "metadata": {},
   "outputs": [],
   "source": [
    "y_pred_rfr = RFR.predict(X_test)"
   ]
  },
  {
   "cell_type": "code",
   "execution_count": 59,
   "metadata": {},
   "outputs": [
    {
     "name": "stdout",
     "output_type": "stream",
     "text": [
      "Mean Absolute Error: 70204.922 , Root Mean Squared Error: 97009.909 , R-squared: 0.428\n"
     ]
    }
   ],
   "source": [
    "# compare actual response values (y_test) with predicted response values (y_pred)\n",
    "mae = mean_absolute_error(y_test, y_pred_rfr)\n",
    "rmse = np.sqrt(mean_squared_error(y_test, y_pred_rfr))\n",
    "r_square = r2_score(y_test, y_pred_rfr, multioutput='variance_weighted')\n",
    "print('Mean Absolute Error: %5.3f'% mae,', Root Mean Squared Error: %6.3f'%rmse, ', R-squared: %.3f'% r_square)"
   ]
  },
  {
   "cell_type": "markdown",
   "metadata": {},
   "source": [
    "removing PAY_AMTx and PAY_pcount increase errors and reduce R2"
   ]
  },
  {
   "cell_type": "code",
   "execution_count": 60,
   "metadata": {},
   "outputs": [],
   "source": [
    "# Train/Test Split: splitting data into 80% for training and 20% for testing and ensuring the data\n",
    "# is randomly stratified to prevent and bias from occurring due to any ordering of the data.\n",
    "X_train, X_test, y_train, y_test = train_test_split(X_b1, y_b1, test_size = .20, random_state=123)"
   ]
  },
  {
   "cell_type": "code",
   "execution_count": 61,
   "metadata": {},
   "outputs": [
    {
     "data": {
      "text/plain": [
       "RandomForestRegressor(bootstrap=True, ccp_alpha=0.0, criterion='mse',\n",
       "                      max_depth=None, max_features='auto', max_leaf_nodes=None,\n",
       "                      max_samples=None, min_impurity_decrease=0.0,\n",
       "                      min_impurity_split=None, min_samples_leaf=1,\n",
       "                      min_samples_split=2, min_weight_fraction_leaf=0.0,\n",
       "                      n_estimators=100, n_jobs=None, oob_score=False,\n",
       "                      random_state=None, verbose=0, warm_start=False)"
      ]
     },
     "execution_count": 61,
     "metadata": {},
     "output_type": "execute_result"
    }
   ],
   "source": [
    "RFR = RandomForestRegressor()\n",
    "RFR.fit(X_train, y_train)"
   ]
  },
  {
   "cell_type": "code",
   "execution_count": 62,
   "metadata": {},
   "outputs": [
    {
     "data": {
      "text/plain": [
       "0.4228499255931313"
      ]
     },
     "execution_count": 62,
     "metadata": {},
     "output_type": "execute_result"
    }
   ],
   "source": [
    "RFR.score(X_test,y_test)"
   ]
  },
  {
   "cell_type": "code",
   "execution_count": 63,
   "metadata": {},
   "outputs": [
    {
     "name": "stdout",
     "output_type": "stream",
     "text": [
      "Mean Absolute Error: 70559.577 , Root Mean Squared Error: 97452.114 , R-squared: 0.423\n"
     ]
    }
   ],
   "source": [
    "y_pred_rfr = RFR.predict(X_test)\n",
    "# compare actual response values (y_test) with predicted response values (y_pred)\n",
    "mae = mean_absolute_error(y_test, y_pred_rfr)\n",
    "rmse = np.sqrt(mean_squared_error(y_test, y_pred_rfr))\n",
    "r_square = r2_score(y_test, y_pred_rfr, multioutput='variance_weighted')\n",
    "print('Mean Absolute Error: %5.3f'% mae,', Root Mean Squared Error: %6.3f'%rmse, ', R-squared: %.3f'% r_square)"
   ]
  },
  {
   "cell_type": "code",
   "execution_count": 105,
   "metadata": {},
   "outputs": [],
   "source": [
    "# Train/Test Split: splitting data into 80% for training and 20% for testing and ensuring the data\n",
    "# is randomly stratified to prevent and bias from occurring due to any ordering of the data.\n",
    "X_train, X_test, y_train, y_test = train_test_split(X_b2, y_b2, test_size = .20, random_state=123)"
   ]
  },
  {
   "cell_type": "code",
   "execution_count": 106,
   "metadata": {},
   "outputs": [
    {
     "data": {
      "text/plain": [
       "RandomForestRegressor(bootstrap=True, ccp_alpha=0.0, criterion='mse',\n",
       "                      max_depth=None, max_features='auto', max_leaf_nodes=None,\n",
       "                      max_samples=None, min_impurity_decrease=0.0,\n",
       "                      min_impurity_split=None, min_samples_leaf=1,\n",
       "                      min_samples_split=2, min_weight_fraction_leaf=0.0,\n",
       "                      n_estimators=100, n_jobs=None, oob_score=False,\n",
       "                      random_state=None, verbose=0, warm_start=False)"
      ]
     },
     "execution_count": 106,
     "metadata": {},
     "output_type": "execute_result"
    }
   ],
   "source": [
    "RFR = RandomForestRegressor()\n",
    "RFR.fit(X_train, y_train)"
   ]
  },
  {
   "cell_type": "code",
   "execution_count": 107,
   "metadata": {},
   "outputs": [
    {
     "data": {
      "text/plain": [
       "0.4251831022656505"
      ]
     },
     "execution_count": 107,
     "metadata": {},
     "output_type": "execute_result"
    }
   ],
   "source": [
    "RFR.score(X_test,y_test)"
   ]
  },
  {
   "cell_type": "code",
   "execution_count": 108,
   "metadata": {},
   "outputs": [
    {
     "name": "stdout",
     "output_type": "stream",
     "text": [
      "Mean Absolute Error: 70580.243 , Root Mean Squared Error: 97254.935 , R-squared: 0.425\n"
     ]
    }
   ],
   "source": [
    "y_pred_rfr = RFR.predict(X_test)\n",
    "# compare actual response values (y_test) with predicted response values (y_pred)\n",
    "mae = mean_absolute_error(y_test, y_pred_rfr)\n",
    "rmse = np.sqrt(mean_squared_error(y_test, y_pred_rfr))\n",
    "r_square = r2_score(y_test, y_pred_rfr, multioutput='variance_weighted')\n",
    "print('Mean Absolute Error: %5.3f'% mae,', Root Mean Squared Error: %6.3f'%rmse, ', R-squared: %.3f'% r_square)"
   ]
  },
  {
   "cell_type": "markdown",
   "metadata": {},
   "source": [
    "#### Transform LIMIT_BAL from continuous values into categorical variables , LIMIT_BAL_GP,LIMIT_BAL_GPx\n"
   ]
  },
  {
   "cell_type": "code",
   "execution_count": 64,
   "metadata": {},
   "outputs": [],
   "source": [
    "# Convert LIMIT_BAL from Continuous variable to categorical data\n",
    "# Create LIMI_BAL_GP\n",
    "# Use floor_divide by 100000 to get the tens, then multiply by 100000. \n",
    "# Create 5 groups\n",
    "credit['LIMIT_BAL_GP'] = np.floor_divide(credit['LIMIT_BAL'],100000)\n",
    "credit.loc[credit['LIMIT_BAL_GP'] == 0, 'LIMIT_BAL_GP'] = \"<100000\"\n",
    "credit.loc[credit['LIMIT_BAL_GP'] == 1, 'LIMIT_BAL_GP'] = \"<200000\"\n",
    "credit.loc[credit['LIMIT_BAL_GP'] == 2, 'LIMIT_BAL_GP'] = \"<300000\"\n",
    "credit.loc[credit['LIMIT_BAL_GP'] == 3, 'LIMIT_BAL_GP'] = \"<400000\"\n",
    "credit.loc[credit['LIMIT_BAL_GP'] == 4, 'LIMIT_BAL_GP'] = \">=400000\"\n",
    "credit.loc[credit['LIMIT_BAL_GP'] == 5, 'LIMIT_BAL_GP'] = \">=400000\"\n",
    "credit.loc[credit['LIMIT_BAL_GP'] == 6, 'LIMIT_BAL_GP'] = \">=400000\"\n",
    "credit.loc[credit['LIMIT_BAL_GP'] == 7, 'LIMIT_BAL_GP'] = \">=400000\"\n",
    "credit.loc[credit['LIMIT_BAL_GP'] == 8, 'LIMIT_BAL_GP'] = \">=400000\"\n",
    "credit.loc[credit['LIMIT_BAL_GP'] == 9, 'LIMIT_BAL_GP'] = \">=400000\"\n",
    "credit.loc[credit['LIMIT_BAL_GP'] == 10, 'LIMIT_BAL_GP'] = \">=400000\"\n",
    "# Create LIMI_BAL_GP"
   ]
  },
  {
   "cell_type": "code",
   "execution_count": 66,
   "metadata": {},
   "outputs": [],
   "source": [
    "# Use the grouped LIMIT_BAL\n",
    "y = credit.LIMIT_BAL_GP"
   ]
  },
  {
   "cell_type": "code",
   "execution_count": 67,
   "metadata": {},
   "outputs": [
    {
     "name": "stdout",
     "output_type": "stream",
     "text": [
      "[0.49466667 0.493      0.50166667 0.48433333 0.51133333 0.51566667\n",
      " 0.499      0.49066667 0.51166667 0.506     ]\n"
     ]
    }
   ],
   "source": [
    "# 10-fold cross-validation with K=5 for KNN (the n_neighbors parameter)\n",
    "knn = KNeighborsClassifier(n_neighbors=5)\n",
    "scores = cross_val_score(knn, X_b, y, cv=10, scoring='accuracy')\n",
    "print(scores)"
   ]
  },
  {
   "cell_type": "code",
   "execution_count": 68,
   "metadata": {},
   "outputs": [
    {
     "name": "stdout",
     "output_type": "stream",
     "text": [
      "0.5008\n"
     ]
    }
   ],
   "source": [
    "# use average accuracy as an estimate of out-of-sample accuracy\n",
    "print(scores.mean())"
   ]
  },
  {
   "cell_type": "code",
   "execution_count": 69,
   "metadata": {},
   "outputs": [],
   "source": [
    "feature2 = ['MARRIAGE','AGE','male','AVE_BILL','AVE_PAY_AMT','PAY_STATUS','PAY_pcount','zero_PAYMENT','EDU','default']\n",
    "# use the list to select a subset of the original DataFrame\n",
    "X2 = credit[feature2]\n",
    "y2 = credit['LIMIT_BAL_GP']\n",
    "\n",
    "X2_train, X2_test, y2_train, y2_test = train_test_split(X2, y2, random_state=123)"
   ]
  },
  {
   "cell_type": "code",
   "execution_count": 70,
   "metadata": {},
   "outputs": [
    {
     "name": "stdout",
     "output_type": "stream",
     "text": [
      "[0.493      0.49066667 0.50533333 0.48533333 0.50733333 0.518\n",
      " 0.496      0.50133333 0.498      0.50666667]\n"
     ]
    }
   ],
   "source": [
    "knn = KNeighborsClassifier(n_neighbors=7)\n",
    "scores = cross_val_score(knn, X2, y2, cv=10, scoring='accuracy')\n",
    "print(scores)"
   ]
  },
  {
   "cell_type": "code",
   "execution_count": 72,
   "metadata": {},
   "outputs": [
    {
     "name": "stdout",
     "output_type": "stream",
     "text": [
      "[0.5008, 0.5027333333333333, 0.5045666666666667, 0.5077333333333334, 0.5115666666666667, 0.5128, 0.5125333333333334, 0.5154666666666666, 0.516, 0.5179666666666667, 0.5177666666666666, 0.5184666666666666, 0.5181, 0.5192, 0.5195000000000001, 0.5212, 0.5196999999999999]\n"
     ]
    }
   ],
   "source": [
    "# search for an optimal value of K for KNN\n",
    "k_range = list(range(5, 22))\n",
    "k_scores = []\n",
    "for k in k_range:\n",
    "    knn = KNeighborsClassifier(n_neighbors=k)\n",
    "    scores = cross_val_score(knn, X_b, y, cv=10, scoring='accuracy')\n",
    "    k_scores.append(scores.mean())\n",
    "print(k_scores)"
   ]
  },
  {
   "cell_type": "code",
   "execution_count": 73,
   "metadata": {},
   "outputs": [
    {
     "data": {
      "text/plain": [
       "Text(0, 0.5, 'Cross-Validated Accuracy')"
      ]
     },
     "execution_count": 73,
     "metadata": {},
     "output_type": "execute_result"
    },
    {
     "data": {
      "image/png": "[encoded data removed]",
      "text/plain": [
       "<Figure size 432x288 with 1 Axes>"
      ]
     },
     "metadata": {
      "needs_background": "light"
     },
     "output_type": "display_data"
    }
   ],
   "source": [
    "# plot the value of K for KNN (x-axis) versus the cross-validated accuracy (y-axis)\n",
    "plt.plot(k_range, k_scores)\n",
    "plt.xlabel('Value of K for KNN')\n",
    "plt.ylabel('Cross-Validated Accuracy')"
   ]
  },
  {
   "cell_type": "markdown",
   "metadata": {},
   "source": [
    "k=20 has the highest accuracy of ~0.52"
   ]
  },
  {
   "cell_type": "code",
   "execution_count": 74,
   "metadata": {},
   "outputs": [],
   "source": [
    "# define the parameter values that should be searched\n",
    "k_range = list(range(16, 22))\n",
    "weight_options = ['uniform', 'distance']"
   ]
  },
  {
   "cell_type": "code",
   "execution_count": 75,
   "metadata": {},
   "outputs": [
    {
     "name": "stdout",
     "output_type": "stream",
     "text": [
      "{'n_neighbors': [16, 17, 18, 19, 20, 21], 'weights': ['uniform', 'distance']}\n"
     ]
    }
   ],
   "source": [
    "# create a parameter grid: map the parameter names to the values that should be searched\n",
    "param_grid = dict(n_neighbors=k_range, weights=weight_options)\n",
    "print(param_grid)"
   ]
  },
  {
   "cell_type": "code",
   "execution_count": 76,
   "metadata": {},
   "outputs": [
    {
     "data": {
      "text/plain": [
       "GridSearchCV(cv=10, error_score=nan,\n",
       "             estimator=KNeighborsClassifier(algorithm='auto', leaf_size=30,\n",
       "                                            metric='minkowski',\n",
       "                                            metric_params=None, n_jobs=None,\n",
       "                                            n_neighbors=21, p=2,\n",
       "                                            weights='uniform'),\n",
       "             iid='deprecated', n_jobs=None,\n",
       "             param_grid={'n_neighbors': [16, 17, 18, 19, 20, 21],\n",
       "                         'weights': ['uniform', 'distance']},\n",
       "             pre_dispatch='2*n_jobs', refit=True, return_train_score=False,\n",
       "             scoring='accuracy', verbose=0)"
      ]
     },
     "execution_count": 76,
     "metadata": {},
     "output_type": "execute_result"
    }
   ],
   "source": [
    "# instantiate and fit the grid\n",
    "grid = GridSearchCV(knn, param_grid, cv=10, scoring='accuracy', return_train_score=False)\n",
    "grid.fit(X2, y2)"
   ]
  },
  {
   "cell_type": "code",
   "execution_count": 77,
   "metadata": {},
   "outputs": [
    {
     "data": {
      "text/html": [
       "<div>\n",
       "<style scoped>\n",
       "    .dataframe tbody tr th:only-of-type {\n",
       "        vertical-align: middle;\n",
       "    }\n",
       "\n",
       "    .dataframe tbody tr th {\n",
       "        vertical-align: top;\n",
       "    }\n",
       "\n",
       "    .dataframe thead th {\n",
       "        text-align: right;\n",
       "    }\n",
       "</style>\n",
       "<table border=\"1\" class=\"dataframe\">\n",
       "  <thead>\n",
       "    <tr style=\"text-align: right;\">\n",
       "      <th></th>\n",
       "      <th>mean_test_score</th>\n",
       "      <th>std_test_score</th>\n",
       "      <th>params</th>\n",
       "    </tr>\n",
       "  </thead>\n",
       "  <tbody>\n",
       "    <tr>\n",
       "      <th>0</th>\n",
       "      <td>0.513300</td>\n",
       "      <td>0.008935</td>\n",
       "      <td>{'n_neighbors': 16, 'weights': 'uniform'}</td>\n",
       "    </tr>\n",
       "    <tr>\n",
       "      <th>1</th>\n",
       "      <td>0.502100</td>\n",
       "      <td>0.011437</td>\n",
       "      <td>{'n_neighbors': 16, 'weights': 'distance'}</td>\n",
       "    </tr>\n",
       "    <tr>\n",
       "      <th>2</th>\n",
       "      <td>0.515033</td>\n",
       "      <td>0.008739</td>\n",
       "      <td>{'n_neighbors': 17, 'weights': 'uniform'}</td>\n",
       "    </tr>\n",
       "    <tr>\n",
       "      <th>3</th>\n",
       "      <td>0.503633</td>\n",
       "      <td>0.011000</td>\n",
       "      <td>{'n_neighbors': 17, 'weights': 'distance'}</td>\n",
       "    </tr>\n",
       "    <tr>\n",
       "      <th>4</th>\n",
       "      <td>0.515167</td>\n",
       "      <td>0.008710</td>\n",
       "      <td>{'n_neighbors': 18, 'weights': 'uniform'}</td>\n",
       "    </tr>\n",
       "    <tr>\n",
       "      <th>5</th>\n",
       "      <td>0.503667</td>\n",
       "      <td>0.011928</td>\n",
       "      <td>{'n_neighbors': 18, 'weights': 'distance'}</td>\n",
       "    </tr>\n",
       "    <tr>\n",
       "      <th>6</th>\n",
       "      <td>0.515200</td>\n",
       "      <td>0.009542</td>\n",
       "      <td>{'n_neighbors': 19, 'weights': 'uniform'}</td>\n",
       "    </tr>\n",
       "    <tr>\n",
       "      <th>7</th>\n",
       "      <td>0.505533</td>\n",
       "      <td>0.011031</td>\n",
       "      <td>{'n_neighbors': 19, 'weights': 'distance'}</td>\n",
       "    </tr>\n",
       "    <tr>\n",
       "      <th>8</th>\n",
       "      <td>0.516567</td>\n",
       "      <td>0.009838</td>\n",
       "      <td>{'n_neighbors': 20, 'weights': 'uniform'}</td>\n",
       "    </tr>\n",
       "    <tr>\n",
       "      <th>9</th>\n",
       "      <td>0.506767</td>\n",
       "      <td>0.011057</td>\n",
       "      <td>{'n_neighbors': 20, 'weights': 'distance'}</td>\n",
       "    </tr>\n",
       "    <tr>\n",
       "      <th>10</th>\n",
       "      <td>0.515733</td>\n",
       "      <td>0.009850</td>\n",
       "      <td>{'n_neighbors': 21, 'weights': 'uniform'}</td>\n",
       "    </tr>\n",
       "    <tr>\n",
       "      <th>11</th>\n",
       "      <td>0.506367</td>\n",
       "      <td>0.010218</td>\n",
       "      <td>{'n_neighbors': 21, 'weights': 'distance'}</td>\n",
       "    </tr>\n",
       "  </tbody>\n",
       "</table>\n",
       "</div>"
      ],
      "text/plain": [
       "    mean_test_score  std_test_score  \\\n",
       "0          0.513300        0.008935   \n",
       "1          0.502100        0.011437   \n",
       "2          0.515033        0.008739   \n",
       "3          0.503633        0.011000   \n",
       "4          0.515167        0.008710   \n",
       "5          0.503667        0.011928   \n",
       "6          0.515200        0.009542   \n",
       "7          0.505533        0.011031   \n",
       "8          0.516567        0.009838   \n",
       "9          0.506767        0.011057   \n",
       "10         0.515733        0.009850   \n",
       "11         0.506367        0.010218   \n",
       "\n",
       "                                        params  \n",
       "0    {'n_neighbors': 16, 'weights': 'uniform'}  \n",
       "1   {'n_neighbors': 16, 'weights': 'distance'}  \n",
       "2    {'n_neighbors': 17, 'weights': 'uniform'}  \n",
       "3   {'n_neighbors': 17, 'weights': 'distance'}  \n",
       "4    {'n_neighbors': 18, 'weights': 'uniform'}  \n",
       "5   {'n_neighbors': 18, 'weights': 'distance'}  \n",
       "6    {'n_neighbors': 19, 'weights': 'uniform'}  \n",
       "7   {'n_neighbors': 19, 'weights': 'distance'}  \n",
       "8    {'n_neighbors': 20, 'weights': 'uniform'}  \n",
       "9   {'n_neighbors': 20, 'weights': 'distance'}  \n",
       "10   {'n_neighbors': 21, 'weights': 'uniform'}  \n",
       "11  {'n_neighbors': 21, 'weights': 'distance'}  "
      ]
     },
     "execution_count": 77,
     "metadata": {},
     "output_type": "execute_result"
    }
   ],
   "source": [
    "# view the results as a pandas DataFrame\n",
    "pd.DataFrame(grid.cv_results_)[['mean_test_score', 'std_test_score', 'params']]"
   ]
  },
  {
   "cell_type": "code",
   "execution_count": 78,
   "metadata": {},
   "outputs": [],
   "source": [
    "# create LIMI_BAL_GP1\n",
    "# Use floor_divide by 100000 to get the tens, then multiply by 100000. \n",
    "credit['LIMIT_BAL_GP1'] = np.floor_divide(credit['LIMIT_BAL'],100000)\n",
    "credit.loc[credit['LIMIT_BAL_GP1'] == 0, 'LIMIT_BAL_GP1'] = \"<100000\"\n",
    "credit.loc[credit['LIMIT_BAL_GP1'] == 1, 'LIMIT_BAL_GP1'] = \"<200000\"\n",
    "credit.loc[credit['LIMIT_BAL_GP1'] == 2, 'LIMIT_BAL_GP1'] = \"<300000\"\n",
    "credit.loc[credit['LIMIT_BAL_GP1'] == 3, 'LIMIT_BAL_GP1'] = \">=300000\"\n",
    "credit.loc[credit['LIMIT_BAL_GP1'] == 4, 'LIMIT_BAL_GP1'] = \">=300000\"\n",
    "credit.loc[credit['LIMIT_BAL_GP1'] == 5, 'LIMIT_BAL_GP1'] = \">=300000\"\n",
    "credit.loc[credit['LIMIT_BAL_GP1'] == 6, 'LIMIT_BAL_GP1'] = \">=300000\"\n",
    "credit.loc[credit['LIMIT_BAL_GP1'] == 7, 'LIMIT_BAL_GP1'] = \">=300000\"\n",
    "credit.loc[credit['LIMIT_BAL_GP1'] == 8, 'LIMIT_BAL_GP1'] = \">=300000\"\n",
    "credit.loc[credit['LIMIT_BAL_GP1'] == 9, 'LIMIT_BAL_GP1'] = \">=300000\"\n",
    "credit.loc[credit['LIMIT_BAL_GP1'] == 10, 'LIMIT_BAL_GP1'] = \">=300000\""
   ]
  },
  {
   "cell_type": "code",
   "execution_count": 79,
   "metadata": {},
   "outputs": [],
   "source": [
    "feature3 = ['MARRIAGE','AGE','male','AVE_BILL','AVE_PAY_AMT','PAY_STATUS','PAY_pcount','zero_PAYMENT','EDU','default']\n",
    "# use the list to select a subset of the original DataFrame\n",
    "X3 = credit[feature3]\n",
    "y3 = credit['LIMIT_BAL_GP1']"
   ]
  },
  {
   "cell_type": "code",
   "execution_count": 80,
   "metadata": {},
   "outputs": [
    {
     "name": "stdout",
     "output_type": "stream",
     "text": [
      "[0.496      0.49733333 0.50766667 0.50666667 0.51233333 0.53133333\n",
      " 0.514      0.50366667 0.50466667 0.51333333]\n"
     ]
    }
   ],
   "source": [
    "# 10-fold cross-validation with K=5 for KNN (the n_neighbors parameter)\n",
    "knn = KNeighborsClassifier(n_neighbors=5)\n",
    "scores = cross_val_score(knn, X3, y3, cv=10, scoring='accuracy')\n",
    "print(scores)"
   ]
  },
  {
   "cell_type": "code",
   "execution_count": 81,
   "metadata": {},
   "outputs": [
    {
     "name": "stdout",
     "output_type": "stream",
     "text": [
      "0.5087000000000002\n"
     ]
    }
   ],
   "source": [
    "# use average accuracy as an estimate of out-of-sample accuracy\n",
    "print(scores.mean())"
   ]
  },
  {
   "cell_type": "markdown",
   "metadata": {},
   "source": [
    "LIMI_BAL_GP1 grouping is not very good"
   ]
  },
  {
   "cell_type": "code",
   "execution_count": 82,
   "metadata": {},
   "outputs": [],
   "source": [
    "# create LIMI_BAL_GP2\n",
    "# Use floor_divide by 100000 to get the tens, then multiply by 100000. \n",
    "credit['LIMIT_BAL_GP2'] = np.floor_divide(credit['LIMIT_BAL'],100000)\n",
    "credit.loc[credit['LIMIT_BAL_GP2'] == 0, 'LIMIT_BAL_GP2'] = \"<200000\"\n",
    "credit.loc[credit['LIMIT_BAL_GP2'] == 1, 'LIMIT_BAL_GP2'] = \"<200000\"\n",
    "credit.loc[credit['LIMIT_BAL_GP2'] == 2, 'LIMIT_BAL_GP2'] = \"<400000\"\n",
    "credit.loc[credit['LIMIT_BAL_GP2'] == 3, 'LIMIT_BAL_GP2'] = \"<400000\"\n",
    "credit.loc[credit['LIMIT_BAL_GP2'] == 4, 'LIMIT_BAL_GP2'] = \">=400000\"\n",
    "credit.loc[credit['LIMIT_BAL_GP2'] == 5, 'LIMIT_BAL_GP2'] = \">=400000\"\n",
    "credit.loc[credit['LIMIT_BAL_GP2'] == 6, 'LIMIT_BAL_GP2'] = \">=400000\"\n",
    "credit.loc[credit['LIMIT_BAL_GP2'] == 7, 'LIMIT_BAL_GP2'] = \">=400000\"\n",
    "credit.loc[credit['LIMIT_BAL_GP2'] == 8, 'LIMIT_BAL_GP2'] = \">=400000\"\n",
    "credit.loc[credit['LIMIT_BAL_GP2'] == 9, 'LIMIT_BAL_GP2'] = \">=400000\"\n",
    "credit.loc[credit['LIMIT_BAL_GP2'] == 10, 'LIMIT_BAL_GP2'] = \">=400000\""
   ]
  },
  {
   "cell_type": "code",
   "execution_count": 83,
   "metadata": {},
   "outputs": [],
   "source": [
    "feature4 = ['MARRIAGE','AGE','male','AVE_BILL','PAY_AMT1','PAY_AMT2','PAY_AMT3','PAY_AMT4','PAY_AMT5','PAY_AMT6','PAY_STATUS','PAY_pcount','zero_PAYMENT','EDU','default']\n",
    "# use the list to select a subset of the original DataFrame\n",
    "X4 = credit[feature4]\n",
    "y4 = credit['LIMIT_BAL_GP2']"
   ]
  },
  {
   "cell_type": "code",
   "execution_count": 84,
   "metadata": {},
   "outputs": [
    {
     "name": "stdout",
     "output_type": "stream",
     "text": [
      "[0.692      0.686      0.69       0.694      0.69233333 0.69666667\n",
      " 0.69233333 0.67966667 0.69       0.698     ]\n"
     ]
    }
   ],
   "source": [
    "# 10-fold cross-validation with K=5 for KNN (the n_neighbors parameter)\n",
    "knn = KNeighborsClassifier(n_neighbors=10)\n",
    "scores = cross_val_score(knn, X4, y4, cv=10, scoring='accuracy')\n",
    "print(scores)"
   ]
  },
  {
   "cell_type": "code",
   "execution_count": 85,
   "metadata": {},
   "outputs": [
    {
     "name": "stdout",
     "output_type": "stream",
     "text": [
      "0.6910999999999999\n"
     ]
    }
   ],
   "source": [
    "# use average accuracy as an estimate of out-of-sample accuracy\n",
    "print(scores.mean())"
   ]
  },
  {
   "cell_type": "code",
   "execution_count": 86,
   "metadata": {},
   "outputs": [
    {
     "name": "stdout",
     "output_type": "stream",
     "text": [
      "[0.6910999999999999, 0.6903666666666667, 0.6925333333333333, 0.6926, 0.6937666666666666, 0.6926333333333333, 0.6936666666666667, 0.6937333333333333, 0.6936, 0.6935333333333333, 0.6942666666666667, 0.6923666666666667, 0.6938, 0.6925666666666667, 0.6946999999999999, 0.6940333333333333, 0.6939666666666666, 0.6949, 0.6942666666666667, 0.6945666666666666, 0.6941333333333335]\n"
     ]
    }
   ],
   "source": [
    "# search for an optimal value of K for KNN\n",
    "k_range = list(range(10, 31))\n",
    "k_scores = []\n",
    "for k in k_range:\n",
    "    knn = KNeighborsClassifier(n_neighbors=k)\n",
    "    scores = cross_val_score(knn, X4, y4, cv=10, scoring='accuracy')\n",
    "    k_scores.append(scores.mean())\n",
    "print(k_scores)"
   ]
  },
  {
   "cell_type": "code",
   "execution_count": 87,
   "metadata": {},
   "outputs": [
    {
     "data": {
      "text/plain": [
       "Text(0, 0.5, 'Cross-Validated Accuracy')"
      ]
     },
     "execution_count": 87,
     "metadata": {},
     "output_type": "execute_result"
    },
    {
     "data": {
      "image/png": "[encoded data removed]",
      "text/plain": [
       "<Figure size 432x288 with 1 Axes>"
      ]
     },
     "metadata": {
      "needs_background": "light"
     },
     "output_type": "display_data"
    }
   ],
   "source": [
    "#plot the value of K for KNN (x-axis) versus the cross-validated accuracy (y-axis)\n",
    "\n",
    "plt.plot(k_range, k_scores)\n",
    "plt.xlabel('Value of K for KNN')\n",
    "plt.ylabel('Cross-Validated Accuracy')"
   ]
  },
  {
   "cell_type": "markdown",
   "metadata": {},
   "source": [
    "accuracy increases to 0.695 when k =27"
   ]
  },
  {
   "cell_type": "code",
   "execution_count": 88,
   "metadata": {},
   "outputs": [],
   "source": [
    "feature5 = ['MARRIAGE','AGE','male','AVE_BILL','AVE_PAY_AMT','PAY_STATUS','PAY_pcount','zero_PAYMENT','EDU','default']\n",
    "# use the list to select a subset of the original DataFrame\n",
    "X5 = credit[feature5]\n",
    "y5 = credit['LIMIT_BAL_GP2']"
   ]
  },
  {
   "cell_type": "code",
   "execution_count": 89,
   "metadata": {},
   "outputs": [
    {
     "name": "stdout",
     "output_type": "stream",
     "text": [
      "[0.686      0.68466667 0.69033333 0.682      0.691      0.69633333\n",
      " 0.67966667 0.66633333 0.677      0.692     ]\n"
     ]
    }
   ],
   "source": [
    "# 10-fold cross-validation with K=5 for KNN (the n_neighbors parameter)\n",
    "knn = KNeighborsClassifier(n_neighbors=10)\n",
    "scores = cross_val_score(knn, X5, y5, cv=10, scoring='accuracy')\n",
    "print(scores)"
   ]
  },
  {
   "cell_type": "code",
   "execution_count": 90,
   "metadata": {},
   "outputs": [
    {
     "name": "stdout",
     "output_type": "stream",
     "text": [
      "0.6845333333333334\n"
     ]
    }
   ],
   "source": [
    "# use average accuracy as an estimate of out-of-sample accuracy\n",
    "print(scores.mean())"
   ]
  },
  {
   "cell_type": "markdown",
   "metadata": {},
   "source": [
    "Note that if I replaced PAY_AMT1,,,, PAY_AMT6 by AVE_PAY_AMT, not much accuracy lose, accuracy is 0.685"
   ]
  },
  {
   "cell_type": "code",
   "execution_count": 91,
   "metadata": {},
   "outputs": [],
   "source": [
    "feature6 = ['MARRIAGE','AGE','male','AVE_BILL','AVE_PAY_AMT','PAY_STATUS','EDU','default']\n",
    "# use the list to select a subset of the original DataFrame\n",
    "X6 = credit[feature6]\n",
    "y6 = credit['LIMIT_BAL_GP2']"
   ]
  },
  {
   "cell_type": "code",
   "execution_count": 92,
   "metadata": {},
   "outputs": [
    {
     "name": "stdout",
     "output_type": "stream",
     "text": [
      "[0.68733333 0.68466667 0.69133333 0.68133333 0.69033333 0.695\n",
      " 0.68066667 0.665      0.67733333 0.692     ]\n"
     ]
    }
   ],
   "source": [
    "# 10-fold cross-validation with K=5 for KNN (the n_neighbors parameter)\n",
    "knn = KNeighborsClassifier(n_neighbors=10)\n",
    "scores = cross_val_score(knn, X6, y6, cv=10, scoring='accuracy')\n",
    "print(scores)"
   ]
  },
  {
   "cell_type": "code",
   "execution_count": 93,
   "metadata": {},
   "outputs": [
    {
     "name": "stdout",
     "output_type": "stream",
     "text": [
      "0.6845\n"
     ]
    }
   ],
   "source": [
    "# use average accuracy as an estimate of out-of-sample accuracy\n",
    "print(scores.mean())"
   ]
  },
  {
   "cell_type": "markdown",
   "metadata": {},
   "source": [
    "Remove PAY_pcount and zero_PAYMENT, accuracy is about the same."
   ]
  },
  {
   "cell_type": "code",
   "execution_count": 95,
   "metadata": {},
   "outputs": [],
   "source": [
    "# create LIMI_BAL_GP3\n",
    "# Use floor_divide by 100000 to get the tens, then multiply by 100000. \n",
    "credit['LIMIT_BAL_GP3'] = np.floor_divide(credit['LIMIT_BAL'],100000)\n",
    "credit.loc[credit['LIMIT_BAL_GP3'] == 0, 'LIMIT_BAL_GP3'] = \"<100000\"\n",
    "credit.loc[credit['LIMIT_BAL_GP3'] == 1, 'LIMIT_BAL_GP3'] = \"<200000\"\n",
    "credit.loc[credit['LIMIT_BAL_GP3'] == 2, 'LIMIT_BAL_GP3'] = \"<200000\"\n",
    "credit.loc[credit['LIMIT_BAL_GP3'] == 3, 'LIMIT_BAL_GP3'] = \">=300000\"\n",
    "credit.loc[credit['LIMIT_BAL_GP3'] == 4, 'LIMIT_BAL_GP3'] = \">=300000\"\n",
    "credit.loc[credit['LIMIT_BAL_GP3'] == 5, 'LIMIT_BAL_GP3'] = \">=300000\"\n",
    "credit.loc[credit['LIMIT_BAL_GP3'] == 6, 'LIMIT_BAL_GP3'] = \">=300000\"\n",
    "credit.loc[credit['LIMIT_BAL_GP3'] == 7, 'LIMIT_BAL_GP3'] = \">=300000\"\n",
    "credit.loc[credit['LIMIT_BAL_GP3'] == 8, 'LIMIT_BAL_GP3'] = \">=300000\"\n",
    "credit.loc[credit['LIMIT_BAL_GP3'] == 9, 'LIMIT_BAL_GP3'] = \">=300000\"\n",
    "credit.loc[credit['LIMIT_BAL_GP3'] == 10, 'LIMIT_BAL_GP3'] = \">=300000\""
   ]
  },
  {
   "cell_type": "code",
   "execution_count": 96,
   "metadata": {},
   "outputs": [],
   "source": [
    "feature6 = ['MARRIAGE','AGE','male','AVE_BILL','PAY_AMT1','PAY_AMT2','PAY_AMT3','PAY_AMT4','PAY_AMT5','PAY_AMT6','PAY_STATUS','EDU','default']\n",
    "# use the list to select a subset of the original DataFrame\n",
    "X6 = credit[feature6]\n",
    "y6 = credit['LIMIT_BAL_GP3']"
   ]
  },
  {
   "cell_type": "code",
   "execution_count": 97,
   "metadata": {},
   "outputs": [
    {
     "name": "stdout",
     "output_type": "stream",
     "text": [
      "[0.641      0.64266667 0.63666667 0.641      0.657      0.65633333\n",
      " 0.645      0.62633333 0.65333333 0.64133333]\n"
     ]
    }
   ],
   "source": [
    "# 10-fold cross-validation with K=5 for KNN (the n_neighbors parameter)\n",
    "knn = KNeighborsClassifier(n_neighbors=10)\n",
    "scores = cross_val_score(knn, X6, y6, cv=10, scoring='accuracy')\n",
    "print(scores)"
   ]
  },
  {
   "cell_type": "code",
   "execution_count": 98,
   "metadata": {},
   "outputs": [
    {
     "name": "stdout",
     "output_type": "stream",
     "text": [
      "0.6440666666666667\n"
     ]
    }
   ],
   "source": [
    "# use average accuracy as an estimate of out-of-sample accuracy\n",
    "print(scores.mean())"
   ]
  },
  {
   "cell_type": "code",
   "execution_count": 99,
   "metadata": {},
   "outputs": [],
   "source": [
    "feature7 = ['MARRIAGE','AGE','male','AVE_BILL','AVE_PAY_AMT','PAY_STATUS','EDU','default']\n",
    "# use the list to select a subset of the original DataFrame\n",
    "X7 = credit[feature7]\n",
    "y7 = credit['LIMIT_BAL_GP3']"
   ]
  },
  {
   "cell_type": "code",
   "execution_count": 100,
   "metadata": {},
   "outputs": [
    {
     "name": "stdout",
     "output_type": "stream",
     "text": [
      "[0.63466667 0.63733333 0.63366667 0.62733333 0.64766667 0.64666667\n",
      " 0.636      0.61966667 0.64466667 0.63533333]\n"
     ]
    }
   ],
   "source": [
    "# 10-fold cross-validation with K=5 for KNN (the n_neighbors parameter)\n",
    "knn = KNeighborsClassifier(n_neighbors=10)\n",
    "scores = cross_val_score(knn, X7, y7, cv=10, scoring='accuracy')\n",
    "print(scores)"
   ]
  },
  {
   "cell_type": "code",
   "execution_count": 101,
   "metadata": {},
   "outputs": [
    {
     "name": "stdout",
     "output_type": "stream",
     "text": [
      "0.6363000000000001\n"
     ]
    }
   ],
   "source": [
    "# use average accuracy as an estimate of out-of-sample accuracy\n",
    "print(scores.mean())"
   ]
  },
  {
   "cell_type": "markdown",
   "metadata": {},
   "source": [
    "# Identify key features that affect \"Default\""
   ]
  },
  {
   "cell_type": "markdown",
   "metadata": {},
   "source": [
    "### Logistic regression"
   ]
  },
  {
   "cell_type": "code",
   "execution_count": 109,
   "metadata": {},
   "outputs": [],
   "source": [
    "feature_col =  ['LIMIT_BAL','MARRIAGE','AGE','male','AVE_BILL','PAY_AMT1','PAY_AMT2','PAY_AMT3','PAY_AMT4','PAY_AMT5','PAY_AMT6','PAY_STATUS','zero_PAYMENT','EDU']\n",
    "X = credit[feature_col]\n",
    "y = credit['default']"
   ]
  },
  {
   "cell_type": "code",
   "execution_count": 110,
   "metadata": {},
   "outputs": [],
   "source": [
    "# Standardizing the features\n",
    "X_1 = StandardScaler().fit_transform(X)"
   ]
  },
  {
   "cell_type": "code",
   "execution_count": 111,
   "metadata": {},
   "outputs": [
    {
     "name": "stderr",
     "output_type": "stream",
     "text": [
      "C:\\Users\\cthian972\\anaconda3\\envs\\hw\\lib\\site-packages\\sklearn\\linear_model\\_logistic.py:940: ConvergenceWarning: lbfgs failed to converge (status=1):\n",
      "STOP: TOTAL NO. of ITERATIONS REACHED LIMIT.\n",
      "\n",
      "Increase the number of iterations (max_iter) or scale the data as shown in:\n",
      "    https://scikit-learn.org/stable/modules/preprocessing.html\n",
      "Please also refer to the documentation for alternative solver options:\n",
      "    https://scikit-learn.org/stable/modules/linear_model.html#logistic-regression\n",
      "  extra_warning_msg=_LOGISTIC_SOLVER_CONVERGENCE_MSG)\n"
     ]
    },
    {
     "name": "stdout",
     "output_type": "stream",
     "text": [
      "Best degree 2 with RMSE 0.4381780460041329\n"
     ]
    },
    {
     "name": "stderr",
     "output_type": "stream",
     "text": [
      "C:\\Users\\cthian972\\anaconda3\\envs\\hw\\lib\\site-packages\\sklearn\\linear_model\\_logistic.py:940: ConvergenceWarning: lbfgs failed to converge (status=1):\n",
      "STOP: TOTAL NO. of ITERATIONS REACHED LIMIT.\n",
      "\n",
      "Increase the number of iterations (max_iter) or scale the data as shown in:\n",
      "    https://scikit-learn.org/stable/modules/preprocessing.html\n",
      "Please also refer to the documentation for alternative solver options:\n",
      "    https://scikit-learn.org/stable/modules/linear_model.html#logistic-regression\n",
      "  extra_warning_msg=_LOGISTIC_SOLVER_CONVERGENCE_MSG)\n"
     ]
    },
    {
     "data": {
      "text/plain": [
       "Text(0.5, 0, 'Degree')"
      ]
     },
     "execution_count": 111,
     "metadata": {},
     "output_type": "execute_result"
    },
    {
     "data": {
      "image/png": "[encoded data removed]",
      "text/plain": [
       "<Figure size 432x288 with 1 Axes>"
      ]
     },
     "metadata": {
      "needs_background": "light"
     },
     "output_type": "display_data"
    }
   ],
   "source": [
    "# applied to the StandardizedtScaler X\n",
    "x_train, x_test, y_train, y_test = train_test_split(X_1, y, test_size=0.3)\n",
    "\n",
    "rmses = []\n",
    "degrees = np.arange(1, 4)\n",
    "min_rmse, min_deg = 1e10, 0\n",
    "\n",
    "for deg in degrees:\n",
    "\n",
    "    # Train features\n",
    "    poly_features = PolynomialFeatures(degree=deg, include_bias=False)\n",
    "    x_poly_train = poly_features.fit_transform(x_train)\n",
    "\n",
    "    # Logistic regression\n",
    "    poly_reg = LogisticRegression()\n",
    "    poly_reg.fit(x_poly_train, y_train)\n",
    "\n",
    "    # Compare with test data\n",
    "    x_poly_test = poly_features.fit_transform(x_test)\n",
    "    poly_predict = poly_reg.predict(x_poly_test)\n",
    "    poly_mse = mean_squared_error(y_test, poly_predict)\n",
    "    poly_rmse = np.sqrt(poly_mse)\n",
    "    rmses.append(poly_rmse)\n",
    "\n",
    "    # Cross-validation of degree\n",
    "    if min_rmse > poly_rmse:\n",
    "        min_rmse = poly_rmse\n",
    "        min_deg = deg\n",
    "\n",
    "# Plot and present results\n",
    "print('Best degree {} with RMSE {}'.format(min_deg, min_rmse))\n",
    "\n",
    "fig = plt.figure()\n",
    "ax = fig.add_subplot(111)\n",
    "ax.plot(degrees, rmses)\n",
    "ax.set_yscale('log')\n",
    "ax.set_xlabel('Degree')"
   ]
  },
  {
   "cell_type": "markdown",
   "metadata": {},
   "source": [
    "#### Compare Classifiers"
   ]
  },
  {
   "cell_type": "code",
   "execution_count": 112,
   "metadata": {},
   "outputs": [],
   "source": [
    "algos_Class = [] # empty list\n",
    "algos_Class.append(('Random Forest Classifier = ', RandomForestClassifier()))\n",
    "algos_Class.append(('Decision Tree Classifier = ', DecisionTreeClassifier()))\n",
    "algos_Class.append(('Gradient Boosting Classifier = ', GradientBoostingClassifier()))\n",
    "algos_Class.append(('Logistic Regression = ', LogisticRegression()))"
   ]
  },
  {
   "cell_type": "code",
   "execution_count": 113,
   "metadata": {},
   "outputs": [
    {
     "name": "stderr",
     "output_type": "stream",
     "text": [
      "C:\\Users\\cthian972\\anaconda3\\envs\\hw\\lib\\site-packages\\sklearn\\linear_model\\_logistic.py:940: ConvergenceWarning: lbfgs failed to converge (status=1):\n",
      "STOP: TOTAL NO. of ITERATIONS REACHED LIMIT.\n",
      "\n",
      "Increase the number of iterations (max_iter) or scale the data as shown in:\n",
      "    https://scikit-learn.org/stable/modules/preprocessing.html\n",
      "Please also refer to the documentation for alternative solver options:\n",
      "    https://scikit-learn.org/stable/modules/linear_model.html#logistic-regression\n",
      "  extra_warning_msg=_LOGISTIC_SOLVER_CONVERGENCE_MSG)\n"
     ]
    }
   ],
   "source": [
    "# classification\n",
    "results = []\n",
    "names = []\n",
    "for name, model in algos_Class:\n",
    "    accuracy = cross_val_score(model, X, y, cv = 3, scoring ='accuracy')\n",
    "    names.append(name)\n",
    "    results.append(accuracy)"
   ]
  },
  {
   "cell_type": "code",
   "execution_count": 114,
   "metadata": {},
   "outputs": [
    {
     "name": "stdout",
     "output_type": "stream",
     "text": [
      "Random Forest Classifier =  0.8052\n",
      "Decision Tree Classifier =  0.7167333333333333\n",
      "Gradient Boosting Classifier =  0.8059\n",
      "Logistic Regression =  0.7788\n"
     ]
    }
   ],
   "source": [
    "for i in range(len(names)):\n",
    "    print(names[i], results[i].mean())"
   ]
  },
  {
   "cell_type": "code",
   "execution_count": 115,
   "metadata": {},
   "outputs": [],
   "source": [
    "# classification\n",
    "results = []\n",
    "names = []\n",
    "for name, model in algos_Class:\n",
    "    accuracy = cross_val_score(model, X_1, y, cv = 3, scoring ='accuracy')\n",
    "    names.append(name)\n",
    "    results.append(accuracy)"
   ]
  },
  {
   "cell_type": "code",
   "execution_count": 116,
   "metadata": {},
   "outputs": [
    {
     "name": "stdout",
     "output_type": "stream",
     "text": [
      "Random Forest Classifier =  0.8060666666666666\n",
      "Decision Tree Classifier =  0.7181333333333333\n",
      "Gradient Boosting Classifier =  0.8058666666666667\n",
      "Logistic Regression =  0.8029999999999999\n"
     ]
    }
   ],
   "source": [
    "for i in range(len(names)):\n",
    "    print(names[i], results[i].mean())"
   ]
  },
  {
   "cell_type": "code",
   "execution_count": 117,
   "metadata": {},
   "outputs": [],
   "source": [
    "# Split X and y into 75% training and 25% testing sets\n",
    "from sklearn.model_selection import train_test_split\n",
    "X_train, X_test, y_train, y_test = train_test_split(X_1, y, test_size=0.25, random_state= 12)"
   ]
  },
  {
   "cell_type": "code",
   "execution_count": 118,
   "metadata": {},
   "outputs": [
    {
     "data": {
      "text/plain": [
       "LogisticRegression(C=1.0, class_weight=None, dual=False, fit_intercept=True,\n",
       "                   intercept_scaling=1, l1_ratio=None, max_iter=100,\n",
       "                   multi_class='auto', n_jobs=None, penalty='l2',\n",
       "                   random_state=None, solver='lbfgs', tol=0.0001, verbose=0,\n",
       "                   warm_start=False)"
      ]
     },
     "execution_count": 118,
     "metadata": {},
     "output_type": "execute_result"
    }
   ],
   "source": [
    "# instantiate the model (using the default parameters)\n",
    "logreg = LogisticRegression()\n",
    "# train the model on the training set\n",
    "logreg.fit(X_train, y_train)"
   ]
  },
  {
   "cell_type": "code",
   "execution_count": 119,
   "metadata": {},
   "outputs": [],
   "source": [
    "# make predictions on the testing set and store the predicted response values\n",
    "y_pred = logreg.predict(X_test)"
   ]
  },
  {
   "cell_type": "markdown",
   "metadata": {},
   "source": [
    "#### Evaluate model"
   ]
  },
  {
   "cell_type": "code",
   "execution_count": 120,
   "metadata": {},
   "outputs": [
    {
     "name": "stdout",
     "output_type": "stream",
     "text": [
      "Accuracy: 0.804 , Mean Absolute Error: 43.444 , Root Mean Squared Error:  0.443 , R-squared: -0.129\n"
     ]
    }
   ],
   "source": [
    "# compare actual response values (y_test) with predicted response values (y_pred)\n",
    "accuracy = accuracy_score(y_test, y_pred)\n",
    "mae = mean_absolute_error(y_test, y_pred)\n",
    "rmse = np.sqrt(mean_squared_error(y_test, y_pred))\n",
    "r_square = r2_score(y_test, y_pred, multioutput='variance_weighted')\n",
    "print('Accuracy: %.3f'% accuracy,', Mean Absolute Error: %5.3f'% mae,', Root Mean Squared Error: %6.3f'%rmse, ', R-squared: %.3f'% r_square)"
   ]
  },
  {
   "cell_type": "code",
   "execution_count": 121,
   "metadata": {},
   "outputs": [
    {
     "name": "stdout",
     "output_type": "stream",
     "text": [
      "TruePositive  : 398 FalsePositive : 192\n",
      "FalseNegative : 1277 TrueNegative  : 5633\n",
      "Accuracy: 0.804 ,        Misclassification Rate: 0.196\n",
      "Sensitivity: 0.238 ,  Specificity: 0.967\n",
      "False Positive Rate: 0.033 , Precision: 0.675\n"
     ]
    }
   ],
   "source": [
    "# Metrics from Confusion matrix \n",
    "confusion = confusion_matrix(y_test, y_pred)\n",
    "TruePositive = confusion[1, 1]\n",
    "TrueNegative = confusion[0, 0]\n",
    "FalsePositive = confusion[0, 1]\n",
    "FalseNegative = confusion[1, 0]\n",
    "\n",
    "# Classification Accuracy: how often is the classifier correct?\n",
    "Accuracy = (TruePositive + TrueNegative) / float(TruePositive + FalsePositive + TrueNegative + FalseNegative)\n",
    "\n",
    "# Misclassification Rate or classification error: how often is the classifier incorrect\n",
    "Misclassification = (FalsePositive + FalseNegative) / float(TruePositive + FalsePositive + TrueNegative + FalseNegative)\n",
    "\n",
    "# How often is the prediction correct when the actual value is positive?\n",
    "Sensitivity =  TruePositive  / float(TruePositive + FalseNegative)\n",
    "\n",
    "# How often is the prediction correct when the actual value is negative?\n",
    "Specificity = TrueNegative / float(TrueNegative + FalsePositive)\n",
    "\n",
    "# How often is the prediction incorrect when the actual value is negative?\n",
    "FalsePositiveRate = FalsePositive / float(FalsePositive + TrueNegative)\n",
    "\n",
    "# When a positive value is predicted, how often is the prediction correct?\n",
    "Precision = TruePositive / float(TruePositive + FalsePositive)\n",
    "\n",
    "print('TruePositive  : %d' %TruePositive , 'FalsePositive : %d'% FalsePositive)\n",
    "print('FalseNegative : %d' %FalseNegative, 'TrueNegative  : %d'% TrueNegative)\n",
    "print('Accuracy: %.3f'% Accuracy,',        Misclassification Rate: %.3f'% Misclassification)\n",
    "print('Sensitivity: %.3f'% Sensitivity, ',  Specificity: %.3f'% Specificity)\n",
    "print('False Positive Rate: %.3f'% FalsePositiveRate, ', Precision: %.3f'% Precision)"
   ]
  },
  {
   "cell_type": "code",
   "execution_count": 122,
   "metadata": {},
   "outputs": [
    {
     "name": "stdout",
     "output_type": "stream",
     "text": [
      "[[5633  192]\n",
      " [1277  398]]\n"
     ]
    }
   ],
   "source": [
    "print(confusion)"
   ]
  },
  {
   "cell_type": "code",
   "execution_count": 123,
   "metadata": {},
   "outputs": [
    {
     "name": "stdout",
     "output_type": "stream",
     "text": [
      "              precision    recall  f1-score   support\n",
      "\n",
      "           0       0.82      0.97      0.88      5825\n",
      "           1       0.67      0.24      0.35      1675\n",
      "\n",
      "    accuracy                           0.80      7500\n",
      "   macro avg       0.74      0.60      0.62      7500\n",
      "weighted avg       0.78      0.80      0.77      7500\n",
      "\n"
     ]
    }
   ],
   "source": [
    "print(classification_report(y_test, y_pred))"
   ]
  },
  {
   "cell_type": "markdown",
   "metadata": {},
   "source": [
    "In the classification report, for all identifed as \"not default\", 82% are correctly identified. (precision). For all instances that are actually \"not default\", 97% was classified correctly (Recall). For the \"default\" group, precision is \"67%\" and recall is 24%. Which is not too good. Since there are more count in the 'not default\" group, the weighted mean precision is 78% and weighted recall is 80%."
   ]
  },
  {
   "cell_type": "code",
   "execution_count": 124,
   "metadata": {},
   "outputs": [],
   "source": [
    "X1 = RobustScaler(quantile_range=(25.0, 75.0)).fit_transform(X)"
   ]
  },
  {
   "cell_type": "code",
   "execution_count": 125,
   "metadata": {},
   "outputs": [],
   "source": [
    "X_train, X_test, y_train, y_test = train_test_split(X1, y, test_size=0.25, random_state= 123)"
   ]
  },
  {
   "cell_type": "code",
   "execution_count": 126,
   "metadata": {},
   "outputs": [],
   "source": [
    "# instantiate the model (using the default parameters)\n",
    "logreg = LogisticRegression()\n",
    "# train the model on the training set\n",
    "logreg.fit(X_train, y_train)\n",
    "# make predictions on the testing set and store the predicted response values\n",
    "y_pred = logreg.predict(X_test)"
   ]
  },
  {
   "cell_type": "code",
   "execution_count": 127,
   "metadata": {},
   "outputs": [
    {
     "name": "stdout",
     "output_type": "stream",
     "text": [
      "              precision    recall  f1-score   support\n",
      "\n",
      "           0       0.82      0.96      0.89      5873\n",
      "           1       0.63      0.25      0.36      1627\n",
      "\n",
      "    accuracy                           0.81      7500\n",
      "   macro avg       0.73      0.60      0.62      7500\n",
      "weighted avg       0.78      0.81      0.77      7500\n",
      "\n"
     ]
    }
   ],
   "source": [
    "print(classification_report(y_test, y_pred))"
   ]
  },
  {
   "cell_type": "markdown",
   "metadata": {},
   "source": [
    "for \"not default\", 82% are correctly identified(precision). For \"not default\", 96% was classified correctly(Recall). For the \"default\" group, precision is \"63%\" and recall is 25%."
   ]
  },
  {
   "cell_type": "code",
   "execution_count": 128,
   "metadata": {},
   "outputs": [],
   "source": [
    "feature_col1 =  ['LIMIT_BAL','MARRIAGE','AGE','male','AVE_BILL','AVE_PAY_AMT','PAY_STATUS','PAY_pcount','zero_PAYMENT','EDU']\n",
    "X2=credit[feature_col1]"
   ]
  },
  {
   "cell_type": "code",
   "execution_count": 129,
   "metadata": {},
   "outputs": [],
   "source": [
    "X2 = RobustScaler(quantile_range=(25.0, 75.0)).fit_transform(X2)"
   ]
  },
  {
   "cell_type": "code",
   "execution_count": 130,
   "metadata": {},
   "outputs": [],
   "source": [
    "# Split X and y into 80% training and 20% testing sets\n",
    "X_train, X_test, y_train, y_test = train_test_split(X2, y, test_size=0.2, random_state= 12)"
   ]
  },
  {
   "cell_type": "code",
   "execution_count": 131,
   "metadata": {},
   "outputs": [],
   "source": [
    "# instantiate the model (using the default parameters)\n",
    "logreg = LogisticRegression()\n",
    "# train the model on the training set\n",
    "logreg.fit(X_train, y_train)\n",
    "# make predictions on the testing set and store the predicted response values\n",
    "y_pred = logreg.predict(X_test)"
   ]
  },
  {
   "cell_type": "code",
   "execution_count": 132,
   "metadata": {},
   "outputs": [
    {
     "name": "stdout",
     "output_type": "stream",
     "text": [
      "              precision    recall  f1-score   support\n",
      "\n",
      "           0       0.82      0.96      0.88      4648\n",
      "           1       0.65      0.26      0.37      1352\n",
      "\n",
      "    accuracy                           0.80      6000\n",
      "   macro avg       0.73      0.61      0.63      6000\n",
      "weighted avg       0.78      0.80      0.77      6000\n",
      "\n"
     ]
    }
   ],
   "source": [
    "print(classification_report(y_test, y_pred))"
   ]
  },
  {
   "cell_type": "markdown",
   "metadata": {},
   "source": [
    "Note that AVE PAY AMT can replace PAY_AMT1,..., PAY_AMT6. The performance are akmost the same. In the classification report, for all identifed as \"not default\", 82% are correctly identified. (precision). For all instances that are actually \"not default\", 96% was classified correctly (Recall). For the \"default\" group, precision is \"65%\" and recall is 26%. Which is not too good. Since there are more count in the 'not default\" group, the weighted mean precision is 78% and weighted recall is close to 80%."
   ]
  },
  {
   "cell_type": "code",
   "execution_count": 133,
   "metadata": {},
   "outputs": [
    {
     "data": {
      "image/png": "[encoded data removed]",
      "text/plain": [
       "<Figure size 432x288 with 1 Axes>"
      ]
     },
     "metadata": {
      "needs_background": "light"
     },
     "output_type": "display_data"
    }
   ],
   "source": [
    "from sklearn.metrics import roc_auc_score\n",
    "from sklearn.metrics import roc_curve\n",
    "logit_roc_auc = roc_auc_score(y_test, logreg.predict(X_test))\n",
    "fpr, tpr, thresholds = roc_curve(y_test, logreg.predict_proba(X_test)[:,1])\n",
    "plt.figure()\n",
    "plt.plot(fpr, tpr, label='Logistic Regression (area = %0.2f)' % logit_roc_auc)\n",
    "plt.plot([0, 1], [0, 1],'r--')\n",
    "plt.xlim([0.0, 1.0])\n",
    "plt.ylim([0.0, 1.05])\n",
    "plt.xlabel('False Positive Rate (Sensitivity)')\n",
    "plt.ylabel('True Positive Rate')\n",
    "plt.title('Receiver operating characteristic')\n",
    "plt.legend(loc=\"lower right\")\n",
    "plt.savefig('Log_ROC')\n",
    "plt.show()"
   ]
  },
  {
   "cell_type": "markdown",
   "metadata": {},
   "source": [
    "### PCA"
   ]
  },
  {
   "cell_type": "code",
   "execution_count": 134,
   "metadata": {},
   "outputs": [],
   "source": [
    "pca = PCA(n_components=4)  # n_components specifies the new dimensionality\n",
    "X_log_pca = pca.fit(X2).transform(X2) # or just pca.fit_transform(X)\n",
    "X_log_pca = pd.DataFrame(data=X_reduced, columns=['x1','x2','x3','x4'])"
   ]
  },
  {
   "cell_type": "code",
   "execution_count": 135,
   "metadata": {},
   "outputs": [
    {
     "name": "stdout",
     "output_type": "stream",
     "text": [
      "Explained Variance: [6.93667299 5.09086265 1.3281837  0.67859108]\n",
      "Explained Variance Ratio: [0.42702016 0.31339246 0.08176272 0.04177393]\n"
     ]
    }
   ],
   "source": [
    "#print('Components:', pca.components_)\n",
    "print('Explained Variance:', pca.explained_variance_)\n",
    "print('Explained Variance Ratio:', pca.explained_variance_ratio_ )"
   ]
  },
  {
   "cell_type": "code",
   "execution_count": 136,
   "metadata": {},
   "outputs": [
    {
     "data": {
      "text/plain": [
       "<matplotlib.axes._subplots.AxesSubplot at 0x27033c54ac8>"
      ]
     },
     "execution_count": 136,
     "metadata": {},
     "output_type": "execute_result"
    },
    {
     "data": {
      "image/png": "[encoded data removed]",
      "text/plain": [
       "<Figure size 432x288 with 1 Axes>"
      ]
     },
     "metadata": {
      "needs_background": "light"
     },
     "output_type": "display_data"
    }
   ],
   "source": [
    "sns.scatterplot(x='x1', y='x2', hue=y ,data=X_log_pca)"
   ]
  },
  {
   "cell_type": "code",
   "execution_count": 137,
   "metadata": {},
   "outputs": [
    {
     "data": {
      "text/plain": [
       "<matplotlib.axes._subplots.AxesSubplot at 0x2706fe7ffc8>"
      ]
     },
     "execution_count": 137,
     "metadata": {},
     "output_type": "execute_result"
    },
    {
     "data": {
      "image/png": "[encoded data removed]",
      "text/plain": [
       "<Figure size 432x288 with 1 Axes>"
      ]
     },
     "metadata": {
      "needs_background": "light"
     },
     "output_type": "display_data"
    }
   ],
   "source": [
    "sns.scatterplot(x='x1', y='x3', hue=y ,data=X_log_pca)"
   ]
  },
  {
   "cell_type": "code",
   "execution_count": 138,
   "metadata": {},
   "outputs": [
    {
     "data": {
      "text/plain": [
       "<matplotlib.axes._subplots.AxesSubplot at 0x270002e5188>"
      ]
     },
     "execution_count": 138,
     "metadata": {},
     "output_type": "execute_result"
    },
    {
     "data": {
      "image/png": "[encoded data removed]",
      "text/plain": [
       "<Figure size 432x288 with 1 Axes>"
      ]
     },
     "metadata": {
      "needs_background": "light"
     },
     "output_type": "display_data"
    }
   ],
   "source": [
    "sns.scatterplot(x='x2', y='x3', hue=y ,data=X_log_pca)"
   ]
  },
  {
   "cell_type": "code",
   "execution_count": 139,
   "metadata": {},
   "outputs": [],
   "source": [
    "from sklearn.model_selection import train_test_split\n",
    "X_train, X_test, y_train, y_test = train_test_split(X_log_pca, y, test_size=0.25, random_state= 12)"
   ]
  },
  {
   "cell_type": "code",
   "execution_count": 140,
   "metadata": {},
   "outputs": [
    {
     "ename": "ValueError",
     "evalue": "Input contains NaN, infinity or a value too large for dtype('float64').",
     "output_type": "error",
     "traceback": [
      "\u001b[1;31m---------------------------------------------------------------------------\u001b[0m",
      "\u001b[1;31mValueError\u001b[0m                                Traceback (most recent call last)",
      "\u001b[1;32m<ipython-input-140-624414b7f7c9>\u001b[0m in \u001b[0;36m<module>\u001b[1;34m\u001b[0m\n\u001b[0;32m      1\u001b[0m \u001b[0mlogreg\u001b[0m \u001b[1;33m=\u001b[0m \u001b[0mLogisticRegression\u001b[0m\u001b[1;33m(\u001b[0m\u001b[1;33m)\u001b[0m\u001b[1;33m\u001b[0m\u001b[1;33m\u001b[0m\u001b[0m\n\u001b[0;32m      2\u001b[0m \u001b[1;31m# train the model on the training set\u001b[0m\u001b[1;33m\u001b[0m\u001b[1;33m\u001b[0m\u001b[1;33m\u001b[0m\u001b[0m\n\u001b[1;32m----> 3\u001b[1;33m \u001b[0mlogreg\u001b[0m\u001b[1;33m.\u001b[0m\u001b[0mfit\u001b[0m\u001b[1;33m(\u001b[0m\u001b[0mX_train\u001b[0m\u001b[1;33m,\u001b[0m \u001b[0my_train\u001b[0m\u001b[1;33m)\u001b[0m\u001b[1;33m\u001b[0m\u001b[1;33m\u001b[0m\u001b[0m\n\u001b[0m",
      "\u001b[1;32m~\\anaconda3\\envs\\hw\\lib\\site-packages\\sklearn\\linear_model\\_logistic.py\u001b[0m in \u001b[0;36mfit\u001b[1;34m(self, X, y, sample_weight)\u001b[0m\n\u001b[0;32m   1525\u001b[0m \u001b[1;33m\u001b[0m\u001b[0m\n\u001b[0;32m   1526\u001b[0m         X, y = check_X_y(X, y, accept_sparse='csr', dtype=_dtype, order=\"C\",\n\u001b[1;32m-> 1527\u001b[1;33m                          accept_large_sparse=solver != 'liblinear')\n\u001b[0m\u001b[0;32m   1528\u001b[0m         \u001b[0mcheck_classification_targets\u001b[0m\u001b[1;33m(\u001b[0m\u001b[0my\u001b[0m\u001b[1;33m)\u001b[0m\u001b[1;33m\u001b[0m\u001b[1;33m\u001b[0m\u001b[0m\n\u001b[0;32m   1529\u001b[0m         \u001b[0mself\u001b[0m\u001b[1;33m.\u001b[0m\u001b[0mclasses_\u001b[0m \u001b[1;33m=\u001b[0m \u001b[0mnp\u001b[0m\u001b[1;33m.\u001b[0m\u001b[0munique\u001b[0m\u001b[1;33m(\u001b[0m\u001b[0my\u001b[0m\u001b[1;33m)\u001b[0m\u001b[1;33m\u001b[0m\u001b[1;33m\u001b[0m\u001b[0m\n",
      "\u001b[1;32m~\\anaconda3\\envs\\hw\\lib\\site-packages\\sklearn\\utils\\validation.py\u001b[0m in \u001b[0;36mcheck_X_y\u001b[1;34m(X, y, accept_sparse, accept_large_sparse, dtype, order, copy, force_all_finite, ensure_2d, allow_nd, multi_output, ensure_min_samples, ensure_min_features, y_numeric, warn_on_dtype, estimator)\u001b[0m\n\u001b[0;32m    753\u001b[0m                     \u001b[0mensure_min_features\u001b[0m\u001b[1;33m=\u001b[0m\u001b[0mensure_min_features\u001b[0m\u001b[1;33m,\u001b[0m\u001b[1;33m\u001b[0m\u001b[1;33m\u001b[0m\u001b[0m\n\u001b[0;32m    754\u001b[0m                     \u001b[0mwarn_on_dtype\u001b[0m\u001b[1;33m=\u001b[0m\u001b[0mwarn_on_dtype\u001b[0m\u001b[1;33m,\u001b[0m\u001b[1;33m\u001b[0m\u001b[1;33m\u001b[0m\u001b[0m\n\u001b[1;32m--> 755\u001b[1;33m                     estimator=estimator)\n\u001b[0m\u001b[0;32m    756\u001b[0m     \u001b[1;32mif\u001b[0m \u001b[0mmulti_output\u001b[0m\u001b[1;33m:\u001b[0m\u001b[1;33m\u001b[0m\u001b[1;33m\u001b[0m\u001b[0m\n\u001b[0;32m    757\u001b[0m         y = check_array(y, 'csr', force_all_finite=True, ensure_2d=False,\n",
      "\u001b[1;32m~\\anaconda3\\envs\\hw\\lib\\site-packages\\sklearn\\utils\\validation.py\u001b[0m in \u001b[0;36mcheck_array\u001b[1;34m(array, accept_sparse, accept_large_sparse, dtype, order, copy, force_all_finite, ensure_2d, allow_nd, ensure_min_samples, ensure_min_features, warn_on_dtype, estimator)\u001b[0m\n\u001b[0;32m    576\u001b[0m         \u001b[1;32mif\u001b[0m \u001b[0mforce_all_finite\u001b[0m\u001b[1;33m:\u001b[0m\u001b[1;33m\u001b[0m\u001b[1;33m\u001b[0m\u001b[0m\n\u001b[0;32m    577\u001b[0m             _assert_all_finite(array,\n\u001b[1;32m--> 578\u001b[1;33m                                allow_nan=force_all_finite == 'allow-nan')\n\u001b[0m\u001b[0;32m    579\u001b[0m \u001b[1;33m\u001b[0m\u001b[0m\n\u001b[0;32m    580\u001b[0m     \u001b[1;32mif\u001b[0m \u001b[0mensure_min_samples\u001b[0m \u001b[1;33m>\u001b[0m \u001b[1;36m0\u001b[0m\u001b[1;33m:\u001b[0m\u001b[1;33m\u001b[0m\u001b[1;33m\u001b[0m\u001b[0m\n",
      "\u001b[1;32m~\\anaconda3\\envs\\hw\\lib\\site-packages\\sklearn\\utils\\validation.py\u001b[0m in \u001b[0;36m_assert_all_finite\u001b[1;34m(X, allow_nan, msg_dtype)\u001b[0m\n\u001b[0;32m     58\u001b[0m                     \u001b[0mmsg_err\u001b[0m\u001b[1;33m.\u001b[0m\u001b[0mformat\u001b[0m\u001b[1;33m\u001b[0m\u001b[1;33m\u001b[0m\u001b[0m\n\u001b[0;32m     59\u001b[0m                     (type_err,\n\u001b[1;32m---> 60\u001b[1;33m                      msg_dtype if msg_dtype is not None else X.dtype)\n\u001b[0m\u001b[0;32m     61\u001b[0m             )\n\u001b[0;32m     62\u001b[0m     \u001b[1;31m# for object dtype data, we only check for NaNs (GH-13254)\u001b[0m\u001b[1;33m\u001b[0m\u001b[1;33m\u001b[0m\u001b[1;33m\u001b[0m\u001b[0m\n",
      "\u001b[1;31mValueError\u001b[0m: Input contains NaN, infinity or a value too large for dtype('float64')."
     ]
    }
   ],
   "source": [
    "logreg = LogisticRegression()\n",
    "# train the model on the training set\n",
    "logreg.fit(X_train, y_train)"
   ]
  },
  {
   "cell_type": "code",
   "execution_count": null,
   "metadata": {},
   "outputs": [],
   "source": [
    "# make predictions on the testing set and store the predicted response values\n",
    "y_pred = logreg.predict(X_test)"
   ]
  },
  {
   "cell_type": "code",
   "execution_count": null,
   "metadata": {},
   "outputs": [],
   "source": [
    "print(classification_report(y_test, y_pred))"
   ]
  },
  {
   "cell_type": "markdown",
   "metadata": {},
   "source": [
    "### Random Forest Classifier"
   ]
  },
  {
   "cell_type": "code",
   "execution_count": 141,
   "metadata": {},
   "outputs": [],
   "source": [
    "feature_col1 =  ['LIMIT_BAL','MARRIAGE','AGE','male','AVE_BILL','AVE_PAY_AMT','PAY_STATUS','PAY_pcount','zero_PAYMENT','EDU']\n",
    "X2 = credit[feature_col1]\n",
    "y = credit['default']"
   ]
  },
  {
   "cell_type": "markdown",
   "metadata": {},
   "source": [
    "#### Train the model"
   ]
  },
  {
   "cell_type": "code",
   "execution_count": 142,
   "metadata": {},
   "outputs": [],
   "source": [
    "X_train, X_test, y_train, y_test = train_test_split(X2, y, test_size = .20, random_state = 123)\n",
    "algo = RandomForestClassifier()\n",
    "model = algo.fit(X_train,y_train)"
   ]
  },
  {
   "cell_type": "code",
   "execution_count": 143,
   "metadata": {},
   "outputs": [],
   "source": [
    "preds = model.predict(X_test)"
   ]
  },
  {
   "cell_type": "code",
   "execution_count": 144,
   "metadata": {},
   "outputs": [
    {
     "name": "stdout",
     "output_type": "stream",
     "text": [
      "              precision    recall  f1-score   support\n",
      "\n",
      "           0       0.84      0.92      0.88      4696\n",
      "           1       0.56      0.34      0.42      1304\n",
      "\n",
      "    accuracy                           0.80      6000\n",
      "   macro avg       0.70      0.63      0.65      6000\n",
      "weighted avg       0.77      0.80      0.78      6000\n",
      "\n"
     ]
    }
   ],
   "source": [
    "print(classification_report(y_test, preds))"
   ]
  },
  {
   "cell_type": "markdown",
   "metadata": {},
   "source": [
    "for all identifed as \"not default\", 84% are correctly identified(precision). For all instances that are actually \"not default\", 92% was classified correctly (Recall). For the \"default\" group , precision is 56% and recall is 34%. Since there are more count in the 'not default\" group, the weighted mean precision is 77% and weighted recall is close to 80%."
   ]
  },
  {
   "cell_type": "code",
   "execution_count": 145,
   "metadata": {},
   "outputs": [
    {
     "data": {
      "image/png": "[encoded data removed]",
      "text/plain": [
       "<Figure size 432x288 with 1 Axes>"
      ]
     },
     "metadata": {
      "needs_background": "light"
     },
     "output_type": "display_data"
    }
   ],
   "source": [
    "from sklearn.metrics import roc_auc_score\n",
    "from sklearn.metrics import roc_curve\n",
    "rfr_roc_auc = roc_auc_score(y_test, model.predict(X_test))\n",
    "fpr, tpr, thresholds = roc_curve(y_test, model.predict_proba(X_test)[:,1])\n",
    "plt.figure()\n",
    "plt.plot(fpr, tpr, label='RandomForestClassifier (area = %0.2f)' % rfr_roc_auc)\n",
    "plt.plot([0, 1], [0, 1],'r--')\n",
    "plt.xlim([0.0, 1.0])\n",
    "plt.ylim([0.0, 1.05])\n",
    "plt.xlabel('False Positive Rate (Sensitivity)')\n",
    "plt.ylabel('True Positive Rate')\n",
    "plt.title('Receiver operating characteristic')\n",
    "plt.legend(loc=\"lower right\")\n",
    "plt.savefig('Log_ROC')\n",
    "plt.show()"
   ]
  },
  {
   "cell_type": "code",
   "execution_count": 146,
   "metadata": {},
   "outputs": [],
   "source": [
    "# remove LIMIT_BAL\n",
    "X2a = X2.drop(['LIMIT_BAL'], axis=1)"
   ]
  },
  {
   "cell_type": "markdown",
   "metadata": {},
   "source": [
    "### Gradient Boosting Classifier"
   ]
  },
  {
   "cell_type": "code",
   "execution_count": 147,
   "metadata": {},
   "outputs": [],
   "source": [
    "X_train, X_test, y_train, y_test = train_test_split(X2a, y, test_size = .20, random_state = 153)\n",
    "algo = GradientBoostingClassifier()\n",
    "gbc = algo.fit(X_train,y_train)\n",
    "preds = gbc.predict(X_test)"
   ]
  },
  {
   "cell_type": "code",
   "execution_count": 149,
   "metadata": {},
   "outputs": [
    {
     "name": "stdout",
     "output_type": "stream",
     "text": [
      "              precision    recall  f1-score   support\n",
      "\n",
      "           0       0.83      0.95      0.89      4660\n",
      "           1       0.65      0.32      0.43      1340\n",
      "\n",
      "    accuracy                           0.81      6000\n",
      "   macro avg       0.74      0.63      0.66      6000\n",
      "weighted avg       0.79      0.81      0.78      6000\n",
      "\n"
     ]
    }
   ],
   "source": [
    "print(classification_report(y_test, preds))"
   ]
  },
  {
   "cell_type": "markdown",
   "metadata": {},
   "source": [
    "### features with 2 way interactions"
   ]
  },
  {
   "cell_type": "code",
   "execution_count": 151,
   "metadata": {},
   "outputs": [],
   "source": [
    "# code is from https://www.youtube.com/watch?v=V0u6bxQOUJ8\n",
    "from itertools import combinations\n",
    "from sklearn.preprocessing import PolynomialFeatures\n",
    "def add_interactions (Z):\n",
    "    # Get feature names\n",
    "    combos = list(combinations(list(Z.columns),2))\n",
    "    colnames = list(Z.columns)+['_'.join(x) for x in combos]\n",
    "    \n",
    "    # Find imtractions\n",
    "    poly = PolynomialFeatures(interaction_only=True, include_bias=False)\n",
    "    Z = poly.fit_transform(Z)\n",
    "    Z = pd.DataFrame(Z)\n",
    "    Z.columns = colnames\n",
    "    \n",
    "    # Remove interaction terms with all 0 values\n",
    "    noint_indices =[i for i, x in enumerate(list((Z == 0).all())) if x]\n",
    "    Z = Z.drop(Z.columns[noint_indices],axis=1)\n",
    "    \n",
    "    return Z"
   ]
  },
  {
   "cell_type": "code",
   "execution_count": 168,
   "metadata": {},
   "outputs": [],
   "source": [
    "feature_col1 = ['LIMIT_BAL','MARRIAGE','AGE','male','AVE_BILL','AVE_PAY_AMT','PAY_STATUS','PAY_pcount','zero_PAYMENT','EDU']\n",
    "X3 = credit[feature_col1]\n",
    "y3 = credit['default']"
   ]
  },
  {
   "cell_type": "code",
   "execution_count": 169,
   "metadata": {},
   "outputs": [
    {
     "name": "stdout",
     "output_type": "stream",
     "text": [
      "   LIMIT_BAL  MARRIAGE   AGE  male     AVE_BILL  AVE_PAY_AMT  PAY_STATUS  \\\n",
      "0    20000.0       1.0  24.0   0.0  1284.000000   114.833333         4.0   \n",
      "1   120000.0       2.0  26.0   0.0  2846.166667   833.333333         4.0   \n",
      "\n",
      "   PAY_pcount  zero_PAYMENT  EDU  ...  AVE_PAY_AMT_PAY_STATUS  \\\n",
      "0         2.0           5.0  3.0  ...              459.333333   \n",
      "1         2.0           2.0  3.0  ...             3333.333333   \n",
      "\n",
      "   AVE_PAY_AMT_PAY_pcount  AVE_PAY_AMT_zero_PAYMENT  AVE_PAY_AMT_EDU  \\\n",
      "0              229.666667                574.166667            344.5   \n",
      "1             1666.666667               1666.666667           2500.0   \n",
      "\n",
      "   PAY_STATUS_PAY_pcount  PAY_STATUS_zero_PAYMENT  PAY_STATUS_EDU  \\\n",
      "0                    8.0                     20.0            12.0   \n",
      "1                    8.0                      8.0            12.0   \n",
      "\n",
      "   PAY_pcount_zero_PAYMENT  PAY_pcount_EDU  zero_PAYMENT_EDU  \n",
      "0                     10.0             6.0              15.0  \n",
      "1                      4.0             6.0               6.0  \n",
      "\n",
      "[2 rows x 55 columns]\n"
     ]
    }
   ],
   "source": [
    "X3 = add_interactions(X3)\n",
    "print(X3.head(2))"
   ]
  },
  {
   "cell_type": "code",
   "execution_count": 170,
   "metadata": {},
   "outputs": [],
   "source": [
    "X3 = RobustScaler(quantile_range=(25.0, 75.0)).fit_transform(X3)"
   ]
  },
  {
   "cell_type": "code",
   "execution_count": 171,
   "metadata": {},
   "outputs": [],
   "source": [
    "X_train, X_test, y_train, y_test = train_test_split(X3, y3, test_size=0.2, random_state= 112)"
   ]
  },
  {
   "cell_type": "code",
   "execution_count": 172,
   "metadata": {},
   "outputs": [
    {
     "name": "stderr",
     "output_type": "stream",
     "text": [
      "C:\\Users\\cthian972\\anaconda3\\envs\\hw\\lib\\site-packages\\sklearn\\linear_model\\_logistic.py:940: ConvergenceWarning: lbfgs failed to converge (status=1):\n",
      "STOP: TOTAL NO. of ITERATIONS REACHED LIMIT.\n",
      "\n",
      "Increase the number of iterations (max_iter) or scale the data as shown in:\n",
      "    https://scikit-learn.org/stable/modules/preprocessing.html\n",
      "Please also refer to the documentation for alternative solver options:\n",
      "    https://scikit-learn.org/stable/modules/linear_model.html#logistic-regression\n",
      "  extra_warning_msg=_LOGISTIC_SOLVER_CONVERGENCE_MSG)\n"
     ]
    },
    {
     "data": {
      "text/plain": [
       "LogisticRegression(C=1.0, class_weight=None, dual=False, fit_intercept=True,\n",
       "                   intercept_scaling=1, l1_ratio=None, max_iter=100,\n",
       "                   multi_class='auto', n_jobs=None, penalty='l2',\n",
       "                   random_state=None, solver='lbfgs', tol=0.0001, verbose=0,\n",
       "                   warm_start=False)"
      ]
     },
     "execution_count": 172,
     "metadata": {},
     "output_type": "execute_result"
    }
   ],
   "source": [
    "# instantiate the model (using the default parameters)\n",
    "logreg = LogisticRegression()\n",
    "\n",
    "# train the model on the training set\n",
    "logreg.fit(X_train, y_train)"
   ]
  },
  {
   "cell_type": "code",
   "execution_count": 173,
   "metadata": {},
   "outputs": [],
   "source": [
    "# make predictions on the testing set and store the predicted response values\n",
    "y_pred = logreg.predict(X_test)"
   ]
  },
  {
   "cell_type": "code",
   "execution_count": 174,
   "metadata": {},
   "outputs": [
    {
     "name": "stdout",
     "output_type": "stream",
     "text": [
      "TruePositive  : 416 FalsePositive : 258\n",
      "FalseNegative : 880 TrueNegative  : 4446\n",
      "Accuracy: 0.810 ,        Misclassification Rate: 0.190\n",
      "Sensitivity: 0.321 ,  Specificity: 0.945\n",
      "False Positive Rate: 0.055 , Precision: 0.617\n"
     ]
    }
   ],
   "source": [
    "# Metrics from Confusion matrix \n",
    "confusion = confusion_matrix(y_test, y_pred)\n",
    "TruePositive = confusion[1, 1]\n",
    "TrueNegative = confusion[0, 0]\n",
    "FalsePositive = confusion[0, 1]\n",
    "FalseNegative = confusion[1, 0]\n",
    "\n",
    "# Classification Accuracy: how often is the classifier correct?\n",
    "Accuracy = (TruePositive + TrueNegative) / float(TruePositive + FalsePositive + TrueNegative + FalseNegative)\n",
    "\n",
    "# Misclassification Rate or classification error: how often is the classifier incorrect\n",
    "Misclassification = (FalsePositive + FalseNegative) / float(TruePositive + FalsePositive + TrueNegative + FalseNegative)\n",
    "\n",
    "# How often is the prediction correct when the actual value is positive?\n",
    "Sensitivity =  TruePositive  / float(TruePositive + FalseNegative)\n",
    "\n",
    "# How often is the prediction correct when the actual value is negative?\n",
    "Specificity = TrueNegative / float(TrueNegative + FalsePositive)\n",
    "\n",
    "# How often is the prediction incorrect when the actual value is negative?\n",
    "FalsePositiveRate = FalsePositive / float(FalsePositive + TrueNegative)\n",
    "\n",
    "# When a positive value is predicted, how often is the prediction correct?\n",
    "Precision = TruePositive / float(TruePositive + FalsePositive)\n",
    "\n",
    "print('TruePositive  : %d' %TruePositive , 'FalsePositive : %d'% FalsePositive)\n",
    "print('FalseNegative : %d' %FalseNegative, 'TrueNegative  : %d'% TrueNegative)\n",
    "print('Accuracy: %.3f'% Accuracy,',        Misclassification Rate: %.3f'% Misclassification)\n",
    "print('Sensitivity: %.3f'% Sensitivity, ',  Specificity: %.3f'% Specificity)\n",
    "print('False Positive Rate: %.3f'% FalsePositiveRate, ', Precision: %.3f'% Precision)"
   ]
  },
  {
   "cell_type": "markdown",
   "metadata": {},
   "source": [
    "ADding 2 way interaction, did not improve Sensitivity much."
   ]
  },
  {
   "cell_type": "markdown",
   "metadata": {},
   "source": [
    "Note that when I remove the 'LIMIT_BAL' term the result is still the same"
   ]
  },
  {
   "cell_type": "code",
   "execution_count": 159,
   "metadata": {},
   "outputs": [
    {
     "data": {
      "image/png": "[encoded data removed]",
      "text/plain": [
       "<Figure size 432x288 with 1 Axes>"
      ]
     },
     "metadata": {
      "needs_background": "light"
     },
     "output_type": "display_data"
    }
   ],
   "source": [
    "from sklearn.metrics import roc_auc_score\n",
    "from sklearn.metrics import roc_curve\n",
    "logit_roc_auc = roc_auc_score(y_test, logreg.predict(X_test))\n",
    "fpr, tpr, thresholds = roc_curve(y_test, logreg.predict_proba(X_test)[:,1])\n",
    "plt.figure()\n",
    "plt.plot(fpr, tpr, label='Logistic Regression (area = %0.2f)' % logit_roc_auc)\n",
    "plt.plot([0, 1], [0, 1],'r--')\n",
    "plt.xlim([0.0, 1.0])\n",
    "plt.ylim([0.0, 1.05])\n",
    "plt.xlabel('False Positive Rate (Sensitivity)')\n",
    "plt.ylabel('True Positive Rate')\n",
    "plt.title('Receiver operating characteristic')\n",
    "plt.legend(loc=\"lower right\")\n",
    "plt.savefig('Log_ROC')\n",
    "plt.show()"
   ]
  },
  {
   "cell_type": "markdown",
   "metadata": {},
   "source": [
    "A model with high discrimination ability will have high sensitivity (True Positive Rate) and specificity (False Positive Rate) simultaneously, leading to an ROC curve which goes close to the top left corner of the plot. A model with no discrimination ability will have an ROC curve which is the 45 degree diagonal line. In this case, we can see that this model is \"so so\""
   ]
  },
  {
   "cell_type": "code",
   "execution_count": null,
   "metadata": {},
   "outputs": [],
   "source": [
    "from sklearn.pipeline import Pipeline\n",
    "# fits PCA, transforms data and fits the decision tree classifier\n",
    "# on the transformed data\n",
    "pipe = Pipeline([('pca', PCA()),\n",
    "                 ('tree', DecisionTreeClassifier())])\n",
    "\n",
    "pipe.fit(X_train,y_train)\n",
    "\n",
    "pipe.predict(X_test)"
   ]
  },
  {
   "cell_type": "markdown",
   "metadata": {},
   "source": [
    "Adding PAY_AMT1 to PAY_AMT6, and 2 way interaction and see if there is any improvement over Sensitivity"
   ]
  },
  {
   "cell_type": "code",
   "execution_count": 160,
   "metadata": {},
   "outputs": [],
   "source": [
    "feature_col2 = ['LIMIT_BAL','MARRIAGE','AGE','male','AVE_BILL','AVE_PAY_AMT','PAY_AMT1','PAY_AMT2','PAY_AMT3','PAY_AMT4','PAY_AMT5','PAY_AMT6','PAY_STATUS','PAY_pcount','zero_PAYMENT','EDU']\n",
    "X4 = credit[feature_col2]\n",
    "y4 = credit['default']"
   ]
  },
  {
   "cell_type": "code",
   "execution_count": 161,
   "metadata": {},
   "outputs": [],
   "source": [
    "X4 = add_interactions(X4)"
   ]
  },
  {
   "cell_type": "code",
   "execution_count": 162,
   "metadata": {},
   "outputs": [],
   "source": [
    "X4 = RobustScaler(quantile_range=(25.0, 75.0)).fit_transform(X4)"
   ]
  },
  {
   "cell_type": "code",
   "execution_count": 163,
   "metadata": {},
   "outputs": [],
   "source": [
    "X_train, X_test, y_train, y_test = train_test_split(X4, y4, test_size=0.2, random_state= 112)"
   ]
  },
  {
   "cell_type": "code",
   "execution_count": 164,
   "metadata": {},
   "outputs": [
    {
     "name": "stderr",
     "output_type": "stream",
     "text": [
      "C:\\Users\\cthian972\\anaconda3\\envs\\hw\\lib\\site-packages\\sklearn\\linear_model\\_logistic.py:940: ConvergenceWarning: lbfgs failed to converge (status=1):\n",
      "STOP: TOTAL NO. of ITERATIONS REACHED LIMIT.\n",
      "\n",
      "Increase the number of iterations (max_iter) or scale the data as shown in:\n",
      "    https://scikit-learn.org/stable/modules/preprocessing.html\n",
      "Please also refer to the documentation for alternative solver options:\n",
      "    https://scikit-learn.org/stable/modules/linear_model.html#logistic-regression\n",
      "  extra_warning_msg=_LOGISTIC_SOLVER_CONVERGENCE_MSG)\n"
     ]
    }
   ],
   "source": [
    "# instantiate the model (using the default parameters)\n",
    "logreg = LogisticRegression()\n",
    "# train the model on the training set\n",
    "logreg.fit(X_train, y_train)\n",
    "# make predictions on the testing set and store the predicted response values\n",
    "y_pred = logreg.predict(X_test)"
   ]
  },
  {
   "cell_type": "code",
   "execution_count": 165,
   "metadata": {},
   "outputs": [
    {
     "name": "stdout",
     "output_type": "stream",
     "text": [
      "TruePositive  : 695 FalsePositive : 1035\n",
      "FalseNegative : 601 TrueNegative  : 3669\n",
      "Accuracy: 0.727 ,        Misclassification Rate: 0.273\n",
      "Sensitivity: 0.536 ,  Specificity: 0.780\n",
      "False Positive Rate: 0.220 , Precision: 0.402\n"
     ]
    }
   ],
   "source": [
    "# Metrics from Confusion matrix \n",
    "confusion = confusion_matrix(y_test, y_pred)\n",
    "TruePositive = confusion[1, 1]\n",
    "TrueNegative = confusion[0, 0]\n",
    "FalsePositive = confusion[0, 1]\n",
    "FalseNegative = confusion[1, 0]\n",
    "\n",
    "# Classification Accuracy: how often is the classifier correct?\n",
    "Accuracy = (TruePositive + TrueNegative) / float(TruePositive + FalsePositive + TrueNegative + FalseNegative)\n",
    "\n",
    "# Misclassification Rate or classification error: how often is the classifier incorrect\n",
    "Misclassification = (FalsePositive + FalseNegative) / float(TruePositive + FalsePositive + TrueNegative + FalseNegative)\n",
    "\n",
    "# How often is the prediction correct when the actual value is positive?\n",
    "Sensitivity =  TruePositive  / float(TruePositive + FalseNegative)\n",
    "\n",
    "# How often is the prediction correct when the actual value is negative?\n",
    "Specificity = TrueNegative / float(TrueNegative + FalsePositive)\n",
    "\n",
    "# How often is the prediction incorrect when the actual value is negative?\n",
    "FalsePositiveRate = FalsePositive / float(FalsePositive + TrueNegative)\n",
    "\n",
    "# When a positive value is predicted, how often is the prediction correct?\n",
    "Precision = TruePositive / float(TruePositive + FalsePositive)\n",
    "\n",
    "print('TruePositive  : %d' %TruePositive , 'FalsePositive : %d'% FalsePositive)\n",
    "print('FalseNegative : %d' %FalseNegative, 'TrueNegative  : %d'% TrueNegative)\n",
    "print('Accuracy: %.3f'% Accuracy,',        Misclassification Rate: %.3f'% Misclassification)\n",
    "print('Sensitivity: %.3f'% Sensitivity, ',  Specificity: %.3f'% Specificity)\n",
    "print('False Positive Rate: %.3f'% FalsePositiveRate, ', Precision: %.3f'% Precision)"
   ]
  },
  {
   "cell_type": "code",
   "execution_count": 166,
   "metadata": {},
   "outputs": [
    {
     "name": "stdout",
     "output_type": "stream",
     "text": [
      "              precision    recall  f1-score   support\n",
      "\n",
      "           0       0.86      0.78      0.82      4704\n",
      "           1       0.40      0.54      0.46      1296\n",
      "\n",
      "    accuracy                           0.73      6000\n",
      "   macro avg       0.63      0.66      0.64      6000\n",
      "weighted avg       0.76      0.73      0.74      6000\n",
      "\n"
     ]
    }
   ],
   "source": [
    "print(classification_report(y_test, y_pred))"
   ]
  },
  {
   "cell_type": "markdown",
   "metadata": {},
   "source": [
    "Note that accuracy dropped. For all identifed as \"not default\", 86% are correctly identified. (precision). For all instances that are actually \"not default\", now only 78% was classified correctly (Recall). For the \"default\", precision is \"40%\" and recall increases to 54%. "
   ]
  },
  {
   "cell_type": "code",
   "execution_count": 167,
   "metadata": {},
   "outputs": [
    {
     "data": {
      "image/png": "[encoded data removed]",
      "text/plain": [
       "<Figure size 432x288 with 1 Axes>"
      ]
     },
     "metadata": {
      "needs_background": "light"
     },
     "output_type": "display_data"
    }
   ],
   "source": [
    "from sklearn.metrics import roc_auc_score\n",
    "from sklearn.metrics import roc_curve\n",
    "logit_roc_auc = roc_auc_score(y_test, logreg.predict(X_test))\n",
    "fpr, tpr, thresholds = roc_curve(y_test, logreg.predict_proba(X_test)[:,1])\n",
    "plt.figure()\n",
    "plt.plot(fpr, tpr, label='Logistic Regression (area = %0.2f)' % logit_roc_auc)\n",
    "plt.plot([0, 1], [0, 1],'r--')\n",
    "plt.xlim([0.0, 1.0])\n",
    "plt.ylim([0.0, 1.05])\n",
    "plt.xlabel('Specificity (False Positive Rate)')\n",
    "plt.ylabel('sensitivity (True Positive Rate)')\n",
    "plt.title('Receiver operating characteristic')\n",
    "plt.legend(loc=\"lower right\")\n",
    "plt.savefig('Log_ROC')\n",
    "plt.show()"
   ]
  },
  {
   "cell_type": "markdown",
   "metadata": {},
   "source": [
    "A model with high discrimination ability will have high sensitivity (True Positive Rate) and specificity (False Positive Rate)  simultaneously, leading to an ROC curve which goes close to the top left corner of the plot. A model with no discrimination ability will have an ROC curve which is the 45 degree diagonal line.\n",
    "In this case, we can see that this model is mot too good"
   ]
  },
  {
   "cell_type": "markdown",
   "metadata": {},
   "source": [
    "### features with 3 way interactions"
   ]
  },
  {
   "cell_type": "code",
   "execution_count": null,
   "metadata": {},
   "outputs": [],
   "source": []
  }
 ],
 "metadata": {
  "kernelspec": {
   "display_name": "hw",
   "language": "python",
   "name": "hw"
  },
  "language_info": {
   "codemirror_mode": {
    "name": "ipython",
    "version": 3
   },
   "file_extension": ".py",
   "mimetype": "text/x-python",
   "name": "python",
   "nbconvert_exporter": "python",
   "pygments_lexer": "ipython3",
   "version": "3.7.7"
  }
 },
 "nbformat": 4,
 "nbformat_minor": 4
}
